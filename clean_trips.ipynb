{
 "cells": [
  {
   "cell_type": "code",
   "execution_count": 1,
   "metadata": {},
   "outputs": [
    {
     "name": "stdout",
     "output_type": "stream",
     "text": [
      "Pandas Version: 1.2.4\n",
      "Numpy Version: 1.18.5\n",
      "Seaborn Version: 0.11.1\n"
     ]
    }
   ],
   "source": [
    "import pandas as pd\n",
    "import numpy as np\n",
    "import seaborn as sns\n",
    "import matplotlib as mpl\n",
    "\n",
    "from geopy.distance import geodesic\n",
    "#from scipy import stats\n",
    "from matplotlib import pyplot as plt\n",
    "\n",
    "%matplotlib inline\n",
    "sns.set_style(\"whitegrid\")\n",
    "\n",
    "print(\"Pandas Version: \" + pd.__version__)\n",
    "print(\"Numpy Version: \" + np.__version__)\n",
    "print(\"Seaborn Version: \" + sns.__version__)"
   ]
  },
  {
   "cell_type": "code",
   "execution_count": 2,
   "metadata": {},
   "outputs": [],
   "source": [
    "# Switch between recalculating or reading from file to save time\n",
    "\n",
    "READ_STATION_DISTANCES_FROM_FILE = True"
   ]
  },
  {
   "cell_type": "code",
   "execution_count": 3,
   "metadata": {},
   "outputs": [],
   "source": [
    "df = pd.read_csv(\"../data/call_a_bike/OPENDATA_BOOKING_CALL_A_BIKE.csv\", sep=\";\")"
   ]
  },
  {
   "cell_type": "code",
   "execution_count": 4,
   "metadata": {},
   "outputs": [
    {
     "name": "stdout",
     "output_type": "stream",
     "text": [
      "<class 'pandas.core.frame.DataFrame'>\n",
      "RangeIndex: 16228298 entries, 0 to 16228297\n",
      "Data columns (total 17 columns):\n",
      " #   Column                     Dtype  \n",
      "---  ------                     -----  \n",
      " 0   BOOKING_HAL_ID             int64  \n",
      " 1   CATEGORY_HAL_ID            int64  \n",
      " 2   VEHICLE_HAL_ID             int64  \n",
      " 3   CUSTOMER_HAL_ID            object \n",
      " 4   DATE_BOOKING               object \n",
      " 5   DATE_FROM                  object \n",
      " 6   DATE_UNTIL                 object \n",
      " 7   COMPUTE_EXTRA_BOOKING_FEE  object \n",
      " 8   TRAVERSE_USE               object \n",
      " 9   DISTANCE                   float64\n",
      " 10  START_RENTAL_ZONE          object \n",
      " 11  START_RENTAL_ZONE_HAL_ID   float64\n",
      " 12  END_RENTAL_ZONE            object \n",
      " 13  END_RENTAL_ZONE_HAL_ID     float64\n",
      " 14  RENTAL_ZONE_HAL_SRC        object \n",
      " 15  CITY_RENTAL_ZONE           object \n",
      " 16  TECHNICAL_INCOME_CHANNEL   object \n",
      "dtypes: float64(3), int64(3), object(11)\n",
      "memory usage: 2.1+ GB\n"
     ]
    }
   ],
   "source": [
    "df.info()"
   ]
  },
  {
   "cell_type": "code",
   "execution_count": 5,
   "metadata": {},
   "outputs": [
    {
     "data": {
      "text/html": [
       "<div>\n",
       "<style scoped>\n",
       "    .dataframe tbody tr th:only-of-type {\n",
       "        vertical-align: middle;\n",
       "    }\n",
       "\n",
       "    .dataframe tbody tr th {\n",
       "        vertical-align: top;\n",
       "    }\n",
       "\n",
       "    .dataframe thead th {\n",
       "        text-align: right;\n",
       "    }\n",
       "</style>\n",
       "<table border=\"1\" class=\"dataframe\">\n",
       "  <thead>\n",
       "    <tr style=\"text-align: right;\">\n",
       "      <th></th>\n",
       "      <th>BOOKING_HAL_ID</th>\n",
       "      <th>CATEGORY_HAL_ID</th>\n",
       "      <th>VEHICLE_HAL_ID</th>\n",
       "      <th>CUSTOMER_HAL_ID</th>\n",
       "      <th>DATE_BOOKING</th>\n",
       "      <th>DATE_FROM</th>\n",
       "      <th>DATE_UNTIL</th>\n",
       "      <th>COMPUTE_EXTRA_BOOKING_FEE</th>\n",
       "      <th>TRAVERSE_USE</th>\n",
       "      <th>DISTANCE</th>\n",
       "      <th>START_RENTAL_ZONE</th>\n",
       "      <th>START_RENTAL_ZONE_HAL_ID</th>\n",
       "      <th>END_RENTAL_ZONE</th>\n",
       "      <th>END_RENTAL_ZONE_HAL_ID</th>\n",
       "      <th>RENTAL_ZONE_HAL_SRC</th>\n",
       "      <th>CITY_RENTAL_ZONE</th>\n",
       "      <th>TECHNICAL_INCOME_CHANNEL</th>\n",
       "    </tr>\n",
       "  </thead>\n",
       "  <tbody>\n",
       "    <tr>\n",
       "      <th>0</th>\n",
       "      <td>21366843</td>\n",
       "      <td>51000</td>\n",
       "      <td>143517</td>\n",
       "      <td>A821059B555C7764A2FF801180874A2FCB326222</td>\n",
       "      <td>2014-01-01 00:34:54</td>\n",
       "      <td>2014-01-01 00:34:54</td>\n",
       "      <td>2014-01-01 00:50:14</td>\n",
       "      <td>Nein</td>\n",
       "      <td>Nein</td>\n",
       "      <td>0.0</td>\n",
       "      <td>U-Bahn Baumwall</td>\n",
       "      <td>214170.0</td>\n",
       "      <td>Mönckebergstraße / Rosenstraße</td>\n",
       "      <td>131880.0</td>\n",
       "      <td>Standort</td>\n",
       "      <td>Hamburg</td>\n",
       "      <td>iPhone SRH</td>\n",
       "    </tr>\n",
       "    <tr>\n",
       "      <th>1</th>\n",
       "      <td>21367069</td>\n",
       "      <td>51000</td>\n",
       "      <td>119830</td>\n",
       "      <td>1EBC930DB407ACEAE2FDE23A6CA40492EA3DFBB2</td>\n",
       "      <td>2014-01-01 01:39:55</td>\n",
       "      <td>2014-01-01 01:39:55</td>\n",
       "      <td>2014-01-01 01:57:27</td>\n",
       "      <td>Nein</td>\n",
       "      <td>Nein</td>\n",
       "      <td>0.0</td>\n",
       "      <td>Bahnhof Altona Ost/Max-Brauer-Allee</td>\n",
       "      <td>131646.0</td>\n",
       "      <td>Schulterblatt/Eifflerstraße</td>\n",
       "      <td>131648.0</td>\n",
       "      <td>Standort</td>\n",
       "      <td>Hamburg</td>\n",
       "      <td>Android SRH</td>\n",
       "    </tr>\n",
       "    <tr>\n",
       "      <th>2</th>\n",
       "      <td>21367072</td>\n",
       "      <td>51000</td>\n",
       "      <td>143501</td>\n",
       "      <td>7AD2C1B70137479062A6DD73815835986677BB2D</td>\n",
       "      <td>2014-01-01 01:40:20</td>\n",
       "      <td>2014-01-01 01:40:20</td>\n",
       "      <td>2014-01-01 01:53:09</td>\n",
       "      <td>Nein</td>\n",
       "      <td>Nein</td>\n",
       "      <td>0.0</td>\n",
       "      <td>Weidestraße/Biedermannplatz</td>\n",
       "      <td>211922.0</td>\n",
       "      <td>Jarrestraße / Rambatzweg</td>\n",
       "      <td>138376.0</td>\n",
       "      <td>Standort</td>\n",
       "      <td>Hamburg</td>\n",
       "      <td>Techniker HH_119 (-2334-)</td>\n",
       "    </tr>\n",
       "  </tbody>\n",
       "</table>\n",
       "</div>"
      ],
      "text/plain": [
       "   BOOKING_HAL_ID  CATEGORY_HAL_ID  VEHICLE_HAL_ID  \\\n",
       "0        21366843            51000          143517   \n",
       "1        21367069            51000          119830   \n",
       "2        21367072            51000          143501   \n",
       "\n",
       "                            CUSTOMER_HAL_ID         DATE_BOOKING  \\\n",
       "0  A821059B555C7764A2FF801180874A2FCB326222  2014-01-01 00:34:54   \n",
       "1  1EBC930DB407ACEAE2FDE23A6CA40492EA3DFBB2  2014-01-01 01:39:55   \n",
       "2  7AD2C1B70137479062A6DD73815835986677BB2D  2014-01-01 01:40:20   \n",
       "\n",
       "             DATE_FROM           DATE_UNTIL COMPUTE_EXTRA_BOOKING_FEE  \\\n",
       "0  2014-01-01 00:34:54  2014-01-01 00:50:14                      Nein   \n",
       "1  2014-01-01 01:39:55  2014-01-01 01:57:27                      Nein   \n",
       "2  2014-01-01 01:40:20  2014-01-01 01:53:09                      Nein   \n",
       "\n",
       "  TRAVERSE_USE  DISTANCE                    START_RENTAL_ZONE  \\\n",
       "0         Nein       0.0                      U-Bahn Baumwall   \n",
       "1         Nein       0.0  Bahnhof Altona Ost/Max-Brauer-Allee   \n",
       "2         Nein       0.0          Weidestraße/Biedermannplatz   \n",
       "\n",
       "   START_RENTAL_ZONE_HAL_ID                 END_RENTAL_ZONE  \\\n",
       "0                  214170.0  Mönckebergstraße / Rosenstraße   \n",
       "1                  131646.0     Schulterblatt/Eifflerstraße   \n",
       "2                  211922.0        Jarrestraße / Rambatzweg   \n",
       "\n",
       "   END_RENTAL_ZONE_HAL_ID RENTAL_ZONE_HAL_SRC CITY_RENTAL_ZONE  \\\n",
       "0                131880.0            Standort          Hamburg   \n",
       "1                131648.0            Standort          Hamburg   \n",
       "2                138376.0            Standort          Hamburg   \n",
       "\n",
       "    TECHNICAL_INCOME_CHANNEL  \n",
       "0                 iPhone SRH  \n",
       "1                Android SRH  \n",
       "2  Techniker HH_119 (-2334-)  "
      ]
     },
     "execution_count": 5,
     "metadata": {},
     "output_type": "execute_result"
    }
   ],
   "source": [
    "df.head(3)"
   ]
  },
  {
   "cell_type": "code",
   "execution_count": 6,
   "metadata": {},
   "outputs": [
    {
     "data": {
      "text/html": [
       "<div>\n",
       "<style scoped>\n",
       "    .dataframe tbody tr th:only-of-type {\n",
       "        vertical-align: middle;\n",
       "    }\n",
       "\n",
       "    .dataframe tbody tr th {\n",
       "        vertical-align: top;\n",
       "    }\n",
       "\n",
       "    .dataframe thead th {\n",
       "        text-align: right;\n",
       "    }\n",
       "</style>\n",
       "<table border=\"1\" class=\"dataframe\">\n",
       "  <thead>\n",
       "    <tr style=\"text-align: right;\">\n",
       "      <th></th>\n",
       "      <th>BOOKING_HAL_ID</th>\n",
       "      <th>CATEGORY_HAL_ID</th>\n",
       "      <th>VEHICLE_HAL_ID</th>\n",
       "      <th>CUSTOMER_HAL_ID</th>\n",
       "      <th>DATE_BOOKING</th>\n",
       "      <th>DATE_FROM</th>\n",
       "      <th>DATE_UNTIL</th>\n",
       "      <th>COMPUTE_EXTRA_BOOKING_FEE</th>\n",
       "      <th>TRAVERSE_USE</th>\n",
       "      <th>DISTANCE</th>\n",
       "      <th>START_RENTAL_ZONE</th>\n",
       "      <th>START_RENTAL_ZONE_HAL_ID</th>\n",
       "      <th>END_RENTAL_ZONE</th>\n",
       "      <th>END_RENTAL_ZONE_HAL_ID</th>\n",
       "      <th>RENTAL_ZONE_HAL_SRC</th>\n",
       "      <th>CITY_RENTAL_ZONE</th>\n",
       "      <th>TECHNICAL_INCOME_CHANNEL</th>\n",
       "    </tr>\n",
       "  </thead>\n",
       "  <tbody>\n",
       "    <tr>\n",
       "      <th>16228295</th>\n",
       "      <td>46385839</td>\n",
       "      <td>51000</td>\n",
       "      <td>120488</td>\n",
       "      <td>CC6405146B51242A9169AB55E88A5C472EA1B2AA</td>\n",
       "      <td>2017-05-16 07:40:17</td>\n",
       "      <td>2017-05-16 07:40:17</td>\n",
       "      <td>2017-05-16 07:50:07</td>\n",
       "      <td>Ja</td>\n",
       "      <td>Nein</td>\n",
       "      <td>0.0</td>\n",
       "      <td>Weidestraße/Biedermannplatz</td>\n",
       "      <td>211922.0</td>\n",
       "      <td>Mundsburg / Schürbeker Straße</td>\n",
       "      <td>140799.0</td>\n",
       "      <td>Standort</td>\n",
       "      <td>Hamburg</td>\n",
       "      <td>Techniker HH_119 (-2334-)</td>\n",
       "    </tr>\n",
       "    <tr>\n",
       "      <th>16228296</th>\n",
       "      <td>46386510</td>\n",
       "      <td>50000</td>\n",
       "      <td>116623</td>\n",
       "      <td>AE105561D195C422985C2B3BB1A790C187DA3A70</td>\n",
       "      <td>2017-05-16 08:02:12</td>\n",
       "      <td>2017-05-16 08:02:12</td>\n",
       "      <td>2017-05-23 08:02:12</td>\n",
       "      <td>Ja</td>\n",
       "      <td>Nein</td>\n",
       "      <td>NaN</td>\n",
       "      <td>NaN</td>\n",
       "      <td>NaN</td>\n",
       "      <td>NaN</td>\n",
       "      <td>NaN</td>\n",
       "      <td>NaN</td>\n",
       "      <td>Darmstadt</td>\n",
       "      <td>iPhone CAB</td>\n",
       "    </tr>\n",
       "    <tr>\n",
       "      <th>16228297</th>\n",
       "      <td>46386791</td>\n",
       "      <td>50000</td>\n",
       "      <td>110529</td>\n",
       "      <td>DBB967CDDB3C6D5F0C7CC7A2FF2E8CC89B5ECE6E</td>\n",
       "      <td>2017-05-16 08:11:13</td>\n",
       "      <td>2017-05-16 08:11:13</td>\n",
       "      <td>2017-05-23 08:11:13</td>\n",
       "      <td>Ja</td>\n",
       "      <td>Nein</td>\n",
       "      <td>NaN</td>\n",
       "      <td>NaN</td>\n",
       "      <td>NaN</td>\n",
       "      <td>NaN</td>\n",
       "      <td>NaN</td>\n",
       "      <td>NaN</td>\n",
       "      <td>Darmstadt</td>\n",
       "      <td>iPhone CAB</td>\n",
       "    </tr>\n",
       "  </tbody>\n",
       "</table>\n",
       "</div>"
      ],
      "text/plain": [
       "          BOOKING_HAL_ID  CATEGORY_HAL_ID  VEHICLE_HAL_ID  \\\n",
       "16228295        46385839            51000          120488   \n",
       "16228296        46386510            50000          116623   \n",
       "16228297        46386791            50000          110529   \n",
       "\n",
       "                                   CUSTOMER_HAL_ID         DATE_BOOKING  \\\n",
       "16228295  CC6405146B51242A9169AB55E88A5C472EA1B2AA  2017-05-16 07:40:17   \n",
       "16228296  AE105561D195C422985C2B3BB1A790C187DA3A70  2017-05-16 08:02:12   \n",
       "16228297  DBB967CDDB3C6D5F0C7CC7A2FF2E8CC89B5ECE6E  2017-05-16 08:11:13   \n",
       "\n",
       "                    DATE_FROM           DATE_UNTIL COMPUTE_EXTRA_BOOKING_FEE  \\\n",
       "16228295  2017-05-16 07:40:17  2017-05-16 07:50:07                        Ja   \n",
       "16228296  2017-05-16 08:02:12  2017-05-23 08:02:12                        Ja   \n",
       "16228297  2017-05-16 08:11:13  2017-05-23 08:11:13                        Ja   \n",
       "\n",
       "         TRAVERSE_USE  DISTANCE            START_RENTAL_ZONE  \\\n",
       "16228295         Nein       0.0  Weidestraße/Biedermannplatz   \n",
       "16228296         Nein       NaN                          NaN   \n",
       "16228297         Nein       NaN                          NaN   \n",
       "\n",
       "          START_RENTAL_ZONE_HAL_ID                END_RENTAL_ZONE  \\\n",
       "16228295                  211922.0  Mundsburg / Schürbeker Straße   \n",
       "16228296                       NaN                            NaN   \n",
       "16228297                       NaN                            NaN   \n",
       "\n",
       "          END_RENTAL_ZONE_HAL_ID RENTAL_ZONE_HAL_SRC CITY_RENTAL_ZONE  \\\n",
       "16228295                140799.0            Standort          Hamburg   \n",
       "16228296                     NaN                 NaN        Darmstadt   \n",
       "16228297                     NaN                 NaN        Darmstadt   \n",
       "\n",
       "           TECHNICAL_INCOME_CHANNEL  \n",
       "16228295  Techniker HH_119 (-2334-)  \n",
       "16228296                 iPhone CAB  \n",
       "16228297                 iPhone CAB  "
      ]
     },
     "execution_count": 6,
     "metadata": {},
     "output_type": "execute_result"
    }
   ],
   "source": [
    "df.tail(3)"
   ]
  },
  {
   "cell_type": "code",
   "execution_count": 7,
   "metadata": {},
   "outputs": [],
   "source": [
    "# Select trips made in Hamburg\n",
    "\n",
    "trips = df[df.CITY_RENTAL_ZONE == \"Hamburg\"]"
   ]
  },
  {
   "cell_type": "code",
   "execution_count": 8,
   "metadata": {},
   "outputs": [],
   "source": [
    "last_count = trips.shape[0]\n",
    "\n",
    "def print_count_data():\n",
    "    current_count = trips.shape[0]\n",
    "    diff = current_count - last_count\n",
    "    print('% s entries, diff: % s'%(current_count, diff)) \n",
    "    return current_count"
   ]
  },
  {
   "cell_type": "code",
   "execution_count": 9,
   "metadata": {},
   "outputs": [
    {
     "name": "stdout",
     "output_type": "stream",
     "text": [
      "8942261 entries, diff: 0\n"
     ]
    }
   ],
   "source": [
    "last_count = print_count_data()"
   ]
  },
  {
   "cell_type": "code",
   "execution_count": 10,
   "metadata": {},
   "outputs": [],
   "source": [
    "# Select and rename usable columns\n",
    "\n",
    "trips = trips[[\n",
    "    \"VEHICLE_HAL_ID\",\n",
    "    \"CUSTOMER_HAL_ID\",\n",
    "    \"DATE_FROM\",\n",
    "    \"DATE_UNTIL\",\n",
    "    \"START_RENTAL_ZONE\",\n",
    "    \"START_RENTAL_ZONE_HAL_ID\",\n",
    "    \"END_RENTAL_ZONE\",\n",
    "    \"END_RENTAL_ZONE_HAL_ID\",\n",
    "    \"TECHNICAL_INCOME_CHANNEL\",\n",
    "]].copy()\n",
    "trips.columns = [\n",
    "    \"bike_id\",\n",
    "    \"user_id\",\n",
    "    \"date_from\",\n",
    "    \"date_until\",\n",
    "    \"start_station_name\", \n",
    "    \"start_station_id\",\n",
    "    \"end_station_name\",\n",
    "    \"end_station_id\",\n",
    "    \"booked_via\"\n",
    "]"
   ]
  },
  {
   "cell_type": "code",
   "execution_count": 11,
   "metadata": {},
   "outputs": [],
   "source": [
    "trips[\"date_from\"] = pd.to_datetime(trips[\"date_from\"])\n",
    "trips[\"date_until\"] = pd.to_datetime(trips[\"date_until\"])"
   ]
  },
  {
   "cell_type": "code",
   "execution_count": 12,
   "metadata": {},
   "outputs": [
    {
     "data": {
      "text/plain": [
       "bike_id                    0\n",
       "user_id                    0\n",
       "date_from                  0\n",
       "date_until                 0\n",
       "start_station_name       429\n",
       "start_station_id         246\n",
       "end_station_name         255\n",
       "end_station_id           250\n",
       "booked_via            120066\n",
       "dtype: int64"
      ]
     },
     "execution_count": 12,
     "metadata": {},
     "output_type": "execute_result"
    }
   ],
   "source": [
    "trips.isna().sum()"
   ]
  },
  {
   "cell_type": "code",
   "execution_count": 13,
   "metadata": {},
   "outputs": [],
   "source": [
    "# Fill unknown 'booked_via' with 'Unknown' because there are a lot (120,066)\n",
    "# Drop other NaN rows since the amount is negligible\n",
    "\n",
    "trips = trips.fillna({'booked_via': 'Unknown'})\n",
    "trips = trips.dropna()"
   ]
  },
  {
   "cell_type": "code",
   "execution_count": 14,
   "metadata": {},
   "outputs": [
    {
     "name": "stdout",
     "output_type": "stream",
     "text": [
      "8941801 entries, diff: -460\n"
     ]
    }
   ],
   "source": [
    "last_count = print_count_data()"
   ]
  },
  {
   "cell_type": "code",
   "execution_count": 15,
   "metadata": {},
   "outputs": [],
   "source": [
    "# Convert float IDs to integer values\n",
    "\n",
    "trips[\"start_station_id\"] = trips[\"start_station_id\"].astype(int)\n",
    "trips[\"end_station_id\"] = trips[\"end_station_id\"].astype(int)"
   ]
  },
  {
   "cell_type": "code",
   "execution_count": 16,
   "metadata": {
    "scrolled": true
   },
   "outputs": [
    {
     "name": "stdout",
     "output_type": "stream",
     "text": [
      "Number of trips with a user ID that booked via Techniker before: 4104569\n",
      "Number of trips with a user ID that did not book via Techniker before: 4108149\n"
     ]
    }
   ],
   "source": [
    "# Examining 'booked_via' that start with 'Techniker'\n",
    "\n",
    "techniker = trips[trips[\"booked_via\"].str.contains(\"Techniker\")]\n",
    "non_techniker = pd.concat([trips, techniker]).drop_duplicates(keep=False)\n",
    "\n",
    "tmp = non_techniker.loc[non_techniker.user_id.isin(techniker.user_id.unique())]\n",
    "print('Number of trips with a user ID that booked via Techniker before: %s' % len(tmp.index))\n",
    "tmp = non_techniker.loc[~non_techniker.user_id.isin(techniker.user_id.unique())]\n",
    "print('Number of trips with a user ID that did not book via Techniker before: %s' % len(tmp.index))\n",
    "\n",
    "# Assuming 'Techniker' means maintenance personnel is probably faulty.\n",
    "# Around 50% of the user IDs are contained in the non_techniker trip data set."
   ]
  },
  {
   "cell_type": "code",
   "execution_count": 17,
   "metadata": {},
   "outputs": [
    {
     "data": {
      "text/html": [
       "<div>\n",
       "<style scoped>\n",
       "    .dataframe tbody tr th:only-of-type {\n",
       "        vertical-align: middle;\n",
       "    }\n",
       "\n",
       "    .dataframe tbody tr th {\n",
       "        vertical-align: top;\n",
       "    }\n",
       "\n",
       "    .dataframe thead th {\n",
       "        text-align: right;\n",
       "    }\n",
       "</style>\n",
       "<table border=\"1\" class=\"dataframe\">\n",
       "  <thead>\n",
       "    <tr style=\"text-align: right;\">\n",
       "      <th></th>\n",
       "      <th>bike_id</th>\n",
       "      <th>user_id</th>\n",
       "      <th>date_from</th>\n",
       "      <th>date_until</th>\n",
       "      <th>start_station_name</th>\n",
       "      <th>start_station_id</th>\n",
       "      <th>end_station_name</th>\n",
       "      <th>end_station_id</th>\n",
       "      <th>booked_via</th>\n",
       "    </tr>\n",
       "  </thead>\n",
       "  <tbody>\n",
       "    <tr>\n",
       "      <th>504738</th>\n",
       "      <td>117542</td>\n",
       "      <td>A560DE65327D0E1DE8F54C185EA13952EA9FE6A3</td>\n",
       "      <td>2014-03-23 10:22:13</td>\n",
       "      <td>2014-03-23 10:50:06</td>\n",
       "      <td>Löwenstraße/Eppendorfer Weg</td>\n",
       "      <td>213680</td>\n",
       "      <td>Bahrenfelder Straße/Völckersstraße</td>\n",
       "      <td>211709</td>\n",
       "      <td>Techniker HH_138 (-2244-)</td>\n",
       "    </tr>\n",
       "    <tr>\n",
       "      <th>9918429</th>\n",
       "      <td>113401</td>\n",
       "      <td>D84BBC60EF6BA51BB248F057DCCF4C9B3215C93D</td>\n",
       "      <td>2016-04-12 16:09:25</td>\n",
       "      <td>2016-04-12 16:27:53</td>\n",
       "      <td>Bei der Hammer Kirche/Hammerpark</td>\n",
       "      <td>212078</td>\n",
       "      <td>Versmannstraße/Am Hannoverschen Bahnhof</td>\n",
       "      <td>245452</td>\n",
       "      <td>Techniker HH_123 (-2562-)</td>\n",
       "    </tr>\n",
       "    <tr>\n",
       "      <th>6144251</th>\n",
       "      <td>119628</td>\n",
       "      <td>6558391D068ED2D291B7A52CFF339F031C89DB04</td>\n",
       "      <td>2015-06-23 12:38:02</td>\n",
       "      <td>2015-06-23 12:44:13</td>\n",
       "      <td>TU Harburg/Denickestraße</td>\n",
       "      <td>242730</td>\n",
       "      <td>Kanalplatz/Harburger Schlossstraße</td>\n",
       "      <td>242727</td>\n",
       "      <td>Techniker HH_145 (-282-)</td>\n",
       "    </tr>\n",
       "    <tr>\n",
       "      <th>11791808</th>\n",
       "      <td>143733</td>\n",
       "      <td>BA73CEF06966A46B28CA7B6B793F15391537ECFE</td>\n",
       "      <td>2016-07-13 15:25:03</td>\n",
       "      <td>2016-07-13 15:25:22</td>\n",
       "      <td>Fuhlsbüttler Straße/Hartzloh</td>\n",
       "      <td>245204</td>\n",
       "      <td>Fuhlsbüttler Straße/Hartzloh</td>\n",
       "      <td>245204</td>\n",
       "      <td>Techniker HH_188 (-2391-)</td>\n",
       "    </tr>\n",
       "    <tr>\n",
       "      <th>14886984</th>\n",
       "      <td>120049</td>\n",
       "      <td>B0A4F7D2F53ED6DD2107CF3E24B59A996E5267CF</td>\n",
       "      <td>2017-02-03 13:55:15</td>\n",
       "      <td>2017-02-03 15:57:01</td>\n",
       "      <td>Axel-Springer-Platz/Wexstraße</td>\n",
       "      <td>163327</td>\n",
       "      <td>Axel-Springer-Platz/Wexstraße</td>\n",
       "      <td>163327</td>\n",
       "      <td>Techniker HH_194 (-2522-)</td>\n",
       "    </tr>\n",
       "  </tbody>\n",
       "</table>\n",
       "</div>"
      ],
      "text/plain": [
       "          bike_id                                   user_id  \\\n",
       "504738     117542  A560DE65327D0E1DE8F54C185EA13952EA9FE6A3   \n",
       "9918429    113401  D84BBC60EF6BA51BB248F057DCCF4C9B3215C93D   \n",
       "6144251    119628  6558391D068ED2D291B7A52CFF339F031C89DB04   \n",
       "11791808   143733  BA73CEF06966A46B28CA7B6B793F15391537ECFE   \n",
       "14886984   120049  B0A4F7D2F53ED6DD2107CF3E24B59A996E5267CF   \n",
       "\n",
       "                   date_from          date_until  \\\n",
       "504738   2014-03-23 10:22:13 2014-03-23 10:50:06   \n",
       "9918429  2016-04-12 16:09:25 2016-04-12 16:27:53   \n",
       "6144251  2015-06-23 12:38:02 2015-06-23 12:44:13   \n",
       "11791808 2016-07-13 15:25:03 2016-07-13 15:25:22   \n",
       "14886984 2017-02-03 13:55:15 2017-02-03 15:57:01   \n",
       "\n",
       "                        start_station_name  start_station_id  \\\n",
       "504738         Löwenstraße/Eppendorfer Weg            213680   \n",
       "9918429   Bei der Hammer Kirche/Hammerpark            212078   \n",
       "6144251           TU Harburg/Denickestraße            242730   \n",
       "11791808      Fuhlsbüttler Straße/Hartzloh            245204   \n",
       "14886984     Axel-Springer-Platz/Wexstraße            163327   \n",
       "\n",
       "                                 end_station_name  end_station_id  \\\n",
       "504738         Bahrenfelder Straße/Völckersstraße          211709   \n",
       "9918429   Versmannstraße/Am Hannoverschen Bahnhof          245452   \n",
       "6144251        Kanalplatz/Harburger Schlossstraße          242727   \n",
       "11791808             Fuhlsbüttler Straße/Hartzloh          245204   \n",
       "14886984            Axel-Springer-Platz/Wexstraße          163327   \n",
       "\n",
       "                         booked_via  \n",
       "504738    Techniker HH_138 (-2244-)  \n",
       "9918429   Techniker HH_123 (-2562-)  \n",
       "6144251    Techniker HH_145 (-282-)  \n",
       "11791808  Techniker HH_188 (-2391-)  \n",
       "14886984  Techniker HH_194 (-2522-)  "
      ]
     },
     "execution_count": 17,
     "metadata": {},
     "output_type": "execute_result"
    }
   ],
   "source": [
    "techniker.sample(5)"
   ]
  },
  {
   "cell_type": "code",
   "execution_count": 18,
   "metadata": {
    "scrolled": true
   },
   "outputs": [
    {
     "data": {
      "text/html": [
       "<div>\n",
       "<style scoped>\n",
       "    .dataframe tbody tr th:only-of-type {\n",
       "        vertical-align: middle;\n",
       "    }\n",
       "\n",
       "    .dataframe tbody tr th {\n",
       "        vertical-align: top;\n",
       "    }\n",
       "\n",
       "    .dataframe thead th {\n",
       "        text-align: right;\n",
       "    }\n",
       "</style>\n",
       "<table border=\"1\" class=\"dataframe\">\n",
       "  <thead>\n",
       "    <tr style=\"text-align: right;\">\n",
       "      <th></th>\n",
       "      <th>bike_id</th>\n",
       "      <th>user_id</th>\n",
       "      <th>date_from</th>\n",
       "      <th>date_until</th>\n",
       "      <th>start_station_name</th>\n",
       "      <th>start_station_id</th>\n",
       "      <th>end_station_name</th>\n",
       "      <th>end_station_id</th>\n",
       "      <th>booked_via</th>\n",
       "    </tr>\n",
       "  </thead>\n",
       "  <tbody>\n",
       "    <tr>\n",
       "      <th>1070216</th>\n",
       "      <td>120009</td>\n",
       "      <td>5045C6B2314A15EAEA31FAACAB9681D5107B1813</td>\n",
       "      <td>2014-05-06 21:46:04</td>\n",
       "      <td>2014-05-06 21:52:47</td>\n",
       "      <td>Allende-Platz/Grindelhof</td>\n",
       "      <td>198077</td>\n",
       "      <td>Sternschanze / Eingang Dänenweg</td>\n",
       "      <td>139501</td>\n",
       "      <td>Android SRH</td>\n",
       "    </tr>\n",
       "    <tr>\n",
       "      <th>5374964</th>\n",
       "      <td>143777</td>\n",
       "      <td>BEA4B52256DF74624FBE72A254D204AE654B3B8A</td>\n",
       "      <td>2015-05-08 19:25:54</td>\n",
       "      <td>2015-05-08 19:46:32</td>\n",
       "      <td>Bahnhof Altona Ost/Max-Brauer-Allee</td>\n",
       "      <td>131646</td>\n",
       "      <td>Jungfernstieg / Ballindamm</td>\n",
       "      <td>131879</td>\n",
       "      <td>iPhone SRH</td>\n",
       "    </tr>\n",
       "    <tr>\n",
       "      <th>9822356</th>\n",
       "      <td>108102</td>\n",
       "      <td>2D511F92587F7F2232DEB5BF9673442344011F4D</td>\n",
       "      <td>2016-04-07 12:05:03</td>\n",
       "      <td>2016-04-07 12:16:00</td>\n",
       "      <td>Georg-Wilhelm-Straße/Mankiewicz</td>\n",
       "      <td>251476</td>\n",
       "      <td>Berta-Kröger-Platz/Wilhelm-Strauß-Weg</td>\n",
       "      <td>227770</td>\n",
       "      <td>Android SRH</td>\n",
       "    </tr>\n",
       "    <tr>\n",
       "      <th>13491939</th>\n",
       "      <td>119840</td>\n",
       "      <td>52B1F3F0308C2A17781430723A9944D1E8BB220D</td>\n",
       "      <td>2016-09-27 22:26:36</td>\n",
       "      <td>2016-09-27 22:41:36</td>\n",
       "      <td>Allende-Platz/Grindelhof</td>\n",
       "      <td>198077</td>\n",
       "      <td>Bernhard-Nocht-Straße/Zirkusweg</td>\n",
       "      <td>196417</td>\n",
       "      <td>IVR</td>\n",
       "    </tr>\n",
       "    <tr>\n",
       "      <th>1173100</th>\n",
       "      <td>120548</td>\n",
       "      <td>57B3F0DD29326FA9686F3B23A0672530D44B6C81</td>\n",
       "      <td>2014-05-15 23:19:28</td>\n",
       "      <td>2014-05-15 23:36:31</td>\n",
       "      <td>U-Bahn Schlump</td>\n",
       "      <td>213679</td>\n",
       "      <td>Bebelallee/Meenkwiese</td>\n",
       "      <td>213855</td>\n",
       "      <td>Android SRH</td>\n",
       "    </tr>\n",
       "  </tbody>\n",
       "</table>\n",
       "</div>"
      ],
      "text/plain": [
       "          bike_id                                   user_id  \\\n",
       "1070216    120009  5045C6B2314A15EAEA31FAACAB9681D5107B1813   \n",
       "5374964    143777  BEA4B52256DF74624FBE72A254D204AE654B3B8A   \n",
       "9822356    108102  2D511F92587F7F2232DEB5BF9673442344011F4D   \n",
       "13491939   119840  52B1F3F0308C2A17781430723A9944D1E8BB220D   \n",
       "1173100    120548  57B3F0DD29326FA9686F3B23A0672530D44B6C81   \n",
       "\n",
       "                   date_from          date_until  \\\n",
       "1070216  2014-05-06 21:46:04 2014-05-06 21:52:47   \n",
       "5374964  2015-05-08 19:25:54 2015-05-08 19:46:32   \n",
       "9822356  2016-04-07 12:05:03 2016-04-07 12:16:00   \n",
       "13491939 2016-09-27 22:26:36 2016-09-27 22:41:36   \n",
       "1173100  2014-05-15 23:19:28 2014-05-15 23:36:31   \n",
       "\n",
       "                           start_station_name  start_station_id  \\\n",
       "1070216              Allende-Platz/Grindelhof            198077   \n",
       "5374964   Bahnhof Altona Ost/Max-Brauer-Allee            131646   \n",
       "9822356       Georg-Wilhelm-Straße/Mankiewicz            251476   \n",
       "13491939             Allende-Platz/Grindelhof            198077   \n",
       "1173100                        U-Bahn Schlump            213679   \n",
       "\n",
       "                               end_station_name  end_station_id   booked_via  \n",
       "1070216         Sternschanze / Eingang Dänenweg          139501  Android SRH  \n",
       "5374964              Jungfernstieg / Ballindamm          131879   iPhone SRH  \n",
       "9822356   Berta-Kröger-Platz/Wilhelm-Strauß-Weg          227770  Android SRH  \n",
       "13491939        Bernhard-Nocht-Straße/Zirkusweg          196417          IVR  \n",
       "1173100                   Bebelallee/Meenkwiese          213855  Android SRH  "
      ]
     },
     "execution_count": 18,
     "metadata": {},
     "output_type": "execute_result"
    }
   ],
   "source": [
    "non_techniker.sample(5)"
   ]
  },
  {
   "cell_type": "code",
   "execution_count": 19,
   "metadata": {
    "scrolled": false
   },
   "outputs": [
    {
     "data": {
      "text/html": [
       "<div>\n",
       "<style scoped>\n",
       "    .dataframe tbody tr th:only-of-type {\n",
       "        vertical-align: middle;\n",
       "    }\n",
       "\n",
       "    .dataframe tbody tr th {\n",
       "        vertical-align: top;\n",
       "    }\n",
       "\n",
       "    .dataframe thead th {\n",
       "        text-align: right;\n",
       "    }\n",
       "</style>\n",
       "<table border=\"1\" class=\"dataframe\">\n",
       "  <thead>\n",
       "    <tr style=\"text-align: right;\">\n",
       "      <th></th>\n",
       "      <th>station_id</th>\n",
       "    </tr>\n",
       "  </thead>\n",
       "  <tbody>\n",
       "    <tr>\n",
       "      <th>0</th>\n",
       "      <td>131543</td>\n",
       "    </tr>\n",
       "    <tr>\n",
       "      <th>1</th>\n",
       "      <td>131546</td>\n",
       "    </tr>\n",
       "    <tr>\n",
       "      <th>2</th>\n",
       "      <td>131547</td>\n",
       "    </tr>\n",
       "    <tr>\n",
       "      <th>3</th>\n",
       "      <td>131639</td>\n",
       "    </tr>\n",
       "    <tr>\n",
       "      <th>4</th>\n",
       "      <td>131640</td>\n",
       "    </tr>\n",
       "    <tr>\n",
       "      <th>...</th>\n",
       "      <td>...</td>\n",
       "    </tr>\n",
       "    <tr>\n",
       "      <th>211</th>\n",
       "      <td>256467</td>\n",
       "    </tr>\n",
       "    <tr>\n",
       "      <th>212</th>\n",
       "      <td>264330</td>\n",
       "    </tr>\n",
       "    <tr>\n",
       "      <th>213</th>\n",
       "      <td>264820</td>\n",
       "    </tr>\n",
       "    <tr>\n",
       "      <th>214</th>\n",
       "      <td>264821</td>\n",
       "    </tr>\n",
       "    <tr>\n",
       "      <th>215</th>\n",
       "      <td>268358</td>\n",
       "    </tr>\n",
       "  </tbody>\n",
       "</table>\n",
       "<p>216 rows × 1 columns</p>\n",
       "</div>"
      ],
      "text/plain": [
       "     station_id\n",
       "0        131543\n",
       "1        131546\n",
       "2        131547\n",
       "3        131639\n",
       "4        131640\n",
       "..          ...\n",
       "211      256467\n",
       "212      264330\n",
       "213      264820\n",
       "214      264821\n",
       "215      268358\n",
       "\n",
       "[216 rows x 1 columns]"
      ]
     },
     "execution_count": 19,
     "metadata": {},
     "output_type": "execute_result"
    }
   ],
   "source": [
    "# Create a stations data set from all unique station IDs\n",
    "\n",
    "station_ids = sorted(\n",
    "    set(trips.start_station_id.tolist() + trips.end_station_id.tolist())\n",
    ")\n",
    "station_ids = pd.DataFrame(station_ids, columns=['station_id'])\n",
    "station_ids"
   ]
  },
  {
   "cell_type": "code",
   "execution_count": 20,
   "metadata": {},
   "outputs": [
    {
     "data": {
      "text/html": [
       "<div>\n",
       "<style scoped>\n",
       "    .dataframe tbody tr th:only-of-type {\n",
       "        vertical-align: middle;\n",
       "    }\n",
       "\n",
       "    .dataframe tbody tr th {\n",
       "        vertical-align: top;\n",
       "    }\n",
       "\n",
       "    .dataframe thead th {\n",
       "        text-align: right;\n",
       "    }\n",
       "</style>\n",
       "<table border=\"1\" class=\"dataframe\">\n",
       "  <thead>\n",
       "    <tr style=\"text-align: right;\">\n",
       "      <th></th>\n",
       "      <th>RENTAL_ZONE_HAL_ID</th>\n",
       "      <th>RENTAL_ZONE_HAL_SRC</th>\n",
       "      <th>NAME</th>\n",
       "      <th>CODE</th>\n",
       "      <th>TYPE</th>\n",
       "      <th>CITY</th>\n",
       "      <th>COUNTRY</th>\n",
       "      <th>LATITUDE</th>\n",
       "      <th>LONGITUDE</th>\n",
       "      <th>POI_AIRPORT_X</th>\n",
       "      <th>POI_LONG_DISTANCE_TRAINS_X</th>\n",
       "      <th>POI_SUBURBAN_TRAINS_X</th>\n",
       "      <th>POI_UNDERGROUND_X</th>\n",
       "      <th>ACTIVE_X</th>\n",
       "      <th>COMPANY</th>\n",
       "      <th>COMPANY_GROUP</th>\n",
       "    </tr>\n",
       "  </thead>\n",
       "  <tbody>\n",
       "    <tr>\n",
       "      <th>802</th>\n",
       "      <td>243621</td>\n",
       "      <td>Standort</td>\n",
       "      <td>Friedrich-Ebert-Damm / Lomerstraße</td>\n",
       "      <td>2435.0</td>\n",
       "      <td>normal</td>\n",
       "      <td>Hamburg</td>\n",
       "      <td>Deutschland</td>\n",
       "      <td>10.079638</td>\n",
       "      <td>53.584919</td>\n",
       "      <td>Nein</td>\n",
       "      <td>Nein</td>\n",
       "      <td>Nein</td>\n",
       "      <td>Nein</td>\n",
       "      <td>Ja</td>\n",
       "      <td>StadtRAD Hamburg</td>\n",
       "      <td>Call a Bike</td>\n",
       "    </tr>\n",
       "    <tr>\n",
       "      <th>555</th>\n",
       "      <td>213792</td>\n",
       "      <td>Standort</td>\n",
       "      <td>Koppelstraße/Lokstedter Grenzstraße</td>\n",
       "      <td>2251.0</td>\n",
       "      <td>normal</td>\n",
       "      <td>Hamburg</td>\n",
       "      <td>Deutschland</td>\n",
       "      <td>9.943525</td>\n",
       "      <td>53.593587</td>\n",
       "      <td>Nein</td>\n",
       "      <td>Nein</td>\n",
       "      <td>Nein</td>\n",
       "      <td>Ja</td>\n",
       "      <td>Ja</td>\n",
       "      <td>StadtRAD Hamburg</td>\n",
       "      <td>Call a Bike</td>\n",
       "    </tr>\n",
       "    <tr>\n",
       "      <th>1004</th>\n",
       "      <td>254725</td>\n",
       "      <td>Standort</td>\n",
       "      <td>Vierlandenstraße/Johann-Adolf-Hasse-Platz</td>\n",
       "      <td>2911.0</td>\n",
       "      <td>normal</td>\n",
       "      <td>Hamburg</td>\n",
       "      <td>Deutschland</td>\n",
       "      <td>10.210913</td>\n",
       "      <td>53.488449</td>\n",
       "      <td>Nein</td>\n",
       "      <td>Nein</td>\n",
       "      <td>Nein</td>\n",
       "      <td>Nein</td>\n",
       "      <td>Ja</td>\n",
       "      <td>StadtRAD Hamburg</td>\n",
       "      <td>Call a Bike</td>\n",
       "    </tr>\n",
       "    <tr>\n",
       "      <th>953</th>\n",
       "      <td>252492</td>\n",
       "      <td>Standort</td>\n",
       "      <td>Thadenstraße/Holstenstraße</td>\n",
       "      <td>2119.0</td>\n",
       "      <td>normal</td>\n",
       "      <td>Hamburg</td>\n",
       "      <td>Deutschland</td>\n",
       "      <td>9.950708</td>\n",
       "      <td>53.555827</td>\n",
       "      <td>Nein</td>\n",
       "      <td>Nein</td>\n",
       "      <td>Nein</td>\n",
       "      <td>Nein</td>\n",
       "      <td>Ja</td>\n",
       "      <td>StadtRAD Hamburg</td>\n",
       "      <td>Call a Bike</td>\n",
       "    </tr>\n",
       "    <tr>\n",
       "      <th>820</th>\n",
       "      <td>244946</td>\n",
       "      <td>Standort</td>\n",
       "      <td>Dürerstraße/Beslerplatz- S Bahn Othmarschen</td>\n",
       "      <td>2085.0</td>\n",
       "      <td>normal</td>\n",
       "      <td>Hamburg</td>\n",
       "      <td>Deutschland</td>\n",
       "      <td>9.887159</td>\n",
       "      <td>53.560395</td>\n",
       "      <td>Nein</td>\n",
       "      <td>Nein</td>\n",
       "      <td>Nein</td>\n",
       "      <td>Nein</td>\n",
       "      <td>Ja</td>\n",
       "      <td>StadtRAD Hamburg</td>\n",
       "      <td>Call a Bike</td>\n",
       "    </tr>\n",
       "  </tbody>\n",
       "</table>\n",
       "</div>"
      ],
      "text/plain": [
       "      RENTAL_ZONE_HAL_ID RENTAL_ZONE_HAL_SRC  \\\n",
       "802               243621            Standort   \n",
       "555               213792            Standort   \n",
       "1004              254725            Standort   \n",
       "953               252492            Standort   \n",
       "820               244946            Standort   \n",
       "\n",
       "                                             NAME    CODE    TYPE     CITY  \\\n",
       "802            Friedrich-Ebert-Damm / Lomerstraße  2435.0  normal  Hamburg   \n",
       "555           Koppelstraße/Lokstedter Grenzstraße  2251.0  normal  Hamburg   \n",
       "1004    Vierlandenstraße/Johann-Adolf-Hasse-Platz  2911.0  normal  Hamburg   \n",
       "953                    Thadenstraße/Holstenstraße  2119.0  normal  Hamburg   \n",
       "820   Dürerstraße/Beslerplatz- S Bahn Othmarschen  2085.0  normal  Hamburg   \n",
       "\n",
       "          COUNTRY   LATITUDE  LONGITUDE POI_AIRPORT_X  \\\n",
       "802   Deutschland  10.079638  53.584919          Nein   \n",
       "555   Deutschland   9.943525  53.593587          Nein   \n",
       "1004  Deutschland  10.210913  53.488449          Nein   \n",
       "953   Deutschland   9.950708  53.555827          Nein   \n",
       "820   Deutschland   9.887159  53.560395          Nein   \n",
       "\n",
       "     POI_LONG_DISTANCE_TRAINS_X POI_SUBURBAN_TRAINS_X POI_UNDERGROUND_X  \\\n",
       "802                        Nein                  Nein              Nein   \n",
       "555                        Nein                  Nein                Ja   \n",
       "1004                       Nein                  Nein              Nein   \n",
       "953                        Nein                  Nein              Nein   \n",
       "820                        Nein                  Nein              Nein   \n",
       "\n",
       "     ACTIVE_X           COMPANY COMPANY_GROUP  \n",
       "802        Ja  StadtRAD Hamburg   Call a Bike  \n",
       "555        Ja  StadtRAD Hamburg   Call a Bike  \n",
       "1004       Ja  StadtRAD Hamburg   Call a Bike  \n",
       "953        Ja  StadtRAD Hamburg   Call a Bike  \n",
       "820        Ja  StadtRAD Hamburg   Call a Bike  "
      ]
     },
     "execution_count": 20,
     "metadata": {},
     "output_type": "execute_result"
    }
   ],
   "source": [
    "# Load DB data set about stations\n",
    "\n",
    "db_stations = pd.read_csv(\"../data/call_a_bike/OPENDATA_RENTAL_ZONE_CALL_A_BIKE.csv\", sep=\";\", decimal=\",\")\n",
    "db_stations = db_stations[db_stations.CITY == \"Hamburg\"]\n",
    "db_stations.sample(5)"
   ]
  },
  {
   "cell_type": "code",
   "execution_count": 21,
   "metadata": {
    "scrolled": false
   },
   "outputs": [
    {
     "data": {
      "text/html": [
       "<div>\n",
       "<style scoped>\n",
       "    .dataframe tbody tr th:only-of-type {\n",
       "        vertical-align: middle;\n",
       "    }\n",
       "\n",
       "    .dataframe tbody tr th {\n",
       "        vertical-align: top;\n",
       "    }\n",
       "\n",
       "    .dataframe thead th {\n",
       "        text-align: right;\n",
       "    }\n",
       "</style>\n",
       "<table border=\"1\" class=\"dataframe\">\n",
       "  <thead>\n",
       "    <tr style=\"text-align: right;\">\n",
       "      <th></th>\n",
       "      <th>station_id</th>\n",
       "      <th>name</th>\n",
       "      <th>longitude</th>\n",
       "      <th>latitude</th>\n",
       "    </tr>\n",
       "  </thead>\n",
       "  <tbody>\n",
       "    <tr>\n",
       "      <th>350</th>\n",
       "      <td>131543</td>\n",
       "      <td>Landungsbrücke/Hafentor</td>\n",
       "      <td>9.972300</td>\n",
       "      <td>53.545700</td>\n",
       "    </tr>\n",
       "    <tr>\n",
       "      <th>351</th>\n",
       "      <td>131546</td>\n",
       "      <td>Fischmarkt/Breite Straße</td>\n",
       "      <td>9.950880</td>\n",
       "      <td>53.546200</td>\n",
       "    </tr>\n",
       "    <tr>\n",
       "      <th>352</th>\n",
       "      <td>131547</td>\n",
       "      <td>Paulinenplatz/Wohlwillstraße</td>\n",
       "      <td>9.962460</td>\n",
       "      <td>53.554200</td>\n",
       "    </tr>\n",
       "    <tr>\n",
       "      <th>353</th>\n",
       "      <td>131639</td>\n",
       "      <td>Burgstraße/Hammer Landstraße</td>\n",
       "      <td>10.041298</td>\n",
       "      <td>53.555693</td>\n",
       "    </tr>\n",
       "    <tr>\n",
       "      <th>354</th>\n",
       "      <td>131640</td>\n",
       "      <td>Innocentiapark/Oberstraße</td>\n",
       "      <td>9.982110</td>\n",
       "      <td>53.577248</td>\n",
       "    </tr>\n",
       "    <tr>\n",
       "      <th>...</th>\n",
       "      <td>...</td>\n",
       "      <td>...</td>\n",
       "      <td>...</td>\n",
       "      <td>...</td>\n",
       "    </tr>\n",
       "    <tr>\n",
       "      <th>1023</th>\n",
       "      <td>256467</td>\n",
       "      <td>Röntgenstraße/Philips</td>\n",
       "      <td>10.012209</td>\n",
       "      <td>53.623481</td>\n",
       "    </tr>\n",
       "    <tr>\n",
       "      <th>1048</th>\n",
       "      <td>264330</td>\n",
       "      <td>Bleickenallee/Kinderkrankenhaus Altona</td>\n",
       "      <td>9.912913</td>\n",
       "      <td>53.551288</td>\n",
       "    </tr>\n",
       "    <tr>\n",
       "      <th>1050</th>\n",
       "      <td>264820</td>\n",
       "      <td>Osterstraße/Heußweg</td>\n",
       "      <td>9.952071</td>\n",
       "      <td>53.575983</td>\n",
       "    </tr>\n",
       "    <tr>\n",
       "      <th>1051</th>\n",
       "      <td>264821</td>\n",
       "      <td>Bahrenfelder Chaussee/Von-Sauer-Straße</td>\n",
       "      <td>9.910870</td>\n",
       "      <td>53.565973</td>\n",
       "    </tr>\n",
       "    <tr>\n",
       "      <th>1056</th>\n",
       "      <td>268358</td>\n",
       "      <td>Sieldeich/ Gresham Carat Hotel</td>\n",
       "      <td>10.021814</td>\n",
       "      <td>53.528309</td>\n",
       "    </tr>\n",
       "  </tbody>\n",
       "</table>\n",
       "<p>206 rows × 4 columns</p>\n",
       "</div>"
      ],
      "text/plain": [
       "      station_id                                    name  longitude   latitude\n",
       "350       131543                 Landungsbrücke/Hafentor   9.972300  53.545700\n",
       "351       131546                Fischmarkt/Breite Straße   9.950880  53.546200\n",
       "352       131547            Paulinenplatz/Wohlwillstraße   9.962460  53.554200\n",
       "353       131639            Burgstraße/Hammer Landstraße  10.041298  53.555693\n",
       "354       131640               Innocentiapark/Oberstraße   9.982110  53.577248\n",
       "...          ...                                     ...        ...        ...\n",
       "1023      256467                   Röntgenstraße/Philips  10.012209  53.623481\n",
       "1048      264330  Bleickenallee/Kinderkrankenhaus Altona   9.912913  53.551288\n",
       "1050      264820                     Osterstraße/Heußweg   9.952071  53.575983\n",
       "1051      264821  Bahrenfelder Chaussee/Von-Sauer-Straße   9.910870  53.565973\n",
       "1056      268358          Sieldeich/ Gresham Carat Hotel  10.021814  53.528309\n",
       "\n",
       "[206 rows x 4 columns]"
      ]
     },
     "execution_count": 21,
     "metadata": {},
     "output_type": "execute_result"
    }
   ],
   "source": [
    "# Select coordinates for stations from DB data\n",
    "\n",
    "coordinates = db_stations[[\"RENTAL_ZONE_HAL_ID\", \"NAME\", \"LATITUDE\", \"LONGITUDE\"]].copy()\n",
    "# coordinate descriptions are incorrectly labelled in the original data set\n",
    "coordinates.columns = [\"station_id\", \"name\", \"longitude\", \"latitude\"]\n",
    "coordinates.dropna(inplace=True)\n",
    "coordinates"
   ]
  },
  {
   "cell_type": "markdown",
   "metadata": {},
   "source": [
    "We can already see that the DB data set of stations does not seem to be complete. There are more unique IDs in the bike trip data set as in the stations data set (308 rows vs. 206 rows)."
   ]
  },
  {
   "cell_type": "code",
   "execution_count": 22,
   "metadata": {
    "scrolled": false
   },
   "outputs": [
    {
     "data": {
      "text/html": [
       "<div>\n",
       "<style scoped>\n",
       "    .dataframe tbody tr th:only-of-type {\n",
       "        vertical-align: middle;\n",
       "    }\n",
       "\n",
       "    .dataframe tbody tr th {\n",
       "        vertical-align: top;\n",
       "    }\n",
       "\n",
       "    .dataframe thead th {\n",
       "        text-align: right;\n",
       "    }\n",
       "</style>\n",
       "<table border=\"1\" class=\"dataframe\">\n",
       "  <thead>\n",
       "    <tr style=\"text-align: right;\">\n",
       "      <th></th>\n",
       "      <th>station_id</th>\n",
       "      <th>name</th>\n",
       "      <th>longitude</th>\n",
       "      <th>latitude</th>\n",
       "    </tr>\n",
       "  </thead>\n",
       "  <tbody>\n",
       "    <tr>\n",
       "      <th>0</th>\n",
       "      <td>131543</td>\n",
       "      <td>Landungsbrücke/Hafentor</td>\n",
       "      <td>9.972300</td>\n",
       "      <td>53.545700</td>\n",
       "    </tr>\n",
       "    <tr>\n",
       "      <th>1</th>\n",
       "      <td>131546</td>\n",
       "      <td>Fischmarkt/Breite Straße</td>\n",
       "      <td>9.950880</td>\n",
       "      <td>53.546200</td>\n",
       "    </tr>\n",
       "    <tr>\n",
       "      <th>2</th>\n",
       "      <td>131547</td>\n",
       "      <td>Paulinenplatz/Wohlwillstraße</td>\n",
       "      <td>9.962460</td>\n",
       "      <td>53.554200</td>\n",
       "    </tr>\n",
       "    <tr>\n",
       "      <th>3</th>\n",
       "      <td>131639</td>\n",
       "      <td>Burgstraße/Hammer Landstraße</td>\n",
       "      <td>10.041298</td>\n",
       "      <td>53.555693</td>\n",
       "    </tr>\n",
       "    <tr>\n",
       "      <th>4</th>\n",
       "      <td>131640</td>\n",
       "      <td>Innocentiapark/Oberstraße</td>\n",
       "      <td>9.982110</td>\n",
       "      <td>53.577248</td>\n",
       "    </tr>\n",
       "    <tr>\n",
       "      <th>...</th>\n",
       "      <td>...</td>\n",
       "      <td>...</td>\n",
       "      <td>...</td>\n",
       "      <td>...</td>\n",
       "    </tr>\n",
       "    <tr>\n",
       "      <th>211</th>\n",
       "      <td>256467</td>\n",
       "      <td>Röntgenstraße/Philips</td>\n",
       "      <td>10.012209</td>\n",
       "      <td>53.623481</td>\n",
       "    </tr>\n",
       "    <tr>\n",
       "      <th>212</th>\n",
       "      <td>264330</td>\n",
       "      <td>Bleickenallee/Kinderkrankenhaus Altona</td>\n",
       "      <td>9.912913</td>\n",
       "      <td>53.551288</td>\n",
       "    </tr>\n",
       "    <tr>\n",
       "      <th>213</th>\n",
       "      <td>264820</td>\n",
       "      <td>Osterstraße/Heußweg</td>\n",
       "      <td>9.952071</td>\n",
       "      <td>53.575983</td>\n",
       "    </tr>\n",
       "    <tr>\n",
       "      <th>214</th>\n",
       "      <td>264821</td>\n",
       "      <td>Bahrenfelder Chaussee/Von-Sauer-Straße</td>\n",
       "      <td>9.910870</td>\n",
       "      <td>53.565973</td>\n",
       "    </tr>\n",
       "    <tr>\n",
       "      <th>215</th>\n",
       "      <td>268358</td>\n",
       "      <td>Sieldeich/ Gresham Carat Hotel</td>\n",
       "      <td>10.021814</td>\n",
       "      <td>53.528309</td>\n",
       "    </tr>\n",
       "  </tbody>\n",
       "</table>\n",
       "<p>216 rows × 4 columns</p>\n",
       "</div>"
      ],
      "text/plain": [
       "     station_id                                    name  longitude   latitude\n",
       "0        131543                 Landungsbrücke/Hafentor   9.972300  53.545700\n",
       "1        131546                Fischmarkt/Breite Straße   9.950880  53.546200\n",
       "2        131547            Paulinenplatz/Wohlwillstraße   9.962460  53.554200\n",
       "3        131639            Burgstraße/Hammer Landstraße  10.041298  53.555693\n",
       "4        131640               Innocentiapark/Oberstraße   9.982110  53.577248\n",
       "..          ...                                     ...        ...        ...\n",
       "211      256467                   Röntgenstraße/Philips  10.012209  53.623481\n",
       "212      264330  Bleickenallee/Kinderkrankenhaus Altona   9.912913  53.551288\n",
       "213      264820                     Osterstraße/Heußweg   9.952071  53.575983\n",
       "214      264821  Bahrenfelder Chaussee/Von-Sauer-Straße   9.910870  53.565973\n",
       "215      268358          Sieldeich/ Gresham Carat Hotel  10.021814  53.528309\n",
       "\n",
       "[216 rows x 4 columns]"
      ]
     },
     "execution_count": 22,
     "metadata": {},
     "output_type": "execute_result"
    }
   ],
   "source": [
    "stations = pd.merge(station_ids, coordinates, how=\"left\", on=\"station_id\")\n",
    "stations"
   ]
  },
  {
   "cell_type": "code",
   "execution_count": 23,
   "metadata": {
    "scrolled": true
   },
   "outputs": [
    {
     "data": {
      "text/plain": [
       "array([138370, 194453, 194553, 194563, 225361, 238540, 238543, 241576,\n",
       "       242731, 246950])"
      ]
     },
     "execution_count": 23,
     "metadata": {},
     "output_type": "execute_result"
    }
   ],
   "source": [
    "missing_info_ids = stations[stations.name.isnull()].station_id.unique()\n",
    "missing_info_ids"
   ]
  },
  {
   "cell_type": "code",
   "execution_count": 24,
   "metadata": {},
   "outputs": [
    {
     "data": {
      "text/plain": [
       "['F PS 1763 / BSC Hamburg Mobil',\n",
       " 'BSCTerminal FFM 2.OG R 2.21',\n",
       " 'F PS 2423 / BSC Hamburg Mobil',\n",
       " 'Grindelberg / Bezirksamt Eimsbüttel',\n",
       " 'Funkbox-BSC-HH',\n",
       " 'F R  5156 / BSC Hamburg Mobil',\n",
       " 'Rotec Schlösser BSC',\n",
       " 'Maretstraße/Baererstraße',\n",
       " 'Systemtechnik/Test Terminal',\n",
       " 'BSC Testterminal Halle']"
      ]
     },
     "execution_count": 24,
     "metadata": {},
     "output_type": "execute_result"
    }
   ],
   "source": [
    "a = df[df.START_RENTAL_ZONE_HAL_ID.isin(missing_info_ids)].START_RENTAL_ZONE.unique()\n",
    "b = df[df.END_RENTAL_ZONE_HAL_ID.isin(missing_info_ids)].END_RENTAL_ZONE.unique()\n",
    "\n",
    "missing_locations = list(set(a)|set(b))\n",
    "missing_locations"
   ]
  },
  {
   "cell_type": "markdown",
   "metadata": {},
   "source": [
    "To match missing stations with coordinates, the information available at https://web.archive.org/web/20210313100715/https://suche.transparenz.hamburg.de/dataset/stadtrad-stationen-hamburg20 was considered. Only two stations are included: *Grindelberg / Bezirksamt Eimsbüttel* (ID 138370) and *Maretstraße/Baererstraße* (ID 242731). Coordinates for both stations can easily be added to the data set by hand.\n",
    "\n",
    "**Coordinates**\n",
    "* Grindelberg / Bezirksamt Eimsbüttel: [ 9.97782399971897, 53.57540799556665 ]\n",
    "* Maretstraße / Baererstraße: [ 9.982274994484669, 53.453703999218654 ]"
   ]
  },
  {
   "cell_type": "code",
   "execution_count": 25,
   "metadata": {},
   "outputs": [
    {
     "name": "stdout",
     "output_type": "stream",
     "text": [
      "[138370.]\n",
      "[138370.]\n",
      "[242731.]\n",
      "[242731.]\n"
     ]
    }
   ],
   "source": [
    "print(df[df.START_RENTAL_ZONE == \"Grindelberg / Bezirksamt Eimsbüttel\"].START_RENTAL_ZONE_HAL_ID.unique())\n",
    "print(df[df.END_RENTAL_ZONE == \"Grindelberg / Bezirksamt Eimsbüttel\"].END_RENTAL_ZONE_HAL_ID.unique())\n",
    "\n",
    "print(df[df.START_RENTAL_ZONE == \"Maretstraße/Baererstraße\"].START_RENTAL_ZONE_HAL_ID.unique())\n",
    "print(df[df.END_RENTAL_ZONE == \"Maretstraße/Baererstraße\"].END_RENTAL_ZONE_HAL_ID.unique())"
   ]
  },
  {
   "cell_type": "code",
   "execution_count": 26,
   "metadata": {},
   "outputs": [],
   "source": [
    "stations.loc[stations.station_id == 138370, \"name\"] = \"Grindelberg / Bezirksamt Eimsbüttel\"\n",
    "stations.loc[stations.station_id == 138370, \"longitude\"] = 9.977824\n",
    "stations.loc[stations.station_id == 138370, \"latitude\"] = 53.575408\n",
    "\n",
    "stations.loc[stations.station_id == 242731, \"name\"] = \"Maretstraße/Baererstraße\"\n",
    "stations.loc[stations.station_id == 242731, \"longitude\"] = 9.982275\n",
    "stations.loc[stations.station_id == 242731, \"latitude\"] = 53.453704\n",
    "\n",
    "# Drop the remaining station IDs with unknown location\n",
    "stations = stations.dropna()"
   ]
  },
  {
   "cell_type": "code",
   "execution_count": 27,
   "metadata": {},
   "outputs": [
    {
     "data": {
      "text/plain": [
       "['F PS 1763 / BSC Hamburg Mobil',\n",
       " 'BSCTerminal FFM 2.OG R 2.21',\n",
       " 'F PS 2423 / BSC Hamburg Mobil',\n",
       " 'Funkbox-BSC-HH',\n",
       " 'F R  5156 / BSC Hamburg Mobil',\n",
       " 'Rotec Schlösser BSC',\n",
       " 'Systemtechnik/Test Terminal',\n",
       " 'BSC Testterminal Halle']"
      ]
     },
     "execution_count": 27,
     "metadata": {},
     "output_type": "execute_result"
    }
   ],
   "source": [
    "# Remove the added locations from the set of missing locations\n",
    "\n",
    "missing_locations.remove(\"Grindelberg / Bezirksamt Eimsbüttel\")\n",
    "missing_locations.remove(\"Maretstraße/Baererstraße\")\n",
    "missing_locations"
   ]
  },
  {
   "cell_type": "code",
   "execution_count": 28,
   "metadata": {
    "scrolled": true
   },
   "outputs": [],
   "source": [
    "# Remove all trips where either the start or end station is still of unknown location\n",
    "\n",
    "nan_trips = trips[\n",
    "    (trips.start_station_name.isin(missing_locations)) |\n",
    "    (trips.end_station_name.isin(missing_locations))\n",
    "]\n",
    "trips.drop(nan_trips.index, inplace=True) "
   ]
  },
  {
   "cell_type": "code",
   "execution_count": 29,
   "metadata": {},
   "outputs": [
    {
     "name": "stdout",
     "output_type": "stream",
     "text": [
      "8923066 entries, diff: -18735\n"
     ]
    }
   ],
   "source": [
    "last_count = print_count_data()"
   ]
  },
  {
   "cell_type": "code",
   "execution_count": 30,
   "metadata": {},
   "outputs": [],
   "source": [
    "# Calculate duration in minutes (rounded up) for each trip\n",
    "\n",
    "def calculate_duration_in_min(date_from, date_until):\n",
    "    return np.ceil((date_until - date_from) / pd.Timedelta(minutes=1))\n",
    "\n",
    "trips.loc[:, \"duration_in_min\"] = calculate_duration_in_min(trips[\"date_from\"], trips[\"date_until\"])\n",
    "trips[\"duration_in_min\"] = trips[\"duration_in_min\"].astype(int)"
   ]
  },
  {
   "cell_type": "code",
   "execution_count": 31,
   "metadata": {},
   "outputs": [],
   "source": [
    "# Remove trips shorter than 3 minutes starting and ending at the same station\n",
    "# These are probably trips that were not intentional or canceled due to issues with the bike\n",
    "\n",
    "mask = (trips.duration_in_min < 3) & (trips.start_station_id == trips.end_station_id)\n",
    "trips = trips.drop(trips[mask].index)"
   ]
  },
  {
   "cell_type": "code",
   "execution_count": 32,
   "metadata": {},
   "outputs": [
    {
     "name": "stdout",
     "output_type": "stream",
     "text": [
      "8476307 entries, diff: -446759\n"
     ]
    }
   ],
   "source": [
    "last_count = print_count_data()"
   ]
  },
  {
   "cell_type": "code",
   "execution_count": 33,
   "metadata": {
    "scrolled": false
   },
   "outputs": [
    {
     "name": "stdout",
     "output_type": "stream",
     "text": [
      "Duration for 75% of the trips: 22 minutes\n",
      "Duration for 85% of the trips: 28 minutes\n",
      "Duration for 90% of the trips: 33 minutes\n",
      "Duration for 93% of the trips: 39 minutes\n",
      "Duration for 95% of the trips: 49 minutes\n",
      "Duration for 99% of the trips: 208 minutes\n"
     ]
    },
    {
     "data": {
      "image/png": "[encoded data removed]",
      "text/plain": [
       "<Figure size 1152x576 with 6 Axes>"
      ]
     },
     "metadata": {},
     "output_type": "display_data"
    }
   ],
   "source": [
    "quantiles = [0.75, 0.85, 0.90, 0.93, 0.95, 0.99]\n",
    "\n",
    "fig, ax = plt.subplots(2, 3, figsize=(16,8))\n",
    "ax_index = 0\n",
    "\n",
    "for quantile in quantiles:\n",
    "    threshold = trips.duration_in_min.quantile(quantile)\n",
    "    print(\"Duration for {0}% of the trips: {1} minutes\".format(int(quantile*100), int(threshold)))\n",
    "    sns.set()\n",
    "    plot = sns.boxplot(ax=ax.flat[ax_index], x=\"duration_in_min\", data=trips[trips.duration_in_min <= threshold])\n",
    "    plot.set(xlabel=None)\n",
    "    ax.flat[ax_index].set_title(\"{}% of bicycle trips\".format(int(quantile*100), threshold))\n",
    "    ax_index = ax_index + 1\n",
    "\n",
    "plt.savefig(\"figures/duration_in_min_quantiles.png\", bbox_inches=\"tight\")\n",
    "plt.show()"
   ]
  },
  {
   "cell_type": "code",
   "execution_count": 34,
   "metadata": {},
   "outputs": [
    {
     "name": "stdout",
     "output_type": "stream",
     "text": [
      "Trip duration threshold: 33.0 minutes\n"
     ]
    }
   ],
   "source": [
    "# Remove outliers based on trip duration\n",
    "\n",
    "threshold = trips.duration_in_min.quantile(0.9)\n",
    "print('Trip duration threshold: %s minutes' % threshold)\n",
    "\n",
    "trips.drop(trips[trips.duration_in_min > threshold].index, inplace=True) "
   ]
  },
  {
   "cell_type": "code",
   "execution_count": 35,
   "metadata": {},
   "outputs": [
    {
     "name": "stdout",
     "output_type": "stream",
     "text": [
      "7669950 entries, diff: -806357\n"
     ]
    }
   ],
   "source": [
    "last_count = print_count_data()"
   ]
  },
  {
   "cell_type": "code",
   "execution_count": 36,
   "metadata": {
    "scrolled": true
   },
   "outputs": [],
   "source": [
    "# Calculate the distance between each pair of station and save it as a python dict for easier lookup\n",
    "\n",
    "def calculate_distance(id_x, id_y):\n",
    "    station_x = stations_by_id.loc[id_x]\n",
    "    station_y = stations_by_id.loc[id_y]\n",
    "    x = (station_x.latitude, station_x.longitude)\n",
    "    y = (station_y.latitude, station_y.longitude)\n",
    "    return geodesic(x, y).km\n",
    "\n",
    "if READ_STATION_DISTANCES_FROM_FILE:\n",
    "    distances = np.load(\"calculations/station_distances.npy\", allow_pickle=True).item()\n",
    "else:\n",
    "    stations_by_id = stations.set_index(\"station_id\")\n",
    "    ids = stations.station_id.to_numpy()\n",
    "    distances = {}\n",
    "\n",
    "    for station_x in ids:\n",
    "        distances[station_x] = {}\n",
    "        for station_y in ids:\n",
    "            distances[station_x][station_y] = calculate_distance(station_x, station_y)\n",
    "\n",
    "    np.save(\"calculations/station_distances.npy\", distances) "
   ]
  },
  {
   "cell_type": "code",
   "execution_count": 37,
   "metadata": {},
   "outputs": [],
   "source": [
    "# Assign distance in km to each trip\n",
    "\n",
    "trips[\"distance_in_km\"] = trips.apply(lambda x: distances[x.start_station_id][x.end_station_id], axis=1)"
   ]
  },
  {
   "cell_type": "code",
   "execution_count": 38,
   "metadata": {},
   "outputs": [],
   "source": [
    "# Calculate speed in km/h for every trip\n",
    "\n",
    "trips[\"speed_in_kmh\"] = trips.apply(lambda x: (x[\"distance_in_km\"] / (x[\"duration_in_min\"]/60)), axis=1)"
   ]
  },
  {
   "cell_type": "code",
   "execution_count": 39,
   "metadata": {},
   "outputs": [
    {
     "name": "stdout",
     "output_type": "stream",
     "text": [
      "Speed for 25% of the trips: 6.621667636969429 km/h\n",
      "Speed for 30% of the trips: 7.049490221410206 km/h\n",
      "Speed for 40% of the trips: 7.832045555266617 km/h\n",
      "Speed for 50% of the trips: 8.524389105333315 km/h\n",
      "Speed for 75% of the trips: 10.270404014739613 km/h\n",
      "Speed for 90% of the trips: 11.861364883913364 km/h\n"
     ]
    },
    {
     "data": {
      "image/png": "[encoded data removed]",
      "text/plain": [
       "<Figure size 1152x576 with 6 Axes>"
      ]
     },
     "metadata": {},
     "output_type": "display_data"
    }
   ],
   "source": [
    "quantiles = [0.25, 0.3, 0.4, 0.5, 0.75, 0.9]\n",
    "\n",
    "fig, ax = plt.subplots(2, 3, figsize=(16,8))\n",
    "ax_index = 0\n",
    "\n",
    "for quantile in quantiles:\n",
    "    threshold = trips.speed_in_kmh.quantile(quantile)\n",
    "    print(\"Speed for {0}% of the trips: {1} km/h\".format(int(quantile*100), threshold))\n",
    "    sns.set()\n",
    "    plot = sns.boxplot(ax=ax.flat[ax_index], x=\"speed_in_kmh\", data=trips[trips.speed_in_kmh <= threshold])\n",
    "    plot.set(xlabel=None)\n",
    "    ax.flat[ax_index].set_title(\"{}% of bicycle trips\".format(int(quantile*100), threshold))\n",
    "    ax_index = ax_index + 1\n",
    "\n",
    "#plt.savefig(\"figures/duration_in_min_quantiles.png\", bbox_inches=\"tight\")\n",
    "plt.show()"
   ]
  },
  {
   "cell_type": "code",
   "execution_count": 40,
   "metadata": {},
   "outputs": [
    {
     "data": {
      "text/plain": [
       "14.784522922984792"
      ]
     },
     "execution_count": 40,
     "metadata": {},
     "output_type": "execute_result"
    }
   ],
   "source": [
    "trips.speed_in_kmh.quantile(0.99)"
   ]
  },
  {
   "cell_type": "code",
   "execution_count": 41,
   "metadata": {},
   "outputs": [
    {
     "data": {
      "text/plain": [
       "count    7.669950e+06\n",
       "mean     8.271799e+00\n",
       "std      3.586595e+00\n",
       "min      0.000000e+00\n",
       "25%      6.621668e+00\n",
       "50%      8.524389e+00\n",
       "75%      1.027040e+01\n",
       "max      6.745652e+02\n",
       "Name: speed_in_kmh, dtype: float64"
      ]
     },
     "execution_count": 41,
     "metadata": {},
     "output_type": "execute_result"
    }
   ],
   "source": [
    "trips.speed_in_kmh.describe()"
   ]
  },
  {
   "cell_type": "code",
   "execution_count": 42,
   "metadata": {},
   "outputs": [
    {
     "data": {
      "image/png": "[encoded data removed]",
      "text/plain": [
       "<Figure size 1152x360 with 1 Axes>"
      ]
     },
     "metadata": {},
     "output_type": "display_data"
    }
   ],
   "source": [
    "#ax = trips.speed_in_kmh.hist()\n",
    "#ax.get_figure().savefig(\"figures/trips_speed_distribution_raw.png\", bbox_inches=\"tight\")\n",
    "#ax\n",
    "sns.set_style(\"whitegrid\")\n",
    "\n",
    "values = trips[[\"speed_in_kmh\"]]\n",
    "bins = len(pd.unique(trips.duration_in_min))\n",
    "plt.figure(figsize=(16,5))\n",
    "plt.hist(values, alpha=0.7, bins=bins)\n",
    "plt.xlabel(\"speed_in_kmh\")\n",
    "plt.ylabel(\"count\")\n",
    "plt.savefig(\"figures/trips_hist_speed_in_kmh_raw\", bbox_inches=\"tight\")\n",
    "plt.show()"
   ]
  },
  {
   "cell_type": "code",
   "execution_count": 43,
   "metadata": {},
   "outputs": [
    {
     "data": {
      "image/png": "[encoded data removed]",
      "text/plain": [
       "<Figure size 1152x360 with 1 Axes>"
      ]
     },
     "metadata": {},
     "output_type": "display_data"
    }
   ],
   "source": [
    "speed_threshold = 15\n",
    "\n",
    "values = trips[trips.speed_in_kmh <= speed_threshold][[\"speed_in_kmh\"]]\n",
    "bins = len(pd.unique(trips.duration_in_min))\n",
    "plt.figure(figsize=(16,5))\n",
    "plt.hist(values, alpha=0.7, bins=bins)\n",
    "plt.xlabel(\"speed_in_kmh\")\n",
    "plt.ylabel(\"count\")\n",
    "plt.savefig(\"figures/trips_hist_speed_in_kmh\", bbox_inches=\"tight\")\n",
    "plt.show()"
   ]
  },
  {
   "cell_type": "code",
   "execution_count": 136,
   "metadata": {},
   "outputs": [
    {
     "name": "stdout",
     "output_type": "stream",
     "text": [
      "Trip speed threshold: 15 km/h\n"
     ]
    }
   ],
   "source": [
    "# Remove outliers based on speed\n",
    "\n",
    "print('Trip speed threshold: %s km/h' % speed_threshold)\n",
    "\n",
    "trips.drop(trips[trips.speed_in_kmh > speed_threshold].index, inplace=True) "
   ]
  },
  {
   "cell_type": "code",
   "execution_count": 137,
   "metadata": {},
   "outputs": [
    {
     "name": "stdout",
     "output_type": "stream",
     "text": [
      "7605978 entries, diff: -63972\n"
     ]
    }
   ],
   "source": [
    "last_count = print_count_data()"
   ]
  },
  {
   "cell_type": "code",
   "execution_count": 138,
   "metadata": {},
   "outputs": [],
   "source": [
    "# Calculate downtime beetween two trips of a user\n",
    "\n",
    "def time_since_last_checkout(user_group):\n",
    "    user_group[\"time_since_last_checkout\"] = user_group.date_from.diff()\n",
    "    return user_group\n",
    "\n",
    "trips = trips.sort_values(by=\"date_from\", ascending=True).groupby(\"user_id\").apply(time_since_last_checkout)"
   ]
  },
  {
   "cell_type": "code",
   "execution_count": 139,
   "metadata": {},
   "outputs": [
    {
     "data": {
      "text/html": [
       "<div>\n",
       "<style scoped>\n",
       "    .dataframe tbody tr th:only-of-type {\n",
       "        vertical-align: middle;\n",
       "    }\n",
       "\n",
       "    .dataframe tbody tr th {\n",
       "        vertical-align: top;\n",
       "    }\n",
       "\n",
       "    .dataframe thead th {\n",
       "        text-align: right;\n",
       "    }\n",
       "</style>\n",
       "<table border=\"1\" class=\"dataframe\">\n",
       "  <thead>\n",
       "    <tr style=\"text-align: right;\">\n",
       "      <th></th>\n",
       "      <th>bike_id</th>\n",
       "      <th>user_id</th>\n",
       "      <th>date_from</th>\n",
       "      <th>date_until</th>\n",
       "      <th>start_station_name</th>\n",
       "      <th>start_station_id</th>\n",
       "      <th>end_station_name</th>\n",
       "      <th>end_station_id</th>\n",
       "      <th>booked_via</th>\n",
       "      <th>duration_in_min</th>\n",
       "      <th>distance_in_km</th>\n",
       "      <th>speed_in_kmh</th>\n",
       "      <th>time_since_last_checkout</th>\n",
       "    </tr>\n",
       "  </thead>\n",
       "  <tbody>\n",
       "    <tr>\n",
       "      <th>8557954</th>\n",
       "      <td>108663</td>\n",
       "      <td>CBA08ED2E7CE0E0528E4A37E9C33481BB621B722</td>\n",
       "      <td>2015-11-23 12:36:18</td>\n",
       "      <td>2015-11-23 12:45:44</td>\n",
       "      <td>Jacobikirche / Steinstraße</td>\n",
       "      <td>131875</td>\n",
       "      <td>Stadthausbrücke / Neuer Wall</td>\n",
       "      <td>138379</td>\n",
       "      <td>IVR</td>\n",
       "      <td>10</td>\n",
       "      <td>0.990453</td>\n",
       "      <td>5.942721</td>\n",
       "      <td>9 days 23:27:25</td>\n",
       "    </tr>\n",
       "    <tr>\n",
       "      <th>9957948</th>\n",
       "      <td>119362</td>\n",
       "      <td>095F674F61E8B2D8543F8C282D086FDE84B2C04B</td>\n",
       "      <td>2016-04-14 17:47:55</td>\n",
       "      <td>2016-04-14 17:59:08</td>\n",
       "      <td>Randstraße/ Stellingen</td>\n",
       "      <td>252486</td>\n",
       "      <td>Emil-Andresen-Straße / Lohkoppelweg</td>\n",
       "      <td>243619</td>\n",
       "      <td>Techniker HH_25 (-2218-)</td>\n",
       "      <td>12</td>\n",
       "      <td>2.184478</td>\n",
       "      <td>10.922392</td>\n",
       "      <td>4 days 22:10:12</td>\n",
       "    </tr>\n",
       "    <tr>\n",
       "      <th>6114521</th>\n",
       "      <td>120010</td>\n",
       "      <td>A41264EBC7409D7DC90EACA7A3CECBEE18B98A48</td>\n",
       "      <td>2015-06-21 04:38:24</td>\n",
       "      <td>2015-06-21 05:00:00</td>\n",
       "      <td>Amsinckstraße/ Nordkanalbrücke</td>\n",
       "      <td>218174</td>\n",
       "      <td>Lübecker Straße / Marienkrankenhaus</td>\n",
       "      <td>140803</td>\n",
       "      <td>Techniker HH_159 (-2642-)</td>\n",
       "      <td>22</td>\n",
       "      <td>1.696525</td>\n",
       "      <td>4.626887</td>\n",
       "      <td>15 days 14:43:37</td>\n",
       "    </tr>\n",
       "    <tr>\n",
       "      <th>4473577</th>\n",
       "      <td>120122</td>\n",
       "      <td>0ACDB8198A8A3FE75AF555D8D29589EDC2019327</td>\n",
       "      <td>2015-02-06 09:27:39</td>\n",
       "      <td>2015-02-06 09:49:35</td>\n",
       "      <td>Bebelallee/Meenkwiese</td>\n",
       "      <td>213855</td>\n",
       "      <td>Gänsemarkt / Büschstraße</td>\n",
       "      <td>131884</td>\n",
       "      <td>Techniker HH_124 (-2383-)</td>\n",
       "      <td>22</td>\n",
       "      <td>4.784057</td>\n",
       "      <td>13.047427</td>\n",
       "      <td>0 days 23:58:31</td>\n",
       "    </tr>\n",
       "  </tbody>\n",
       "</table>\n",
       "</div>"
      ],
      "text/plain": [
       "         bike_id                                   user_id  \\\n",
       "8557954   108663  CBA08ED2E7CE0E0528E4A37E9C33481BB621B722   \n",
       "9957948   119362  095F674F61E8B2D8543F8C282D086FDE84B2C04B   \n",
       "6114521   120010  A41264EBC7409D7DC90EACA7A3CECBEE18B98A48   \n",
       "4473577   120122  0ACDB8198A8A3FE75AF555D8D29589EDC2019327   \n",
       "\n",
       "                  date_from          date_until  \\\n",
       "8557954 2015-11-23 12:36:18 2015-11-23 12:45:44   \n",
       "9957948 2016-04-14 17:47:55 2016-04-14 17:59:08   \n",
       "6114521 2015-06-21 04:38:24 2015-06-21 05:00:00   \n",
       "4473577 2015-02-06 09:27:39 2015-02-06 09:49:35   \n",
       "\n",
       "                     start_station_name  start_station_id  \\\n",
       "8557954      Jacobikirche / Steinstraße            131875   \n",
       "9957948          Randstraße/ Stellingen            252486   \n",
       "6114521  Amsinckstraße/ Nordkanalbrücke            218174   \n",
       "4473577           Bebelallee/Meenkwiese            213855   \n",
       "\n",
       "                            end_station_name  end_station_id  \\\n",
       "8557954         Stadthausbrücke / Neuer Wall          138379   \n",
       "9957948  Emil-Andresen-Straße / Lohkoppelweg          243619   \n",
       "6114521  Lübecker Straße / Marienkrankenhaus          140803   \n",
       "4473577             Gänsemarkt / Büschstraße          131884   \n",
       "\n",
       "                        booked_via  duration_in_min  distance_in_km  \\\n",
       "8557954                        IVR               10        0.990453   \n",
       "9957948   Techniker HH_25 (-2218-)               12        2.184478   \n",
       "6114521  Techniker HH_159 (-2642-)               22        1.696525   \n",
       "4473577  Techniker HH_124 (-2383-)               22        4.784057   \n",
       "\n",
       "         speed_in_kmh time_since_last_checkout  \n",
       "8557954      5.942721          9 days 23:27:25  \n",
       "9957948     10.922392          4 days 22:10:12  \n",
       "6114521      4.626887         15 days 14:43:37  \n",
       "4473577     13.047427          0 days 23:58:31  "
      ]
     },
     "execution_count": 139,
     "metadata": {},
     "output_type": "execute_result"
    }
   ],
   "source": [
    "trips.sample(4)"
   ]
  },
  {
   "cell_type": "code",
   "execution_count": 140,
   "metadata": {},
   "outputs": [
    {
     "data": {
      "text/html": [
       "<div>\n",
       "<style scoped>\n",
       "    .dataframe tbody tr th:only-of-type {\n",
       "        vertical-align: middle;\n",
       "    }\n",
       "\n",
       "    .dataframe tbody tr th {\n",
       "        vertical-align: top;\n",
       "    }\n",
       "\n",
       "    .dataframe thead th {\n",
       "        text-align: right;\n",
       "    }\n",
       "</style>\n",
       "<table border=\"1\" class=\"dataframe\">\n",
       "  <thead>\n",
       "    <tr style=\"text-align: right;\">\n",
       "      <th></th>\n",
       "      <th>station_id</th>\n",
       "      <th>name</th>\n",
       "      <th>longitude</th>\n",
       "      <th>latitude</th>\n",
       "    </tr>\n",
       "  </thead>\n",
       "  <tbody>\n",
       "    <tr>\n",
       "      <th>43</th>\n",
       "      <td>138379</td>\n",
       "      <td>Stadthausbrücke / Neuer Wall</td>\n",
       "      <td>9.986594</td>\n",
       "      <td>53.549672</td>\n",
       "    </tr>\n",
       "    <tr>\n",
       "      <th>71</th>\n",
       "      <td>193238</td>\n",
       "      <td>Am Kaiserkai/Großer Grasbrook</td>\n",
       "      <td>9.992856</td>\n",
       "      <td>53.541838</td>\n",
       "    </tr>\n",
       "    <tr>\n",
       "      <th>133</th>\n",
       "      <td>230054</td>\n",
       "      <td>Grasbrookpark/Überseequartier</td>\n",
       "      <td>9.997945</td>\n",
       "      <td>53.540282</td>\n",
       "    </tr>\n",
       "    <tr>\n",
       "      <th>88</th>\n",
       "      <td>203892</td>\n",
       "      <td>Südring/Stadthallenbrücke</td>\n",
       "      <td>10.030327</td>\n",
       "      <td>53.591446</td>\n",
       "    </tr>\n",
       "  </tbody>\n",
       "</table>\n",
       "</div>"
      ],
      "text/plain": [
       "     station_id                           name  longitude   latitude\n",
       "43       138379   Stadthausbrücke / Neuer Wall   9.986594  53.549672\n",
       "71       193238  Am Kaiserkai/Großer Grasbrook   9.992856  53.541838\n",
       "133      230054  Grasbrookpark/Überseequartier   9.997945  53.540282\n",
       "88       203892      Südring/Stadthallenbrücke  10.030327  53.591446"
      ]
     },
     "execution_count": 140,
     "metadata": {},
     "output_type": "execute_result"
    }
   ],
   "source": [
    "stations.sample(4)"
   ]
  },
  {
   "cell_type": "code",
   "execution_count": 141,
   "metadata": {},
   "outputs": [],
   "source": [
    "# Save prepared datasets\n",
    "\n",
    "stations.to_csv('../data/clean/stations.csv', index=False)\n",
    "trips.to_csv('../data/clean/trips.csv', index=False)"
   ]
  },
  {
   "cell_type": "code",
   "execution_count": null,
   "metadata": {},
   "outputs": [],
   "source": []
  }
 ],
 "metadata": {
  "kernelspec": {
   "display_name": "Python 3",
   "language": "python",
   "name": "python3"
  },
  "language_info": {
   "codemirror_mode": {
    "name": "ipython",
    "version": 3
   },
   "file_extension": ".py",
   "mimetype": "text/x-python",
   "name": "python",
   "nbconvert_exporter": "python",
   "pygments_lexer": "ipython3",
   "version": "3.8.5"
  }
 },
 "nbformat": 4,
 "nbformat_minor": 4
}
