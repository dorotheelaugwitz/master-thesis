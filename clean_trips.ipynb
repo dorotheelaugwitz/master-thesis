{
 "cells": [
  {
   "cell_type": "code",
   "execution_count": 107,
   "metadata": {},
   "outputs": [
    {
     "name": "stdout",
     "output_type": "stream",
     "text": [
      "Pandas Version: 1.2.0\n",
      "Numpy Version: 1.18.5\n",
      "Seaborn Version: 0.11.1\n"
     ]
    }
   ],
   "source": [
    "import pandas as pd\n",
    "import numpy as np\n",
    "import seaborn as sns\n",
    "import matplotlib as mpl\n",
    "\n",
    "from pandas_profiling import ProfileReport\n",
    "from geopy.distance import geodesic\n",
    "from scipy import stats\n",
    "from matplotlib import pyplot as plt\n",
    "\n",
    "%matplotlib inline\n",
    "mpl.style.use(\"seaborn\")\n",
    "\n",
    "print(\"Pandas Version: \" + pd.__version__)\n",
    "print(\"Numpy Version: \" + np.__version__)\n",
    "print(\"Seaborn Version: \" + sns.__version__)"
   ]
  },
  {
   "cell_type": "code",
   "execution_count": 108,
   "metadata": {},
   "outputs": [],
   "source": [
    "# Switch between recalculating or reading from file to save time\n",
    "\n",
    "READ_STATION_DISTANCES_FROM_FILE = True"
   ]
  },
  {
   "cell_type": "code",
   "execution_count": 109,
   "metadata": {},
   "outputs": [],
   "source": [
    "df = pd.read_csv(\"../data/call_a_bike/OPENDATA_BOOKING_CALL_A_BIKE.csv\", sep=\";\")"
   ]
  },
  {
   "cell_type": "code",
   "execution_count": 110,
   "metadata": {},
   "outputs": [
    {
     "name": "stdout",
     "output_type": "stream",
     "text": [
      "<class 'pandas.core.frame.DataFrame'>\n",
      "RangeIndex: 16228298 entries, 0 to 16228297\n",
      "Data columns (total 17 columns):\n",
      " #   Column                     Dtype  \n",
      "---  ------                     -----  \n",
      " 0   BOOKING_HAL_ID             int64  \n",
      " 1   CATEGORY_HAL_ID            int64  \n",
      " 2   VEHICLE_HAL_ID             int64  \n",
      " 3   CUSTOMER_HAL_ID            object \n",
      " 4   DATE_BOOKING               object \n",
      " 5   DATE_FROM                  object \n",
      " 6   DATE_UNTIL                 object \n",
      " 7   COMPUTE_EXTRA_BOOKING_FEE  object \n",
      " 8   TRAVERSE_USE               object \n",
      " 9   DISTANCE                   float64\n",
      " 10  START_RENTAL_ZONE          object \n",
      " 11  START_RENTAL_ZONE_HAL_ID   float64\n",
      " 12  END_RENTAL_ZONE            object \n",
      " 13  END_RENTAL_ZONE_HAL_ID     float64\n",
      " 14  RENTAL_ZONE_HAL_SRC        object \n",
      " 15  CITY_RENTAL_ZONE           object \n",
      " 16  TECHNICAL_INCOME_CHANNEL   object \n",
      "dtypes: float64(3), int64(3), object(11)\n",
      "memory usage: 2.1+ GB\n"
     ]
    }
   ],
   "source": [
    "df.info()"
   ]
  },
  {
   "cell_type": "code",
   "execution_count": 111,
   "metadata": {},
   "outputs": [
    {
     "data": {
      "text/html": [
       "<div>\n",
       "<style scoped>\n",
       "    .dataframe tbody tr th:only-of-type {\n",
       "        vertical-align: middle;\n",
       "    }\n",
       "\n",
       "    .dataframe tbody tr th {\n",
       "        vertical-align: top;\n",
       "    }\n",
       "\n",
       "    .dataframe thead th {\n",
       "        text-align: right;\n",
       "    }\n",
       "</style>\n",
       "<table border=\"1\" class=\"dataframe\">\n",
       "  <thead>\n",
       "    <tr style=\"text-align: right;\">\n",
       "      <th></th>\n",
       "      <th>BOOKING_HAL_ID</th>\n",
       "      <th>CATEGORY_HAL_ID</th>\n",
       "      <th>VEHICLE_HAL_ID</th>\n",
       "      <th>CUSTOMER_HAL_ID</th>\n",
       "      <th>DATE_BOOKING</th>\n",
       "      <th>DATE_FROM</th>\n",
       "      <th>DATE_UNTIL</th>\n",
       "      <th>COMPUTE_EXTRA_BOOKING_FEE</th>\n",
       "      <th>TRAVERSE_USE</th>\n",
       "      <th>DISTANCE</th>\n",
       "      <th>START_RENTAL_ZONE</th>\n",
       "      <th>START_RENTAL_ZONE_HAL_ID</th>\n",
       "      <th>END_RENTAL_ZONE</th>\n",
       "      <th>END_RENTAL_ZONE_HAL_ID</th>\n",
       "      <th>RENTAL_ZONE_HAL_SRC</th>\n",
       "      <th>CITY_RENTAL_ZONE</th>\n",
       "      <th>TECHNICAL_INCOME_CHANNEL</th>\n",
       "    </tr>\n",
       "  </thead>\n",
       "  <tbody>\n",
       "    <tr>\n",
       "      <th>0</th>\n",
       "      <td>21366843</td>\n",
       "      <td>51000</td>\n",
       "      <td>143517</td>\n",
       "      <td>A821059B555C7764A2FF801180874A2FCB326222</td>\n",
       "      <td>2014-01-01 00:34:54</td>\n",
       "      <td>2014-01-01 00:34:54</td>\n",
       "      <td>2014-01-01 00:50:14</td>\n",
       "      <td>Nein</td>\n",
       "      <td>Nein</td>\n",
       "      <td>0.0</td>\n",
       "      <td>U-Bahn Baumwall</td>\n",
       "      <td>214170.0</td>\n",
       "      <td>Mönckebergstraße / Rosenstraße</td>\n",
       "      <td>131880.0</td>\n",
       "      <td>Standort</td>\n",
       "      <td>Hamburg</td>\n",
       "      <td>iPhone SRH</td>\n",
       "    </tr>\n",
       "    <tr>\n",
       "      <th>1</th>\n",
       "      <td>21367069</td>\n",
       "      <td>51000</td>\n",
       "      <td>119830</td>\n",
       "      <td>1EBC930DB407ACEAE2FDE23A6CA40492EA3DFBB2</td>\n",
       "      <td>2014-01-01 01:39:55</td>\n",
       "      <td>2014-01-01 01:39:55</td>\n",
       "      <td>2014-01-01 01:57:27</td>\n",
       "      <td>Nein</td>\n",
       "      <td>Nein</td>\n",
       "      <td>0.0</td>\n",
       "      <td>Bahnhof Altona Ost/Max-Brauer-Allee</td>\n",
       "      <td>131646.0</td>\n",
       "      <td>Schulterblatt/Eifflerstraße</td>\n",
       "      <td>131648.0</td>\n",
       "      <td>Standort</td>\n",
       "      <td>Hamburg</td>\n",
       "      <td>Android SRH</td>\n",
       "    </tr>\n",
       "    <tr>\n",
       "      <th>2</th>\n",
       "      <td>21367072</td>\n",
       "      <td>51000</td>\n",
       "      <td>143501</td>\n",
       "      <td>7AD2C1B70137479062A6DD73815835986677BB2D</td>\n",
       "      <td>2014-01-01 01:40:20</td>\n",
       "      <td>2014-01-01 01:40:20</td>\n",
       "      <td>2014-01-01 01:53:09</td>\n",
       "      <td>Nein</td>\n",
       "      <td>Nein</td>\n",
       "      <td>0.0</td>\n",
       "      <td>Weidestraße/Biedermannplatz</td>\n",
       "      <td>211922.0</td>\n",
       "      <td>Jarrestraße / Rambatzweg</td>\n",
       "      <td>138376.0</td>\n",
       "      <td>Standort</td>\n",
       "      <td>Hamburg</td>\n",
       "      <td>Techniker HH_119 (-2334-)</td>\n",
       "    </tr>\n",
       "  </tbody>\n",
       "</table>\n",
       "</div>"
      ],
      "text/plain": [
       "   BOOKING_HAL_ID  CATEGORY_HAL_ID  VEHICLE_HAL_ID  \\\n",
       "0        21366843            51000          143517   \n",
       "1        21367069            51000          119830   \n",
       "2        21367072            51000          143501   \n",
       "\n",
       "                            CUSTOMER_HAL_ID         DATE_BOOKING  \\\n",
       "0  A821059B555C7764A2FF801180874A2FCB326222  2014-01-01 00:34:54   \n",
       "1  1EBC930DB407ACEAE2FDE23A6CA40492EA3DFBB2  2014-01-01 01:39:55   \n",
       "2  7AD2C1B70137479062A6DD73815835986677BB2D  2014-01-01 01:40:20   \n",
       "\n",
       "             DATE_FROM           DATE_UNTIL COMPUTE_EXTRA_BOOKING_FEE  \\\n",
       "0  2014-01-01 00:34:54  2014-01-01 00:50:14                      Nein   \n",
       "1  2014-01-01 01:39:55  2014-01-01 01:57:27                      Nein   \n",
       "2  2014-01-01 01:40:20  2014-01-01 01:53:09                      Nein   \n",
       "\n",
       "  TRAVERSE_USE  DISTANCE                    START_RENTAL_ZONE  \\\n",
       "0         Nein       0.0                      U-Bahn Baumwall   \n",
       "1         Nein       0.0  Bahnhof Altona Ost/Max-Brauer-Allee   \n",
       "2         Nein       0.0          Weidestraße/Biedermannplatz   \n",
       "\n",
       "   START_RENTAL_ZONE_HAL_ID                 END_RENTAL_ZONE  \\\n",
       "0                  214170.0  Mönckebergstraße / Rosenstraße   \n",
       "1                  131646.0     Schulterblatt/Eifflerstraße   \n",
       "2                  211922.0        Jarrestraße / Rambatzweg   \n",
       "\n",
       "   END_RENTAL_ZONE_HAL_ID RENTAL_ZONE_HAL_SRC CITY_RENTAL_ZONE  \\\n",
       "0                131880.0            Standort          Hamburg   \n",
       "1                131648.0            Standort          Hamburg   \n",
       "2                138376.0            Standort          Hamburg   \n",
       "\n",
       "    TECHNICAL_INCOME_CHANNEL  \n",
       "0                 iPhone SRH  \n",
       "1                Android SRH  \n",
       "2  Techniker HH_119 (-2334-)  "
      ]
     },
     "execution_count": 111,
     "metadata": {},
     "output_type": "execute_result"
    }
   ],
   "source": [
    "df.head(3)"
   ]
  },
  {
   "cell_type": "code",
   "execution_count": 112,
   "metadata": {},
   "outputs": [
    {
     "data": {
      "text/html": [
       "<div>\n",
       "<style scoped>\n",
       "    .dataframe tbody tr th:only-of-type {\n",
       "        vertical-align: middle;\n",
       "    }\n",
       "\n",
       "    .dataframe tbody tr th {\n",
       "        vertical-align: top;\n",
       "    }\n",
       "\n",
       "    .dataframe thead th {\n",
       "        text-align: right;\n",
       "    }\n",
       "</style>\n",
       "<table border=\"1\" class=\"dataframe\">\n",
       "  <thead>\n",
       "    <tr style=\"text-align: right;\">\n",
       "      <th></th>\n",
       "      <th>BOOKING_HAL_ID</th>\n",
       "      <th>CATEGORY_HAL_ID</th>\n",
       "      <th>VEHICLE_HAL_ID</th>\n",
       "      <th>CUSTOMER_HAL_ID</th>\n",
       "      <th>DATE_BOOKING</th>\n",
       "      <th>DATE_FROM</th>\n",
       "      <th>DATE_UNTIL</th>\n",
       "      <th>COMPUTE_EXTRA_BOOKING_FEE</th>\n",
       "      <th>TRAVERSE_USE</th>\n",
       "      <th>DISTANCE</th>\n",
       "      <th>START_RENTAL_ZONE</th>\n",
       "      <th>START_RENTAL_ZONE_HAL_ID</th>\n",
       "      <th>END_RENTAL_ZONE</th>\n",
       "      <th>END_RENTAL_ZONE_HAL_ID</th>\n",
       "      <th>RENTAL_ZONE_HAL_SRC</th>\n",
       "      <th>CITY_RENTAL_ZONE</th>\n",
       "      <th>TECHNICAL_INCOME_CHANNEL</th>\n",
       "    </tr>\n",
       "  </thead>\n",
       "  <tbody>\n",
       "    <tr>\n",
       "      <th>16228295</th>\n",
       "      <td>46385839</td>\n",
       "      <td>51000</td>\n",
       "      <td>120488</td>\n",
       "      <td>CC6405146B51242A9169AB55E88A5C472EA1B2AA</td>\n",
       "      <td>2017-05-16 07:40:17</td>\n",
       "      <td>2017-05-16 07:40:17</td>\n",
       "      <td>2017-05-16 07:50:07</td>\n",
       "      <td>Ja</td>\n",
       "      <td>Nein</td>\n",
       "      <td>0.0</td>\n",
       "      <td>Weidestraße/Biedermannplatz</td>\n",
       "      <td>211922.0</td>\n",
       "      <td>Mundsburg / Schürbeker Straße</td>\n",
       "      <td>140799.0</td>\n",
       "      <td>Standort</td>\n",
       "      <td>Hamburg</td>\n",
       "      <td>Techniker HH_119 (-2334-)</td>\n",
       "    </tr>\n",
       "    <tr>\n",
       "      <th>16228296</th>\n",
       "      <td>46386510</td>\n",
       "      <td>50000</td>\n",
       "      <td>116623</td>\n",
       "      <td>AE105561D195C422985C2B3BB1A790C187DA3A70</td>\n",
       "      <td>2017-05-16 08:02:12</td>\n",
       "      <td>2017-05-16 08:02:12</td>\n",
       "      <td>2017-05-23 08:02:12</td>\n",
       "      <td>Ja</td>\n",
       "      <td>Nein</td>\n",
       "      <td>NaN</td>\n",
       "      <td>NaN</td>\n",
       "      <td>NaN</td>\n",
       "      <td>NaN</td>\n",
       "      <td>NaN</td>\n",
       "      <td>NaN</td>\n",
       "      <td>Darmstadt</td>\n",
       "      <td>iPhone CAB</td>\n",
       "    </tr>\n",
       "    <tr>\n",
       "      <th>16228297</th>\n",
       "      <td>46386791</td>\n",
       "      <td>50000</td>\n",
       "      <td>110529</td>\n",
       "      <td>DBB967CDDB3C6D5F0C7CC7A2FF2E8CC89B5ECE6E</td>\n",
       "      <td>2017-05-16 08:11:13</td>\n",
       "      <td>2017-05-16 08:11:13</td>\n",
       "      <td>2017-05-23 08:11:13</td>\n",
       "      <td>Ja</td>\n",
       "      <td>Nein</td>\n",
       "      <td>NaN</td>\n",
       "      <td>NaN</td>\n",
       "      <td>NaN</td>\n",
       "      <td>NaN</td>\n",
       "      <td>NaN</td>\n",
       "      <td>NaN</td>\n",
       "      <td>Darmstadt</td>\n",
       "      <td>iPhone CAB</td>\n",
       "    </tr>\n",
       "  </tbody>\n",
       "</table>\n",
       "</div>"
      ],
      "text/plain": [
       "          BOOKING_HAL_ID  CATEGORY_HAL_ID  VEHICLE_HAL_ID  \\\n",
       "16228295        46385839            51000          120488   \n",
       "16228296        46386510            50000          116623   \n",
       "16228297        46386791            50000          110529   \n",
       "\n",
       "                                   CUSTOMER_HAL_ID         DATE_BOOKING  \\\n",
       "16228295  CC6405146B51242A9169AB55E88A5C472EA1B2AA  2017-05-16 07:40:17   \n",
       "16228296  AE105561D195C422985C2B3BB1A790C187DA3A70  2017-05-16 08:02:12   \n",
       "16228297  DBB967CDDB3C6D5F0C7CC7A2FF2E8CC89B5ECE6E  2017-05-16 08:11:13   \n",
       "\n",
       "                    DATE_FROM           DATE_UNTIL COMPUTE_EXTRA_BOOKING_FEE  \\\n",
       "16228295  2017-05-16 07:40:17  2017-05-16 07:50:07                        Ja   \n",
       "16228296  2017-05-16 08:02:12  2017-05-23 08:02:12                        Ja   \n",
       "16228297  2017-05-16 08:11:13  2017-05-23 08:11:13                        Ja   \n",
       "\n",
       "         TRAVERSE_USE  DISTANCE            START_RENTAL_ZONE  \\\n",
       "16228295         Nein       0.0  Weidestraße/Biedermannplatz   \n",
       "16228296         Nein       NaN                          NaN   \n",
       "16228297         Nein       NaN                          NaN   \n",
       "\n",
       "          START_RENTAL_ZONE_HAL_ID                END_RENTAL_ZONE  \\\n",
       "16228295                  211922.0  Mundsburg / Schürbeker Straße   \n",
       "16228296                       NaN                            NaN   \n",
       "16228297                       NaN                            NaN   \n",
       "\n",
       "          END_RENTAL_ZONE_HAL_ID RENTAL_ZONE_HAL_SRC CITY_RENTAL_ZONE  \\\n",
       "16228295                140799.0            Standort          Hamburg   \n",
       "16228296                     NaN                 NaN        Darmstadt   \n",
       "16228297                     NaN                 NaN        Darmstadt   \n",
       "\n",
       "           TECHNICAL_INCOME_CHANNEL  \n",
       "16228295  Techniker HH_119 (-2334-)  \n",
       "16228296                 iPhone CAB  \n",
       "16228297                 iPhone CAB  "
      ]
     },
     "execution_count": 112,
     "metadata": {},
     "output_type": "execute_result"
    }
   ],
   "source": [
    "df.tail(3)"
   ]
  },
  {
   "cell_type": "code",
   "execution_count": 113,
   "metadata": {},
   "outputs": [],
   "source": [
    "# Select trips made in Hamburg\n",
    "\n",
    "trips = df[df.CITY_RENTAL_ZONE == \"Hamburg\"]"
   ]
  },
  {
   "cell_type": "code",
   "execution_count": 114,
   "metadata": {},
   "outputs": [],
   "source": [
    "last_count = trips.shape[0]\n",
    "\n",
    "def print_count_data():\n",
    "    current_count = trips.shape[0]\n",
    "    diff = current_count - last_count\n",
    "    print('% s entries, diff: % s'%(current_count, diff)) \n",
    "    return current_count"
   ]
  },
  {
   "cell_type": "code",
   "execution_count": 115,
   "metadata": {},
   "outputs": [
    {
     "name": "stdout",
     "output_type": "stream",
     "text": [
      "8942261 entries, diff: 0\n"
     ]
    }
   ],
   "source": [
    "last_count = print_count_data()"
   ]
  },
  {
   "cell_type": "code",
   "execution_count": 116,
   "metadata": {},
   "outputs": [],
   "source": [
    "# Select and rename usable columns\n",
    "\n",
    "trips = trips[[\n",
    "    \"VEHICLE_HAL_ID\",\n",
    "    \"CUSTOMER_HAL_ID\",\n",
    "    \"DATE_FROM\",\n",
    "    \"DATE_UNTIL\",\n",
    "    \"START_RENTAL_ZONE\",\n",
    "    \"START_RENTAL_ZONE_HAL_ID\",\n",
    "    \"END_RENTAL_ZONE\",\n",
    "    \"END_RENTAL_ZONE_HAL_ID\",\n",
    "    \"TECHNICAL_INCOME_CHANNEL\",\n",
    "]].copy()\n",
    "trips.columns = [\n",
    "    \"bike_id\",\n",
    "    \"user_id\",\n",
    "    \"date_from\",\n",
    "    \"date_until\",\n",
    "    \"start_station_name\", \n",
    "    \"start_station_id\",\n",
    "    \"end_station_name\",\n",
    "    \"end_station_id\",\n",
    "    \"booked_via\"\n",
    "]"
   ]
  },
  {
   "cell_type": "code",
   "execution_count": 117,
   "metadata": {},
   "outputs": [
    {
     "data": {
      "text/plain": [
       "bike_id                    0\n",
       "user_id                    0\n",
       "date_from                  0\n",
       "date_until                 0\n",
       "start_station_name       429\n",
       "start_station_id         246\n",
       "end_station_name         255\n",
       "end_station_id           250\n",
       "booked_via            120066\n",
       "dtype: int64"
      ]
     },
     "execution_count": 117,
     "metadata": {},
     "output_type": "execute_result"
    }
   ],
   "source": [
    "trips.isna().sum()"
   ]
  },
  {
   "cell_type": "code",
   "execution_count": 118,
   "metadata": {},
   "outputs": [],
   "source": [
    "# Fill unknown 'booked_via' with 'Unknown' because there are a lot (120,066)\n",
    "# Drop other NaN rows since the amount is negligible\n",
    "\n",
    "trips = trips.fillna({'booked_via': 'Unknown'})\n",
    "trips = trips.dropna()"
   ]
  },
  {
   "cell_type": "code",
   "execution_count": 119,
   "metadata": {},
   "outputs": [
    {
     "name": "stdout",
     "output_type": "stream",
     "text": [
      "8941801 entries, diff: -460\n"
     ]
    }
   ],
   "source": [
    "last_count = print_count_data()"
   ]
  },
  {
   "cell_type": "code",
   "execution_count": 120,
   "metadata": {},
   "outputs": [],
   "source": [
    "# Convert float IDs to integer values\n",
    "\n",
    "trips[\"start_station_id\"] = trips[\"start_station_id\"].astype(int)\n",
    "trips[\"end_station_id\"] = trips[\"end_station_id\"].astype(int)"
   ]
  },
  {
   "cell_type": "code",
   "execution_count": 121,
   "metadata": {
    "scrolled": true
   },
   "outputs": [
    {
     "name": "stdout",
     "output_type": "stream",
     "text": [
      "Number of trips with a user ID that booked via Techniker before: 4104569\n",
      "Number of trips with a user ID that did not book via Techniker before: 4108149\n"
     ]
    }
   ],
   "source": [
    "# Examining 'booked_via' that start with 'Techniker'\n",
    "\n",
    "techniker = trips[trips[\"booked_via\"].str.contains(\"Techniker\")]\n",
    "non_techniker = pd.concat([trips, techniker]).drop_duplicates(keep=False)\n",
    "\n",
    "tmp = non_techniker.loc[non_techniker.user_id.isin(techniker.user_id.unique())]\n",
    "print('Number of trips with a user ID that booked via Techniker before: %s' % len(tmp.index))\n",
    "tmp = non_techniker.loc[~non_techniker.user_id.isin(techniker.user_id.unique())]\n",
    "print('Number of trips with a user ID that did not book via Techniker before: %s' % len(tmp.index))\n",
    "\n",
    "# Assuming 'Techniker' means maintenance personnel is probably faulty.\n",
    "# Around 50% of the user IDs are contained in the non_techniker trip data set."
   ]
  },
  {
   "cell_type": "code",
   "execution_count": 122,
   "metadata": {
    "scrolled": true
   },
   "outputs": [
    {
     "data": {
      "text/html": [
       "<div>\n",
       "<style scoped>\n",
       "    .dataframe tbody tr th:only-of-type {\n",
       "        vertical-align: middle;\n",
       "    }\n",
       "\n",
       "    .dataframe tbody tr th {\n",
       "        vertical-align: top;\n",
       "    }\n",
       "\n",
       "    .dataframe thead th {\n",
       "        text-align: right;\n",
       "    }\n",
       "</style>\n",
       "<table border=\"1\" class=\"dataframe\">\n",
       "  <thead>\n",
       "    <tr style=\"text-align: right;\">\n",
       "      <th></th>\n",
       "      <th>bike_id</th>\n",
       "      <th>user_id</th>\n",
       "      <th>date_from</th>\n",
       "      <th>date_until</th>\n",
       "      <th>start_station_name</th>\n",
       "      <th>start_station_id</th>\n",
       "      <th>end_station_name</th>\n",
       "      <th>end_station_id</th>\n",
       "      <th>booked_via</th>\n",
       "    </tr>\n",
       "  </thead>\n",
       "  <tbody>\n",
       "    <tr>\n",
       "      <th>4271641</th>\n",
       "      <td>117497</td>\n",
       "      <td>C7946F02562EABB41E98DA708F390B7EC85D6D8F</td>\n",
       "      <td>2014-12-27 13:30:40</td>\n",
       "      <td>2014-12-27 13:31:02</td>\n",
       "      <td>Bahnhof Dammtor Nord // Theodor-Heuss-Platz</td>\n",
       "      <td>131883</td>\n",
       "      <td>Bahnhof Dammtor Nord // Theodor-Heuss-Platz</td>\n",
       "      <td>131883</td>\n",
       "      <td>IVR</td>\n",
       "    </tr>\n",
       "    <tr>\n",
       "      <th>1534445</th>\n",
       "      <td>119808</td>\n",
       "      <td>C31C6DE84C5EF7763D13638C861F64D3B5AEB4C6</td>\n",
       "      <td>2014-06-06 23:21:03</td>\n",
       "      <td>2014-06-06 23:53:46</td>\n",
       "      <td>Uhlandstraße / Eingang Nord</td>\n",
       "      <td>138372</td>\n",
       "      <td>Mönckebergstraße / Steintorwall</td>\n",
       "      <td>138387</td>\n",
       "      <td>Terminal HH_47 (-2315-)</td>\n",
       "    </tr>\n",
       "    <tr>\n",
       "      <th>2469852</th>\n",
       "      <td>120053</td>\n",
       "      <td>0E45348EFCCB337880C628AB58ABE261CA4E5CDD</td>\n",
       "      <td>2014-07-31 22:35:43</td>\n",
       "      <td>2014-07-31 22:47:49</td>\n",
       "      <td>Paulinenplatz/Wohlwillstraße</td>\n",
       "      <td>131547</td>\n",
       "      <td>Bahrenfelder Straße/Völckersstraße</td>\n",
       "      <td>211709</td>\n",
       "      <td>iPhone SRH</td>\n",
       "    </tr>\n",
       "    <tr>\n",
       "      <th>5418440</th>\n",
       "      <td>120403</td>\n",
       "      <td>F1473E95A3CB4A07F8E3B3AB3257D42120C1CEC2</td>\n",
       "      <td>2015-05-11 15:28:48</td>\n",
       "      <td>2015-05-11 15:50:27</td>\n",
       "      <td>Jungfernstieg / Ballindamm</td>\n",
       "      <td>131879</td>\n",
       "      <td>Großneumarkt/Thielbek</td>\n",
       "      <td>213277</td>\n",
       "      <td>IVR</td>\n",
       "    </tr>\n",
       "    <tr>\n",
       "      <th>12385695</th>\n",
       "      <td>143544</td>\n",
       "      <td>A19D44DF36868E9AB8BD69F0E5D73BB5672B2614</td>\n",
       "      <td>2016-08-09 07:20:24</td>\n",
       "      <td>2016-08-09 07:42:49</td>\n",
       "      <td>Krausestraße/Eilbektal</td>\n",
       "      <td>208295</td>\n",
       "      <td>Sievekingplatz/Gorch-Fock-Wall</td>\n",
       "      <td>164033</td>\n",
       "      <td>Android SRH</td>\n",
       "    </tr>\n",
       "  </tbody>\n",
       "</table>\n",
       "</div>"
      ],
      "text/plain": [
       "          bike_id                                   user_id  \\\n",
       "4271641    117497  C7946F02562EABB41E98DA708F390B7EC85D6D8F   \n",
       "1534445    119808  C31C6DE84C5EF7763D13638C861F64D3B5AEB4C6   \n",
       "2469852    120053  0E45348EFCCB337880C628AB58ABE261CA4E5CDD   \n",
       "5418440    120403  F1473E95A3CB4A07F8E3B3AB3257D42120C1CEC2   \n",
       "12385695   143544  A19D44DF36868E9AB8BD69F0E5D73BB5672B2614   \n",
       "\n",
       "                    date_from           date_until  \\\n",
       "4271641   2014-12-27 13:30:40  2014-12-27 13:31:02   \n",
       "1534445   2014-06-06 23:21:03  2014-06-06 23:53:46   \n",
       "2469852   2014-07-31 22:35:43  2014-07-31 22:47:49   \n",
       "5418440   2015-05-11 15:28:48  2015-05-11 15:50:27   \n",
       "12385695  2016-08-09 07:20:24  2016-08-09 07:42:49   \n",
       "\n",
       "                                   start_station_name  start_station_id  \\\n",
       "4271641   Bahnhof Dammtor Nord // Theodor-Heuss-Platz            131883   \n",
       "1534445                   Uhlandstraße / Eingang Nord            138372   \n",
       "2469852                  Paulinenplatz/Wohlwillstraße            131547   \n",
       "5418440                    Jungfernstieg / Ballindamm            131879   \n",
       "12385695                       Krausestraße/Eilbektal            208295   \n",
       "\n",
       "                                     end_station_name  end_station_id  \\\n",
       "4271641   Bahnhof Dammtor Nord // Theodor-Heuss-Platz          131883   \n",
       "1534445               Mönckebergstraße / Steintorwall          138387   \n",
       "2469852            Bahrenfelder Straße/Völckersstraße          211709   \n",
       "5418440                         Großneumarkt/Thielbek          213277   \n",
       "12385695               Sievekingplatz/Gorch-Fock-Wall          164033   \n",
       "\n",
       "                       booked_via  \n",
       "4271641                       IVR  \n",
       "1534445   Terminal HH_47 (-2315-)  \n",
       "2469852                iPhone SRH  \n",
       "5418440                       IVR  \n",
       "12385695              Android SRH  "
      ]
     },
     "execution_count": 122,
     "metadata": {},
     "output_type": "execute_result"
    }
   ],
   "source": [
    "non_techniker.sample(5)"
   ]
  },
  {
   "cell_type": "code",
   "execution_count": 123,
   "metadata": {
    "scrolled": false
   },
   "outputs": [
    {
     "data": {
      "text/html": [
       "<div>\n",
       "<style scoped>\n",
       "    .dataframe tbody tr th:only-of-type {\n",
       "        vertical-align: middle;\n",
       "    }\n",
       "\n",
       "    .dataframe tbody tr th {\n",
       "        vertical-align: top;\n",
       "    }\n",
       "\n",
       "    .dataframe thead th {\n",
       "        text-align: right;\n",
       "    }\n",
       "</style>\n",
       "<table border=\"1\" class=\"dataframe\">\n",
       "  <thead>\n",
       "    <tr style=\"text-align: right;\">\n",
       "      <th></th>\n",
       "      <th>station_id</th>\n",
       "    </tr>\n",
       "  </thead>\n",
       "  <tbody>\n",
       "    <tr>\n",
       "      <th>0</th>\n",
       "      <td>131543</td>\n",
       "    </tr>\n",
       "    <tr>\n",
       "      <th>1</th>\n",
       "      <td>131546</td>\n",
       "    </tr>\n",
       "    <tr>\n",
       "      <th>2</th>\n",
       "      <td>131547</td>\n",
       "    </tr>\n",
       "    <tr>\n",
       "      <th>3</th>\n",
       "      <td>131639</td>\n",
       "    </tr>\n",
       "    <tr>\n",
       "      <th>4</th>\n",
       "      <td>131640</td>\n",
       "    </tr>\n",
       "    <tr>\n",
       "      <th>...</th>\n",
       "      <td>...</td>\n",
       "    </tr>\n",
       "    <tr>\n",
       "      <th>211</th>\n",
       "      <td>256467</td>\n",
       "    </tr>\n",
       "    <tr>\n",
       "      <th>212</th>\n",
       "      <td>264330</td>\n",
       "    </tr>\n",
       "    <tr>\n",
       "      <th>213</th>\n",
       "      <td>264820</td>\n",
       "    </tr>\n",
       "    <tr>\n",
       "      <th>214</th>\n",
       "      <td>264821</td>\n",
       "    </tr>\n",
       "    <tr>\n",
       "      <th>215</th>\n",
       "      <td>268358</td>\n",
       "    </tr>\n",
       "  </tbody>\n",
       "</table>\n",
       "<p>216 rows × 1 columns</p>\n",
       "</div>"
      ],
      "text/plain": [
       "     station_id\n",
       "0        131543\n",
       "1        131546\n",
       "2        131547\n",
       "3        131639\n",
       "4        131640\n",
       "..          ...\n",
       "211      256467\n",
       "212      264330\n",
       "213      264820\n",
       "214      264821\n",
       "215      268358\n",
       "\n",
       "[216 rows x 1 columns]"
      ]
     },
     "execution_count": 123,
     "metadata": {},
     "output_type": "execute_result"
    }
   ],
   "source": [
    "# Create a stations data set from all unique station IDs\n",
    "\n",
    "station_ids = sorted(\n",
    "    set(trips.start_station_id.tolist() + trips.end_station_id.tolist())\n",
    ")\n",
    "station_ids = pd.DataFrame(station_ids, columns=['station_id'])\n",
    "station_ids"
   ]
  },
  {
   "cell_type": "code",
   "execution_count": 124,
   "metadata": {},
   "outputs": [
    {
     "data": {
      "text/html": [
       "<div>\n",
       "<style scoped>\n",
       "    .dataframe tbody tr th:only-of-type {\n",
       "        vertical-align: middle;\n",
       "    }\n",
       "\n",
       "    .dataframe tbody tr th {\n",
       "        vertical-align: top;\n",
       "    }\n",
       "\n",
       "    .dataframe thead th {\n",
       "        text-align: right;\n",
       "    }\n",
       "</style>\n",
       "<table border=\"1\" class=\"dataframe\">\n",
       "  <thead>\n",
       "    <tr style=\"text-align: right;\">\n",
       "      <th></th>\n",
       "      <th>RENTAL_ZONE_HAL_ID</th>\n",
       "      <th>RENTAL_ZONE_HAL_SRC</th>\n",
       "      <th>NAME</th>\n",
       "      <th>CODE</th>\n",
       "      <th>TYPE</th>\n",
       "      <th>CITY</th>\n",
       "      <th>COUNTRY</th>\n",
       "      <th>LATITUDE</th>\n",
       "      <th>LONGITUDE</th>\n",
       "      <th>POI_AIRPORT_X</th>\n",
       "      <th>POI_LONG_DISTANCE_TRAINS_X</th>\n",
       "      <th>POI_SUBURBAN_TRAINS_X</th>\n",
       "      <th>POI_UNDERGROUND_X</th>\n",
       "      <th>ACTIVE_X</th>\n",
       "      <th>COMPANY</th>\n",
       "      <th>COMPANY_GROUP</th>\n",
       "    </tr>\n",
       "  </thead>\n",
       "  <tbody>\n",
       "    <tr>\n",
       "      <th>960</th>\n",
       "      <td>252500</td>\n",
       "      <td>Standort</td>\n",
       "      <td>Osdorfer Landstraße/ Elbe-Einkaufszentrum</td>\n",
       "      <td>2031.0</td>\n",
       "      <td>normal</td>\n",
       "      <td>Hamburg</td>\n",
       "      <td>Deutschland</td>\n",
       "      <td>9.862423</td>\n",
       "      <td>53.571629</td>\n",
       "      <td>Nein</td>\n",
       "      <td>Nein</td>\n",
       "      <td>Nein</td>\n",
       "      <td>Nein</td>\n",
       "      <td>Ja</td>\n",
       "      <td>StadtRAD Hamburg</td>\n",
       "      <td>Call a Bike</td>\n",
       "    </tr>\n",
       "    <tr>\n",
       "      <th>377</th>\n",
       "      <td>131883</td>\n",
       "      <td>Standort</td>\n",
       "      <td>Bahnhof Dammtor Nord // Theodor-Heuss-Platz</td>\n",
       "      <td>2211.0</td>\n",
       "      <td>normal</td>\n",
       "      <td>Hamburg</td>\n",
       "      <td>Deutschland</td>\n",
       "      <td>9.990430</td>\n",
       "      <td>53.561400</td>\n",
       "      <td>Nein</td>\n",
       "      <td>Nein</td>\n",
       "      <td>Nein</td>\n",
       "      <td>Nein</td>\n",
       "      <td>Ja</td>\n",
       "      <td>StadtRAD Hamburg</td>\n",
       "      <td>Call a Bike</td>\n",
       "    </tr>\n",
       "    <tr>\n",
       "      <th>783</th>\n",
       "      <td>242732</td>\n",
       "      <td>Standort</td>\n",
       "      <td>Gotthelfweg/Außenmühlenteich</td>\n",
       "      <td>2841.0</td>\n",
       "      <td>normal</td>\n",
       "      <td>Hamburg</td>\n",
       "      <td>Deutschland</td>\n",
       "      <td>9.980675</td>\n",
       "      <td>53.447625</td>\n",
       "      <td>Nein</td>\n",
       "      <td>Nein</td>\n",
       "      <td>Nein</td>\n",
       "      <td>Nein</td>\n",
       "      <td>Ja</td>\n",
       "      <td>StadtRAD Hamburg</td>\n",
       "      <td>Call a Bike</td>\n",
       "    </tr>\n",
       "    <tr>\n",
       "      <th>348</th>\n",
       "      <td>129477</td>\n",
       "      <td>Standort</td>\n",
       "      <td>Teststandort für interne Tests</td>\n",
       "      <td>54321.0</td>\n",
       "      <td>normal</td>\n",
       "      <td>Hamburg</td>\n",
       "      <td>Deutschland</td>\n",
       "      <td>NaN</td>\n",
       "      <td>NaN</td>\n",
       "      <td>Nein</td>\n",
       "      <td>Nein</td>\n",
       "      <td>Nein</td>\n",
       "      <td>Nein</td>\n",
       "      <td>Ja</td>\n",
       "      <td>StadtRAD Hamburg</td>\n",
       "      <td>Call a Bike</td>\n",
       "    </tr>\n",
       "    <tr>\n",
       "      <th>963</th>\n",
       "      <td>253227</td>\n",
       "      <td>Standort</td>\n",
       "      <td>Neuländer Kamp/Eurofins</td>\n",
       "      <td>2809.0</td>\n",
       "      <td>normal</td>\n",
       "      <td>Hamburg</td>\n",
       "      <td>Deutschland</td>\n",
       "      <td>10.004133</td>\n",
       "      <td>53.461651</td>\n",
       "      <td>Nein</td>\n",
       "      <td>Nein</td>\n",
       "      <td>Nein</td>\n",
       "      <td>Nein</td>\n",
       "      <td>Ja</td>\n",
       "      <td>StadtRAD Hamburg</td>\n",
       "      <td>Call a Bike</td>\n",
       "    </tr>\n",
       "  </tbody>\n",
       "</table>\n",
       "</div>"
      ],
      "text/plain": [
       "     RENTAL_ZONE_HAL_ID RENTAL_ZONE_HAL_SRC  \\\n",
       "960              252500            Standort   \n",
       "377              131883            Standort   \n",
       "783              242732            Standort   \n",
       "348              129477            Standort   \n",
       "963              253227            Standort   \n",
       "\n",
       "                                            NAME     CODE    TYPE     CITY  \\\n",
       "960    Osdorfer Landstraße/ Elbe-Einkaufszentrum   2031.0  normal  Hamburg   \n",
       "377  Bahnhof Dammtor Nord // Theodor-Heuss-Platz   2211.0  normal  Hamburg   \n",
       "783                 Gotthelfweg/Außenmühlenteich   2841.0  normal  Hamburg   \n",
       "348               Teststandort für interne Tests  54321.0  normal  Hamburg   \n",
       "963                     Neuländer Kamp/Eurofins    2809.0  normal  Hamburg   \n",
       "\n",
       "         COUNTRY   LATITUDE  LONGITUDE POI_AIRPORT_X  \\\n",
       "960  Deutschland   9.862423  53.571629          Nein   \n",
       "377  Deutschland   9.990430  53.561400          Nein   \n",
       "783  Deutschland   9.980675  53.447625          Nein   \n",
       "348  Deutschland        NaN        NaN          Nein   \n",
       "963  Deutschland  10.004133  53.461651          Nein   \n",
       "\n",
       "    POI_LONG_DISTANCE_TRAINS_X POI_SUBURBAN_TRAINS_X POI_UNDERGROUND_X  \\\n",
       "960                       Nein                  Nein              Nein   \n",
       "377                       Nein                  Nein              Nein   \n",
       "783                       Nein                  Nein              Nein   \n",
       "348                       Nein                  Nein              Nein   \n",
       "963                       Nein                  Nein              Nein   \n",
       "\n",
       "    ACTIVE_X           COMPANY COMPANY_GROUP  \n",
       "960       Ja  StadtRAD Hamburg   Call a Bike  \n",
       "377       Ja  StadtRAD Hamburg   Call a Bike  \n",
       "783       Ja  StadtRAD Hamburg   Call a Bike  \n",
       "348       Ja  StadtRAD Hamburg   Call a Bike  \n",
       "963       Ja  StadtRAD Hamburg   Call a Bike  "
      ]
     },
     "execution_count": 124,
     "metadata": {},
     "output_type": "execute_result"
    }
   ],
   "source": [
    "# Load DB data set about stations\n",
    "\n",
    "db_stations = pd.read_csv(\"../data/call_a_bike/OPENDATA_RENTAL_ZONE_CALL_A_BIKE.csv\", sep=\";\", decimal=\",\")\n",
    "db_stations = db_stations[db_stations.CITY == \"Hamburg\"]\n",
    "db_stations.sample(5)"
   ]
  },
  {
   "cell_type": "code",
   "execution_count": 125,
   "metadata": {
    "scrolled": false
   },
   "outputs": [
    {
     "data": {
      "text/html": [
       "<div>\n",
       "<style scoped>\n",
       "    .dataframe tbody tr th:only-of-type {\n",
       "        vertical-align: middle;\n",
       "    }\n",
       "\n",
       "    .dataframe tbody tr th {\n",
       "        vertical-align: top;\n",
       "    }\n",
       "\n",
       "    .dataframe thead th {\n",
       "        text-align: right;\n",
       "    }\n",
       "</style>\n",
       "<table border=\"1\" class=\"dataframe\">\n",
       "  <thead>\n",
       "    <tr style=\"text-align: right;\">\n",
       "      <th></th>\n",
       "      <th>station_id</th>\n",
       "      <th>name</th>\n",
       "      <th>longitude</th>\n",
       "      <th>latitude</th>\n",
       "    </tr>\n",
       "  </thead>\n",
       "  <tbody>\n",
       "    <tr>\n",
       "      <th>350</th>\n",
       "      <td>131543</td>\n",
       "      <td>Landungsbrücke/Hafentor</td>\n",
       "      <td>9.972300</td>\n",
       "      <td>53.545700</td>\n",
       "    </tr>\n",
       "    <tr>\n",
       "      <th>351</th>\n",
       "      <td>131546</td>\n",
       "      <td>Fischmarkt/Breite Straße</td>\n",
       "      <td>9.950880</td>\n",
       "      <td>53.546200</td>\n",
       "    </tr>\n",
       "    <tr>\n",
       "      <th>352</th>\n",
       "      <td>131547</td>\n",
       "      <td>Paulinenplatz/Wohlwillstraße</td>\n",
       "      <td>9.962460</td>\n",
       "      <td>53.554200</td>\n",
       "    </tr>\n",
       "    <tr>\n",
       "      <th>353</th>\n",
       "      <td>131639</td>\n",
       "      <td>Burgstraße/Hammer Landstraße</td>\n",
       "      <td>10.041298</td>\n",
       "      <td>53.555693</td>\n",
       "    </tr>\n",
       "    <tr>\n",
       "      <th>354</th>\n",
       "      <td>131640</td>\n",
       "      <td>Innocentiapark/Oberstraße</td>\n",
       "      <td>9.982110</td>\n",
       "      <td>53.577248</td>\n",
       "    </tr>\n",
       "    <tr>\n",
       "      <th>...</th>\n",
       "      <td>...</td>\n",
       "      <td>...</td>\n",
       "      <td>...</td>\n",
       "      <td>...</td>\n",
       "    </tr>\n",
       "    <tr>\n",
       "      <th>1023</th>\n",
       "      <td>256467</td>\n",
       "      <td>Röntgenstraße/Philips</td>\n",
       "      <td>10.012209</td>\n",
       "      <td>53.623481</td>\n",
       "    </tr>\n",
       "    <tr>\n",
       "      <th>1048</th>\n",
       "      <td>264330</td>\n",
       "      <td>Bleickenallee/Kinderkrankenhaus Altona</td>\n",
       "      <td>9.912913</td>\n",
       "      <td>53.551288</td>\n",
       "    </tr>\n",
       "    <tr>\n",
       "      <th>1050</th>\n",
       "      <td>264820</td>\n",
       "      <td>Osterstraße/Heußweg</td>\n",
       "      <td>9.952071</td>\n",
       "      <td>53.575983</td>\n",
       "    </tr>\n",
       "    <tr>\n",
       "      <th>1051</th>\n",
       "      <td>264821</td>\n",
       "      <td>Bahrenfelder Chaussee/Von-Sauer-Straße</td>\n",
       "      <td>9.910870</td>\n",
       "      <td>53.565973</td>\n",
       "    </tr>\n",
       "    <tr>\n",
       "      <th>1056</th>\n",
       "      <td>268358</td>\n",
       "      <td>Sieldeich/ Gresham Carat Hotel</td>\n",
       "      <td>10.021814</td>\n",
       "      <td>53.528309</td>\n",
       "    </tr>\n",
       "  </tbody>\n",
       "</table>\n",
       "<p>206 rows × 4 columns</p>\n",
       "</div>"
      ],
      "text/plain": [
       "      station_id                                    name  longitude   latitude\n",
       "350       131543                 Landungsbrücke/Hafentor   9.972300  53.545700\n",
       "351       131546                Fischmarkt/Breite Straße   9.950880  53.546200\n",
       "352       131547            Paulinenplatz/Wohlwillstraße   9.962460  53.554200\n",
       "353       131639            Burgstraße/Hammer Landstraße  10.041298  53.555693\n",
       "354       131640               Innocentiapark/Oberstraße   9.982110  53.577248\n",
       "...          ...                                     ...        ...        ...\n",
       "1023      256467                   Röntgenstraße/Philips  10.012209  53.623481\n",
       "1048      264330  Bleickenallee/Kinderkrankenhaus Altona   9.912913  53.551288\n",
       "1050      264820                     Osterstraße/Heußweg   9.952071  53.575983\n",
       "1051      264821  Bahrenfelder Chaussee/Von-Sauer-Straße   9.910870  53.565973\n",
       "1056      268358          Sieldeich/ Gresham Carat Hotel  10.021814  53.528309\n",
       "\n",
       "[206 rows x 4 columns]"
      ]
     },
     "execution_count": 125,
     "metadata": {},
     "output_type": "execute_result"
    }
   ],
   "source": [
    "# Select coordinates for stations from DB data\n",
    "\n",
    "coordinates = db_stations[[\"RENTAL_ZONE_HAL_ID\", \"NAME\", \"LATITUDE\", \"LONGITUDE\"]].copy()\n",
    "# coordinate descriptions are incorrectly labelled in the original data set\n",
    "coordinates.columns = [\"station_id\", \"name\", \"longitude\", \"latitude\"]\n",
    "coordinates.dropna(inplace=True)\n",
    "coordinates"
   ]
  },
  {
   "cell_type": "markdown",
   "metadata": {},
   "source": [
    "We can already see that the DB data set of stations does not seem to be complete. There are more unique IDs in the bike trip data set as in the stations data set (308 rows vs. 206 rows)."
   ]
  },
  {
   "cell_type": "code",
   "execution_count": 126,
   "metadata": {
    "scrolled": false
   },
   "outputs": [
    {
     "data": {
      "text/html": [
       "<div>\n",
       "<style scoped>\n",
       "    .dataframe tbody tr th:only-of-type {\n",
       "        vertical-align: middle;\n",
       "    }\n",
       "\n",
       "    .dataframe tbody tr th {\n",
       "        vertical-align: top;\n",
       "    }\n",
       "\n",
       "    .dataframe thead th {\n",
       "        text-align: right;\n",
       "    }\n",
       "</style>\n",
       "<table border=\"1\" class=\"dataframe\">\n",
       "  <thead>\n",
       "    <tr style=\"text-align: right;\">\n",
       "      <th></th>\n",
       "      <th>station_id</th>\n",
       "      <th>name</th>\n",
       "      <th>longitude</th>\n",
       "      <th>latitude</th>\n",
       "    </tr>\n",
       "  </thead>\n",
       "  <tbody>\n",
       "    <tr>\n",
       "      <th>0</th>\n",
       "      <td>131543</td>\n",
       "      <td>Landungsbrücke/Hafentor</td>\n",
       "      <td>9.972300</td>\n",
       "      <td>53.545700</td>\n",
       "    </tr>\n",
       "    <tr>\n",
       "      <th>1</th>\n",
       "      <td>131546</td>\n",
       "      <td>Fischmarkt/Breite Straße</td>\n",
       "      <td>9.950880</td>\n",
       "      <td>53.546200</td>\n",
       "    </tr>\n",
       "    <tr>\n",
       "      <th>2</th>\n",
       "      <td>131547</td>\n",
       "      <td>Paulinenplatz/Wohlwillstraße</td>\n",
       "      <td>9.962460</td>\n",
       "      <td>53.554200</td>\n",
       "    </tr>\n",
       "    <tr>\n",
       "      <th>3</th>\n",
       "      <td>131639</td>\n",
       "      <td>Burgstraße/Hammer Landstraße</td>\n",
       "      <td>10.041298</td>\n",
       "      <td>53.555693</td>\n",
       "    </tr>\n",
       "    <tr>\n",
       "      <th>4</th>\n",
       "      <td>131640</td>\n",
       "      <td>Innocentiapark/Oberstraße</td>\n",
       "      <td>9.982110</td>\n",
       "      <td>53.577248</td>\n",
       "    </tr>\n",
       "    <tr>\n",
       "      <th>...</th>\n",
       "      <td>...</td>\n",
       "      <td>...</td>\n",
       "      <td>...</td>\n",
       "      <td>...</td>\n",
       "    </tr>\n",
       "    <tr>\n",
       "      <th>211</th>\n",
       "      <td>256467</td>\n",
       "      <td>Röntgenstraße/Philips</td>\n",
       "      <td>10.012209</td>\n",
       "      <td>53.623481</td>\n",
       "    </tr>\n",
       "    <tr>\n",
       "      <th>212</th>\n",
       "      <td>264330</td>\n",
       "      <td>Bleickenallee/Kinderkrankenhaus Altona</td>\n",
       "      <td>9.912913</td>\n",
       "      <td>53.551288</td>\n",
       "    </tr>\n",
       "    <tr>\n",
       "      <th>213</th>\n",
       "      <td>264820</td>\n",
       "      <td>Osterstraße/Heußweg</td>\n",
       "      <td>9.952071</td>\n",
       "      <td>53.575983</td>\n",
       "    </tr>\n",
       "    <tr>\n",
       "      <th>214</th>\n",
       "      <td>264821</td>\n",
       "      <td>Bahrenfelder Chaussee/Von-Sauer-Straße</td>\n",
       "      <td>9.910870</td>\n",
       "      <td>53.565973</td>\n",
       "    </tr>\n",
       "    <tr>\n",
       "      <th>215</th>\n",
       "      <td>268358</td>\n",
       "      <td>Sieldeich/ Gresham Carat Hotel</td>\n",
       "      <td>10.021814</td>\n",
       "      <td>53.528309</td>\n",
       "    </tr>\n",
       "  </tbody>\n",
       "</table>\n",
       "<p>216 rows × 4 columns</p>\n",
       "</div>"
      ],
      "text/plain": [
       "     station_id                                    name  longitude   latitude\n",
       "0        131543                 Landungsbrücke/Hafentor   9.972300  53.545700\n",
       "1        131546                Fischmarkt/Breite Straße   9.950880  53.546200\n",
       "2        131547            Paulinenplatz/Wohlwillstraße   9.962460  53.554200\n",
       "3        131639            Burgstraße/Hammer Landstraße  10.041298  53.555693\n",
       "4        131640               Innocentiapark/Oberstraße   9.982110  53.577248\n",
       "..          ...                                     ...        ...        ...\n",
       "211      256467                   Röntgenstraße/Philips  10.012209  53.623481\n",
       "212      264330  Bleickenallee/Kinderkrankenhaus Altona   9.912913  53.551288\n",
       "213      264820                     Osterstraße/Heußweg   9.952071  53.575983\n",
       "214      264821  Bahrenfelder Chaussee/Von-Sauer-Straße   9.910870  53.565973\n",
       "215      268358          Sieldeich/ Gresham Carat Hotel  10.021814  53.528309\n",
       "\n",
       "[216 rows x 4 columns]"
      ]
     },
     "execution_count": 126,
     "metadata": {},
     "output_type": "execute_result"
    }
   ],
   "source": [
    "stations = pd.merge(station_ids, coordinates, how=\"left\", on=\"station_id\")\n",
    "stations"
   ]
  },
  {
   "cell_type": "code",
   "execution_count": 127,
   "metadata": {
    "scrolled": true
   },
   "outputs": [
    {
     "data": {
      "text/plain": [
       "array([138370, 194453, 194553, 194563, 225361, 238540, 238543, 241576,\n",
       "       242731, 246950])"
      ]
     },
     "execution_count": 127,
     "metadata": {},
     "output_type": "execute_result"
    }
   ],
   "source": [
    "missing_info_ids = stations[stations.name.isnull()].station_id.unique()\n",
    "missing_info_ids"
   ]
  },
  {
   "cell_type": "code",
   "execution_count": 128,
   "metadata": {},
   "outputs": [
    {
     "data": {
      "text/plain": [
       "['F PS 1763 / BSC Hamburg Mobil',\n",
       " 'Systemtechnik/Test Terminal',\n",
       " 'Grindelberg / Bezirksamt Eimsbüttel',\n",
       " 'BSC Testterminal Halle',\n",
       " 'Maretstraße/Baererstraße',\n",
       " 'BSCTerminal FFM 2.OG R 2.21',\n",
       " 'Rotec Schlösser BSC',\n",
       " 'Funkbox-BSC-HH',\n",
       " 'F PS 2423 / BSC Hamburg Mobil',\n",
       " 'F R  5156 / BSC Hamburg Mobil']"
      ]
     },
     "execution_count": 128,
     "metadata": {},
     "output_type": "execute_result"
    }
   ],
   "source": [
    "a = df[df.START_RENTAL_ZONE_HAL_ID.isin(missing_info_ids)].START_RENTAL_ZONE.unique()\n",
    "b = df[df.END_RENTAL_ZONE_HAL_ID.isin(missing_info_ids)].END_RENTAL_ZONE.unique()\n",
    "\n",
    "missing_locations = list(set(a)|set(b))\n",
    "missing_locations"
   ]
  },
  {
   "cell_type": "markdown",
   "metadata": {},
   "source": [
    "To match missing stations with coordinates, the information available at https://web.archive.org/web/20210313100715/https://suche.transparenz.hamburg.de/dataset/stadtrad-stationen-hamburg20 was considered. Only two stations are included: *Grindelberg / Bezirksamt Eimsbüttel* (ID 138370) and *Maretstraße/Baererstraße* (ID 242731). Coordinates for both stations can easily be added to the data set by hand.\n",
    "\n",
    "**Coordinates**\n",
    "* Grindelberg / Bezirksamt Eimsbüttel: [ 9.97782399971897, 53.57540799556665 ]\n",
    "* Maretstraße / Baererstraße: [ 9.982274994484669, 53.453703999218654 ]"
   ]
  },
  {
   "cell_type": "code",
   "execution_count": 129,
   "metadata": {},
   "outputs": [
    {
     "name": "stdout",
     "output_type": "stream",
     "text": [
      "[138370.]\n",
      "[138370.]\n",
      "[242731.]\n",
      "[242731.]\n"
     ]
    }
   ],
   "source": [
    "print(df[df.START_RENTAL_ZONE == \"Grindelberg / Bezirksamt Eimsbüttel\"].START_RENTAL_ZONE_HAL_ID.unique())\n",
    "print(df[df.END_RENTAL_ZONE == \"Grindelberg / Bezirksamt Eimsbüttel\"].END_RENTAL_ZONE_HAL_ID.unique())\n",
    "\n",
    "print(df[df.START_RENTAL_ZONE == \"Maretstraße/Baererstraße\"].START_RENTAL_ZONE_HAL_ID.unique())\n",
    "print(df[df.END_RENTAL_ZONE == \"Maretstraße/Baererstraße\"].END_RENTAL_ZONE_HAL_ID.unique())"
   ]
  },
  {
   "cell_type": "code",
   "execution_count": 130,
   "metadata": {},
   "outputs": [],
   "source": [
    "stations.loc[stations.station_id == 138370, \"name\"] = \"Grindelberg / Bezirksamt Eimsbüttel\"\n",
    "stations.loc[stations.station_id == 138370, \"longitude\"] = 9.977824\n",
    "stations.loc[stations.station_id == 138370, \"latitude\"] = 53.575408\n",
    "\n",
    "stations.loc[stations.station_id == 242731, \"name\"] = \"Maretstraße/Baererstraße\"\n",
    "stations.loc[stations.station_id == 242731, \"longitude\"] = 9.982275\n",
    "stations.loc[stations.station_id == 242731, \"latitude\"] = 53.453704\n",
    "\n",
    "# Drop the remaining station IDs with unknown location\n",
    "stations = stations.dropna()"
   ]
  },
  {
   "cell_type": "code",
   "execution_count": 131,
   "metadata": {},
   "outputs": [
    {
     "data": {
      "text/plain": [
       "['F PS 1763 / BSC Hamburg Mobil',\n",
       " 'Systemtechnik/Test Terminal',\n",
       " 'BSC Testterminal Halle',\n",
       " 'BSCTerminal FFM 2.OG R 2.21',\n",
       " 'Rotec Schlösser BSC',\n",
       " 'Funkbox-BSC-HH',\n",
       " 'F PS 2423 / BSC Hamburg Mobil',\n",
       " 'F R  5156 / BSC Hamburg Mobil']"
      ]
     },
     "execution_count": 131,
     "metadata": {},
     "output_type": "execute_result"
    }
   ],
   "source": [
    "# Remove the added locations from the set of missing locations\n",
    "\n",
    "missing_locations.remove(\"Grindelberg / Bezirksamt Eimsbüttel\")\n",
    "missing_locations.remove(\"Maretstraße/Baererstraße\")\n",
    "missing_locations"
   ]
  },
  {
   "cell_type": "code",
   "execution_count": 132,
   "metadata": {
    "scrolled": true
   },
   "outputs": [],
   "source": [
    "# Remove all trips where either the start or end station is still of unknown location\n",
    "\n",
    "nan_trips = trips[\n",
    "    (trips.start_station_name.isin(missing_locations)) |\n",
    "    (trips.end_station_name.isin(missing_locations))\n",
    "]\n",
    "trips.drop(nan_trips.index, inplace=True) "
   ]
  },
  {
   "cell_type": "code",
   "execution_count": 133,
   "metadata": {},
   "outputs": [
    {
     "name": "stdout",
     "output_type": "stream",
     "text": [
      "8923066 entries, diff: -18735\n"
     ]
    }
   ],
   "source": [
    "last_count = print_count_data()"
   ]
  },
  {
   "cell_type": "code",
   "execution_count": 134,
   "metadata": {},
   "outputs": [],
   "source": [
    "# Calculate duration in minutes (rounded up) for each trip\n",
    "\n",
    "def calculate_duration_in_min(date_from, date_until):\n",
    "    duration_in_seconds = pd.to_datetime(date_until) - pd.to_datetime(date_from)\n",
    "    return np.ceil(duration_in_seconds / pd.Timedelta(minutes=1))\n",
    "\n",
    "trips.loc[:, \"duration_in_min\"] = calculate_duration_in_min(trips[\"date_from\"], trips[\"date_until\"])\n",
    "trips[\"duration_in_min\"] = trips[\"duration_in_min\"].astype(int)"
   ]
  },
  {
   "cell_type": "code",
   "execution_count": 135,
   "metadata": {},
   "outputs": [],
   "source": [
    "# Remove trips shorter than 3 minutes starting and ending at the same station\n",
    "# These are probably trips that were not intentional or canceled due to issues with the bike\n",
    "\n",
    "mask = (trips.duration_in_min < 3) & (trips.start_station_id == trips.end_station_id)\n",
    "trips = trips.drop(trips[mask].index)"
   ]
  },
  {
   "cell_type": "code",
   "execution_count": 136,
   "metadata": {},
   "outputs": [
    {
     "name": "stdout",
     "output_type": "stream",
     "text": [
      "8476307 entries, diff: -446759\n"
     ]
    }
   ],
   "source": [
    "last_count = print_count_data()"
   ]
  },
  {
   "cell_type": "code",
   "execution_count": 137,
   "metadata": {
    "scrolled": false
   },
   "outputs": [
    {
     "name": "stdout",
     "output_type": "stream",
     "text": [
      "Duration for 75% of the trips: 22 minutes\n",
      "Duration for 85% of the trips: 28 minutes\n",
      "Duration for 90% of the trips: 33 minutes\n",
      "Duration for 93% of the trips: 39 minutes\n",
      "Duration for 95% of the trips: 49 minutes\n",
      "Duration for 99% of the trips: 208 minutes\n"
     ]
    },
    {
     "data": {
      "image/png": "[encoded data removed]",
      "text/plain": [
       "<Figure size 1152x576 with 6 Axes>"
      ]
     },
     "metadata": {},
     "output_type": "display_data"
    }
   ],
   "source": [
    "quantiles = [0.75, 0.85, 0.90, 0.93, 0.95, 0.99]\n",
    "\n",
    "fig, ax = plt.subplots(2, 3, figsize=(16,8))\n",
    "ax_index = 0\n",
    "\n",
    "for quantile in quantiles:\n",
    "    threshold = trips.duration_in_min.quantile(quantile)\n",
    "    print(\"Duration for {0}% of the trips: {1} minutes\".format(int(quantile*100), int(threshold)))\n",
    "    sns.set()\n",
    "    plot = sns.boxplot(ax=ax.flat[ax_index], x=\"duration_in_min\", data=trips[trips.duration_in_min <= threshold])\n",
    "    plot.set(xlabel=None)\n",
    "    ax.flat[ax_index].set_title(\"{}% of bicycle trips\".format(int(quantile*100), threshold))\n",
    "    ax_index = ax_index + 1\n",
    "\n",
    "plt.savefig(\"figures/duration_in_min_quantiles.png\", bbox_inches=\"tight\")\n",
    "plt.show()"
   ]
  },
  {
   "cell_type": "code",
   "execution_count": 138,
   "metadata": {},
   "outputs": [
    {
     "name": "stdout",
     "output_type": "stream",
     "text": [
      "Trip duration threshold: 33.0 minutes\n"
     ]
    }
   ],
   "source": [
    "# Remove outliers based on trip duration\n",
    "\n",
    "threshold = trips.duration_in_min.quantile(0.9)\n",
    "print('Trip duration threshold: %s minutes' % threshold)\n",
    "\n",
    "trips.drop(trips[trips.duration_in_min > threshold].index, inplace=True) "
   ]
  },
  {
   "cell_type": "code",
   "execution_count": 139,
   "metadata": {},
   "outputs": [
    {
     "name": "stdout",
     "output_type": "stream",
     "text": [
      "7669950 entries, diff: -806357\n"
     ]
    }
   ],
   "source": [
    "last_count = print_count_data()"
   ]
  },
  {
   "cell_type": "code",
   "execution_count": 140,
   "metadata": {
    "scrolled": true
   },
   "outputs": [],
   "source": [
    "# Calculate the distance between each pair of station and save it as a python dict for easier lookup\n",
    "\n",
    "def calculate_distance(id_x, id_y):\n",
    "    station_x = stations_by_id.loc[id_x]\n",
    "    station_y = stations_by_id.loc[id_y]\n",
    "    x = (station_x.latitude, station_x.longitude)\n",
    "    y = (station_y.latitude, station_y.longitude)\n",
    "    return geodesic(x, y).km\n",
    "\n",
    "if READ_STATION_DISTANCES_FROM_FILE:\n",
    "    distances = np.load(\"calculations/station_distances.npy\", allow_pickle=True).item()\n",
    "else:\n",
    "    stations_by_id = stations.set_index(\"station_id\")\n",
    "    ids = stations.station_id.to_numpy()\n",
    "    distances = {}\n",
    "\n",
    "    for station_x in ids:\n",
    "        distances[station_x] = {}\n",
    "        for station_y in ids:\n",
    "            distances[station_x][station_y] = calculate_distance(station_x, station_y)\n",
    "\n",
    "    np.save(\"calculations/station_distances.npy\", distances) "
   ]
  },
  {
   "cell_type": "code",
   "execution_count": 141,
   "metadata": {},
   "outputs": [],
   "source": [
    "# Assign distance in km to each trip\n",
    "\n",
    "trips[\"distance_in_km\"] = trips.apply(lambda x: distances[x.start_station_id][x.end_station_id], axis=1)"
   ]
  },
  {
   "cell_type": "code",
   "execution_count": 142,
   "metadata": {},
   "outputs": [],
   "source": [
    "# Calculate speed in km/h for every trip\n",
    "\n",
    "trips[\"speed_in_kmh\"] = trips.apply(lambda x: (x[\"distance_in_km\"] / (x[\"duration_in_min\"]/60)), axis=1)"
   ]
  },
  {
   "cell_type": "code",
   "execution_count": 144,
   "metadata": {},
   "outputs": [
    {
     "name": "stdout",
     "output_type": "stream",
     "text": [
      "Speed for 25% of the trips: 6.621667636969429 km/h\n",
      "Speed for 30% of the trips: 7.049490221410206 km/h\n",
      "Speed for 40% of the trips: 7.832045555266617 km/h\n",
      "Speed for 50% of the trips: 8.524389105333315 km/h\n",
      "Speed for 75% of the trips: 10.270404014739613 km/h\n",
      "Speed for 90% of the trips: 11.861364883913364 km/h\n"
     ]
    },
    {
     "data": {
      "image/png": "[encoded data removed]",
      "text/plain": [
       "<Figure size 1152x576 with 6 Axes>"
      ]
     },
     "metadata": {},
     "output_type": "display_data"
    }
   ],
   "source": [
    "quantiles = [0.25, 0.3, 0.4, 0.5, 0.75, 0.9]\n",
    "\n",
    "fig, ax = plt.subplots(2, 3, figsize=(16,8))\n",
    "ax_index = 0\n",
    "\n",
    "for quantile in quantiles:\n",
    "    threshold = trips.speed_in_kmh.quantile(quantile)\n",
    "    print(\"Speed for {0}% of the trips: {1} km/h\".format(int(quantile*100), threshold))\n",
    "    sns.set()\n",
    "    plot = sns.boxplot(ax=ax.flat[ax_index], x=\"speed_in_kmh\", data=trips[trips.speed_in_kmh <= threshold])\n",
    "    plot.set(xlabel=None)\n",
    "    ax.flat[ax_index].set_title(\"{}% of bicycle trips\".format(int(quantile*100), threshold))\n",
    "    ax_index = ax_index + 1\n",
    "\n",
    "#plt.savefig(\"figures/duration_in_min_quantiles.png\", bbox_inches=\"tight\")\n",
    "plt.show()"
   ]
  },
  {
   "cell_type": "code",
   "execution_count": 154,
   "metadata": {},
   "outputs": [
    {
     "data": {
      "text/plain": [
       "14.784522922984792"
      ]
     },
     "execution_count": 154,
     "metadata": {},
     "output_type": "execute_result"
    }
   ],
   "source": [
    "trips.speed_in_kmh.quantile(0.99)"
   ]
  },
  {
   "cell_type": "code",
   "execution_count": 157,
   "metadata": {},
   "outputs": [
    {
     "data": {
      "text/plain": [
       "count    7.669950e+06\n",
       "mean     8.271799e+00\n",
       "std      3.586595e+00\n",
       "min      0.000000e+00\n",
       "25%      6.621668e+00\n",
       "50%      8.524389e+00\n",
       "75%      1.027040e+01\n",
       "max      6.745652e+02\n",
       "Name: speed_in_kmh, dtype: float64"
      ]
     },
     "execution_count": 157,
     "metadata": {},
     "output_type": "execute_result"
    }
   ],
   "source": [
    "trips.speed_in_kmh.describe()"
   ]
  },
  {
   "cell_type": "code",
   "execution_count": 155,
   "metadata": {},
   "outputs": [
    {
     "data": {
      "text/plain": [
       "<AxesSubplot:>"
      ]
     },
     "execution_count": 155,
     "metadata": {},
     "output_type": "execute_result"
    },
    {
     "data": {
      "image/png": "[encoded data removed]",
      "text/plain": [
       "<Figure size 576x396 with 1 Axes>"
      ]
     },
     "metadata": {},
     "output_type": "display_data"
    }
   ],
   "source": [
    "ax = trips.speed_in_kmh.hist()\n",
    "ax.get_figure().savefig(\"figures/trips_speed_distribution_raw.png\", bbox_inches=\"tight\")\n",
    "ax"
   ]
  },
  {
   "cell_type": "code",
   "execution_count": 158,
   "metadata": {},
   "outputs": [
    {
     "data": {
      "text/plain": [
       "<AxesSubplot:>"
      ]
     },
     "execution_count": 158,
     "metadata": {},
     "output_type": "execute_result"
    },
    {
     "data": {
      "image/png": "[encoded data removed]",
      "text/plain": [
       "<Figure size 576x396 with 1 Axes>"
      ]
     },
     "metadata": {},
     "output_type": "display_data"
    }
   ],
   "source": [
    "speed_threshold = 15\n",
    "\n",
    "ax = trips[trips.speed_in_kmh <= speed_threshold].speed_in_kmh.hist()\n",
    "ax.get_figure().savefig(\"figures/trips_speed_distribution_adjusted.png\", bbox_inches=\"tight\")\n",
    "ax"
   ]
  },
  {
   "cell_type": "code",
   "execution_count": 159,
   "metadata": {},
   "outputs": [
    {
     "name": "stdout",
     "output_type": "stream",
     "text": [
      "Trip speed threshold: 15 km/h\n"
     ]
    }
   ],
   "source": [
    "# Remove outliers based on speed\n",
    "\n",
    "print('Trip speed threshold: %s km/h' % speed_threshold)\n",
    "\n",
    "trips.drop(trips[trips.speed_in_kmh > speed_threshold].index, inplace=True) "
   ]
  },
  {
   "cell_type": "code",
   "execution_count": 160,
   "metadata": {},
   "outputs": [
    {
     "name": "stdout",
     "output_type": "stream",
     "text": [
      "7605978 entries, diff: -63972\n"
     ]
    }
   ],
   "source": [
    "last_count = print_count_data()"
   ]
  },
  {
   "cell_type": "code",
   "execution_count": 161,
   "metadata": {},
   "outputs": [
    {
     "data": {
      "text/html": [
       "<div>\n",
       "<style scoped>\n",
       "    .dataframe tbody tr th:only-of-type {\n",
       "        vertical-align: middle;\n",
       "    }\n",
       "\n",
       "    .dataframe tbody tr th {\n",
       "        vertical-align: top;\n",
       "    }\n",
       "\n",
       "    .dataframe thead th {\n",
       "        text-align: right;\n",
       "    }\n",
       "</style>\n",
       "<table border=\"1\" class=\"dataframe\">\n",
       "  <thead>\n",
       "    <tr style=\"text-align: right;\">\n",
       "      <th></th>\n",
       "      <th>bike_id</th>\n",
       "      <th>user_id</th>\n",
       "      <th>date_from</th>\n",
       "      <th>date_until</th>\n",
       "      <th>start_station_name</th>\n",
       "      <th>start_station_id</th>\n",
       "      <th>end_station_name</th>\n",
       "      <th>end_station_id</th>\n",
       "      <th>booked_via</th>\n",
       "      <th>duration_in_min</th>\n",
       "      <th>distance_in_km</th>\n",
       "      <th>speed_in_kmh</th>\n",
       "    </tr>\n",
       "  </thead>\n",
       "  <tbody>\n",
       "    <tr>\n",
       "      <th>949099</th>\n",
       "      <td>120080</td>\n",
       "      <td>CCD8912CFD70FAAB713BF8E13B21AA0D69E12719</td>\n",
       "      <td>2014-04-28 17:14:48</td>\n",
       "      <td>2014-04-28 17:19:03</td>\n",
       "      <td>Alsterschwimmhalle/Ifflandstraße</td>\n",
       "      <td>198081</td>\n",
       "      <td>Lübecker Straße / Marienkrankenhaus</td>\n",
       "      <td>140803</td>\n",
       "      <td>Android SRH</td>\n",
       "      <td>5</td>\n",
       "      <td>0.437772</td>\n",
       "      <td>5.253264</td>\n",
       "    </tr>\n",
       "    <tr>\n",
       "      <th>9932010</th>\n",
       "      <td>108647</td>\n",
       "      <td>40D09D332590349B6A94247C06DAC15B3C9DAA5F</td>\n",
       "      <td>2016-04-13 15:28:36</td>\n",
       "      <td>2016-04-13 15:38:55</td>\n",
       "      <td>Süderfeldstraße/Universitätsklinikum Eppendorf</td>\n",
       "      <td>201328</td>\n",
       "      <td>Bebelallee/Meenkwiese</td>\n",
       "      <td>213855</td>\n",
       "      <td>Android SRH</td>\n",
       "      <td>11</td>\n",
       "      <td>1.507181</td>\n",
       "      <td>8.220989</td>\n",
       "    </tr>\n",
       "    <tr>\n",
       "      <th>5400357</th>\n",
       "      <td>120283</td>\n",
       "      <td>59985F95C98337577518831F4FE1A6F3BC9072CD</td>\n",
       "      <td>2015-05-10 14:02:44</td>\n",
       "      <td>2015-05-10 14:34:49</td>\n",
       "      <td>Martinistraße / Haupteingang Klinikum</td>\n",
       "      <td>140793</td>\n",
       "      <td>Hauptbahnhof West / Glockengießer Wall</td>\n",
       "      <td>131872</td>\n",
       "      <td>iPhone CAB</td>\n",
       "      <td>33</td>\n",
       "      <td>4.362853</td>\n",
       "      <td>7.932459</td>\n",
       "    </tr>\n",
       "    <tr>\n",
       "      <th>12554573</th>\n",
       "      <td>109810</td>\n",
       "      <td>2383D7BD311797FE2AB0DB55734574B9102E738C</td>\n",
       "      <td>2016-08-17 15:21:18</td>\n",
       "      <td>2016-08-17 15:44:31</td>\n",
       "      <td>Weidestraße /Johannes-Prassek-Park</td>\n",
       "      <td>247852</td>\n",
       "      <td>Universität / Schlüterstraße</td>\n",
       "      <td>131881</td>\n",
       "      <td>Android SRH</td>\n",
       "      <td>24</td>\n",
       "      <td>3.051696</td>\n",
       "      <td>7.629240</td>\n",
       "    </tr>\n",
       "  </tbody>\n",
       "</table>\n",
       "</div>"
      ],
      "text/plain": [
       "          bike_id                                   user_id  \\\n",
       "949099     120080  CCD8912CFD70FAAB713BF8E13B21AA0D69E12719   \n",
       "9932010    108647  40D09D332590349B6A94247C06DAC15B3C9DAA5F   \n",
       "5400357    120283  59985F95C98337577518831F4FE1A6F3BC9072CD   \n",
       "12554573   109810  2383D7BD311797FE2AB0DB55734574B9102E738C   \n",
       "\n",
       "                    date_from           date_until  \\\n",
       "949099    2014-04-28 17:14:48  2014-04-28 17:19:03   \n",
       "9932010   2016-04-13 15:28:36  2016-04-13 15:38:55   \n",
       "5400357   2015-05-10 14:02:44  2015-05-10 14:34:49   \n",
       "12554573  2016-08-17 15:21:18  2016-08-17 15:44:31   \n",
       "\n",
       "                                      start_station_name  start_station_id  \\\n",
       "949099                  Alsterschwimmhalle/Ifflandstraße            198081   \n",
       "9932010   Süderfeldstraße/Universitätsklinikum Eppendorf            201328   \n",
       "5400357            Martinistraße / Haupteingang Klinikum            140793   \n",
       "12554573              Weidestraße /Johannes-Prassek-Park            247852   \n",
       "\n",
       "                                end_station_name  end_station_id   booked_via  \\\n",
       "949099       Lübecker Straße / Marienkrankenhaus          140803  Android SRH   \n",
       "9932010                    Bebelallee/Meenkwiese          213855  Android SRH   \n",
       "5400357   Hauptbahnhof West / Glockengießer Wall          131872   iPhone CAB   \n",
       "12554573            Universität / Schlüterstraße          131881  Android SRH   \n",
       "\n",
       "          duration_in_min  distance_in_km  speed_in_kmh  \n",
       "949099                  5        0.437772      5.253264  \n",
       "9932010                11        1.507181      8.220989  \n",
       "5400357                33        4.362853      7.932459  \n",
       "12554573               24        3.051696      7.629240  "
      ]
     },
     "execution_count": 161,
     "metadata": {},
     "output_type": "execute_result"
    }
   ],
   "source": [
    "trips.sample(4)"
   ]
  },
  {
   "cell_type": "code",
   "execution_count": 163,
   "metadata": {},
   "outputs": [
    {
     "data": {
      "text/html": [
       "<div>\n",
       "<style scoped>\n",
       "    .dataframe tbody tr th:only-of-type {\n",
       "        vertical-align: middle;\n",
       "    }\n",
       "\n",
       "    .dataframe tbody tr th {\n",
       "        vertical-align: top;\n",
       "    }\n",
       "\n",
       "    .dataframe thead th {\n",
       "        text-align: right;\n",
       "    }\n",
       "</style>\n",
       "<table border=\"1\" class=\"dataframe\">\n",
       "  <thead>\n",
       "    <tr style=\"text-align: right;\">\n",
       "      <th></th>\n",
       "      <th>station_id</th>\n",
       "      <th>name</th>\n",
       "      <th>longitude</th>\n",
       "      <th>latitude</th>\n",
       "    </tr>\n",
       "  </thead>\n",
       "  <tbody>\n",
       "    <tr>\n",
       "      <th>37</th>\n",
       "      <td>137995</td>\n",
       "      <td>Hallerstraße / Rohtenbaumchaussee</td>\n",
       "      <td>9.988801</td>\n",
       "      <td>53.572081</td>\n",
       "    </tr>\n",
       "    <tr>\n",
       "      <th>24</th>\n",
       "      <td>131880</td>\n",
       "      <td>Mönckebergstraße / Rosenstraße</td>\n",
       "      <td>9.997140</td>\n",
       "      <td>53.550722</td>\n",
       "    </tr>\n",
       "    <tr>\n",
       "      <th>87</th>\n",
       "      <td>203890</td>\n",
       "      <td>Saarlandstraße/Wiesendamm</td>\n",
       "      <td>10.032680</td>\n",
       "      <td>53.588735</td>\n",
       "    </tr>\n",
       "    <tr>\n",
       "      <th>71</th>\n",
       "      <td>193238</td>\n",
       "      <td>Am Kaiserkai/Großer Grasbrook</td>\n",
       "      <td>9.992856</td>\n",
       "      <td>53.541838</td>\n",
       "    </tr>\n",
       "  </tbody>\n",
       "</table>\n",
       "</div>"
      ],
      "text/plain": [
       "    station_id                               name  longitude   latitude\n",
       "37      137995  Hallerstraße / Rohtenbaumchaussee   9.988801  53.572081\n",
       "24      131880     Mönckebergstraße / Rosenstraße   9.997140  53.550722\n",
       "87      203890          Saarlandstraße/Wiesendamm  10.032680  53.588735\n",
       "71      193238      Am Kaiserkai/Großer Grasbrook   9.992856  53.541838"
      ]
     },
     "execution_count": 163,
     "metadata": {},
     "output_type": "execute_result"
    }
   ],
   "source": [
    "stations.sample(4)"
   ]
  },
  {
   "cell_type": "code",
   "execution_count": 164,
   "metadata": {},
   "outputs": [],
   "source": [
    "# Save prepared datasets\n",
    "\n",
    "stations.to_csv('../data/clean/stations.csv', index=False)\n",
    "trips.to_csv('../data/clean/trips.csv', index=False)"
   ]
  },
  {
   "cell_type": "code",
   "execution_count": null,
   "metadata": {},
   "outputs": [],
   "source": []
  }
 ],
 "metadata": {
  "kernelspec": {
   "display_name": "Python 3",
   "language": "python",
   "name": "python3"
  },
  "language_info": {
   "codemirror_mode": {
    "name": "ipython",
    "version": 3
   },
   "file_extension": ".py",
   "mimetype": "text/x-python",
   "name": "python",
   "nbconvert_exporter": "python",
   "pygments_lexer": "ipython3",
   "version": "3.8.5"
  }
 },
 "nbformat": 4,
 "nbformat_minor": 4
}
