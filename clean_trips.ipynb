{
 "cells": [
  {
   "cell_type": "code",
   "execution_count": 49,
   "metadata": {},
   "outputs": [
    {
     "name": "stdout",
     "output_type": "stream",
     "text": [
      "Pandas Version: 1.2.0\n",
      "Numpy Version: 1.18.5\n",
      "Seaborn Version: 0.11.1\n"
     ]
    }
   ],
   "source": [
    "import pandas as pd\n",
    "import numpy as np\n",
    "import seaborn as sns\n",
    "\n",
    "from pandas_profiling import ProfileReport\n",
    "from geopy.distance import geodesic\n",
    "from scipy import stats\n",
    "from matplotlib import pyplot as plt\n",
    "%matplotlib inline\n",
    "\n",
    "print(\"Pandas Version: \" + pd.__version__)\n",
    "print(\"Numpy Version: \" + np.__version__)\n",
    "print(\"Seaborn Version: \" + sns.__version__)"
   ]
  },
  {
   "cell_type": "code",
   "execution_count": 50,
   "metadata": {},
   "outputs": [],
   "source": [
    "# Switch between recalculating or reading from file to save time\n",
    "\n",
    "READ_STATION_DISTANCES_FROM_FILE = True"
   ]
  },
  {
   "cell_type": "code",
   "execution_count": 51,
   "metadata": {},
   "outputs": [],
   "source": [
    "df = pd.read_csv(\"../data/call_a_bike/OPENDATA_BOOKING_CALL_A_BIKE.csv\", sep=\";\")"
   ]
  },
  {
   "cell_type": "code",
   "execution_count": 52,
   "metadata": {},
   "outputs": [
    {
     "name": "stdout",
     "output_type": "stream",
     "text": [
      "<class 'pandas.core.frame.DataFrame'>\n",
      "RangeIndex: 16228298 entries, 0 to 16228297\n",
      "Data columns (total 17 columns):\n",
      " #   Column                     Dtype  \n",
      "---  ------                     -----  \n",
      " 0   BOOKING_HAL_ID             int64  \n",
      " 1   CATEGORY_HAL_ID            int64  \n",
      " 2   VEHICLE_HAL_ID             int64  \n",
      " 3   CUSTOMER_HAL_ID            object \n",
      " 4   DATE_BOOKING               object \n",
      " 5   DATE_FROM                  object \n",
      " 6   DATE_UNTIL                 object \n",
      " 7   COMPUTE_EXTRA_BOOKING_FEE  object \n",
      " 8   TRAVERSE_USE               object \n",
      " 9   DISTANCE                   float64\n",
      " 10  START_RENTAL_ZONE          object \n",
      " 11  START_RENTAL_ZONE_HAL_ID   float64\n",
      " 12  END_RENTAL_ZONE            object \n",
      " 13  END_RENTAL_ZONE_HAL_ID     float64\n",
      " 14  RENTAL_ZONE_HAL_SRC        object \n",
      " 15  CITY_RENTAL_ZONE           object \n",
      " 16  TECHNICAL_INCOME_CHANNEL   object \n",
      "dtypes: float64(3), int64(3), object(11)\n",
      "memory usage: 2.1+ GB\n"
     ]
    }
   ],
   "source": [
    "df.info()"
   ]
  },
  {
   "cell_type": "code",
   "execution_count": 53,
   "metadata": {},
   "outputs": [
    {
     "data": {
      "text/html": [
       "<div>\n",
       "<style scoped>\n",
       "    .dataframe tbody tr th:only-of-type {\n",
       "        vertical-align: middle;\n",
       "    }\n",
       "\n",
       "    .dataframe tbody tr th {\n",
       "        vertical-align: top;\n",
       "    }\n",
       "\n",
       "    .dataframe thead th {\n",
       "        text-align: right;\n",
       "    }\n",
       "</style>\n",
       "<table border=\"1\" class=\"dataframe\">\n",
       "  <thead>\n",
       "    <tr style=\"text-align: right;\">\n",
       "      <th></th>\n",
       "      <th>BOOKING_HAL_ID</th>\n",
       "      <th>CATEGORY_HAL_ID</th>\n",
       "      <th>VEHICLE_HAL_ID</th>\n",
       "      <th>CUSTOMER_HAL_ID</th>\n",
       "      <th>DATE_BOOKING</th>\n",
       "      <th>DATE_FROM</th>\n",
       "      <th>DATE_UNTIL</th>\n",
       "      <th>COMPUTE_EXTRA_BOOKING_FEE</th>\n",
       "      <th>TRAVERSE_USE</th>\n",
       "      <th>DISTANCE</th>\n",
       "      <th>START_RENTAL_ZONE</th>\n",
       "      <th>START_RENTAL_ZONE_HAL_ID</th>\n",
       "      <th>END_RENTAL_ZONE</th>\n",
       "      <th>END_RENTAL_ZONE_HAL_ID</th>\n",
       "      <th>RENTAL_ZONE_HAL_SRC</th>\n",
       "      <th>CITY_RENTAL_ZONE</th>\n",
       "      <th>TECHNICAL_INCOME_CHANNEL</th>\n",
       "    </tr>\n",
       "  </thead>\n",
       "  <tbody>\n",
       "    <tr>\n",
       "      <th>0</th>\n",
       "      <td>21366843</td>\n",
       "      <td>51000</td>\n",
       "      <td>143517</td>\n",
       "      <td>A821059B555C7764A2FF801180874A2FCB326222</td>\n",
       "      <td>2014-01-01 00:34:54</td>\n",
       "      <td>2014-01-01 00:34:54</td>\n",
       "      <td>2014-01-01 00:50:14</td>\n",
       "      <td>Nein</td>\n",
       "      <td>Nein</td>\n",
       "      <td>0.0</td>\n",
       "      <td>U-Bahn Baumwall</td>\n",
       "      <td>214170.0</td>\n",
       "      <td>Mönckebergstraße / Rosenstraße</td>\n",
       "      <td>131880.0</td>\n",
       "      <td>Standort</td>\n",
       "      <td>Hamburg</td>\n",
       "      <td>iPhone SRH</td>\n",
       "    </tr>\n",
       "    <tr>\n",
       "      <th>1</th>\n",
       "      <td>21367069</td>\n",
       "      <td>51000</td>\n",
       "      <td>119830</td>\n",
       "      <td>1EBC930DB407ACEAE2FDE23A6CA40492EA3DFBB2</td>\n",
       "      <td>2014-01-01 01:39:55</td>\n",
       "      <td>2014-01-01 01:39:55</td>\n",
       "      <td>2014-01-01 01:57:27</td>\n",
       "      <td>Nein</td>\n",
       "      <td>Nein</td>\n",
       "      <td>0.0</td>\n",
       "      <td>Bahnhof Altona Ost/Max-Brauer-Allee</td>\n",
       "      <td>131646.0</td>\n",
       "      <td>Schulterblatt/Eifflerstraße</td>\n",
       "      <td>131648.0</td>\n",
       "      <td>Standort</td>\n",
       "      <td>Hamburg</td>\n",
       "      <td>Android SRH</td>\n",
       "    </tr>\n",
       "    <tr>\n",
       "      <th>2</th>\n",
       "      <td>21367072</td>\n",
       "      <td>51000</td>\n",
       "      <td>143501</td>\n",
       "      <td>7AD2C1B70137479062A6DD73815835986677BB2D</td>\n",
       "      <td>2014-01-01 01:40:20</td>\n",
       "      <td>2014-01-01 01:40:20</td>\n",
       "      <td>2014-01-01 01:53:09</td>\n",
       "      <td>Nein</td>\n",
       "      <td>Nein</td>\n",
       "      <td>0.0</td>\n",
       "      <td>Weidestraße/Biedermannplatz</td>\n",
       "      <td>211922.0</td>\n",
       "      <td>Jarrestraße / Rambatzweg</td>\n",
       "      <td>138376.0</td>\n",
       "      <td>Standort</td>\n",
       "      <td>Hamburg</td>\n",
       "      <td>Techniker HH_119 (-2334-)</td>\n",
       "    </tr>\n",
       "  </tbody>\n",
       "</table>\n",
       "</div>"
      ],
      "text/plain": [
       "   BOOKING_HAL_ID  CATEGORY_HAL_ID  VEHICLE_HAL_ID  \\\n",
       "0        21366843            51000          143517   \n",
       "1        21367069            51000          119830   \n",
       "2        21367072            51000          143501   \n",
       "\n",
       "                            CUSTOMER_HAL_ID         DATE_BOOKING  \\\n",
       "0  A821059B555C7764A2FF801180874A2FCB326222  2014-01-01 00:34:54   \n",
       "1  1EBC930DB407ACEAE2FDE23A6CA40492EA3DFBB2  2014-01-01 01:39:55   \n",
       "2  7AD2C1B70137479062A6DD73815835986677BB2D  2014-01-01 01:40:20   \n",
       "\n",
       "             DATE_FROM           DATE_UNTIL COMPUTE_EXTRA_BOOKING_FEE  \\\n",
       "0  2014-01-01 00:34:54  2014-01-01 00:50:14                      Nein   \n",
       "1  2014-01-01 01:39:55  2014-01-01 01:57:27                      Nein   \n",
       "2  2014-01-01 01:40:20  2014-01-01 01:53:09                      Nein   \n",
       "\n",
       "  TRAVERSE_USE  DISTANCE                    START_RENTAL_ZONE  \\\n",
       "0         Nein       0.0                      U-Bahn Baumwall   \n",
       "1         Nein       0.0  Bahnhof Altona Ost/Max-Brauer-Allee   \n",
       "2         Nein       0.0          Weidestraße/Biedermannplatz   \n",
       "\n",
       "   START_RENTAL_ZONE_HAL_ID                 END_RENTAL_ZONE  \\\n",
       "0                  214170.0  Mönckebergstraße / Rosenstraße   \n",
       "1                  131646.0     Schulterblatt/Eifflerstraße   \n",
       "2                  211922.0        Jarrestraße / Rambatzweg   \n",
       "\n",
       "   END_RENTAL_ZONE_HAL_ID RENTAL_ZONE_HAL_SRC CITY_RENTAL_ZONE  \\\n",
       "0                131880.0            Standort          Hamburg   \n",
       "1                131648.0            Standort          Hamburg   \n",
       "2                138376.0            Standort          Hamburg   \n",
       "\n",
       "    TECHNICAL_INCOME_CHANNEL  \n",
       "0                 iPhone SRH  \n",
       "1                Android SRH  \n",
       "2  Techniker HH_119 (-2334-)  "
      ]
     },
     "execution_count": 53,
     "metadata": {},
     "output_type": "execute_result"
    }
   ],
   "source": [
    "df.head(3)"
   ]
  },
  {
   "cell_type": "code",
   "execution_count": 54,
   "metadata": {},
   "outputs": [
    {
     "data": {
      "text/html": [
       "<div>\n",
       "<style scoped>\n",
       "    .dataframe tbody tr th:only-of-type {\n",
       "        vertical-align: middle;\n",
       "    }\n",
       "\n",
       "    .dataframe tbody tr th {\n",
       "        vertical-align: top;\n",
       "    }\n",
       "\n",
       "    .dataframe thead th {\n",
       "        text-align: right;\n",
       "    }\n",
       "</style>\n",
       "<table border=\"1\" class=\"dataframe\">\n",
       "  <thead>\n",
       "    <tr style=\"text-align: right;\">\n",
       "      <th></th>\n",
       "      <th>BOOKING_HAL_ID</th>\n",
       "      <th>CATEGORY_HAL_ID</th>\n",
       "      <th>VEHICLE_HAL_ID</th>\n",
       "      <th>CUSTOMER_HAL_ID</th>\n",
       "      <th>DATE_BOOKING</th>\n",
       "      <th>DATE_FROM</th>\n",
       "      <th>DATE_UNTIL</th>\n",
       "      <th>COMPUTE_EXTRA_BOOKING_FEE</th>\n",
       "      <th>TRAVERSE_USE</th>\n",
       "      <th>DISTANCE</th>\n",
       "      <th>START_RENTAL_ZONE</th>\n",
       "      <th>START_RENTAL_ZONE_HAL_ID</th>\n",
       "      <th>END_RENTAL_ZONE</th>\n",
       "      <th>END_RENTAL_ZONE_HAL_ID</th>\n",
       "      <th>RENTAL_ZONE_HAL_SRC</th>\n",
       "      <th>CITY_RENTAL_ZONE</th>\n",
       "      <th>TECHNICAL_INCOME_CHANNEL</th>\n",
       "    </tr>\n",
       "  </thead>\n",
       "  <tbody>\n",
       "    <tr>\n",
       "      <th>16228295</th>\n",
       "      <td>46385839</td>\n",
       "      <td>51000</td>\n",
       "      <td>120488</td>\n",
       "      <td>CC6405146B51242A9169AB55E88A5C472EA1B2AA</td>\n",
       "      <td>2017-05-16 07:40:17</td>\n",
       "      <td>2017-05-16 07:40:17</td>\n",
       "      <td>2017-05-16 07:50:07</td>\n",
       "      <td>Ja</td>\n",
       "      <td>Nein</td>\n",
       "      <td>0.0</td>\n",
       "      <td>Weidestraße/Biedermannplatz</td>\n",
       "      <td>211922.0</td>\n",
       "      <td>Mundsburg / Schürbeker Straße</td>\n",
       "      <td>140799.0</td>\n",
       "      <td>Standort</td>\n",
       "      <td>Hamburg</td>\n",
       "      <td>Techniker HH_119 (-2334-)</td>\n",
       "    </tr>\n",
       "    <tr>\n",
       "      <th>16228296</th>\n",
       "      <td>46386510</td>\n",
       "      <td>50000</td>\n",
       "      <td>116623</td>\n",
       "      <td>AE105561D195C422985C2B3BB1A790C187DA3A70</td>\n",
       "      <td>2017-05-16 08:02:12</td>\n",
       "      <td>2017-05-16 08:02:12</td>\n",
       "      <td>2017-05-23 08:02:12</td>\n",
       "      <td>Ja</td>\n",
       "      <td>Nein</td>\n",
       "      <td>NaN</td>\n",
       "      <td>NaN</td>\n",
       "      <td>NaN</td>\n",
       "      <td>NaN</td>\n",
       "      <td>NaN</td>\n",
       "      <td>NaN</td>\n",
       "      <td>Darmstadt</td>\n",
       "      <td>iPhone CAB</td>\n",
       "    </tr>\n",
       "    <tr>\n",
       "      <th>16228297</th>\n",
       "      <td>46386791</td>\n",
       "      <td>50000</td>\n",
       "      <td>110529</td>\n",
       "      <td>DBB967CDDB3C6D5F0C7CC7A2FF2E8CC89B5ECE6E</td>\n",
       "      <td>2017-05-16 08:11:13</td>\n",
       "      <td>2017-05-16 08:11:13</td>\n",
       "      <td>2017-05-23 08:11:13</td>\n",
       "      <td>Ja</td>\n",
       "      <td>Nein</td>\n",
       "      <td>NaN</td>\n",
       "      <td>NaN</td>\n",
       "      <td>NaN</td>\n",
       "      <td>NaN</td>\n",
       "      <td>NaN</td>\n",
       "      <td>NaN</td>\n",
       "      <td>Darmstadt</td>\n",
       "      <td>iPhone CAB</td>\n",
       "    </tr>\n",
       "  </tbody>\n",
       "</table>\n",
       "</div>"
      ],
      "text/plain": [
       "          BOOKING_HAL_ID  CATEGORY_HAL_ID  VEHICLE_HAL_ID  \\\n",
       "16228295        46385839            51000          120488   \n",
       "16228296        46386510            50000          116623   \n",
       "16228297        46386791            50000          110529   \n",
       "\n",
       "                                   CUSTOMER_HAL_ID         DATE_BOOKING  \\\n",
       "16228295  CC6405146B51242A9169AB55E88A5C472EA1B2AA  2017-05-16 07:40:17   \n",
       "16228296  AE105561D195C422985C2B3BB1A790C187DA3A70  2017-05-16 08:02:12   \n",
       "16228297  DBB967CDDB3C6D5F0C7CC7A2FF2E8CC89B5ECE6E  2017-05-16 08:11:13   \n",
       "\n",
       "                    DATE_FROM           DATE_UNTIL COMPUTE_EXTRA_BOOKING_FEE  \\\n",
       "16228295  2017-05-16 07:40:17  2017-05-16 07:50:07                        Ja   \n",
       "16228296  2017-05-16 08:02:12  2017-05-23 08:02:12                        Ja   \n",
       "16228297  2017-05-16 08:11:13  2017-05-23 08:11:13                        Ja   \n",
       "\n",
       "         TRAVERSE_USE  DISTANCE            START_RENTAL_ZONE  \\\n",
       "16228295         Nein       0.0  Weidestraße/Biedermannplatz   \n",
       "16228296         Nein       NaN                          NaN   \n",
       "16228297         Nein       NaN                          NaN   \n",
       "\n",
       "          START_RENTAL_ZONE_HAL_ID                END_RENTAL_ZONE  \\\n",
       "16228295                  211922.0  Mundsburg / Schürbeker Straße   \n",
       "16228296                       NaN                            NaN   \n",
       "16228297                       NaN                            NaN   \n",
       "\n",
       "          END_RENTAL_ZONE_HAL_ID RENTAL_ZONE_HAL_SRC CITY_RENTAL_ZONE  \\\n",
       "16228295                140799.0            Standort          Hamburg   \n",
       "16228296                     NaN                 NaN        Darmstadt   \n",
       "16228297                     NaN                 NaN        Darmstadt   \n",
       "\n",
       "           TECHNICAL_INCOME_CHANNEL  \n",
       "16228295  Techniker HH_119 (-2334-)  \n",
       "16228296                 iPhone CAB  \n",
       "16228297                 iPhone CAB  "
      ]
     },
     "execution_count": 54,
     "metadata": {},
     "output_type": "execute_result"
    }
   ],
   "source": [
    "df.tail(3)"
   ]
  },
  {
   "cell_type": "code",
   "execution_count": 55,
   "metadata": {},
   "outputs": [],
   "source": [
    "# Select trips made in Hamburg\n",
    "\n",
    "trips = df[df.CITY_RENTAL_ZONE == \"Hamburg\"]"
   ]
  },
  {
   "cell_type": "code",
   "execution_count": 56,
   "metadata": {},
   "outputs": [],
   "source": [
    "last_count = trips.shape[0]\n",
    "\n",
    "def print_count_data():\n",
    "    current_count = trips.shape[0]\n",
    "    diff = current_count - last_count\n",
    "    print('% s entries, diff: % s'%(current_count, diff)) \n",
    "    return current_count"
   ]
  },
  {
   "cell_type": "code",
   "execution_count": 57,
   "metadata": {},
   "outputs": [
    {
     "name": "stdout",
     "output_type": "stream",
     "text": [
      "8942261 entries, diff: 0\n"
     ]
    }
   ],
   "source": [
    "last_count = print_count_data()"
   ]
  },
  {
   "cell_type": "code",
   "execution_count": 58,
   "metadata": {},
   "outputs": [],
   "source": [
    "# Select and rename usable columns\n",
    "\n",
    "trips = trips[[\n",
    "    \"VEHICLE_HAL_ID\",\n",
    "    \"CUSTOMER_HAL_ID\",\n",
    "    \"DATE_FROM\",\n",
    "    \"DATE_UNTIL\",\n",
    "    \"START_RENTAL_ZONE\",\n",
    "    \"START_RENTAL_ZONE_HAL_ID\",\n",
    "    \"END_RENTAL_ZONE\",\n",
    "    \"END_RENTAL_ZONE_HAL_ID\",\n",
    "    \"TECHNICAL_INCOME_CHANNEL\",\n",
    "]].copy()\n",
    "trips.columns = [\n",
    "    \"bike_id\",\n",
    "    \"user_id\",\n",
    "    \"date_from\",\n",
    "    \"date_until\",\n",
    "    \"start_station_name\", \n",
    "    \"start_station_id\",\n",
    "    \"end_station_name\",\n",
    "    \"end_station_id\",\n",
    "    \"booked_via\"\n",
    "]"
   ]
  },
  {
   "cell_type": "code",
   "execution_count": 59,
   "metadata": {},
   "outputs": [
    {
     "data": {
      "text/plain": [
       "bike_id                    0\n",
       "user_id                    0\n",
       "date_from                  0\n",
       "date_until                 0\n",
       "start_station_name       429\n",
       "start_station_id         246\n",
       "end_station_name         255\n",
       "end_station_id           250\n",
       "booked_via            120066\n",
       "dtype: int64"
      ]
     },
     "execution_count": 59,
     "metadata": {},
     "output_type": "execute_result"
    }
   ],
   "source": [
    "trips.isna().sum()"
   ]
  },
  {
   "cell_type": "code",
   "execution_count": 60,
   "metadata": {},
   "outputs": [],
   "source": [
    "# Fill unknown 'booked_via' with 'Unknown' because there are a lot (120,066)\n",
    "# Drop other NaN rows since the amount is negligible\n",
    "\n",
    "trips = trips.fillna({'booked_via': 'Unknown'})\n",
    "trips = trips.dropna()"
   ]
  },
  {
   "cell_type": "code",
   "execution_count": 61,
   "metadata": {},
   "outputs": [
    {
     "name": "stdout",
     "output_type": "stream",
     "text": [
      "8941801 entries, diff: -460\n"
     ]
    }
   ],
   "source": [
    "last_count = print_count_data()"
   ]
  },
  {
   "cell_type": "code",
   "execution_count": 62,
   "metadata": {},
   "outputs": [],
   "source": [
    "# Convert float IDs to integer values\n",
    "\n",
    "trips[\"start_station_id\"] = trips[\"start_station_id\"].astype(int)\n",
    "trips[\"end_station_id\"] = trips[\"end_station_id\"].astype(int)"
   ]
  },
  {
   "cell_type": "code",
   "execution_count": 63,
   "metadata": {
    "scrolled": true
   },
   "outputs": [
    {
     "name": "stdout",
     "output_type": "stream",
     "text": [
      "Number of trips with a user ID that booked via Techniker before: 4104569\n",
      "Number of trips with a user ID that did not book via Techniker before: 4108149\n"
     ]
    }
   ],
   "source": [
    "# Examining 'booked_via' that start with 'Techniker'\n",
    "\n",
    "techniker = trips[trips[\"booked_via\"].str.contains(\"Techniker\")]\n",
    "non_techniker = pd.concat([trips, techniker]).drop_duplicates(keep=False)\n",
    "\n",
    "tmp = non_techniker.loc[non_techniker.user_id.isin(techniker.user_id.unique())]\n",
    "print('Number of trips with a user ID that booked via Techniker before: %s' % len(tmp.index))\n",
    "tmp = non_techniker.loc[~non_techniker.user_id.isin(techniker.user_id.unique())]\n",
    "print('Number of trips with a user ID that did not book via Techniker before: %s' % len(tmp.index))\n",
    "\n",
    "# Assuming 'Techniker' means maintenance personnel is probably faulty.\n",
    "# Around 50% of the user IDs are contained in the non_techniker trip data set."
   ]
  },
  {
   "cell_type": "code",
   "execution_count": 64,
   "metadata": {
    "scrolled": true
   },
   "outputs": [
    {
     "data": {
      "text/html": [
       "<div>\n",
       "<style scoped>\n",
       "    .dataframe tbody tr th:only-of-type {\n",
       "        vertical-align: middle;\n",
       "    }\n",
       "\n",
       "    .dataframe tbody tr th {\n",
       "        vertical-align: top;\n",
       "    }\n",
       "\n",
       "    .dataframe thead th {\n",
       "        text-align: right;\n",
       "    }\n",
       "</style>\n",
       "<table border=\"1\" class=\"dataframe\">\n",
       "  <thead>\n",
       "    <tr style=\"text-align: right;\">\n",
       "      <th></th>\n",
       "      <th>bike_id</th>\n",
       "      <th>user_id</th>\n",
       "      <th>date_from</th>\n",
       "      <th>date_until</th>\n",
       "      <th>start_station_name</th>\n",
       "      <th>start_station_id</th>\n",
       "      <th>end_station_name</th>\n",
       "      <th>end_station_id</th>\n",
       "      <th>booked_via</th>\n",
       "    </tr>\n",
       "  </thead>\n",
       "  <tbody>\n",
       "    <tr>\n",
       "      <th>3021648</th>\n",
       "      <td>119608</td>\n",
       "      <td>F71AE2C096891A9906643EFA8A2762B321B6B3D6</td>\n",
       "      <td>2014-09-05 17:08:58</td>\n",
       "      <td>2014-09-05 17:38:14</td>\n",
       "      <td>Hauptbahnhof Ost / Hachmannplatz</td>\n",
       "      <td>131873</td>\n",
       "      <td>Sternschanze / Eingang Dänenweg</td>\n",
       "      <td>139501</td>\n",
       "      <td>Terminal HH_34 (-2541-)</td>\n",
       "    </tr>\n",
       "    <tr>\n",
       "      <th>13811525</th>\n",
       "      <td>117530</td>\n",
       "      <td>391E2FCB6A8C97EC66DDF37A6FA263D4CF40A04E</td>\n",
       "      <td>2016-10-18 16:17:51</td>\n",
       "      <td>2016-10-18 16:27:49</td>\n",
       "      <td>Bahnhof Dammtor Süd / Marseiller Straße</td>\n",
       "      <td>138382</td>\n",
       "      <td>Millerntorplatz/St.Pauli</td>\n",
       "      <td>131905</td>\n",
       "      <td>Terminal HH_18 (-2528-)</td>\n",
       "    </tr>\n",
       "    <tr>\n",
       "      <th>7144280</th>\n",
       "      <td>120392</td>\n",
       "      <td>CF82FA58B034B84EBE541D2BA145F1D57B13B656</td>\n",
       "      <td>2015-08-13 19:52:22</td>\n",
       "      <td>2015-08-13 20:02:04</td>\n",
       "      <td>Krausestraße/Eilbektal</td>\n",
       "      <td>208295</td>\n",
       "      <td>Mundsburg / Schürbeker Straße</td>\n",
       "      <td>140799</td>\n",
       "      <td>IVR</td>\n",
       "    </tr>\n",
       "    <tr>\n",
       "      <th>11734930</th>\n",
       "      <td>117500</td>\n",
       "      <td>57486D611B91BE82D3C4BC5D6BFB4773111A3998</td>\n",
       "      <td>2016-07-10 23:16:13</td>\n",
       "      <td>2016-07-10 23:26:29</td>\n",
       "      <td>Millerntorplatz/St.Pauli</td>\n",
       "      <td>131905</td>\n",
       "      <td>Allende-Platz/Grindelhof</td>\n",
       "      <td>198077</td>\n",
       "      <td>Terminal HH_4 (-2612-)</td>\n",
       "    </tr>\n",
       "    <tr>\n",
       "      <th>12803747</th>\n",
       "      <td>119653</td>\n",
       "      <td>661147FEF654DD130F9D5CEB868104B0DF5379A2</td>\n",
       "      <td>2016-08-28 00:53:14</td>\n",
       "      <td>2016-08-28 00:57:54</td>\n",
       "      <td>Saarlandstraße/Wiesendamm</td>\n",
       "      <td>203890</td>\n",
       "      <td>Weidestraße /Johannes-Prassek-Park</td>\n",
       "      <td>247852</td>\n",
       "      <td>Android SRH</td>\n",
       "    </tr>\n",
       "  </tbody>\n",
       "</table>\n",
       "</div>"
      ],
      "text/plain": [
       "          bike_id                                   user_id  \\\n",
       "3021648    119608  F71AE2C096891A9906643EFA8A2762B321B6B3D6   \n",
       "13811525   117530  391E2FCB6A8C97EC66DDF37A6FA263D4CF40A04E   \n",
       "7144280    120392  CF82FA58B034B84EBE541D2BA145F1D57B13B656   \n",
       "11734930   117500  57486D611B91BE82D3C4BC5D6BFB4773111A3998   \n",
       "12803747   119653  661147FEF654DD130F9D5CEB868104B0DF5379A2   \n",
       "\n",
       "                    date_from           date_until  \\\n",
       "3021648   2014-09-05 17:08:58  2014-09-05 17:38:14   \n",
       "13811525  2016-10-18 16:17:51  2016-10-18 16:27:49   \n",
       "7144280   2015-08-13 19:52:22  2015-08-13 20:02:04   \n",
       "11734930  2016-07-10 23:16:13  2016-07-10 23:26:29   \n",
       "12803747  2016-08-28 00:53:14  2016-08-28 00:57:54   \n",
       "\n",
       "                               start_station_name  start_station_id  \\\n",
       "3021648          Hauptbahnhof Ost / Hachmannplatz            131873   \n",
       "13811525  Bahnhof Dammtor Süd / Marseiller Straße            138382   \n",
       "7144280                    Krausestraße/Eilbektal            208295   \n",
       "11734930                 Millerntorplatz/St.Pauli            131905   \n",
       "12803747                Saarlandstraße/Wiesendamm            203890   \n",
       "\n",
       "                            end_station_name  end_station_id  \\\n",
       "3021648      Sternschanze / Eingang Dänenweg          139501   \n",
       "13811525            Millerntorplatz/St.Pauli          131905   \n",
       "7144280        Mundsburg / Schürbeker Straße          140799   \n",
       "11734930            Allende-Platz/Grindelhof          198077   \n",
       "12803747  Weidestraße /Johannes-Prassek-Park          247852   \n",
       "\n",
       "                       booked_via  \n",
       "3021648   Terminal HH_34 (-2541-)  \n",
       "13811525  Terminal HH_18 (-2528-)  \n",
       "7144280                       IVR  \n",
       "11734930   Terminal HH_4 (-2612-)  \n",
       "12803747              Android SRH  "
      ]
     },
     "execution_count": 64,
     "metadata": {},
     "output_type": "execute_result"
    }
   ],
   "source": [
    "non_techniker.sample(5)"
   ]
  },
  {
   "cell_type": "code",
   "execution_count": 65,
   "metadata": {
    "scrolled": false
   },
   "outputs": [
    {
     "data": {
      "text/html": [
       "<div>\n",
       "<style scoped>\n",
       "    .dataframe tbody tr th:only-of-type {\n",
       "        vertical-align: middle;\n",
       "    }\n",
       "\n",
       "    .dataframe tbody tr th {\n",
       "        vertical-align: top;\n",
       "    }\n",
       "\n",
       "    .dataframe thead th {\n",
       "        text-align: right;\n",
       "    }\n",
       "</style>\n",
       "<table border=\"1\" class=\"dataframe\">\n",
       "  <thead>\n",
       "    <tr style=\"text-align: right;\">\n",
       "      <th></th>\n",
       "      <th>station_id</th>\n",
       "    </tr>\n",
       "  </thead>\n",
       "  <tbody>\n",
       "    <tr>\n",
       "      <th>0</th>\n",
       "      <td>131543</td>\n",
       "    </tr>\n",
       "    <tr>\n",
       "      <th>1</th>\n",
       "      <td>131546</td>\n",
       "    </tr>\n",
       "    <tr>\n",
       "      <th>2</th>\n",
       "      <td>131547</td>\n",
       "    </tr>\n",
       "    <tr>\n",
       "      <th>3</th>\n",
       "      <td>131639</td>\n",
       "    </tr>\n",
       "    <tr>\n",
       "      <th>4</th>\n",
       "      <td>131640</td>\n",
       "    </tr>\n",
       "    <tr>\n",
       "      <th>...</th>\n",
       "      <td>...</td>\n",
       "    </tr>\n",
       "    <tr>\n",
       "      <th>211</th>\n",
       "      <td>256467</td>\n",
       "    </tr>\n",
       "    <tr>\n",
       "      <th>212</th>\n",
       "      <td>264330</td>\n",
       "    </tr>\n",
       "    <tr>\n",
       "      <th>213</th>\n",
       "      <td>264820</td>\n",
       "    </tr>\n",
       "    <tr>\n",
       "      <th>214</th>\n",
       "      <td>264821</td>\n",
       "    </tr>\n",
       "    <tr>\n",
       "      <th>215</th>\n",
       "      <td>268358</td>\n",
       "    </tr>\n",
       "  </tbody>\n",
       "</table>\n",
       "<p>216 rows × 1 columns</p>\n",
       "</div>"
      ],
      "text/plain": [
       "     station_id\n",
       "0        131543\n",
       "1        131546\n",
       "2        131547\n",
       "3        131639\n",
       "4        131640\n",
       "..          ...\n",
       "211      256467\n",
       "212      264330\n",
       "213      264820\n",
       "214      264821\n",
       "215      268358\n",
       "\n",
       "[216 rows x 1 columns]"
      ]
     },
     "execution_count": 65,
     "metadata": {},
     "output_type": "execute_result"
    }
   ],
   "source": [
    "# Create a stations data set from all unique station IDs\n",
    "\n",
    "station_ids = sorted(\n",
    "    set(trips.start_station_id.tolist() + trips.end_station_id.tolist())\n",
    ")\n",
    "station_ids = pd.DataFrame(station_ids, columns=['station_id'])\n",
    "station_ids"
   ]
  },
  {
   "cell_type": "code",
   "execution_count": 66,
   "metadata": {},
   "outputs": [
    {
     "data": {
      "text/html": [
       "<div>\n",
       "<style scoped>\n",
       "    .dataframe tbody tr th:only-of-type {\n",
       "        vertical-align: middle;\n",
       "    }\n",
       "\n",
       "    .dataframe tbody tr th {\n",
       "        vertical-align: top;\n",
       "    }\n",
       "\n",
       "    .dataframe thead th {\n",
       "        text-align: right;\n",
       "    }\n",
       "</style>\n",
       "<table border=\"1\" class=\"dataframe\">\n",
       "  <thead>\n",
       "    <tr style=\"text-align: right;\">\n",
       "      <th></th>\n",
       "      <th>RENTAL_ZONE_HAL_ID</th>\n",
       "      <th>RENTAL_ZONE_HAL_SRC</th>\n",
       "      <th>NAME</th>\n",
       "      <th>CODE</th>\n",
       "      <th>TYPE</th>\n",
       "      <th>CITY</th>\n",
       "      <th>COUNTRY</th>\n",
       "      <th>LATITUDE</th>\n",
       "      <th>LONGITUDE</th>\n",
       "      <th>POI_AIRPORT_X</th>\n",
       "      <th>POI_LONG_DISTANCE_TRAINS_X</th>\n",
       "      <th>POI_SUBURBAN_TRAINS_X</th>\n",
       "      <th>POI_UNDERGROUND_X</th>\n",
       "      <th>ACTIVE_X</th>\n",
       "      <th>COMPANY</th>\n",
       "      <th>COMPANY_GROUP</th>\n",
       "    </tr>\n",
       "  </thead>\n",
       "  <tbody>\n",
       "    <tr>\n",
       "      <th>1056</th>\n",
       "      <td>268358</td>\n",
       "      <td>Standort</td>\n",
       "      <td>Sieldeich/ Gresham Carat Hotel</td>\n",
       "      <td>2690.0</td>\n",
       "      <td>normal</td>\n",
       "      <td>Hamburg</td>\n",
       "      <td>Deutschland</td>\n",
       "      <td>10.021814</td>\n",
       "      <td>53.528309</td>\n",
       "      <td>Nein</td>\n",
       "      <td>Nein</td>\n",
       "      <td>Nein</td>\n",
       "      <td>Nein</td>\n",
       "      <td>Ja</td>\n",
       "      <td>StadtRAD Hamburg</td>\n",
       "      <td>Call a Bike</td>\n",
       "    </tr>\n",
       "    <tr>\n",
       "      <th>526</th>\n",
       "      <td>208307</td>\n",
       "      <td>Standort</td>\n",
       "      <td>Schleidenstraße/Osterbekstraße</td>\n",
       "      <td>2336.0</td>\n",
       "      <td>normal</td>\n",
       "      <td>Hamburg</td>\n",
       "      <td>Deutschland</td>\n",
       "      <td>10.033690</td>\n",
       "      <td>53.584582</td>\n",
       "      <td>Nein</td>\n",
       "      <td>Nein</td>\n",
       "      <td>Nein</td>\n",
       "      <td>Nein</td>\n",
       "      <td>Ja</td>\n",
       "      <td>StadtRAD Hamburg</td>\n",
       "      <td>Call a Bike</td>\n",
       "    </tr>\n",
       "    <tr>\n",
       "      <th>371</th>\n",
       "      <td>131875</td>\n",
       "      <td>Standort</td>\n",
       "      <td>Jacobikirche / Steinstraße</td>\n",
       "      <td>2637.0</td>\n",
       "      <td>normal</td>\n",
       "      <td>Hamburg</td>\n",
       "      <td>Deutschland</td>\n",
       "      <td>10.001500</td>\n",
       "      <td>53.550300</td>\n",
       "      <td>Nein</td>\n",
       "      <td>Nein</td>\n",
       "      <td>Nein</td>\n",
       "      <td>Nein</td>\n",
       "      <td>Ja</td>\n",
       "      <td>StadtRAD Hamburg</td>\n",
       "      <td>Call a Bike</td>\n",
       "    </tr>\n",
       "    <tr>\n",
       "      <th>624</th>\n",
       "      <td>227415</td>\n",
       "      <td>Standort</td>\n",
       "      <td>Wandsbeker Chaussee/ Börnestraße</td>\n",
       "      <td>2413.0</td>\n",
       "      <td>normal</td>\n",
       "      <td>Hamburg</td>\n",
       "      <td>Deutschland</td>\n",
       "      <td>10.059528</td>\n",
       "      <td>53.570470</td>\n",
       "      <td>Nein</td>\n",
       "      <td>Nein</td>\n",
       "      <td>Nein</td>\n",
       "      <td>Nein</td>\n",
       "      <td>Ja</td>\n",
       "      <td>StadtRAD Hamburg</td>\n",
       "      <td>Call a Bike</td>\n",
       "    </tr>\n",
       "    <tr>\n",
       "      <th>541</th>\n",
       "      <td>211711</td>\n",
       "      <td>Standort</td>\n",
       "      <td>Fischersallee/Bleickenallee</td>\n",
       "      <td>2125.0</td>\n",
       "      <td>normal</td>\n",
       "      <td>Hamburg</td>\n",
       "      <td>Deutschland</td>\n",
       "      <td>9.922260</td>\n",
       "      <td>53.550966</td>\n",
       "      <td>Nein</td>\n",
       "      <td>Nein</td>\n",
       "      <td>Nein</td>\n",
       "      <td>Nein</td>\n",
       "      <td>Ja</td>\n",
       "      <td>StadtRAD Hamburg</td>\n",
       "      <td>Call a Bike</td>\n",
       "    </tr>\n",
       "  </tbody>\n",
       "</table>\n",
       "</div>"
      ],
      "text/plain": [
       "      RENTAL_ZONE_HAL_ID RENTAL_ZONE_HAL_SRC  \\\n",
       "1056              268358            Standort   \n",
       "526               208307            Standort   \n",
       "371               131875            Standort   \n",
       "624               227415            Standort   \n",
       "541               211711            Standort   \n",
       "\n",
       "                                  NAME    CODE    TYPE     CITY      COUNTRY  \\\n",
       "1056    Sieldeich/ Gresham Carat Hotel  2690.0  normal  Hamburg  Deutschland   \n",
       "526     Schleidenstraße/Osterbekstraße  2336.0  normal  Hamburg  Deutschland   \n",
       "371         Jacobikirche / Steinstraße  2637.0  normal  Hamburg  Deutschland   \n",
       "624   Wandsbeker Chaussee/ Börnestraße  2413.0  normal  Hamburg  Deutschland   \n",
       "541        Fischersallee/Bleickenallee  2125.0  normal  Hamburg  Deutschland   \n",
       "\n",
       "       LATITUDE  LONGITUDE POI_AIRPORT_X POI_LONG_DISTANCE_TRAINS_X  \\\n",
       "1056  10.021814  53.528309          Nein                       Nein   \n",
       "526   10.033690  53.584582          Nein                       Nein   \n",
       "371   10.001500  53.550300          Nein                       Nein   \n",
       "624   10.059528  53.570470          Nein                       Nein   \n",
       "541    9.922260  53.550966          Nein                       Nein   \n",
       "\n",
       "     POI_SUBURBAN_TRAINS_X POI_UNDERGROUND_X ACTIVE_X           COMPANY  \\\n",
       "1056                  Nein              Nein       Ja  StadtRAD Hamburg   \n",
       "526                   Nein              Nein       Ja  StadtRAD Hamburg   \n",
       "371                   Nein              Nein       Ja  StadtRAD Hamburg   \n",
       "624                   Nein              Nein       Ja  StadtRAD Hamburg   \n",
       "541                   Nein              Nein       Ja  StadtRAD Hamburg   \n",
       "\n",
       "     COMPANY_GROUP  \n",
       "1056   Call a Bike  \n",
       "526    Call a Bike  \n",
       "371    Call a Bike  \n",
       "624    Call a Bike  \n",
       "541    Call a Bike  "
      ]
     },
     "execution_count": 66,
     "metadata": {},
     "output_type": "execute_result"
    }
   ],
   "source": [
    "# Load DB data set about stations\n",
    "\n",
    "db_stations = pd.read_csv(\"../data/call_a_bike/OPENDATA_RENTAL_ZONE_CALL_A_BIKE.csv\", sep=\";\", decimal=\",\")\n",
    "db_stations = db_stations[db_stations.CITY == \"Hamburg\"]\n",
    "db_stations.sample(5)"
   ]
  },
  {
   "cell_type": "code",
   "execution_count": 67,
   "metadata": {
    "scrolled": false
   },
   "outputs": [
    {
     "data": {
      "text/html": [
       "<div>\n",
       "<style scoped>\n",
       "    .dataframe tbody tr th:only-of-type {\n",
       "        vertical-align: middle;\n",
       "    }\n",
       "\n",
       "    .dataframe tbody tr th {\n",
       "        vertical-align: top;\n",
       "    }\n",
       "\n",
       "    .dataframe thead th {\n",
       "        text-align: right;\n",
       "    }\n",
       "</style>\n",
       "<table border=\"1\" class=\"dataframe\">\n",
       "  <thead>\n",
       "    <tr style=\"text-align: right;\">\n",
       "      <th></th>\n",
       "      <th>station_id</th>\n",
       "      <th>name</th>\n",
       "      <th>longitude</th>\n",
       "      <th>latitude</th>\n",
       "    </tr>\n",
       "  </thead>\n",
       "  <tbody>\n",
       "    <tr>\n",
       "      <th>350</th>\n",
       "      <td>131543</td>\n",
       "      <td>Landungsbrücke/Hafentor</td>\n",
       "      <td>9.972300</td>\n",
       "      <td>53.545700</td>\n",
       "    </tr>\n",
       "    <tr>\n",
       "      <th>351</th>\n",
       "      <td>131546</td>\n",
       "      <td>Fischmarkt/Breite Straße</td>\n",
       "      <td>9.950880</td>\n",
       "      <td>53.546200</td>\n",
       "    </tr>\n",
       "    <tr>\n",
       "      <th>352</th>\n",
       "      <td>131547</td>\n",
       "      <td>Paulinenplatz/Wohlwillstraße</td>\n",
       "      <td>9.962460</td>\n",
       "      <td>53.554200</td>\n",
       "    </tr>\n",
       "    <tr>\n",
       "      <th>353</th>\n",
       "      <td>131639</td>\n",
       "      <td>Burgstraße/Hammer Landstraße</td>\n",
       "      <td>10.041298</td>\n",
       "      <td>53.555693</td>\n",
       "    </tr>\n",
       "    <tr>\n",
       "      <th>354</th>\n",
       "      <td>131640</td>\n",
       "      <td>Innocentiapark/Oberstraße</td>\n",
       "      <td>9.982110</td>\n",
       "      <td>53.577248</td>\n",
       "    </tr>\n",
       "    <tr>\n",
       "      <th>...</th>\n",
       "      <td>...</td>\n",
       "      <td>...</td>\n",
       "      <td>...</td>\n",
       "      <td>...</td>\n",
       "    </tr>\n",
       "    <tr>\n",
       "      <th>1023</th>\n",
       "      <td>256467</td>\n",
       "      <td>Röntgenstraße/Philips</td>\n",
       "      <td>10.012209</td>\n",
       "      <td>53.623481</td>\n",
       "    </tr>\n",
       "    <tr>\n",
       "      <th>1048</th>\n",
       "      <td>264330</td>\n",
       "      <td>Bleickenallee/Kinderkrankenhaus Altona</td>\n",
       "      <td>9.912913</td>\n",
       "      <td>53.551288</td>\n",
       "    </tr>\n",
       "    <tr>\n",
       "      <th>1050</th>\n",
       "      <td>264820</td>\n",
       "      <td>Osterstraße/Heußweg</td>\n",
       "      <td>9.952071</td>\n",
       "      <td>53.575983</td>\n",
       "    </tr>\n",
       "    <tr>\n",
       "      <th>1051</th>\n",
       "      <td>264821</td>\n",
       "      <td>Bahrenfelder Chaussee/Von-Sauer-Straße</td>\n",
       "      <td>9.910870</td>\n",
       "      <td>53.565973</td>\n",
       "    </tr>\n",
       "    <tr>\n",
       "      <th>1056</th>\n",
       "      <td>268358</td>\n",
       "      <td>Sieldeich/ Gresham Carat Hotel</td>\n",
       "      <td>10.021814</td>\n",
       "      <td>53.528309</td>\n",
       "    </tr>\n",
       "  </tbody>\n",
       "</table>\n",
       "<p>206 rows × 4 columns</p>\n",
       "</div>"
      ],
      "text/plain": [
       "      station_id                                    name  longitude   latitude\n",
       "350       131543                 Landungsbrücke/Hafentor   9.972300  53.545700\n",
       "351       131546                Fischmarkt/Breite Straße   9.950880  53.546200\n",
       "352       131547            Paulinenplatz/Wohlwillstraße   9.962460  53.554200\n",
       "353       131639            Burgstraße/Hammer Landstraße  10.041298  53.555693\n",
       "354       131640               Innocentiapark/Oberstraße   9.982110  53.577248\n",
       "...          ...                                     ...        ...        ...\n",
       "1023      256467                   Röntgenstraße/Philips  10.012209  53.623481\n",
       "1048      264330  Bleickenallee/Kinderkrankenhaus Altona   9.912913  53.551288\n",
       "1050      264820                     Osterstraße/Heußweg   9.952071  53.575983\n",
       "1051      264821  Bahrenfelder Chaussee/Von-Sauer-Straße   9.910870  53.565973\n",
       "1056      268358          Sieldeich/ Gresham Carat Hotel  10.021814  53.528309\n",
       "\n",
       "[206 rows x 4 columns]"
      ]
     },
     "execution_count": 67,
     "metadata": {},
     "output_type": "execute_result"
    }
   ],
   "source": [
    "# Select coordinates for stations from DB data\n",
    "\n",
    "coordinates = db_stations[[\"RENTAL_ZONE_HAL_ID\", \"NAME\", \"LATITUDE\", \"LONGITUDE\"]].copy()\n",
    "# coordinate descriptions are incorrectly labelled in the original data set\n",
    "coordinates.columns = [\"station_id\", \"name\", \"longitude\", \"latitude\"]\n",
    "coordinates.dropna(inplace=True)\n",
    "coordinates"
   ]
  },
  {
   "cell_type": "markdown",
   "metadata": {},
   "source": [
    "We can already see that the DB data set of stations does not seem to be complete. There are more unique IDs in the bike trip data set as in the stations data set (308 rows vs. 206 rows)."
   ]
  },
  {
   "cell_type": "code",
   "execution_count": 68,
   "metadata": {
    "scrolled": false
   },
   "outputs": [
    {
     "data": {
      "text/html": [
       "<div>\n",
       "<style scoped>\n",
       "    .dataframe tbody tr th:only-of-type {\n",
       "        vertical-align: middle;\n",
       "    }\n",
       "\n",
       "    .dataframe tbody tr th {\n",
       "        vertical-align: top;\n",
       "    }\n",
       "\n",
       "    .dataframe thead th {\n",
       "        text-align: right;\n",
       "    }\n",
       "</style>\n",
       "<table border=\"1\" class=\"dataframe\">\n",
       "  <thead>\n",
       "    <tr style=\"text-align: right;\">\n",
       "      <th></th>\n",
       "      <th>station_id</th>\n",
       "      <th>name</th>\n",
       "      <th>longitude</th>\n",
       "      <th>latitude</th>\n",
       "    </tr>\n",
       "  </thead>\n",
       "  <tbody>\n",
       "    <tr>\n",
       "      <th>0</th>\n",
       "      <td>131543</td>\n",
       "      <td>Landungsbrücke/Hafentor</td>\n",
       "      <td>9.972300</td>\n",
       "      <td>53.545700</td>\n",
       "    </tr>\n",
       "    <tr>\n",
       "      <th>1</th>\n",
       "      <td>131546</td>\n",
       "      <td>Fischmarkt/Breite Straße</td>\n",
       "      <td>9.950880</td>\n",
       "      <td>53.546200</td>\n",
       "    </tr>\n",
       "    <tr>\n",
       "      <th>2</th>\n",
       "      <td>131547</td>\n",
       "      <td>Paulinenplatz/Wohlwillstraße</td>\n",
       "      <td>9.962460</td>\n",
       "      <td>53.554200</td>\n",
       "    </tr>\n",
       "    <tr>\n",
       "      <th>3</th>\n",
       "      <td>131639</td>\n",
       "      <td>Burgstraße/Hammer Landstraße</td>\n",
       "      <td>10.041298</td>\n",
       "      <td>53.555693</td>\n",
       "    </tr>\n",
       "    <tr>\n",
       "      <th>4</th>\n",
       "      <td>131640</td>\n",
       "      <td>Innocentiapark/Oberstraße</td>\n",
       "      <td>9.982110</td>\n",
       "      <td>53.577248</td>\n",
       "    </tr>\n",
       "    <tr>\n",
       "      <th>...</th>\n",
       "      <td>...</td>\n",
       "      <td>...</td>\n",
       "      <td>...</td>\n",
       "      <td>...</td>\n",
       "    </tr>\n",
       "    <tr>\n",
       "      <th>211</th>\n",
       "      <td>256467</td>\n",
       "      <td>Röntgenstraße/Philips</td>\n",
       "      <td>10.012209</td>\n",
       "      <td>53.623481</td>\n",
       "    </tr>\n",
       "    <tr>\n",
       "      <th>212</th>\n",
       "      <td>264330</td>\n",
       "      <td>Bleickenallee/Kinderkrankenhaus Altona</td>\n",
       "      <td>9.912913</td>\n",
       "      <td>53.551288</td>\n",
       "    </tr>\n",
       "    <tr>\n",
       "      <th>213</th>\n",
       "      <td>264820</td>\n",
       "      <td>Osterstraße/Heußweg</td>\n",
       "      <td>9.952071</td>\n",
       "      <td>53.575983</td>\n",
       "    </tr>\n",
       "    <tr>\n",
       "      <th>214</th>\n",
       "      <td>264821</td>\n",
       "      <td>Bahrenfelder Chaussee/Von-Sauer-Straße</td>\n",
       "      <td>9.910870</td>\n",
       "      <td>53.565973</td>\n",
       "    </tr>\n",
       "    <tr>\n",
       "      <th>215</th>\n",
       "      <td>268358</td>\n",
       "      <td>Sieldeich/ Gresham Carat Hotel</td>\n",
       "      <td>10.021814</td>\n",
       "      <td>53.528309</td>\n",
       "    </tr>\n",
       "  </tbody>\n",
       "</table>\n",
       "<p>216 rows × 4 columns</p>\n",
       "</div>"
      ],
      "text/plain": [
       "     station_id                                    name  longitude   latitude\n",
       "0        131543                 Landungsbrücke/Hafentor   9.972300  53.545700\n",
       "1        131546                Fischmarkt/Breite Straße   9.950880  53.546200\n",
       "2        131547            Paulinenplatz/Wohlwillstraße   9.962460  53.554200\n",
       "3        131639            Burgstraße/Hammer Landstraße  10.041298  53.555693\n",
       "4        131640               Innocentiapark/Oberstraße   9.982110  53.577248\n",
       "..          ...                                     ...        ...        ...\n",
       "211      256467                   Röntgenstraße/Philips  10.012209  53.623481\n",
       "212      264330  Bleickenallee/Kinderkrankenhaus Altona   9.912913  53.551288\n",
       "213      264820                     Osterstraße/Heußweg   9.952071  53.575983\n",
       "214      264821  Bahrenfelder Chaussee/Von-Sauer-Straße   9.910870  53.565973\n",
       "215      268358          Sieldeich/ Gresham Carat Hotel  10.021814  53.528309\n",
       "\n",
       "[216 rows x 4 columns]"
      ]
     },
     "execution_count": 68,
     "metadata": {},
     "output_type": "execute_result"
    }
   ],
   "source": [
    "stations = pd.merge(station_ids, coordinates, how=\"left\", on=\"station_id\")\n",
    "stations"
   ]
  },
  {
   "cell_type": "code",
   "execution_count": 69,
   "metadata": {
    "scrolled": true
   },
   "outputs": [
    {
     "data": {
      "text/plain": [
       "array([138370, 194453, 194553, 194563, 225361, 238540, 238543, 241576,\n",
       "       242731, 246950])"
      ]
     },
     "execution_count": 69,
     "metadata": {},
     "output_type": "execute_result"
    }
   ],
   "source": [
    "missing_info_ids = stations[stations.name.isnull()].station_id.unique()\n",
    "missing_info_ids"
   ]
  },
  {
   "cell_type": "code",
   "execution_count": 70,
   "metadata": {},
   "outputs": [
    {
     "data": {
      "text/plain": [
       "['Systemtechnik/Test Terminal',\n",
       " 'Rotec Schlösser BSC',\n",
       " 'F PS 1763 / BSC Hamburg Mobil',\n",
       " 'F R  5156 / BSC Hamburg Mobil',\n",
       " 'BSC Testterminal Halle',\n",
       " 'Maretstraße/Baererstraße',\n",
       " 'F PS 2423 / BSC Hamburg Mobil',\n",
       " 'BSCTerminal FFM 2.OG R 2.21',\n",
       " 'Funkbox-BSC-HH',\n",
       " 'Grindelberg / Bezirksamt Eimsbüttel']"
      ]
     },
     "execution_count": 70,
     "metadata": {},
     "output_type": "execute_result"
    }
   ],
   "source": [
    "a = df[df.START_RENTAL_ZONE_HAL_ID.isin(missing_info_ids)].START_RENTAL_ZONE.unique()\n",
    "b = df[df.END_RENTAL_ZONE_HAL_ID.isin(missing_info_ids)].END_RENTAL_ZONE.unique()\n",
    "\n",
    "missing_locations = list(set(a)|set(b))\n",
    "missing_locations"
   ]
  },
  {
   "cell_type": "markdown",
   "metadata": {},
   "source": [
    "To match missing stations with coordinates, the information available at https://web.archive.org/web/20210313100715/https://suche.transparenz.hamburg.de/dataset/stadtrad-stationen-hamburg20 was considered. Only two stations are included: *Grindelberg / Bezirksamt Eimsbüttel* (ID 138370) and *Maretstraße/Baererstraße* (ID 242731). Coordinates for both stations can easily be added to the data set by hand.\n",
    "\n",
    "**Coordinates**\n",
    "* Grindelberg / Bezirksamt Eimsbüttel: [ 9.97782399971897, 53.57540799556665 ]\n",
    "* Maretstraße / Baererstraße: [ 9.982274994484669, 53.453703999218654 ]"
   ]
  },
  {
   "cell_type": "code",
   "execution_count": 71,
   "metadata": {},
   "outputs": [
    {
     "name": "stdout",
     "output_type": "stream",
     "text": [
      "[138370.]\n",
      "[138370.]\n",
      "[242731.]\n",
      "[242731.]\n"
     ]
    }
   ],
   "source": [
    "print(df[df.START_RENTAL_ZONE == \"Grindelberg / Bezirksamt Eimsbüttel\"].START_RENTAL_ZONE_HAL_ID.unique())\n",
    "print(df[df.END_RENTAL_ZONE == \"Grindelberg / Bezirksamt Eimsbüttel\"].END_RENTAL_ZONE_HAL_ID.unique())\n",
    "\n",
    "print(df[df.START_RENTAL_ZONE == \"Maretstraße/Baererstraße\"].START_RENTAL_ZONE_HAL_ID.unique())\n",
    "print(df[df.END_RENTAL_ZONE == \"Maretstraße/Baererstraße\"].END_RENTAL_ZONE_HAL_ID.unique())"
   ]
  },
  {
   "cell_type": "code",
   "execution_count": 72,
   "metadata": {},
   "outputs": [],
   "source": [
    "stations.loc[stations.station_id == 138370, \"name\"] = \"Grindelberg / Bezirksamt Eimsbüttel\"\n",
    "stations.loc[stations.station_id == 138370, \"longitude\"] = 9.977824\n",
    "stations.loc[stations.station_id == 138370, \"latitude\"] = 53.575408\n",
    "\n",
    "stations.loc[stations.station_id == 242731, \"name\"] = \"Maretstraße/Baererstraße\"\n",
    "stations.loc[stations.station_id == 242731, \"longitude\"] = 9.982275\n",
    "stations.loc[stations.station_id == 242731, \"latitude\"] = 53.453704\n",
    "\n",
    "# Drop the remaining station IDs with unknown location\n",
    "stations = stations.dropna().reset_index()"
   ]
  },
  {
   "cell_type": "code",
   "execution_count": 73,
   "metadata": {},
   "outputs": [
    {
     "data": {
      "text/plain": [
       "['Systemtechnik/Test Terminal',\n",
       " 'Rotec Schlösser BSC',\n",
       " 'F PS 1763 / BSC Hamburg Mobil',\n",
       " 'F R  5156 / BSC Hamburg Mobil',\n",
       " 'BSC Testterminal Halle',\n",
       " 'F PS 2423 / BSC Hamburg Mobil',\n",
       " 'BSCTerminal FFM 2.OG R 2.21',\n",
       " 'Funkbox-BSC-HH']"
      ]
     },
     "execution_count": 73,
     "metadata": {},
     "output_type": "execute_result"
    }
   ],
   "source": [
    "# Remove the added locations from the set of missing locations\n",
    "\n",
    "missing_locations.remove(\"Grindelberg / Bezirksamt Eimsbüttel\")\n",
    "missing_locations.remove(\"Maretstraße/Baererstraße\")\n",
    "missing_locations"
   ]
  },
  {
   "cell_type": "code",
   "execution_count": 74,
   "metadata": {
    "scrolled": true
   },
   "outputs": [],
   "source": [
    "# Remove all trips where either the start or end station is still of unknown location\n",
    "\n",
    "nan_trips = trips[\n",
    "    (trips.start_station_name.isin(missing_locations)) |\n",
    "    (trips.end_station_name.isin(missing_locations))\n",
    "]\n",
    "trips.drop(nan_trips.index, inplace=True) "
   ]
  },
  {
   "cell_type": "code",
   "execution_count": 75,
   "metadata": {},
   "outputs": [
    {
     "name": "stdout",
     "output_type": "stream",
     "text": [
      "8923066 entries, diff: -18735\n"
     ]
    }
   ],
   "source": [
    "last_count = print_count_data()"
   ]
  },
  {
   "cell_type": "code",
   "execution_count": 76,
   "metadata": {},
   "outputs": [],
   "source": [
    "# Calculate duration in minutes (rounded up) for each trip\n",
    "\n",
    "def calculate_duration_in_min(date_from, date_until):\n",
    "    duration_in_seconds = pd.to_datetime(date_until) - pd.to_datetime(date_from)\n",
    "    return np.ceil(duration_in_seconds / pd.Timedelta(minutes=1))\n",
    "\n",
    "trips.loc[:, \"duration_in_min\"] = calculate_duration_in_min(trips[\"date_from\"], trips[\"date_until\"])\n",
    "trips[\"duration_in_min\"] = trips[\"duration_in_min\"].astype(int)"
   ]
  },
  {
   "cell_type": "code",
   "execution_count": 77,
   "metadata": {},
   "outputs": [],
   "source": [
    "# Remove trips shorter than 3 minutes starting and ending at the same station\n",
    "# These are probably trips that were not intentional or canceled due to issues with the bike\n",
    "\n",
    "mask = (trips.duration_in_min < 3) & (trips.start_station_id == trips.end_station_id)\n",
    "trips = trips.drop(trips[mask].index)"
   ]
  },
  {
   "cell_type": "code",
   "execution_count": 78,
   "metadata": {},
   "outputs": [
    {
     "name": "stdout",
     "output_type": "stream",
     "text": [
      "8476307 entries, diff: -446759\n"
     ]
    }
   ],
   "source": [
    "last_count = print_count_data()"
   ]
  },
  {
   "cell_type": "code",
   "execution_count": 79,
   "metadata": {
    "scrolled": true
   },
   "outputs": [
    {
     "name": "stdout",
     "output_type": "stream",
     "text": [
      "Duration for 75 of the trips: 22 minutes\n"
     ]
    },
    {
     "data": {
      "image/png": "[encoded data removed]",
      "text/plain": [
       "<Figure size 432x288 with 1 Axes>"
      ]
     },
     "metadata": {
      "needs_background": "light"
     },
     "output_type": "display_data"
    },
    {
     "name": "stdout",
     "output_type": "stream",
     "text": [
      "Duration for 85 of the trips: 28 minutes\n"
     ]
    },
    {
     "data": {
      "image/png": "[encoded data removed]",
      "text/plain": [
       "<Figure size 432x288 with 1 Axes>"
      ]
     },
     "metadata": {
      "needs_background": "light"
     },
     "output_type": "display_data"
    },
    {
     "name": "stdout",
     "output_type": "stream",
     "text": [
      "Duration for 90 of the trips: 33 minutes\n"
     ]
    },
    {
     "data": {
      "image/png": "[encoded data removed]",
      "text/plain": [
       "<Figure size 432x288 with 1 Axes>"
      ]
     },
     "metadata": {
      "needs_background": "light"
     },
     "output_type": "display_data"
    },
    {
     "name": "stdout",
     "output_type": "stream",
     "text": [
      "Duration for 93 of the trips: 39 minutes\n"
     ]
    },
    {
     "data": {
      "image/png": "[encoded data removed]",
      "text/plain": [
       "<Figure size 432x288 with 1 Axes>"
      ]
     },
     "metadata": {
      "needs_background": "light"
     },
     "output_type": "display_data"
    },
    {
     "name": "stdout",
     "output_type": "stream",
     "text": [
      "Duration for 95 of the trips: 49 minutes\n"
     ]
    },
    {
     "data": {
      "image/png": "[encoded data removed]",
      "text/plain": [
       "<Figure size 432x288 with 1 Axes>"
      ]
     },
     "metadata": {
      "needs_background": "light"
     },
     "output_type": "display_data"
    },
    {
     "name": "stdout",
     "output_type": "stream",
     "text": [
      "Duration for 99 of the trips: 208 minutes\n"
     ]
    },
    {
     "data": {
      "image/png": "[encoded data removed]",
      "text/plain": [
       "<Figure size 432x288 with 1 Axes>"
      ]
     },
     "metadata": {
      "needs_background": "light"
     },
     "output_type": "display_data"
    }
   ],
   "source": [
    "quantiles = [0.75, 0.85, 0.90, 0.93, 0.95, 0.99]\n",
    "\n",
    "for quantile in quantiles:\n",
    "    threshold = trips.duration_in_min.quantile(quantile)\n",
    "    print('Duration for {0} of the trips: {1} minutes'.format(int(quantile*100), int(threshold)))\n",
    "    sns.boxplot(x='duration_in_min', data=trips[trips.duration_in_min <= threshold])\n",
    "    plt.title('{}% of bicycle trips'.format(int(quantile*100), threshold))\n",
    "    plt.xlabel('Trip duration in minutes')\n",
    "    plt.savefig('figures/duration_in_min_quantile_{}.png'.format(int(quantile*100)))\n",
    "    plt.show()"
   ]
  },
  {
   "cell_type": "code",
   "execution_count": 80,
   "metadata": {},
   "outputs": [
    {
     "name": "stdout",
     "output_type": "stream",
     "text": [
      "Trip duration threshold: 33.0 minutes\n"
     ]
    }
   ],
   "source": [
    "# Remove outliers based on trip duration\n",
    "\n",
    "threshold = trips.duration_in_min.quantile(0.9)\n",
    "print('Trip duration threshold: %s minutes' % threshold)\n",
    "\n",
    "trips.drop(trips[trips.duration_in_min > threshold].index, inplace=True) "
   ]
  },
  {
   "cell_type": "code",
   "execution_count": 81,
   "metadata": {},
   "outputs": [
    {
     "name": "stdout",
     "output_type": "stream",
     "text": [
      "7669950 entries, diff: -806357\n"
     ]
    }
   ],
   "source": [
    "last_count = print_count_data()"
   ]
  },
  {
   "cell_type": "code",
   "execution_count": 82,
   "metadata": {
    "scrolled": true
   },
   "outputs": [],
   "source": [
    "# Calculate the distance between each pair of station and save it as a python dict for easier lookup\n",
    "\n",
    "def calculate_distance(id_x, id_y):\n",
    "    station_x = stations_by_id.loc[id_x]\n",
    "    station_y = stations_by_id.loc[id_y]\n",
    "    x = (station_x.latitude, station_x.longitude)\n",
    "    y = (station_y.latitude, station_y.longitude)\n",
    "    return geodesic(x, y).km\n",
    "\n",
    "if READ_STATION_DISTANCES_FROM_FILE:\n",
    "    distances = np.load(\"calculations/station_distances.npy\", allow_pickle=True).item()\n",
    "else:\n",
    "    stations_by_id = stations.set_index(\"station_id\")\n",
    "    ids = stations.station_id.to_numpy()\n",
    "    distances = {}\n",
    "\n",
    "    for station_x in ids:\n",
    "        distances[station_x] = {}\n",
    "        for station_y in ids:\n",
    "            distances[station_x][station_y] = calculate_distance(station_x, station_y)\n",
    "\n",
    "    np.save(\"calculations/station_distances.npy\", distances) "
   ]
  },
  {
   "cell_type": "code",
   "execution_count": 83,
   "metadata": {},
   "outputs": [],
   "source": [
    "# Assign distance to each trip\n",
    "\n",
    "trips[\"distance_in_km\"] = trips.apply(lambda x: distances[x.start_station_id][x.end_station_id], axis=1)"
   ]
  },
  {
   "cell_type": "code",
   "execution_count": 84,
   "metadata": {},
   "outputs": [
    {
     "data": {
      "text/html": [
       "<div>\n",
       "<style scoped>\n",
       "    .dataframe tbody tr th:only-of-type {\n",
       "        vertical-align: middle;\n",
       "    }\n",
       "\n",
       "    .dataframe tbody tr th {\n",
       "        vertical-align: top;\n",
       "    }\n",
       "\n",
       "    .dataframe thead th {\n",
       "        text-align: right;\n",
       "    }\n",
       "</style>\n",
       "<table border=\"1\" class=\"dataframe\">\n",
       "  <thead>\n",
       "    <tr style=\"text-align: right;\">\n",
       "      <th></th>\n",
       "      <th>bike_id</th>\n",
       "      <th>user_id</th>\n",
       "      <th>date_from</th>\n",
       "      <th>date_until</th>\n",
       "      <th>start_station_name</th>\n",
       "      <th>start_station_id</th>\n",
       "      <th>end_station_name</th>\n",
       "      <th>end_station_id</th>\n",
       "      <th>booked_via</th>\n",
       "      <th>duration_in_min</th>\n",
       "      <th>distance_in_km</th>\n",
       "    </tr>\n",
       "  </thead>\n",
       "  <tbody>\n",
       "    <tr>\n",
       "      <th>14148232</th>\n",
       "      <td>110581</td>\n",
       "      <td>E382A6BB6399700912CDD839FAC9275010578DC4</td>\n",
       "      <td>2016-11-12 17:29:19</td>\n",
       "      <td>2016-11-12 17:37:17</td>\n",
       "      <td>Berliner Tor / Berlinertordamm</td>\n",
       "      <td>131652</td>\n",
       "      <td>Lange Reihe / Lohmühlenpark</td>\n",
       "      <td>138385</td>\n",
       "      <td>iPhone SRH</td>\n",
       "      <td>8</td>\n",
       "      <td>0.976115</td>\n",
       "    </tr>\n",
       "    <tr>\n",
       "      <th>1844396</th>\n",
       "      <td>118994</td>\n",
       "      <td>0B2EC0016CD50CFBD5C12079EB58D441291A7225</td>\n",
       "      <td>2014-06-25 17:47:32</td>\n",
       "      <td>2014-06-25 18:13:43</td>\n",
       "      <td>Hauptbahnhof Ost / Hachmannplatz</td>\n",
       "      <td>131873</td>\n",
       "      <td>Kurze Mühren/Spitalerstraße</td>\n",
       "      <td>131647</td>\n",
       "      <td>IVR</td>\n",
       "      <td>27</td>\n",
       "      <td>0.299164</td>\n",
       "    </tr>\n",
       "    <tr>\n",
       "      <th>13130924</th>\n",
       "      <td>120228</td>\n",
       "      <td>8A9C637B376ABEFA8A7BC56E3FBF54A31CD80F32</td>\n",
       "      <td>2016-09-11 15:15:27</td>\n",
       "      <td>2016-09-11 15:27:48</td>\n",
       "      <td>Hudtwalckerstraße / Bebelallee</td>\n",
       "      <td>138378</td>\n",
       "      <td>Leinpfad/Fernsicht</td>\n",
       "      <td>224650</td>\n",
       "      <td>Terminal HH_72 (-2369-)</td>\n",
       "      <td>13</td>\n",
       "      <td>1.566832</td>\n",
       "    </tr>\n",
       "    <tr>\n",
       "      <th>880300</th>\n",
       "      <td>143531</td>\n",
       "      <td>89A234F7F96E77DA63C72AF8A137B5FF0AED2EE2</td>\n",
       "      <td>2014-04-24 14:41:10</td>\n",
       "      <td>2014-04-24 14:48:55</td>\n",
       "      <td>Jarrestraße / Rambatzweg</td>\n",
       "      <td>138376</td>\n",
       "      <td>Wiesendamm/Roggenkamp</td>\n",
       "      <td>212607</td>\n",
       "      <td>Terminal HH_75 (-2364-)</td>\n",
       "      <td>8</td>\n",
       "      <td>1.486782</td>\n",
       "    </tr>\n",
       "  </tbody>\n",
       "</table>\n",
       "</div>"
      ],
      "text/plain": [
       "          bike_id                                   user_id  \\\n",
       "14148232   110581  E382A6BB6399700912CDD839FAC9275010578DC4   \n",
       "1844396    118994  0B2EC0016CD50CFBD5C12079EB58D441291A7225   \n",
       "13130924   120228  8A9C637B376ABEFA8A7BC56E3FBF54A31CD80F32   \n",
       "880300     143531  89A234F7F96E77DA63C72AF8A137B5FF0AED2EE2   \n",
       "\n",
       "                    date_from           date_until  \\\n",
       "14148232  2016-11-12 17:29:19  2016-11-12 17:37:17   \n",
       "1844396   2014-06-25 17:47:32  2014-06-25 18:13:43   \n",
       "13130924  2016-09-11 15:15:27  2016-09-11 15:27:48   \n",
       "880300    2014-04-24 14:41:10  2014-04-24 14:48:55   \n",
       "\n",
       "                        start_station_name  start_station_id  \\\n",
       "14148232    Berliner Tor / Berlinertordamm            131652   \n",
       "1844396   Hauptbahnhof Ost / Hachmannplatz            131873   \n",
       "13130924    Hudtwalckerstraße / Bebelallee            138378   \n",
       "880300            Jarrestraße / Rambatzweg            138376   \n",
       "\n",
       "                     end_station_name  end_station_id  \\\n",
       "14148232  Lange Reihe / Lohmühlenpark          138385   \n",
       "1844396   Kurze Mühren/Spitalerstraße          131647   \n",
       "13130924           Leinpfad/Fernsicht          224650   \n",
       "880300          Wiesendamm/Roggenkamp          212607   \n",
       "\n",
       "                       booked_via  duration_in_min  distance_in_km  \n",
       "14148232               iPhone SRH                8        0.976115  \n",
       "1844396                       IVR               27        0.299164  \n",
       "13130924  Terminal HH_72 (-2369-)               13        1.566832  \n",
       "880300    Terminal HH_75 (-2364-)                8        1.486782  "
      ]
     },
     "execution_count": 84,
     "metadata": {},
     "output_type": "execute_result"
    }
   ],
   "source": [
    "trips.sample(4)"
   ]
  },
  {
   "cell_type": "code",
   "execution_count": 89,
   "metadata": {},
   "outputs": [],
   "source": [
    "# Save prepared datasets\n",
    "\n",
    "stations.to_csv('../data/clean/stations.csv', index=False)\n",
    "trips.to_csv('../data/clean/trips.csv', index=False)"
   ]
  },
  {
   "cell_type": "code",
   "execution_count": null,
   "metadata": {},
   "outputs": [],
   "source": []
  }
 ],
 "metadata": {
  "kernelspec": {
   "display_name": "Python 3",
   "language": "python",
   "name": "python3"
  },
  "language_info": {
   "codemirror_mode": {
    "name": "ipython",
    "version": 3
   },
   "file_extension": ".py",
   "mimetype": "text/x-python",
   "name": "python",
   "nbconvert_exporter": "python",
   "pygments_lexer": "ipython3",
   "version": "3.8.5"
  }
 },
 "nbformat": 4,
 "nbformat_minor": 4
}
