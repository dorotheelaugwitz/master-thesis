{
 "cells": [
  {
   "cell_type": "code",
   "execution_count": 1,
   "id": "adapted-longer",
   "metadata": {},
   "outputs": [
    {
     "name": "stdout",
     "output_type": "stream",
     "text": [
      "Pandas Version: 1.2.4\n",
      "Numpy Version: 1.18.5\n"
     ]
    }
   ],
   "source": [
    "import pandas as pd\n",
    "import numpy as np\n",
    "\n",
    "print(\"Pandas Version: \" + pd.__version__)\n",
    "print(\"Numpy Version: \" + np.__version__)"
   ]
  },
  {
   "cell_type": "code",
   "execution_count": 16,
   "id": "affected-japan",
   "metadata": {},
   "outputs": [
    {
     "data": {
      "text/html": [
       "<div>\n",
       "<style scoped>\n",
       "    .dataframe tbody tr th:only-of-type {\n",
       "        vertical-align: middle;\n",
       "    }\n",
       "\n",
       "    .dataframe tbody tr th {\n",
       "        vertical-align: top;\n",
       "    }\n",
       "\n",
       "    .dataframe thead th {\n",
       "        text-align: right;\n",
       "    }\n",
       "</style>\n",
       "<table border=\"1\" class=\"dataframe\">\n",
       "  <thead>\n",
       "    <tr style=\"text-align: right;\">\n",
       "      <th></th>\n",
       "      <th>bike_id</th>\n",
       "      <th>user_id</th>\n",
       "      <th>date_from</th>\n",
       "      <th>date_until</th>\n",
       "      <th>start_station_name</th>\n",
       "      <th>start_station_id</th>\n",
       "      <th>end_station_name</th>\n",
       "      <th>end_station_id</th>\n",
       "      <th>booked_via</th>\n",
       "      <th>duration_in_min</th>\n",
       "      <th>distance_in_km</th>\n",
       "      <th>speed_in_kmh</th>\n",
       "    </tr>\n",
       "  </thead>\n",
       "  <tbody>\n",
       "    <tr>\n",
       "      <th>0</th>\n",
       "      <td>143517</td>\n",
       "      <td>A821059B555C7764A2FF801180874A2FCB326222</td>\n",
       "      <td>2014-01-01 00:34:54</td>\n",
       "      <td>2014-01-01 00:50:14</td>\n",
       "      <td>U-Bahn Baumwall</td>\n",
       "      <td>214170</td>\n",
       "      <td>Mönckebergstraße / Rosenstraße</td>\n",
       "      <td>131880</td>\n",
       "      <td>iPhone SRH</td>\n",
       "      <td>16</td>\n",
       "      <td>1.293661</td>\n",
       "      <td>4.851229</td>\n",
       "    </tr>\n",
       "    <tr>\n",
       "      <th>1</th>\n",
       "      <td>119830</td>\n",
       "      <td>1EBC930DB407ACEAE2FDE23A6CA40492EA3DFBB2</td>\n",
       "      <td>2014-01-01 01:39:55</td>\n",
       "      <td>2014-01-01 01:57:27</td>\n",
       "      <td>Bahnhof Altona Ost/Max-Brauer-Allee</td>\n",
       "      <td>131646</td>\n",
       "      <td>Schulterblatt/Eifflerstraße</td>\n",
       "      <td>131648</td>\n",
       "      <td>Android SRH</td>\n",
       "      <td>18</td>\n",
       "      <td>2.032271</td>\n",
       "      <td>6.774236</td>\n",
       "    </tr>\n",
       "    <tr>\n",
       "      <th>2</th>\n",
       "      <td>143501</td>\n",
       "      <td>7AD2C1B70137479062A6DD73815835986677BB2D</td>\n",
       "      <td>2014-01-01 01:40:20</td>\n",
       "      <td>2014-01-01 01:53:09</td>\n",
       "      <td>Weidestraße/Biedermannplatz</td>\n",
       "      <td>211922</td>\n",
       "      <td>Jarrestraße / Rambatzweg</td>\n",
       "      <td>138376</td>\n",
       "      <td>Techniker HH_119 (-2334-)</td>\n",
       "      <td>13</td>\n",
       "      <td>0.954178</td>\n",
       "      <td>4.403899</td>\n",
       "    </tr>\n",
       "  </tbody>\n",
       "</table>\n",
       "</div>"
      ],
      "text/plain": [
       "   bike_id                                   user_id           date_from  \\\n",
       "0   143517  A821059B555C7764A2FF801180874A2FCB326222 2014-01-01 00:34:54   \n",
       "1   119830  1EBC930DB407ACEAE2FDE23A6CA40492EA3DFBB2 2014-01-01 01:39:55   \n",
       "2   143501  7AD2C1B70137479062A6DD73815835986677BB2D 2014-01-01 01:40:20   \n",
       "\n",
       "           date_until                   start_station_name  start_station_id  \\\n",
       "0 2014-01-01 00:50:14                      U-Bahn Baumwall            214170   \n",
       "1 2014-01-01 01:57:27  Bahnhof Altona Ost/Max-Brauer-Allee            131646   \n",
       "2 2014-01-01 01:53:09          Weidestraße/Biedermannplatz            211922   \n",
       "\n",
       "                 end_station_name  end_station_id                 booked_via  \\\n",
       "0  Mönckebergstraße / Rosenstraße          131880                 iPhone SRH   \n",
       "1     Schulterblatt/Eifflerstraße          131648                Android SRH   \n",
       "2        Jarrestraße / Rambatzweg          138376  Techniker HH_119 (-2334-)   \n",
       "\n",
       "   duration_in_min  distance_in_km  speed_in_kmh  \n",
       "0               16        1.293661      4.851229  \n",
       "1               18        2.032271      6.774236  \n",
       "2               13        0.954178      4.403899  "
      ]
     },
     "execution_count": 16,
     "metadata": {},
     "output_type": "execute_result"
    }
   ],
   "source": [
    "trips = pd.read_csv(\"../data/clean/trips.csv\", parse_dates=[\"date_from\", \"date_until\"])\n",
    "trips.head(3)"
   ]
  },
  {
   "cell_type": "code",
   "execution_count": 3,
   "id": "classical-outside",
   "metadata": {},
   "outputs": [],
   "source": [
    "user_groups = trips.groupby([\"user_id\"])"
   ]
  },
  {
   "cell_type": "code",
   "execution_count": 4,
   "id": "changed-evidence",
   "metadata": {},
   "outputs": [],
   "source": [
    "last_moment = trips.date_until.max()"
   ]
  },
  {
   "cell_type": "code",
   "execution_count": 5,
   "id": "joined-anger",
   "metadata": {},
   "outputs": [],
   "source": [
    "user_trip_dates = trips.groupby([\"user_id\"], as_index=False).agg({\"date_from\": [np.min, np.max]})\n",
    "user_trip_dates.columns = pd.Index([\"user_id\", \"date_from_min\", \"date_from_max\"])\n",
    "user_trip_dates.set_index(\"user_id\", inplace=True)"
   ]
  },
  {
   "cell_type": "code",
   "execution_count": 6,
   "id": "ready-plant",
   "metadata": {},
   "outputs": [],
   "source": [
    "trips_count = user_groups.size().to_frame()\n",
    "trips_count.rename(columns = {0: \"trips_count\"}, inplace=True)"
   ]
  },
  {
   "cell_type": "code",
   "execution_count": 7,
   "id": "seventh-ridge",
   "metadata": {},
   "outputs": [],
   "source": [
    "active_period_in_days = user_groups.apply(\n",
    "    lambda x: (x.date_from.max() - x.date_from.min()).days\n",
    ").to_frame()\n",
    "active_period_in_days.rename(columns = {0: \"active_period_in_days\"}, inplace=True)"
   ]
  },
  {
   "cell_type": "code",
   "execution_count": 8,
   "id": "enabling-teaching",
   "metadata": {},
   "outputs": [],
   "source": [
    "days_since_first_activity = user_groups.apply(\n",
    "    lambda x: (last_moment - x.date_from.min()).days\n",
    ").to_frame()\n",
    "days_since_first_activity.rename(columns = {0: \"days_since_first_activity\"}, inplace=True)"
   ]
  },
  {
   "cell_type": "code",
   "execution_count": 9,
   "id": "developing-standard",
   "metadata": {},
   "outputs": [],
   "source": [
    "days_since_last_activity = user_groups.apply(\n",
    "    lambda x: (last_moment - x.date_from.max()).days\n",
    ").to_frame()\n",
    "days_since_last_activity.rename(columns = {0: \"days_since_last_activity\"}, inplace=True)"
   ]
  },
  {
   "cell_type": "code",
   "execution_count": 10,
   "id": "retained-xerox",
   "metadata": {},
   "outputs": [],
   "source": [
    "mean_duration_in_min = user_groups.apply(\n",
    "    lambda x: x.duration_in_min.mean()\n",
    ").to_frame()\n",
    "mean_duration_in_min.rename(columns = {0: \"mean_duration_in_min\"}, inplace=True)"
   ]
  },
  {
   "cell_type": "code",
   "execution_count": 11,
   "id": "recent-malpractice",
   "metadata": {},
   "outputs": [],
   "source": [
    "mean_distance_in_km = user_groups.apply(\n",
    "    lambda x: x.distance_in_km.mean()\n",
    ").to_frame()\n",
    "mean_distance_in_km.rename(columns = {0: \"mean_distance_in_km\"}, inplace=True)"
   ]
  },
  {
   "cell_type": "code",
   "execution_count": 12,
   "id": "settled-statement",
   "metadata": {},
   "outputs": [],
   "source": [
    "mean_speed_in_kmh = user_groups.apply(\n",
    "    lambda x: x.speed_in_kmh.mean()\n",
    ").to_frame()\n",
    "mean_speed_in_kmh.rename(columns = {0: \"mean_speed_in_kmh\"}, inplace=True)"
   ]
  },
  {
   "cell_type": "code",
   "execution_count": 13,
   "id": "sealed-antibody",
   "metadata": {},
   "outputs": [],
   "source": [
    "users = pd.merge(user_trip_dates, trips_count, left_index=True, right_index=True)\n",
    "users = pd.merge(users, active_period_in_days, left_index=True, right_index=True)\n",
    "users = pd.merge(users, days_since_first_activity, left_index=True, right_index=True)\n",
    "users = pd.merge(users, days_since_last_activity, left_index=True, right_index=True)\n",
    "users = pd.merge(users, mean_duration_in_min, left_index=True, right_index=True)\n",
    "users = pd.merge(users, mean_distance_in_km, left_index=True, right_index=True)\n",
    "users = pd.merge(users, mean_speed_in_kmh, left_index=True, right_index=True)"
   ]
  },
  {
   "cell_type": "code",
   "execution_count": null,
   "id": "7b214d7a",
   "metadata": {},
   "outputs": [],
   "source": [
    "# Calculate downtime beetween two trips of a user\n",
    "\n",
    "def time_since_last_checkout(user_group):\n",
    "    user_group[\"time_since_last_checkout\"] = user_group.date_from.diff()\n",
    "    return user_group\n",
    "\n",
    "trips = trips.sort_values(by=\"date_from\", ascending=True).groupby(\"user_id\").apply(time_since_last_checkout)"
   ]
  },
  {
   "cell_type": "code",
   "execution_count": 14,
   "id": "190bc18d",
   "metadata": {},
   "outputs": [
    {
     "ename": "KeyError",
     "evalue": "\"['time_since_last_checkout'] not in index\"",
     "output_type": "error",
     "traceback": [
      "\u001b[0;31m---------------------------------------------------------------------------\u001b[0m",
      "\u001b[0;31mKeyError\u001b[0m                                  Traceback (most recent call last)",
      "\u001b[0;32m<ipython-input-14-5e78ddc1559f>\u001b[0m in \u001b[0;36m<module>\u001b[0;34m\u001b[0m\n\u001b[1;32m      2\u001b[0m \u001b[0;31m# Does only include downtimes that are longer than 3 Minutes\u001b[0m\u001b[0;34m\u001b[0m\u001b[0;34m\u001b[0m\u001b[0;34m\u001b[0m\u001b[0m\n\u001b[1;32m      3\u001b[0m \u001b[0;34m\u001b[0m\u001b[0m\n\u001b[0;32m----> 4\u001b[0;31m \u001b[0mmean_time_between_trips\u001b[0m \u001b[0;34m=\u001b[0m \u001b[0mtrips\u001b[0m\u001b[0;34m[\u001b[0m\u001b[0;34m[\u001b[0m\u001b[0;34m\"user_id\"\u001b[0m\u001b[0;34m,\u001b[0m \u001b[0;34m\"time_since_last_checkout\"\u001b[0m\u001b[0;34m]\u001b[0m\u001b[0;34m]\u001b[0m\u001b[0;34m.\u001b[0m\u001b[0mdropna\u001b[0m\u001b[0;34m(\u001b[0m\u001b[0;34m)\u001b[0m\u001b[0;34m\u001b[0m\u001b[0;34m\u001b[0m\u001b[0m\n\u001b[0m\u001b[1;32m      5\u001b[0m mean_time_between_trips = mean_time_between_trips[\n\u001b[1;32m      6\u001b[0m     \u001b[0mmean_time_between_trips\u001b[0m\u001b[0;34m.\u001b[0m\u001b[0mtime_since_last_checkout\u001b[0m \u001b[0;34m>\u001b[0m \u001b[0mpd\u001b[0m\u001b[0;34m.\u001b[0m\u001b[0mTimedelta\u001b[0m\u001b[0;34m(\u001b[0m\u001b[0;36m3\u001b[0m\u001b[0;34m,\u001b[0m \u001b[0;34m\"minutes\"\u001b[0m\u001b[0;34m)\u001b[0m\u001b[0;34m\u001b[0m\u001b[0;34m\u001b[0m\u001b[0m\n",
      "\u001b[0;32m/usr/local/anaconda3/lib/python3.8/site-packages/pandas/core/frame.py\u001b[0m in \u001b[0;36m__getitem__\u001b[0;34m(self, key)\u001b[0m\n\u001b[1;32m   3028\u001b[0m             \u001b[0;32mif\u001b[0m \u001b[0mis_iterator\u001b[0m\u001b[0;34m(\u001b[0m\u001b[0mkey\u001b[0m\u001b[0;34m)\u001b[0m\u001b[0;34m:\u001b[0m\u001b[0;34m\u001b[0m\u001b[0;34m\u001b[0m\u001b[0m\n\u001b[1;32m   3029\u001b[0m                 \u001b[0mkey\u001b[0m \u001b[0;34m=\u001b[0m \u001b[0mlist\u001b[0m\u001b[0;34m(\u001b[0m\u001b[0mkey\u001b[0m\u001b[0;34m)\u001b[0m\u001b[0;34m\u001b[0m\u001b[0;34m\u001b[0m\u001b[0m\n\u001b[0;32m-> 3030\u001b[0;31m             \u001b[0mindexer\u001b[0m \u001b[0;34m=\u001b[0m \u001b[0mself\u001b[0m\u001b[0;34m.\u001b[0m\u001b[0mloc\u001b[0m\u001b[0;34m.\u001b[0m\u001b[0m_get_listlike_indexer\u001b[0m\u001b[0;34m(\u001b[0m\u001b[0mkey\u001b[0m\u001b[0;34m,\u001b[0m \u001b[0maxis\u001b[0m\u001b[0;34m=\u001b[0m\u001b[0;36m1\u001b[0m\u001b[0;34m,\u001b[0m \u001b[0mraise_missing\u001b[0m\u001b[0;34m=\u001b[0m\u001b[0;32mTrue\u001b[0m\u001b[0;34m)\u001b[0m\u001b[0;34m[\u001b[0m\u001b[0;36m1\u001b[0m\u001b[0;34m]\u001b[0m\u001b[0;34m\u001b[0m\u001b[0;34m\u001b[0m\u001b[0m\n\u001b[0m\u001b[1;32m   3031\u001b[0m \u001b[0;34m\u001b[0m\u001b[0m\n\u001b[1;32m   3032\u001b[0m         \u001b[0;31m# take() does not accept boolean indexers\u001b[0m\u001b[0;34m\u001b[0m\u001b[0;34m\u001b[0m\u001b[0;34m\u001b[0m\u001b[0m\n",
      "\u001b[0;32m/usr/local/anaconda3/lib/python3.8/site-packages/pandas/core/indexing.py\u001b[0m in \u001b[0;36m_get_listlike_indexer\u001b[0;34m(self, key, axis, raise_missing)\u001b[0m\n\u001b[1;32m   1264\u001b[0m             \u001b[0mkeyarr\u001b[0m\u001b[0;34m,\u001b[0m \u001b[0mindexer\u001b[0m\u001b[0;34m,\u001b[0m \u001b[0mnew_indexer\u001b[0m \u001b[0;34m=\u001b[0m \u001b[0max\u001b[0m\u001b[0;34m.\u001b[0m\u001b[0m_reindex_non_unique\u001b[0m\u001b[0;34m(\u001b[0m\u001b[0mkeyarr\u001b[0m\u001b[0;34m)\u001b[0m\u001b[0;34m\u001b[0m\u001b[0;34m\u001b[0m\u001b[0m\n\u001b[1;32m   1265\u001b[0m \u001b[0;34m\u001b[0m\u001b[0m\n\u001b[0;32m-> 1266\u001b[0;31m         \u001b[0mself\u001b[0m\u001b[0;34m.\u001b[0m\u001b[0m_validate_read_indexer\u001b[0m\u001b[0;34m(\u001b[0m\u001b[0mkeyarr\u001b[0m\u001b[0;34m,\u001b[0m \u001b[0mindexer\u001b[0m\u001b[0;34m,\u001b[0m \u001b[0maxis\u001b[0m\u001b[0;34m,\u001b[0m \u001b[0mraise_missing\u001b[0m\u001b[0;34m=\u001b[0m\u001b[0mraise_missing\u001b[0m\u001b[0;34m)\u001b[0m\u001b[0;34m\u001b[0m\u001b[0;34m\u001b[0m\u001b[0m\n\u001b[0m\u001b[1;32m   1267\u001b[0m         \u001b[0;32mreturn\u001b[0m \u001b[0mkeyarr\u001b[0m\u001b[0;34m,\u001b[0m \u001b[0mindexer\u001b[0m\u001b[0;34m\u001b[0m\u001b[0;34m\u001b[0m\u001b[0m\n\u001b[1;32m   1268\u001b[0m \u001b[0;34m\u001b[0m\u001b[0m\n",
      "\u001b[0;32m/usr/local/anaconda3/lib/python3.8/site-packages/pandas/core/indexing.py\u001b[0m in \u001b[0;36m_validate_read_indexer\u001b[0;34m(self, key, indexer, axis, raise_missing)\u001b[0m\n\u001b[1;32m   1314\u001b[0m             \u001b[0;32mif\u001b[0m \u001b[0mraise_missing\u001b[0m\u001b[0;34m:\u001b[0m\u001b[0;34m\u001b[0m\u001b[0;34m\u001b[0m\u001b[0m\n\u001b[1;32m   1315\u001b[0m                 \u001b[0mnot_found\u001b[0m \u001b[0;34m=\u001b[0m \u001b[0mlist\u001b[0m\u001b[0;34m(\u001b[0m\u001b[0mset\u001b[0m\u001b[0;34m(\u001b[0m\u001b[0mkey\u001b[0m\u001b[0;34m)\u001b[0m \u001b[0;34m-\u001b[0m \u001b[0mset\u001b[0m\u001b[0;34m(\u001b[0m\u001b[0max\u001b[0m\u001b[0;34m)\u001b[0m\u001b[0;34m)\u001b[0m\u001b[0;34m\u001b[0m\u001b[0;34m\u001b[0m\u001b[0m\n\u001b[0;32m-> 1316\u001b[0;31m                 \u001b[0;32mraise\u001b[0m \u001b[0mKeyError\u001b[0m\u001b[0;34m(\u001b[0m\u001b[0;34mf\"{not_found} not in index\"\u001b[0m\u001b[0;34m)\u001b[0m\u001b[0;34m\u001b[0m\u001b[0;34m\u001b[0m\u001b[0m\n\u001b[0m\u001b[1;32m   1317\u001b[0m \u001b[0;34m\u001b[0m\u001b[0m\n\u001b[1;32m   1318\u001b[0m             \u001b[0mnot_found\u001b[0m \u001b[0;34m=\u001b[0m \u001b[0mkey\u001b[0m\u001b[0;34m[\u001b[0m\u001b[0mmissing_mask\u001b[0m\u001b[0;34m]\u001b[0m\u001b[0;34m\u001b[0m\u001b[0;34m\u001b[0m\u001b[0m\n",
      "\u001b[0;31mKeyError\u001b[0m: \"['time_since_last_checkout'] not in index\""
     ]
    }
   ],
   "source": [
    "# Calculating the mean time between trips in hours\n",
    "# Does only include downtimes that are longer than 3 Minutes\n",
    "\n",
    "mean_time_between_trips = trips[[\"user_id\", \"time_since_last_checkout\"]].dropna()\n",
    "mean_time_between_trips = mean_time_between_trips[\n",
    "    mean_time_between_trips.time_since_last_checkout > pd.Timedelta(3, \"minutes\")\n",
    "]\n",
    "mean_time_between_trips = mean_time_between_trips.groupby(\"user_id\").mean(numeric_only=False)\n",
    "\n",
    "users = pd.merge(\n",
    "    users, mean_time_between_trips, left_index=True, right_index=True\n",
    ").rename(columns={\"time_since_last_checkout\": \"mean_time_between_trips\"})"
   ]
  },
  {
   "cell_type": "code",
   "execution_count": null,
   "id": "91df3f50",
   "metadata": {},
   "outputs": [],
   "source": [
    "mean_time_between_trips.describe()"
   ]
  },
  {
   "cell_type": "code",
   "execution_count": null,
   "id": "e290bc38",
   "metadata": {},
   "outputs": [],
   "source": [
    "users[\"trips_per_day\"] = users[\"active_period_in_days\"] / users[\"trips_count\"]"
   ]
  },
  {
   "cell_type": "code",
   "execution_count": null,
   "id": "1637db74",
   "metadata": {},
   "outputs": [],
   "source": [
    "# Labelling users as 'casual' or 'regular' based on activity patterns.\n",
    "\n",
    "REGULAR_USER_ACTIVE_DAYS_MIN = 28\n",
    "REGULAR_USER_THRESHOLD = 4\n",
    "\n",
    "def label_user_type(user):\n",
    "    if (\n",
    "        user.trips_per_day <= REGULAR_USER_THRESHOLD\n",
    "    ) & (\n",
    "        user.active_period_in_days >= REGULAR_USER_ACTIVE_DAYS_MIN\n",
    "    ):\n",
    "        return \"regular\"\n",
    "    else:\n",
    "        return \"casual\"\n",
    "\n",
    "users[\"type\"] = users.apply(label_user_type, axis=1)"
   ]
  },
  {
   "cell_type": "code",
   "execution_count": null,
   "id": "19029eab",
   "metadata": {},
   "outputs": [],
   "source": [
    "users.sample(5)"
   ]
  },
  {
   "cell_type": "code",
   "execution_count": null,
   "id": "purple-crisis",
   "metadata": {},
   "outputs": [],
   "source": [
    "users.to_csv(\"../data/clean/users.csv\", index=True)"
   ]
  },
  {
   "cell_type": "code",
   "execution_count": null,
   "id": "boring-sister",
   "metadata": {},
   "outputs": [],
   "source": []
  }
 ],
 "metadata": {
  "kernelspec": {
   "display_name": "Python 3",
   "language": "python",
   "name": "python3"
  },
  "language_info": {
   "codemirror_mode": {
    "name": "ipython",
    "version": 3
   },
   "file_extension": ".py",
   "mimetype": "text/x-python",
   "name": "python",
   "nbconvert_exporter": "python",
   "pygments_lexer": "ipython3",
   "version": "3.8.5"
  }
 },
 "nbformat": 4,
 "nbformat_minor": 5
}
