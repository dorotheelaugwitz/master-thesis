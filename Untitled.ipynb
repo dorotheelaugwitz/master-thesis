{
 "cells": [
  {
   "cell_type": "code",
   "execution_count": 1,
   "id": "63c359cd",
   "metadata": {},
   "outputs": [],
   "source": [
    "import pandas as pd\n",
    "import numpy as np"
   ]
  },
  {
   "cell_type": "code",
   "execution_count": 5,
   "id": "90da5dfd",
   "metadata": {},
   "outputs": [
    {
     "name": "stderr",
     "output_type": "stream",
     "text": [
      "/usr/local/anaconda3/lib/python3.8/site-packages/IPython/core/interactiveshell.py:3165: DtypeWarning: Columns (0,1,2,4,6,7,8,12,13,15,16,17,18,21,22,23,24,25,26,27,28,29,30,31,32,34,35,36,37) have mixed types.Specify dtype option on import or set low_memory=False.\n",
      "  has_raised = await self.run_ast_nodes(code_ast.body, cell_name,\n"
     ]
    },
    {
     "data": {
      "text/html": [
       "<div>\n",
       "<style scoped>\n",
       "    .dataframe tbody tr th:only-of-type {\n",
       "        vertical-align: middle;\n",
       "    }\n",
       "\n",
       "    .dataframe tbody tr th {\n",
       "        vertical-align: top;\n",
       "    }\n",
       "\n",
       "    .dataframe thead th {\n",
       "        text-align: right;\n",
       "    }\n",
       "</style>\n",
       "<table border=\"1\" class=\"dataframe\">\n",
       "  <thead>\n",
       "    <tr style=\"text-align: right;\">\n",
       "      <th></th>\n",
       "      <th>BOOKING_HAL_ID</th>\n",
       "      <th>EFFECTIVE_CATEGORY_HAL_ID</th>\n",
       "      <th>VEHICLE_HAL_ID</th>\n",
       "      <th>VEHICLE_HAL_SRC</th>\n",
       "      <th>RENTAL_OBJECT_HAL_ID</th>\n",
       "      <th>RENTAL_OBJECT_HAL_SRC</th>\n",
       "      <th>VEHICLE_COMPANY_HAL_ID</th>\n",
       "      <th>DUTY_TRIP_X</th>\n",
       "      <th>CUSTOMER_HAL_ID</th>\n",
       "      <th>DATE_BOOKING</th>\n",
       "      <th>...</th>\n",
       "      <th>START_RENTAL_ZONE</th>\n",
       "      <th>START_RENTAL_ZONE_GROUP</th>\n",
       "      <th>END_RENTAL_ZONE</th>\n",
       "      <th>END_RENTAL_ZONE_GROUP</th>\n",
       "      <th>CITY_RENTAL_ZONE</th>\n",
       "      <th>ACTUAL_VEHICLE_CATEGORY</th>\n",
       "      <th>BOOKING_LENGTH_CLASSIFICATION</th>\n",
       "      <th>TECHNICAL_USER_NAME</th>\n",
       "      <th>TECHNICAL_USER_NAME_LONG</th>\n",
       "      <th>CATEGORY_HAL_ID</th>\n",
       "    </tr>\n",
       "  </thead>\n",
       "  <tbody>\n",
       "    <tr>\n",
       "      <th>0</th>\n",
       "      <td>BOOKING_HAL_ID</td>\n",
       "      <td>EFFECTIVE_CATEGORY_HAL_ID</td>\n",
       "      <td>VEHICLE_HAL_ID</td>\n",
       "      <td>VEHICLE_HAL_SRC</td>\n",
       "      <td>RENTAL_OBJECT_HAL_ID</td>\n",
       "      <td>RENTAL_OBJECT_HAL_SRC</td>\n",
       "      <td>VEHICLE_COMPANY_HAL_ID</td>\n",
       "      <td>DUTY_TRIP_X</td>\n",
       "      <td>CUSTOMER_HAL_ID</td>\n",
       "      <td>DATE_BOOKING</td>\n",
       "      <td>...</td>\n",
       "      <td>START_RENTAL_ZONE</td>\n",
       "      <td>START_RENTAL_ZONE_GROUP</td>\n",
       "      <td>END_RENTAL_ZONE</td>\n",
       "      <td>END_RENTAL_ZONE_GROUP</td>\n",
       "      <td>CITY_RENTAL_ZONE</td>\n",
       "      <td>ACTUAL_VEHICLE_CATEGORY</td>\n",
       "      <td>BOOKING_LENGTH_CLASSIFICATION</td>\n",
       "      <td>TECHNICAL_USER_NAME</td>\n",
       "      <td>TECHNICAL_USER_NAME_LONG</td>\n",
       "      <td>CATEGORY_HAL_ID</td>\n",
       "    </tr>\n",
       "    <tr>\n",
       "      <th>1</th>\n",
       "      <td>33020151</td>\n",
       "      <td>51000</td>\n",
       "      <td>120673</td>\n",
       "      <td>cab_fahrrad</td>\n",
       "      <td>501950</td>\n",
       "      <td>autopos</td>\n",
       "      <td>510</td>\n",
       "      <td>0</td>\n",
       "      <td>112512288</td>\n",
       "      <td>2015-09-19 18:52:12.0000000</td>\n",
       "      <td>...</td>\n",
       "      <td>NaN</td>\n",
       "      <td>Dehnhaide/Barmbeker Markt</td>\n",
       "      <td>NaN</td>\n",
       "      <td>Saarlandstra�e/Wiesendamm</td>\n",
       "      <td>Hamburg</td>\n",
       "      <td>Fahrrad</td>\n",
       "      <td>1) 0 bis 15 Minuten</td>\n",
       "      <td>Schnittstelle</td>\n",
       "      <td>iPhone SRH</td>\n",
       "      <td>51000</td>\n",
       "    </tr>\n",
       "    <tr>\n",
       "      <th>2</th>\n",
       "      <td>33024644</td>\n",
       "      <td>51000</td>\n",
       "      <td>108329</td>\n",
       "      <td>cab_fahrrad</td>\n",
       "      <td>510737</td>\n",
       "      <td>autopos</td>\n",
       "      <td>510</td>\n",
       "      <td>0</td>\n",
       "      <td>112324238</td>\n",
       "      <td>2015-09-20 00:57:50.0000000</td>\n",
       "      <td>...</td>\n",
       "      <td>NaN</td>\n",
       "      <td>Fischmarkt/Breite Stra�e</td>\n",
       "      <td>NaN</td>\n",
       "      <td>K�nigstra�e / Struenseestra�e</td>\n",
       "      <td>Hamburg</td>\n",
       "      <td>Fahrrad</td>\n",
       "      <td>1) 0 bis 15 Minuten</td>\n",
       "      <td>Techniker</td>\n",
       "      <td>Terminal HH_001 (-2112-)</td>\n",
       "      <td>51000</td>\n",
       "    </tr>\n",
       "    <tr>\n",
       "      <th>3</th>\n",
       "      <td>33020149</td>\n",
       "      <td>50000</td>\n",
       "      <td>106012</td>\n",
       "      <td>cab_fahrrad</td>\n",
       "      <td>508074</td>\n",
       "      <td>autopos</td>\n",
       "      <td>500</td>\n",
       "      <td>0</td>\n",
       "      <td>111871774</td>\n",
       "      <td>2015-09-19 18:52:01.0000000</td>\n",
       "      <td>...</td>\n",
       "      <td>NaN</td>\n",
       "      <td>NaN</td>\n",
       "      <td>NaN</td>\n",
       "      <td>NaN</td>\n",
       "      <td>M�nchen</td>\n",
       "      <td>Fahrrad</td>\n",
       "      <td>1) 0 bis 15 Minuten</td>\n",
       "      <td>t</td>\n",
       "      <td>IVR</td>\n",
       "      <td>50000</td>\n",
       "    </tr>\n",
       "    <tr>\n",
       "      <th>4</th>\n",
       "      <td>33020185</td>\n",
       "      <td>50000</td>\n",
       "      <td>110376</td>\n",
       "      <td>cab_fahrrad</td>\n",
       "      <td>512332</td>\n",
       "      <td>autopos</td>\n",
       "      <td>500</td>\n",
       "      <td>0</td>\n",
       "      <td>111751418</td>\n",
       "      <td>2015-09-19 18:54:00.0000000</td>\n",
       "      <td>...</td>\n",
       "      <td>NaN</td>\n",
       "      <td>NaN</td>\n",
       "      <td>NaN</td>\n",
       "      <td>NaN</td>\n",
       "      <td>K�ln</td>\n",
       "      <td>Fahrrad</td>\n",
       "      <td>2) 15 bis 30 Minuten</td>\n",
       "      <td>Schnittstelle</td>\n",
       "      <td>iPhone CAB</td>\n",
       "      <td>50000</td>\n",
       "    </tr>\n",
       "    <tr>\n",
       "      <th>...</th>\n",
       "      <td>...</td>\n",
       "      <td>...</td>\n",
       "      <td>...</td>\n",
       "      <td>...</td>\n",
       "      <td>...</td>\n",
       "      <td>...</td>\n",
       "      <td>...</td>\n",
       "      <td>...</td>\n",
       "      <td>...</td>\n",
       "      <td>...</td>\n",
       "      <td>...</td>\n",
       "      <td>...</td>\n",
       "      <td>...</td>\n",
       "      <td>...</td>\n",
       "      <td>...</td>\n",
       "      <td>...</td>\n",
       "      <td>...</td>\n",
       "      <td>...</td>\n",
       "      <td>...</td>\n",
       "      <td>...</td>\n",
       "      <td>...</td>\n",
       "    </tr>\n",
       "    <tr>\n",
       "      <th>12140995</th>\n",
       "      <td>32131776</td>\n",
       "      <td>51000</td>\n",
       "      <td>120431</td>\n",
       "      <td>cab_fahrrad</td>\n",
       "      <td>500571</td>\n",
       "      <td>autopos</td>\n",
       "      <td>510</td>\n",
       "      <td>0</td>\n",
       "      <td>112361681</td>\n",
       "      <td>2015-08-13 17:13:54.0000000</td>\n",
       "      <td>...</td>\n",
       "      <td>NaN</td>\n",
       "      <td>Millerntorplatz/St.Pauli</td>\n",
       "      <td>NaN</td>\n",
       "      <td>Messehallen / Marktstra�e</td>\n",
       "      <td>Hamburg</td>\n",
       "      <td>Fahrrad</td>\n",
       "      <td>1) 0 bis 15 Minuten</td>\n",
       "      <td>Techniker</td>\n",
       "      <td>Terminal HH_004 (-2612-)</td>\n",
       "      <td>51000</td>\n",
       "    </tr>\n",
       "    <tr>\n",
       "      <th>12140996</th>\n",
       "      <td>32131773</td>\n",
       "      <td>51000</td>\n",
       "      <td>120315</td>\n",
       "      <td>cab_fahrrad</td>\n",
       "      <td>480633</td>\n",
       "      <td>autopos</td>\n",
       "      <td>510</td>\n",
       "      <td>0</td>\n",
       "      <td>112317623</td>\n",
       "      <td>2015-08-13 17:13:50.0000000</td>\n",
       "      <td>...</td>\n",
       "      <td>NaN</td>\n",
       "      <td>Neunenfelder Stra�e/ Kurt-Emmerich-Platz</td>\n",
       "      <td>NaN</td>\n",
       "      <td>Wilhelmsburger Platz/Zur Schleuse</td>\n",
       "      <td>Hamburg</td>\n",
       "      <td>Fahrrad</td>\n",
       "      <td>2) 15 bis 30 Minuten</td>\n",
       "      <td>Schnittstelle</td>\n",
       "      <td>Android SRH</td>\n",
       "      <td>51000</td>\n",
       "    </tr>\n",
       "    <tr>\n",
       "      <th>12140997</th>\n",
       "      <td>32131775</td>\n",
       "      <td>51000</td>\n",
       "      <td>120466</td>\n",
       "      <td>cab_fahrrad</td>\n",
       "      <td>473566</td>\n",
       "      <td>autopos</td>\n",
       "      <td>510</td>\n",
       "      <td>0</td>\n",
       "      <td>112806251</td>\n",
       "      <td>2015-08-13 17:13:51.0000000</td>\n",
       "      <td>...</td>\n",
       "      <td>NaN</td>\n",
       "      <td>U-Bahn Baumwall</td>\n",
       "      <td>NaN</td>\n",
       "      <td>Wilhelmsburger Platz/Zur Schleuse</td>\n",
       "      <td>Hamburg</td>\n",
       "      <td>Fahrrad</td>\n",
       "      <td>3) 30 bis 60 Minuten</td>\n",
       "      <td>Techniker</td>\n",
       "      <td>Terminal HH_010 (-2631-)</td>\n",
       "      <td>51000</td>\n",
       "    </tr>\n",
       "    <tr>\n",
       "      <th>12140998</th>\n",
       "      <td>32131777</td>\n",
       "      <td>51000</td>\n",
       "      <td>109127</td>\n",
       "      <td>cab_fahrrad</td>\n",
       "      <td>487228</td>\n",
       "      <td>autopos</td>\n",
       "      <td>510</td>\n",
       "      <td>0</td>\n",
       "      <td>112700983</td>\n",
       "      <td>2015-08-13 17:13:57.0000000</td>\n",
       "      <td>...</td>\n",
       "      <td>NaN</td>\n",
       "      <td>Borgweg/Stadtpark</td>\n",
       "      <td>NaN</td>\n",
       "      <td>Messehallen / Marktstra�e</td>\n",
       "      <td>Hamburg</td>\n",
       "      <td>Fahrrad</td>\n",
       "      <td>2) 15 bis 30 Minuten</td>\n",
       "      <td>Schnittstelle</td>\n",
       "      <td>iPhone SRH</td>\n",
       "      <td>51000</td>\n",
       "    </tr>\n",
       "    <tr>\n",
       "      <th>12140999</th>\n",
       "      <td>32131782</td>\n",
       "      <td>50000</td>\n",
       "      <td>106592</td>\n",
       "      <td>cab_fahrrad</td>\n",
       "      <td>484135</td>\n",
       "      <td>autopos</td>\n",
       "      <td>500</td>\n",
       "      <td>0</td>\n",
       "      <td>112795756</td>\n",
       "      <td>2015-08-13 17:14:05.0000000</td>\n",
       "      <td>...</td>\n",
       "      <td>NaN</td>\n",
       "      <td>J�rgen-Ponto-Platz / Neckarstra�e (DB-Tower)</td>\n",
       "      <td>NaN</td>\n",
       "      <td>Hauptbahnhof Haupteingang (Vorplatz)</td>\n",
       "      <td>Frankfurt am Main</td>\n",
       "      <td>Fahrrad</td>\n",
       "      <td>1) 0 bis 15 Minuten</td>\n",
       "      <td>Schnittstelle</td>\n",
       "      <td>Android CAB</td>\n",
       "      <td>50000</td>\n",
       "    </tr>\n",
       "  </tbody>\n",
       "</table>\n",
       "<p>12141000 rows × 48 columns</p>\n",
       "</div>"
      ],
      "text/plain": [
       "          BOOKING_HAL_ID  EFFECTIVE_CATEGORY_HAL_ID  VEHICLE_HAL_ID  \\\n",
       "0         BOOKING_HAL_ID  EFFECTIVE_CATEGORY_HAL_ID  VEHICLE_HAL_ID   \n",
       "1               33020151                      51000          120673   \n",
       "2               33024644                      51000          108329   \n",
       "3               33020149                      50000          106012   \n",
       "4               33020185                      50000          110376   \n",
       "...                  ...                        ...             ...   \n",
       "12140995        32131776                      51000          120431   \n",
       "12140996        32131773                      51000          120315   \n",
       "12140997        32131775                      51000          120466   \n",
       "12140998        32131777                      51000          109127   \n",
       "12140999        32131782                      50000          106592   \n",
       "\n",
       "          VEHICLE_HAL_SRC  RENTAL_OBJECT_HAL_ID  RENTAL_OBJECT_HAL_SRC  \\\n",
       "0         VEHICLE_HAL_SRC  RENTAL_OBJECT_HAL_ID  RENTAL_OBJECT_HAL_SRC   \n",
       "1             cab_fahrrad                501950                autopos   \n",
       "2             cab_fahrrad                510737                autopos   \n",
       "3             cab_fahrrad                508074                autopos   \n",
       "4             cab_fahrrad                512332                autopos   \n",
       "...                   ...                   ...                    ...   \n",
       "12140995      cab_fahrrad                500571                autopos   \n",
       "12140996      cab_fahrrad                480633                autopos   \n",
       "12140997      cab_fahrrad                473566                autopos   \n",
       "12140998      cab_fahrrad                487228                autopos   \n",
       "12140999      cab_fahrrad                484135                autopos   \n",
       "\n",
       "          VEHICLE_COMPANY_HAL_ID  DUTY_TRIP_X  CUSTOMER_HAL_ID  \\\n",
       "0         VEHICLE_COMPANY_HAL_ID  DUTY_TRIP_X  CUSTOMER_HAL_ID   \n",
       "1                            510            0        112512288   \n",
       "2                            510            0        112324238   \n",
       "3                            500            0        111871774   \n",
       "4                            500            0        111751418   \n",
       "...                          ...          ...              ...   \n",
       "12140995                     510            0        112361681   \n",
       "12140996                     510            0        112317623   \n",
       "12140997                     510            0        112806251   \n",
       "12140998                     510            0        112700983   \n",
       "12140999                     500            0        112795756   \n",
       "\n",
       "                         DATE_BOOKING  ...  START_RENTAL_ZONE  \\\n",
       "0                        DATE_BOOKING  ...  START_RENTAL_ZONE   \n",
       "1         2015-09-19 18:52:12.0000000  ...                NaN   \n",
       "2         2015-09-20 00:57:50.0000000  ...                NaN   \n",
       "3         2015-09-19 18:52:01.0000000  ...                NaN   \n",
       "4         2015-09-19 18:54:00.0000000  ...                NaN   \n",
       "...                               ...  ...                ...   \n",
       "12140995  2015-08-13 17:13:54.0000000  ...                NaN   \n",
       "12140996  2015-08-13 17:13:50.0000000  ...                NaN   \n",
       "12140997  2015-08-13 17:13:51.0000000  ...                NaN   \n",
       "12140998  2015-08-13 17:13:57.0000000  ...                NaN   \n",
       "12140999  2015-08-13 17:14:05.0000000  ...                NaN   \n",
       "\n",
       "                               START_RENTAL_ZONE_GROUP  END_RENTAL_ZONE  \\\n",
       "0                              START_RENTAL_ZONE_GROUP  END_RENTAL_ZONE   \n",
       "1                            Dehnhaide/Barmbeker Markt              NaN   \n",
       "2                             Fischmarkt/Breite Stra�e              NaN   \n",
       "3                                                  NaN              NaN   \n",
       "4                                                  NaN              NaN   \n",
       "...                                                ...              ...   \n",
       "12140995                      Millerntorplatz/St.Pauli              NaN   \n",
       "12140996      Neunenfelder Stra�e/ Kurt-Emmerich-Platz              NaN   \n",
       "12140997                               U-Bahn Baumwall              NaN   \n",
       "12140998                             Borgweg/Stadtpark              NaN   \n",
       "12140999  J�rgen-Ponto-Platz / Neckarstra�e (DB-Tower)              NaN   \n",
       "\n",
       "                         END_RENTAL_ZONE_GROUP   CITY_RENTAL_ZONE  \\\n",
       "0                        END_RENTAL_ZONE_GROUP   CITY_RENTAL_ZONE   \n",
       "1                    Saarlandstra�e/Wiesendamm            Hamburg   \n",
       "2                K�nigstra�e / Struenseestra�e            Hamburg   \n",
       "3                                          NaN            M�nchen   \n",
       "4                                          NaN               K�ln   \n",
       "...                                        ...                ...   \n",
       "12140995             Messehallen / Marktstra�e            Hamburg   \n",
       "12140996     Wilhelmsburger Platz/Zur Schleuse            Hamburg   \n",
       "12140997     Wilhelmsburger Platz/Zur Schleuse            Hamburg   \n",
       "12140998             Messehallen / Marktstra�e            Hamburg   \n",
       "12140999  Hauptbahnhof Haupteingang (Vorplatz)  Frankfurt am Main   \n",
       "\n",
       "          ACTUAL_VEHICLE_CATEGORY  BOOKING_LENGTH_CLASSIFICATION  \\\n",
       "0         ACTUAL_VEHICLE_CATEGORY  BOOKING_LENGTH_CLASSIFICATION   \n",
       "1                         Fahrrad            1) 0 bis 15 Minuten   \n",
       "2                         Fahrrad            1) 0 bis 15 Minuten   \n",
       "3                         Fahrrad            1) 0 bis 15 Minuten   \n",
       "4                         Fahrrad           2) 15 bis 30 Minuten   \n",
       "...                           ...                            ...   \n",
       "12140995                  Fahrrad            1) 0 bis 15 Minuten   \n",
       "12140996                  Fahrrad           2) 15 bis 30 Minuten   \n",
       "12140997                  Fahrrad           3) 30 bis 60 Minuten   \n",
       "12140998                  Fahrrad           2) 15 bis 30 Minuten   \n",
       "12140999                  Fahrrad            1) 0 bis 15 Minuten   \n",
       "\n",
       "          TECHNICAL_USER_NAME  TECHNICAL_USER_NAME_LONG  CATEGORY_HAL_ID  \n",
       "0         TECHNICAL_USER_NAME  TECHNICAL_USER_NAME_LONG  CATEGORY_HAL_ID  \n",
       "1               Schnittstelle                iPhone SRH            51000  \n",
       "2                   Techniker  Terminal HH_001 (-2112-)            51000  \n",
       "3                           t                       IVR            50000  \n",
       "4               Schnittstelle                iPhone CAB            50000  \n",
       "...                       ...                       ...              ...  \n",
       "12140995            Techniker  Terminal HH_004 (-2612-)            51000  \n",
       "12140996        Schnittstelle               Android SRH            51000  \n",
       "12140997            Techniker  Terminal HH_010 (-2631-)            51000  \n",
       "12140998        Schnittstelle                iPhone SRH            51000  \n",
       "12140999        Schnittstelle               Android CAB            50000  \n",
       "\n",
       "[12141000 rows x 48 columns]"
      ]
     },
     "execution_count": 5,
     "metadata": {},
     "output_type": "execute_result"
    }
   ],
   "source": [
    "df = pd.read_csv(\n",
    "    \"../data/call_a_bike/HACKATHON_BOOKING_CALL_A_BIKE.csv\",\n",
    "    sep=\";\",\n",
    "    true_values=[\"Ja\"],\n",
    "    false_values=[\"Nein\"],\n",
    "    names=[\"BOOKING_HAL_ID\",\"EFFECTIVE_CATEGORY_HAL_ID\",\"VEHICLE_HAL_ID\",\"VEHICLE_HAL_SRC\",\"RENTAL_OBJECT_HAL_ID\",\"RENTAL_OBJECT_HAL_SRC\",\"VEHICLE_COMPANY_HAL_ID\",\"DUTY_TRIP_X\",\"CUSTOMER_HAL_ID\",\"DATE_BOOKING\",\"DATE_FROM\",\"DATE_UNTIL\",\"BILLING_X\",\"RENTAL_ZONE_HAL_ID\",\"RENTAL_ZONE_HAL_SRC\",\"BLOCK_CUSTOMER_X\",\"CONTRACT_COMPANY_HAL_ID\",\"COMPUTE_EXTRA_BOOKING_FEE\",\"TRAVERSE_USE_X\",\"BOOKING_LENGTH_MINUTES\",\"BOOKING_LENGTH_MINUTES_SERVICE\",\"TRIP_LENGTH_MINUTES\",\"TRIP_LENGTH_MINUTES_SERVICE\",\"CAR2GO_FLINKSTER_X\",\"FLINKSTER_CAR2GO_X\",\"CUSTOMER_BOOKING_X\",\"DISTANCE\",\"COUNT_BOOKING_X\",\"NO_SHOW_X\",\"RENTAL_ZONE_STATISTICAL_FLAG_X\",\"CATEGORY_STATISTICAL_FLAG_X\",\"BOOKING_COMPANY_X\",\"COST_CENTER\",\"VEHICLE_MODEL_TYPE\",\"RESELLER_HAL_ID\",\"SUB_FRAMEBOOKING_X\",\"SERVICE_BOOKING_X\",\"FRAME_BOOKING_HAL_ID\",\"START_RENTAL_ZONE\",\"START_RENTAL_ZONE_GROUP\",\"END_RENTAL_ZONE\",\"END_RENTAL_ZONE_GROUP\",\"CITY_RENTAL_ZONE\",\"ACTUAL_VEHICLE_CATEGORY\",\"BOOKING_LENGTH_CLASSIFICATION\",\"TECHNICAL_USER_NAME\",\"TECHNICAL_USER_NAME_LONG\",\"CATEGORY_HAL_ID\"]\n",
    ")\n",
    "df"
   ]
  },
  {
   "cell_type": "code",
   "execution_count": 7,
   "id": "d73ebb53",
   "metadata": {},
   "outputs": [],
   "source": [
    "trips = df[df.CITY_RENTAL_ZONE == \"Hamburg\"]"
   ]
  },
  {
   "cell_type": "code",
   "execution_count": 51,
   "id": "5498147f",
   "metadata": {},
   "outputs": [
    {
     "data": {
      "text/plain": [
       "array(['51000', 51000], dtype=object)"
      ]
     },
     "execution_count": 51,
     "metadata": {},
     "output_type": "execute_result"
    }
   ],
   "source": [
    "trips.EFFECTIVE_CATEGORY_HAL_ID.unique()"
   ]
  },
  {
   "cell_type": "code",
   "execution_count": 9,
   "id": "bc3d470c",
   "metadata": {},
   "outputs": [
    {
     "data": {
      "text/plain": [
       "array(['cab_fahrrad'], dtype=object)"
      ]
     },
     "execution_count": 9,
     "metadata": {},
     "output_type": "execute_result"
    }
   ],
   "source": [
    "trips.VEHICLE_HAL_SRC.unique()"
   ]
  },
  {
   "cell_type": "code",
   "execution_count": 14,
   "id": "c46d58e1",
   "metadata": {},
   "outputs": [
    {
     "data": {
      "text/plain": [
       "array(['autopos'], dtype=object)"
      ]
     },
     "execution_count": 14,
     "metadata": {},
     "output_type": "execute_result"
    }
   ],
   "source": [
    "trips.RENTAL_OBJECT_HAL_SRC.unique()"
   ]
  },
  {
   "cell_type": "code",
   "execution_count": 15,
   "id": "eb4eef9f",
   "metadata": {},
   "outputs": [
    {
     "data": {
      "text/plain": [
       "array(['510', 510], dtype=object)"
      ]
     },
     "execution_count": 15,
     "metadata": {},
     "output_type": "execute_result"
    }
   ],
   "source": [
    "trips.VEHICLE_COMPANY_HAL_ID.unique()"
   ]
  },
  {
   "cell_type": "code",
   "execution_count": 16,
   "id": "d29e5f48",
   "metadata": {},
   "outputs": [
    {
     "data": {
      "text/plain": [
       "array(['0', '1', 0, 1], dtype=object)"
      ]
     },
     "execution_count": 16,
     "metadata": {},
     "output_type": "execute_result"
    }
   ],
   "source": [
    "trips.DUTY_TRIP_X.unique()"
   ]
  },
  {
   "cell_type": "code",
   "execution_count": 18,
   "id": "5dd8cf5f",
   "metadata": {},
   "outputs": [
    {
     "data": {
      "text/plain": [
       "array(['1', '0', 1, 0], dtype=object)"
      ]
     },
     "execution_count": 18,
     "metadata": {},
     "output_type": "execute_result"
    }
   ],
   "source": [
    "trips.BILLING_X.unique()"
   ]
  },
  {
   "cell_type": "code",
   "execution_count": 19,
   "id": "332a0752",
   "metadata": {},
   "outputs": [
    {
     "data": {
      "text/plain": [
       "array(['0', '1', 0, 1], dtype=object)"
      ]
     },
     "execution_count": 19,
     "metadata": {},
     "output_type": "execute_result"
    }
   ],
   "source": [
    "trips.BLOCK_CUSTOMER_X.unique()"
   ]
  },
  {
   "cell_type": "code",
   "execution_count": 21,
   "id": "384ff2d5",
   "metadata": {},
   "outputs": [
    {
     "data": {
      "text/plain": [
       "array(['0', 0], dtype=object)"
      ]
     },
     "execution_count": 21,
     "metadata": {},
     "output_type": "execute_result"
    }
   ],
   "source": [
    "trips.COMPUTE_EXTRA_BOOKING_FEE.unique()"
   ]
  },
  {
   "cell_type": "code",
   "execution_count": 22,
   "id": "1dc67ac6",
   "metadata": {},
   "outputs": [
    {
     "data": {
      "text/plain": [
       "array([nan, '1', 1.0], dtype=object)"
      ]
     },
     "execution_count": 22,
     "metadata": {},
     "output_type": "execute_result"
    }
   ],
   "source": [
    "trips.TRAVERSE_USE_X.unique()"
   ]
  },
  {
   "cell_type": "code",
   "execution_count": 27,
   "id": "dd2c17a2",
   "metadata": {},
   "outputs": [
    {
     "data": {
      "text/plain": [
       "array([nan], dtype=object)"
      ]
     },
     "execution_count": 27,
     "metadata": {},
     "output_type": "execute_result"
    }
   ],
   "source": [
    "trips.CAR2GO_FLINKSTER_X.unique()"
   ]
  },
  {
   "cell_type": "code",
   "execution_count": 28,
   "id": "d63253b1",
   "metadata": {},
   "outputs": [
    {
     "data": {
      "text/plain": [
       "array([nan], dtype=object)"
      ]
     },
     "execution_count": 28,
     "metadata": {},
     "output_type": "execute_result"
    }
   ],
   "source": [
    "trips.FLINKSTER_CAR2GO_X.unique()"
   ]
  },
  {
   "cell_type": "code",
   "execution_count": 29,
   "id": "fcd2a88c",
   "metadata": {},
   "outputs": [
    {
     "data": {
      "text/plain": [
       "array(['1', nan, 1.0], dtype=object)"
      ]
     },
     "execution_count": 29,
     "metadata": {},
     "output_type": "execute_result"
    }
   ],
   "source": [
    "trips.CUSTOMER_BOOKING_X.unique()"
   ]
  },
  {
   "cell_type": "code",
   "execution_count": 30,
   "id": "075786cd",
   "metadata": {},
   "outputs": [
    {
     "data": {
      "text/plain": [
       "array(['0', 0.0], dtype=object)"
      ]
     },
     "execution_count": 30,
     "metadata": {},
     "output_type": "execute_result"
    }
   ],
   "source": [
    "trips.DISTANCE.unique()"
   ]
  },
  {
   "cell_type": "code",
   "execution_count": 31,
   "id": "5667a355",
   "metadata": {},
   "outputs": [
    {
     "data": {
      "text/plain": [
       "array(['1', 1], dtype=object)"
      ]
     },
     "execution_count": 31,
     "metadata": {},
     "output_type": "execute_result"
    }
   ],
   "source": [
    "trips.COUNT_BOOKING_X.unique()"
   ]
  },
  {
   "cell_type": "code",
   "execution_count": 32,
   "id": "750ec5ae",
   "metadata": {},
   "outputs": [
    {
     "data": {
      "text/plain": [
       "array([nan], dtype=object)"
      ]
     },
     "execution_count": 32,
     "metadata": {},
     "output_type": "execute_result"
    }
   ],
   "source": [
    "trips.NO_SHOW_X.unique()"
   ]
  },
  {
   "cell_type": "code",
   "execution_count": 33,
   "id": "badcd036",
   "metadata": {},
   "outputs": [
    {
     "data": {
      "text/plain": [
       "array(['1', nan, 1.0], dtype=object)"
      ]
     },
     "execution_count": 33,
     "metadata": {},
     "output_type": "execute_result"
    }
   ],
   "source": [
    "trips.RENTAL_ZONE_STATISTICAL_FLAG_X.unique()"
   ]
  },
  {
   "cell_type": "code",
   "execution_count": 35,
   "id": "ad050361",
   "metadata": {},
   "outputs": [
    {
     "data": {
      "text/plain": [
       "array(['1', 1], dtype=object)"
      ]
     },
     "execution_count": 35,
     "metadata": {},
     "output_type": "execute_result"
    }
   ],
   "source": [
    "trips.CATEGORY_STATISTICAL_FLAG_X.unique()"
   ]
  },
  {
   "cell_type": "code",
   "execution_count": 36,
   "id": "e988bd7c",
   "metadata": {},
   "outputs": [
    {
     "data": {
      "text/plain": [
       "array(['1', 1], dtype=object)"
      ]
     },
     "execution_count": 36,
     "metadata": {},
     "output_type": "execute_result"
    }
   ],
   "source": [
    "trips.BOOKING_COMPANY_X.unique()"
   ]
  },
  {
   "cell_type": "code",
   "execution_count": 37,
   "id": "ced04873",
   "metadata": {},
   "outputs": [
    {
     "data": {
      "text/plain": [
       "array([nan], dtype=object)"
      ]
     },
     "execution_count": 37,
     "metadata": {},
     "output_type": "execute_result"
    }
   ],
   "source": [
    "trips.COST_CENTER.unique()"
   ]
  },
  {
   "cell_type": "code",
   "execution_count": 39,
   "id": "809e9789",
   "metadata": {},
   "outputs": [
    {
     "data": {
      "text/plain": [
       "array([nan], dtype=object)"
      ]
     },
     "execution_count": 39,
     "metadata": {},
     "output_type": "execute_result"
    }
   ],
   "source": [
    "trips.SUB_FRAMEBOOKING_X.unique()"
   ]
  },
  {
   "cell_type": "code",
   "execution_count": 40,
   "id": "db01b00e",
   "metadata": {},
   "outputs": [
    {
     "data": {
      "text/plain": [
       "array([nan, '1', 1.0], dtype=object)"
      ]
     },
     "execution_count": 40,
     "metadata": {},
     "output_type": "execute_result"
    }
   ],
   "source": [
    "trips.SERVICE_BOOKING_X.unique()"
   ]
  },
  {
   "cell_type": "code",
   "execution_count": 45,
   "id": "d3e2f0eb",
   "metadata": {},
   "outputs": [
    {
     "data": {
      "text/plain": [
       "array(['Fahrrad'], dtype=object)"
      ]
     },
     "execution_count": 45,
     "metadata": {},
     "output_type": "execute_result"
    }
   ],
   "source": [
    "trips.ACTUAL_VEHICLE_CATEGORY.unique()"
   ]
  },
  {
   "cell_type": "code",
   "execution_count": 50,
   "id": "794b67c3",
   "metadata": {},
   "outputs": [
    {
     "data": {
      "text/plain": [
       "array(['51000'], dtype=object)"
      ]
     },
     "execution_count": 50,
     "metadata": {},
     "output_type": "execute_result"
    }
   ],
   "source": [
    "trips.CATEGORY_HAL_ID.unique()"
   ]
  },
  {
   "cell_type": "code",
   "execution_count": 52,
   "id": "5945001d",
   "metadata": {},
   "outputs": [
    {
     "data": {
      "text/html": [
       "<div>\n",
       "<style scoped>\n",
       "    .dataframe tbody tr th:only-of-type {\n",
       "        vertical-align: middle;\n",
       "    }\n",
       "\n",
       "    .dataframe tbody tr th {\n",
       "        vertical-align: top;\n",
       "    }\n",
       "\n",
       "    .dataframe thead th {\n",
       "        text-align: right;\n",
       "    }\n",
       "</style>\n",
       "<table border=\"1\" class=\"dataframe\">\n",
       "  <thead>\n",
       "    <tr style=\"text-align: right;\">\n",
       "      <th></th>\n",
       "      <th>BOOKING_HAL_ID</th>\n",
       "      <th>VEHICLE_HAL_ID</th>\n",
       "      <th>RENTAL_OBJECT_HAL_ID</th>\n",
       "      <th>DUTY_TRIP_X</th>\n",
       "      <th>CUSTOMER_HAL_ID</th>\n",
       "      <th>DATE_BOOKING</th>\n",
       "      <th>DATE_FROM</th>\n",
       "      <th>DATE_UNTIL</th>\n",
       "      <th>BILLING_X</th>\n",
       "      <th>RENTAL_ZONE_HAL_ID</th>\n",
       "      <th>...</th>\n",
       "      <th>FRAME_BOOKING_HAL_ID</th>\n",
       "      <th>START_RENTAL_ZONE</th>\n",
       "      <th>START_RENTAL_ZONE_GROUP</th>\n",
       "      <th>END_RENTAL_ZONE</th>\n",
       "      <th>END_RENTAL_ZONE_GROUP</th>\n",
       "      <th>CITY_RENTAL_ZONE</th>\n",
       "      <th>BOOKING_LENGTH_CLASSIFICATION</th>\n",
       "      <th>TECHNICAL_USER_NAME</th>\n",
       "      <th>TECHNICAL_USER_NAME_LONG</th>\n",
       "      <th>CATEGORY_HAL_ID</th>\n",
       "    </tr>\n",
       "  </thead>\n",
       "  <tbody>\n",
       "    <tr>\n",
       "      <th>1</th>\n",
       "      <td>33020151</td>\n",
       "      <td>120673</td>\n",
       "      <td>501950</td>\n",
       "      <td>0</td>\n",
       "      <td>112512288</td>\n",
       "      <td>2015-09-19 18:52:12.0000000</td>\n",
       "      <td>2015-09-19 18:52:12.0000000</td>\n",
       "      <td>2015-09-19 18:59:50.0000000</td>\n",
       "      <td>1</td>\n",
       "      <td>204029</td>\n",
       "      <td>...</td>\n",
       "      <td>NaN</td>\n",
       "      <td>NaN</td>\n",
       "      <td>Dehnhaide/Barmbeker Markt</td>\n",
       "      <td>NaN</td>\n",
       "      <td>Saarlandstra�e/Wiesendamm</td>\n",
       "      <td>Hamburg</td>\n",
       "      <td>1) 0 bis 15 Minuten</td>\n",
       "      <td>Schnittstelle</td>\n",
       "      <td>iPhone SRH</td>\n",
       "      <td>51000</td>\n",
       "    </tr>\n",
       "    <tr>\n",
       "      <th>2</th>\n",
       "      <td>33024644</td>\n",
       "      <td>108329</td>\n",
       "      <td>510737</td>\n",
       "      <td>0</td>\n",
       "      <td>112324238</td>\n",
       "      <td>2015-09-20 00:57:50.0000000</td>\n",
       "      <td>2015-09-20 00:57:50.0000000</td>\n",
       "      <td>2015-09-20 01:02:40.0000000</td>\n",
       "      <td>1</td>\n",
       "      <td>131546</td>\n",
       "      <td>...</td>\n",
       "      <td>NaN</td>\n",
       "      <td>NaN</td>\n",
       "      <td>Fischmarkt/Breite Stra�e</td>\n",
       "      <td>NaN</td>\n",
       "      <td>K�nigstra�e / Struenseestra�e</td>\n",
       "      <td>Hamburg</td>\n",
       "      <td>1) 0 bis 15 Minuten</td>\n",
       "      <td>Techniker</td>\n",
       "      <td>Terminal HH_001 (-2112-)</td>\n",
       "      <td>51000</td>\n",
       "    </tr>\n",
       "    <tr>\n",
       "      <th>6</th>\n",
       "      <td>33020198</td>\n",
       "      <td>120287</td>\n",
       "      <td>499565</td>\n",
       "      <td>0</td>\n",
       "      <td>111583518</td>\n",
       "      <td>2015-09-19 18:54:42.0000000</td>\n",
       "      <td>2015-09-19 18:54:42.0000000</td>\n",
       "      <td>2015-09-19 19:00:22.0000000</td>\n",
       "      <td>1</td>\n",
       "      <td>131649</td>\n",
       "      <td>...</td>\n",
       "      <td>NaN</td>\n",
       "      <td>NaN</td>\n",
       "      <td>Gro�e Bergstra�e / Jessenstra�e</td>\n",
       "      <td>NaN</td>\n",
       "      <td>Gro�e Rainstra�e/Ottenser Hauptstra�e</td>\n",
       "      <td>Hamburg</td>\n",
       "      <td>1) 0 bis 15 Minuten</td>\n",
       "      <td>Schnittstelle</td>\n",
       "      <td>iPhone CAB</td>\n",
       "      <td>51000</td>\n",
       "    </tr>\n",
       "    <tr>\n",
       "      <th>7</th>\n",
       "      <td>33020202</td>\n",
       "      <td>115690</td>\n",
       "      <td>488983</td>\n",
       "      <td>0</td>\n",
       "      <td>112120715</td>\n",
       "      <td>2015-09-19 18:54:53.0000000</td>\n",
       "      <td>2015-09-19 18:54:53.0000000</td>\n",
       "      <td>2015-09-19 19:11:56.0000000</td>\n",
       "      <td>1</td>\n",
       "      <td>243618</td>\n",
       "      <td>...</td>\n",
       "      <td>NaN</td>\n",
       "      <td>NaN</td>\n",
       "      <td>Lappenbergsallee / Bei der Apostelkirche</td>\n",
       "      <td>NaN</td>\n",
       "      <td>Bahnhof Altona Ost/Max-Brauer-Allee</td>\n",
       "      <td>Hamburg</td>\n",
       "      <td>2) 15 bis 30 Minuten</td>\n",
       "      <td>t</td>\n",
       "      <td>IVR</td>\n",
       "      <td>51000</td>\n",
       "    </tr>\n",
       "    <tr>\n",
       "      <th>9</th>\n",
       "      <td>33020214</td>\n",
       "      <td>109358</td>\n",
       "      <td>497966</td>\n",
       "      <td>0</td>\n",
       "      <td>112159781</td>\n",
       "      <td>2015-09-19 18:55:43.0000000</td>\n",
       "      <td>2015-09-19 18:55:43.0000000</td>\n",
       "      <td>2015-09-19 22:06:55.0000000</td>\n",
       "      <td>1</td>\n",
       "      <td>140790</td>\n",
       "      <td>...</td>\n",
       "      <td>NaN</td>\n",
       "      <td>NaN</td>\n",
       "      <td>Hammerbrook / Sachsenfeld</td>\n",
       "      <td>NaN</td>\n",
       "      <td>Universit�t / Moorweidenstra�e</td>\n",
       "      <td>Hamburg</td>\n",
       "      <td>6) &gt; 180 Minuten</td>\n",
       "      <td>Schnittstelle</td>\n",
       "      <td>iPhone SRH</td>\n",
       "      <td>51000</td>\n",
       "    </tr>\n",
       "    <tr>\n",
       "      <th>...</th>\n",
       "      <td>...</td>\n",
       "      <td>...</td>\n",
       "      <td>...</td>\n",
       "      <td>...</td>\n",
       "      <td>...</td>\n",
       "      <td>...</td>\n",
       "      <td>...</td>\n",
       "      <td>...</td>\n",
       "      <td>...</td>\n",
       "      <td>...</td>\n",
       "      <td>...</td>\n",
       "      <td>...</td>\n",
       "      <td>...</td>\n",
       "      <td>...</td>\n",
       "      <td>...</td>\n",
       "      <td>...</td>\n",
       "      <td>...</td>\n",
       "      <td>...</td>\n",
       "      <td>...</td>\n",
       "      <td>...</td>\n",
       "      <td>...</td>\n",
       "    </tr>\n",
       "    <tr>\n",
       "      <th>12140994</th>\n",
       "      <td>32131765</td>\n",
       "      <td>119981</td>\n",
       "      <td>486017</td>\n",
       "      <td>0</td>\n",
       "      <td>112830909</td>\n",
       "      <td>2015-08-13 17:13:39.0000000</td>\n",
       "      <td>2015-08-13 17:13:39.0000000</td>\n",
       "      <td>2015-08-13 17:26:13.0000000</td>\n",
       "      <td>1</td>\n",
       "      <td>164033.0</td>\n",
       "      <td>...</td>\n",
       "      <td>NaN</td>\n",
       "      <td>NaN</td>\n",
       "      <td>Sievekingplatz/Gorch-Fock-Wall</td>\n",
       "      <td>NaN</td>\n",
       "      <td>Paulinenplatz/Wohlwillstra�e</td>\n",
       "      <td>Hamburg</td>\n",
       "      <td>1) 0 bis 15 Minuten</td>\n",
       "      <td>Terminal</td>\n",
       "      <td>Techniker HH_083 (-2526-)</td>\n",
       "      <td>51000</td>\n",
       "    </tr>\n",
       "    <tr>\n",
       "      <th>12140995</th>\n",
       "      <td>32131776</td>\n",
       "      <td>120431</td>\n",
       "      <td>500571</td>\n",
       "      <td>0</td>\n",
       "      <td>112361681</td>\n",
       "      <td>2015-08-13 17:13:54.0000000</td>\n",
       "      <td>2015-08-13 17:13:54.0000000</td>\n",
       "      <td>2015-08-13 17:18:28.0000000</td>\n",
       "      <td>1</td>\n",
       "      <td>131905.0</td>\n",
       "      <td>...</td>\n",
       "      <td>NaN</td>\n",
       "      <td>NaN</td>\n",
       "      <td>Millerntorplatz/St.Pauli</td>\n",
       "      <td>NaN</td>\n",
       "      <td>Messehallen / Marktstra�e</td>\n",
       "      <td>Hamburg</td>\n",
       "      <td>1) 0 bis 15 Minuten</td>\n",
       "      <td>Techniker</td>\n",
       "      <td>Terminal HH_004 (-2612-)</td>\n",
       "      <td>51000</td>\n",
       "    </tr>\n",
       "    <tr>\n",
       "      <th>12140996</th>\n",
       "      <td>32131773</td>\n",
       "      <td>120315</td>\n",
       "      <td>480633</td>\n",
       "      <td>0</td>\n",
       "      <td>112317623</td>\n",
       "      <td>2015-08-13 17:13:50.0000000</td>\n",
       "      <td>2015-08-13 17:13:50.0000000</td>\n",
       "      <td>2015-08-13 17:43:23.0000000</td>\n",
       "      <td>1</td>\n",
       "      <td>226607.0</td>\n",
       "      <td>...</td>\n",
       "      <td>NaN</td>\n",
       "      <td>NaN</td>\n",
       "      <td>Neunenfelder Stra�e/ Kurt-Emmerich-Platz</td>\n",
       "      <td>NaN</td>\n",
       "      <td>Wilhelmsburger Platz/Zur Schleuse</td>\n",
       "      <td>Hamburg</td>\n",
       "      <td>2) 15 bis 30 Minuten</td>\n",
       "      <td>Schnittstelle</td>\n",
       "      <td>Android SRH</td>\n",
       "      <td>51000</td>\n",
       "    </tr>\n",
       "    <tr>\n",
       "      <th>12140997</th>\n",
       "      <td>32131775</td>\n",
       "      <td>120466</td>\n",
       "      <td>473566</td>\n",
       "      <td>0</td>\n",
       "      <td>112806251</td>\n",
       "      <td>2015-08-13 17:13:51.0000000</td>\n",
       "      <td>2015-08-13 17:13:51.0000000</td>\n",
       "      <td>2015-08-13 17:45:40.0000000</td>\n",
       "      <td>1</td>\n",
       "      <td>214170.0</td>\n",
       "      <td>...</td>\n",
       "      <td>NaN</td>\n",
       "      <td>NaN</td>\n",
       "      <td>U-Bahn Baumwall</td>\n",
       "      <td>NaN</td>\n",
       "      <td>Wilhelmsburger Platz/Zur Schleuse</td>\n",
       "      <td>Hamburg</td>\n",
       "      <td>3) 30 bis 60 Minuten</td>\n",
       "      <td>Techniker</td>\n",
       "      <td>Terminal HH_010 (-2631-)</td>\n",
       "      <td>51000</td>\n",
       "    </tr>\n",
       "    <tr>\n",
       "      <th>12140998</th>\n",
       "      <td>32131777</td>\n",
       "      <td>109127</td>\n",
       "      <td>487228</td>\n",
       "      <td>0</td>\n",
       "      <td>112700983</td>\n",
       "      <td>2015-08-13 17:13:57.0000000</td>\n",
       "      <td>2015-08-13 17:13:57.0000000</td>\n",
       "      <td>2015-08-13 17:40:09.0000000</td>\n",
       "      <td>1</td>\n",
       "      <td>198088.0</td>\n",
       "      <td>...</td>\n",
       "      <td>NaN</td>\n",
       "      <td>NaN</td>\n",
       "      <td>Borgweg/Stadtpark</td>\n",
       "      <td>NaN</td>\n",
       "      <td>Messehallen / Marktstra�e</td>\n",
       "      <td>Hamburg</td>\n",
       "      <td>2) 15 bis 30 Minuten</td>\n",
       "      <td>Schnittstelle</td>\n",
       "      <td>iPhone SRH</td>\n",
       "      <td>51000</td>\n",
       "    </tr>\n",
       "  </tbody>\n",
       "</table>\n",
       "<p>6505521 rows × 33 columns</p>\n",
       "</div>"
      ],
      "text/plain": [
       "         BOOKING_HAL_ID VEHICLE_HAL_ID RENTAL_OBJECT_HAL_ID DUTY_TRIP_X  \\\n",
       "1              33020151         120673               501950           0   \n",
       "2              33024644         108329               510737           0   \n",
       "6              33020198         120287               499565           0   \n",
       "7              33020202         115690               488983           0   \n",
       "9              33020214         109358               497966           0   \n",
       "...                 ...            ...                  ...         ...   \n",
       "12140994       32131765         119981               486017           0   \n",
       "12140995       32131776         120431               500571           0   \n",
       "12140996       32131773         120315               480633           0   \n",
       "12140997       32131775         120466               473566           0   \n",
       "12140998       32131777         109127               487228           0   \n",
       "\n",
       "         CUSTOMER_HAL_ID                 DATE_BOOKING  \\\n",
       "1              112512288  2015-09-19 18:52:12.0000000   \n",
       "2              112324238  2015-09-20 00:57:50.0000000   \n",
       "6              111583518  2015-09-19 18:54:42.0000000   \n",
       "7              112120715  2015-09-19 18:54:53.0000000   \n",
       "9              112159781  2015-09-19 18:55:43.0000000   \n",
       "...                  ...                          ...   \n",
       "12140994       112830909  2015-08-13 17:13:39.0000000   \n",
       "12140995       112361681  2015-08-13 17:13:54.0000000   \n",
       "12140996       112317623  2015-08-13 17:13:50.0000000   \n",
       "12140997       112806251  2015-08-13 17:13:51.0000000   \n",
       "12140998       112700983  2015-08-13 17:13:57.0000000   \n",
       "\n",
       "                            DATE_FROM                   DATE_UNTIL BILLING_X  \\\n",
       "1         2015-09-19 18:52:12.0000000  2015-09-19 18:59:50.0000000         1   \n",
       "2         2015-09-20 00:57:50.0000000  2015-09-20 01:02:40.0000000         1   \n",
       "6         2015-09-19 18:54:42.0000000  2015-09-19 19:00:22.0000000         1   \n",
       "7         2015-09-19 18:54:53.0000000  2015-09-19 19:11:56.0000000         1   \n",
       "9         2015-09-19 18:55:43.0000000  2015-09-19 22:06:55.0000000         1   \n",
       "...                               ...                          ...       ...   \n",
       "12140994  2015-08-13 17:13:39.0000000  2015-08-13 17:26:13.0000000         1   \n",
       "12140995  2015-08-13 17:13:54.0000000  2015-08-13 17:18:28.0000000         1   \n",
       "12140996  2015-08-13 17:13:50.0000000  2015-08-13 17:43:23.0000000         1   \n",
       "12140997  2015-08-13 17:13:51.0000000  2015-08-13 17:45:40.0000000         1   \n",
       "12140998  2015-08-13 17:13:57.0000000  2015-08-13 17:40:09.0000000         1   \n",
       "\n",
       "         RENTAL_ZONE_HAL_ID  ... FRAME_BOOKING_HAL_ID START_RENTAL_ZONE  \\\n",
       "1                    204029  ...                  NaN               NaN   \n",
       "2                    131546  ...                  NaN               NaN   \n",
       "6                    131649  ...                  NaN               NaN   \n",
       "7                    243618  ...                  NaN               NaN   \n",
       "9                    140790  ...                  NaN               NaN   \n",
       "...                     ...  ...                  ...               ...   \n",
       "12140994           164033.0  ...                  NaN               NaN   \n",
       "12140995           131905.0  ...                  NaN               NaN   \n",
       "12140996           226607.0  ...                  NaN               NaN   \n",
       "12140997           214170.0  ...                  NaN               NaN   \n",
       "12140998           198088.0  ...                  NaN               NaN   \n",
       "\n",
       "                           START_RENTAL_ZONE_GROUP END_RENTAL_ZONE  \\\n",
       "1                        Dehnhaide/Barmbeker Markt             NaN   \n",
       "2                         Fischmarkt/Breite Stra�e             NaN   \n",
       "6                  Gro�e Bergstra�e / Jessenstra�e             NaN   \n",
       "7         Lappenbergsallee / Bei der Apostelkirche             NaN   \n",
       "9                        Hammerbrook / Sachsenfeld             NaN   \n",
       "...                                            ...             ...   \n",
       "12140994            Sievekingplatz/Gorch-Fock-Wall             NaN   \n",
       "12140995                  Millerntorplatz/St.Pauli             NaN   \n",
       "12140996  Neunenfelder Stra�e/ Kurt-Emmerich-Platz             NaN   \n",
       "12140997                           U-Bahn Baumwall             NaN   \n",
       "12140998                         Borgweg/Stadtpark             NaN   \n",
       "\n",
       "                          END_RENTAL_ZONE_GROUP CITY_RENTAL_ZONE  \\\n",
       "1                     Saarlandstra�e/Wiesendamm          Hamburg   \n",
       "2                 K�nigstra�e / Struenseestra�e          Hamburg   \n",
       "6         Gro�e Rainstra�e/Ottenser Hauptstra�e          Hamburg   \n",
       "7           Bahnhof Altona Ost/Max-Brauer-Allee          Hamburg   \n",
       "9                Universit�t / Moorweidenstra�e          Hamburg   \n",
       "...                                         ...              ...   \n",
       "12140994           Paulinenplatz/Wohlwillstra�e          Hamburg   \n",
       "12140995              Messehallen / Marktstra�e          Hamburg   \n",
       "12140996      Wilhelmsburger Platz/Zur Schleuse          Hamburg   \n",
       "12140997      Wilhelmsburger Platz/Zur Schleuse          Hamburg   \n",
       "12140998              Messehallen / Marktstra�e          Hamburg   \n",
       "\n",
       "         BOOKING_LENGTH_CLASSIFICATION TECHNICAL_USER_NAME  \\\n",
       "1                  1) 0 bis 15 Minuten       Schnittstelle   \n",
       "2                  1) 0 bis 15 Minuten           Techniker   \n",
       "6                  1) 0 bis 15 Minuten       Schnittstelle   \n",
       "7                 2) 15 bis 30 Minuten                   t   \n",
       "9                     6) > 180 Minuten       Schnittstelle   \n",
       "...                                ...                 ...   \n",
       "12140994           1) 0 bis 15 Minuten            Terminal   \n",
       "12140995           1) 0 bis 15 Minuten           Techniker   \n",
       "12140996          2) 15 bis 30 Minuten       Schnittstelle   \n",
       "12140997          3) 30 bis 60 Minuten           Techniker   \n",
       "12140998          2) 15 bis 30 Minuten       Schnittstelle   \n",
       "\n",
       "           TECHNICAL_USER_NAME_LONG CATEGORY_HAL_ID  \n",
       "1                        iPhone SRH           51000  \n",
       "2          Terminal HH_001 (-2112-)           51000  \n",
       "6                        iPhone CAB           51000  \n",
       "7                               IVR           51000  \n",
       "9                        iPhone SRH           51000  \n",
       "...                             ...             ...  \n",
       "12140994  Techniker HH_083 (-2526-)           51000  \n",
       "12140995   Terminal HH_004 (-2612-)           51000  \n",
       "12140996                Android SRH           51000  \n",
       "12140997   Terminal HH_010 (-2631-)           51000  \n",
       "12140998                 iPhone SRH           51000  \n",
       "\n",
       "[6505521 rows x 33 columns]"
      ]
     },
     "execution_count": 52,
     "metadata": {},
     "output_type": "execute_result"
    }
   ],
   "source": [
    "trips = trips.drop(columns=[\n",
    "    \"EFFECTIVE_CATEGORY_HAL_ID\",\n",
    "    \"VEHICLE_HAL_SRC\",\n",
    "    \"RENTAL_OBJECT_HAL_SRC\",\n",
    "    \"VEHICLE_COMPANY_HAL_ID\",\n",
    "    \"COMPUTE_EXTRA_BOOKING_FEE\",\n",
    "    \"CAR2GO_FLINKSTER_X\",\n",
    "    \"FLINKSTER_CAR2GO_X\",\n",
    "    \"DISTANCE\",\n",
    "    \"COUNT_BOOKING_X\",\n",
    "    \"NO_SHOW_X\",\n",
    "    \"CATEGORY_STATISTICAL_FLAG_X\",\n",
    "    \"BOOKING_COMPANY_X\",\n",
    "    \"COST_CENTER\",\n",
    "    \"SUB_FRAMEBOOKING_X\",\n",
    "    \"ACTUAL_VEHICLE_CATEGORY\"\n",
    "])\n",
    "trips"
   ]
  },
  {
   "cell_type": "code",
   "execution_count": 53,
   "id": "0f744467",
   "metadata": {},
   "outputs": [
    {
     "data": {
      "text/plain": [
       "Index(['BOOKING_HAL_ID', 'VEHICLE_HAL_ID', 'RENTAL_OBJECT_HAL_ID',\n",
       "       'DUTY_TRIP_X', 'CUSTOMER_HAL_ID', 'DATE_BOOKING', 'DATE_FROM',\n",
       "       'DATE_UNTIL', 'BILLING_X', 'RENTAL_ZONE_HAL_ID', 'RENTAL_ZONE_HAL_SRC',\n",
       "       'BLOCK_CUSTOMER_X', 'CONTRACT_COMPANY_HAL_ID', 'TRAVERSE_USE_X',\n",
       "       'BOOKING_LENGTH_MINUTES', 'BOOKING_LENGTH_MINUTES_SERVICE',\n",
       "       'TRIP_LENGTH_MINUTES', 'TRIP_LENGTH_MINUTES_SERVICE',\n",
       "       'CUSTOMER_BOOKING_X', 'RENTAL_ZONE_STATISTICAL_FLAG_X',\n",
       "       'VEHICLE_MODEL_TYPE', 'RESELLER_HAL_ID', 'SERVICE_BOOKING_X',\n",
       "       'FRAME_BOOKING_HAL_ID', 'START_RENTAL_ZONE', 'START_RENTAL_ZONE_GROUP',\n",
       "       'END_RENTAL_ZONE', 'END_RENTAL_ZONE_GROUP', 'CITY_RENTAL_ZONE',\n",
       "       'BOOKING_LENGTH_CLASSIFICATION', 'TECHNICAL_USER_NAME',\n",
       "       'TECHNICAL_USER_NAME_LONG', 'CATEGORY_HAL_ID'],\n",
       "      dtype='object')"
      ]
     },
     "execution_count": 53,
     "metadata": {},
     "output_type": "execute_result"
    }
   ],
   "source": [
    "trips.columns"
   ]
  },
  {
   "cell_type": "code",
   "execution_count": null,
   "id": "c764b634",
   "metadata": {},
   "outputs": [],
   "source": []
  }
 ],
 "metadata": {
  "kernelspec": {
   "display_name": "Python 3",
   "language": "python",
   "name": "python3"
  },
  "language_info": {
   "codemirror_mode": {
    "name": "ipython",
    "version": 3
   },
   "file_extension": ".py",
   "mimetype": "text/x-python",
   "name": "python",
   "nbconvert_exporter": "python",
   "pygments_lexer": "ipython3",
   "version": "3.8.5"
  }
 },
 "nbformat": 4,
 "nbformat_minor": 5
}
