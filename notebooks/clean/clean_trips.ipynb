{
 "cells": [
  {
   "cell_type": "code",
   "execution_count": 1,
   "metadata": {},
   "outputs": [
    {
     "name": "stdout",
     "output_type": "stream",
     "text": [
      "Pandas Version: 1.2.4\n",
      "Numpy Version: 1.18.5\n",
      "Seaborn Version: 0.11.1\n"
     ]
    }
   ],
   "source": [
    "import pandas as pd\n",
    "import numpy as np\n",
    "import seaborn as sns\n",
    "import matplotlib as mpl\n",
    "\n",
    "from geopy.distance import geodesic\n",
    "from matplotlib import pyplot as plt\n",
    "\n",
    "%matplotlib inline\n",
    "sns.set_style(\"whitegrid\")\n",
    "plt.rc(\"font\", size=15)\n",
    "\n",
    "print(\"Pandas Version: \" + pd.__version__)\n",
    "print(\"Numpy Version: \" + np.__version__)\n",
    "print(\"Seaborn Version: \" + sns.__version__)"
   ]
  },
  {
   "cell_type": "code",
   "execution_count": 2,
   "metadata": {},
   "outputs": [],
   "source": [
    "# Switch between recalculating or reading from file to save time\n",
    "\n",
    "READ_STATION_DISTANCES_FROM_FILE = True"
   ]
  },
  {
   "cell_type": "code",
   "execution_count": 3,
   "metadata": {},
   "outputs": [],
   "source": [
    "df = pd.read_csv(\"../../data/call_a_bike/OPENDATA_BOOKING_CALL_A_BIKE.csv\", sep=\";\")"
   ]
  },
  {
   "cell_type": "code",
   "execution_count": 4,
   "metadata": {},
   "outputs": [
    {
     "name": "stdout",
     "output_type": "stream",
     "text": [
      "<class 'pandas.core.frame.DataFrame'>\n",
      "RangeIndex: 16228298 entries, 0 to 16228297\n",
      "Data columns (total 17 columns):\n",
      " #   Column                     Dtype  \n",
      "---  ------                     -----  \n",
      " 0   BOOKING_HAL_ID             int64  \n",
      " 1   CATEGORY_HAL_ID            int64  \n",
      " 2   VEHICLE_HAL_ID             int64  \n",
      " 3   CUSTOMER_HAL_ID            object \n",
      " 4   DATE_BOOKING               object \n",
      " 5   DATE_FROM                  object \n",
      " 6   DATE_UNTIL                 object \n",
      " 7   COMPUTE_EXTRA_BOOKING_FEE  object \n",
      " 8   TRAVERSE_USE               object \n",
      " 9   DISTANCE                   float64\n",
      " 10  START_RENTAL_ZONE          object \n",
      " 11  START_RENTAL_ZONE_HAL_ID   float64\n",
      " 12  END_RENTAL_ZONE            object \n",
      " 13  END_RENTAL_ZONE_HAL_ID     float64\n",
      " 14  RENTAL_ZONE_HAL_SRC        object \n",
      " 15  CITY_RENTAL_ZONE           object \n",
      " 16  TECHNICAL_INCOME_CHANNEL   object \n",
      "dtypes: float64(3), int64(3), object(11)\n",
      "memory usage: 2.1+ GB\n"
     ]
    }
   ],
   "source": [
    "df.info()"
   ]
  },
  {
   "cell_type": "code",
   "execution_count": 5,
   "metadata": {},
   "outputs": [
    {
     "data": {
      "text/html": [
       "<div>\n",
       "<style scoped>\n",
       "    .dataframe tbody tr th:only-of-type {\n",
       "        vertical-align: middle;\n",
       "    }\n",
       "\n",
       "    .dataframe tbody tr th {\n",
       "        vertical-align: top;\n",
       "    }\n",
       "\n",
       "    .dataframe thead th {\n",
       "        text-align: right;\n",
       "    }\n",
       "</style>\n",
       "<table border=\"1\" class=\"dataframe\">\n",
       "  <thead>\n",
       "    <tr style=\"text-align: right;\">\n",
       "      <th></th>\n",
       "      <th>BOOKING_HAL_ID</th>\n",
       "      <th>CATEGORY_HAL_ID</th>\n",
       "      <th>VEHICLE_HAL_ID</th>\n",
       "      <th>CUSTOMER_HAL_ID</th>\n",
       "      <th>DATE_BOOKING</th>\n",
       "      <th>DATE_FROM</th>\n",
       "      <th>DATE_UNTIL</th>\n",
       "      <th>COMPUTE_EXTRA_BOOKING_FEE</th>\n",
       "      <th>TRAVERSE_USE</th>\n",
       "      <th>DISTANCE</th>\n",
       "      <th>START_RENTAL_ZONE</th>\n",
       "      <th>START_RENTAL_ZONE_HAL_ID</th>\n",
       "      <th>END_RENTAL_ZONE</th>\n",
       "      <th>END_RENTAL_ZONE_HAL_ID</th>\n",
       "      <th>RENTAL_ZONE_HAL_SRC</th>\n",
       "      <th>CITY_RENTAL_ZONE</th>\n",
       "      <th>TECHNICAL_INCOME_CHANNEL</th>\n",
       "    </tr>\n",
       "  </thead>\n",
       "  <tbody>\n",
       "    <tr>\n",
       "      <th>0</th>\n",
       "      <td>21366843</td>\n",
       "      <td>51000</td>\n",
       "      <td>143517</td>\n",
       "      <td>A821059B555C7764A2FF801180874A2FCB326222</td>\n",
       "      <td>2014-01-01 00:34:54</td>\n",
       "      <td>2014-01-01 00:34:54</td>\n",
       "      <td>2014-01-01 00:50:14</td>\n",
       "      <td>Nein</td>\n",
       "      <td>Nein</td>\n",
       "      <td>0.0</td>\n",
       "      <td>U-Bahn Baumwall</td>\n",
       "      <td>214170.0</td>\n",
       "      <td>Mönckebergstraße / Rosenstraße</td>\n",
       "      <td>131880.0</td>\n",
       "      <td>Standort</td>\n",
       "      <td>Hamburg</td>\n",
       "      <td>iPhone SRH</td>\n",
       "    </tr>\n",
       "    <tr>\n",
       "      <th>1</th>\n",
       "      <td>21367069</td>\n",
       "      <td>51000</td>\n",
       "      <td>119830</td>\n",
       "      <td>1EBC930DB407ACEAE2FDE23A6CA40492EA3DFBB2</td>\n",
       "      <td>2014-01-01 01:39:55</td>\n",
       "      <td>2014-01-01 01:39:55</td>\n",
       "      <td>2014-01-01 01:57:27</td>\n",
       "      <td>Nein</td>\n",
       "      <td>Nein</td>\n",
       "      <td>0.0</td>\n",
       "      <td>Bahnhof Altona Ost/Max-Brauer-Allee</td>\n",
       "      <td>131646.0</td>\n",
       "      <td>Schulterblatt/Eifflerstraße</td>\n",
       "      <td>131648.0</td>\n",
       "      <td>Standort</td>\n",
       "      <td>Hamburg</td>\n",
       "      <td>Android SRH</td>\n",
       "    </tr>\n",
       "    <tr>\n",
       "      <th>2</th>\n",
       "      <td>21367072</td>\n",
       "      <td>51000</td>\n",
       "      <td>143501</td>\n",
       "      <td>7AD2C1B70137479062A6DD73815835986677BB2D</td>\n",
       "      <td>2014-01-01 01:40:20</td>\n",
       "      <td>2014-01-01 01:40:20</td>\n",
       "      <td>2014-01-01 01:53:09</td>\n",
       "      <td>Nein</td>\n",
       "      <td>Nein</td>\n",
       "      <td>0.0</td>\n",
       "      <td>Weidestraße/Biedermannplatz</td>\n",
       "      <td>211922.0</td>\n",
       "      <td>Jarrestraße / Rambatzweg</td>\n",
       "      <td>138376.0</td>\n",
       "      <td>Standort</td>\n",
       "      <td>Hamburg</td>\n",
       "      <td>Techniker HH_119 (-2334-)</td>\n",
       "    </tr>\n",
       "  </tbody>\n",
       "</table>\n",
       "</div>"
      ],
      "text/plain": [
       "   BOOKING_HAL_ID  CATEGORY_HAL_ID  VEHICLE_HAL_ID  \\\n",
       "0        21366843            51000          143517   \n",
       "1        21367069            51000          119830   \n",
       "2        21367072            51000          143501   \n",
       "\n",
       "                            CUSTOMER_HAL_ID         DATE_BOOKING  \\\n",
       "0  A821059B555C7764A2FF801180874A2FCB326222  2014-01-01 00:34:54   \n",
       "1  1EBC930DB407ACEAE2FDE23A6CA40492EA3DFBB2  2014-01-01 01:39:55   \n",
       "2  7AD2C1B70137479062A6DD73815835986677BB2D  2014-01-01 01:40:20   \n",
       "\n",
       "             DATE_FROM           DATE_UNTIL COMPUTE_EXTRA_BOOKING_FEE  \\\n",
       "0  2014-01-01 00:34:54  2014-01-01 00:50:14                      Nein   \n",
       "1  2014-01-01 01:39:55  2014-01-01 01:57:27                      Nein   \n",
       "2  2014-01-01 01:40:20  2014-01-01 01:53:09                      Nein   \n",
       "\n",
       "  TRAVERSE_USE  DISTANCE                    START_RENTAL_ZONE  \\\n",
       "0         Nein       0.0                      U-Bahn Baumwall   \n",
       "1         Nein       0.0  Bahnhof Altona Ost/Max-Brauer-Allee   \n",
       "2         Nein       0.0          Weidestraße/Biedermannplatz   \n",
       "\n",
       "   START_RENTAL_ZONE_HAL_ID                 END_RENTAL_ZONE  \\\n",
       "0                  214170.0  Mönckebergstraße / Rosenstraße   \n",
       "1                  131646.0     Schulterblatt/Eifflerstraße   \n",
       "2                  211922.0        Jarrestraße / Rambatzweg   \n",
       "\n",
       "   END_RENTAL_ZONE_HAL_ID RENTAL_ZONE_HAL_SRC CITY_RENTAL_ZONE  \\\n",
       "0                131880.0            Standort          Hamburg   \n",
       "1                131648.0            Standort          Hamburg   \n",
       "2                138376.0            Standort          Hamburg   \n",
       "\n",
       "    TECHNICAL_INCOME_CHANNEL  \n",
       "0                 iPhone SRH  \n",
       "1                Android SRH  \n",
       "2  Techniker HH_119 (-2334-)  "
      ]
     },
     "execution_count": 5,
     "metadata": {},
     "output_type": "execute_result"
    }
   ],
   "source": [
    "df.head(3)"
   ]
  },
  {
   "cell_type": "code",
   "execution_count": 6,
   "metadata": {},
   "outputs": [
    {
     "data": {
      "text/html": [
       "<div>\n",
       "<style scoped>\n",
       "    .dataframe tbody tr th:only-of-type {\n",
       "        vertical-align: middle;\n",
       "    }\n",
       "\n",
       "    .dataframe tbody tr th {\n",
       "        vertical-align: top;\n",
       "    }\n",
       "\n",
       "    .dataframe thead th {\n",
       "        text-align: right;\n",
       "    }\n",
       "</style>\n",
       "<table border=\"1\" class=\"dataframe\">\n",
       "  <thead>\n",
       "    <tr style=\"text-align: right;\">\n",
       "      <th></th>\n",
       "      <th>BOOKING_HAL_ID</th>\n",
       "      <th>CATEGORY_HAL_ID</th>\n",
       "      <th>VEHICLE_HAL_ID</th>\n",
       "      <th>CUSTOMER_HAL_ID</th>\n",
       "      <th>DATE_BOOKING</th>\n",
       "      <th>DATE_FROM</th>\n",
       "      <th>DATE_UNTIL</th>\n",
       "      <th>COMPUTE_EXTRA_BOOKING_FEE</th>\n",
       "      <th>TRAVERSE_USE</th>\n",
       "      <th>DISTANCE</th>\n",
       "      <th>START_RENTAL_ZONE</th>\n",
       "      <th>START_RENTAL_ZONE_HAL_ID</th>\n",
       "      <th>END_RENTAL_ZONE</th>\n",
       "      <th>END_RENTAL_ZONE_HAL_ID</th>\n",
       "      <th>RENTAL_ZONE_HAL_SRC</th>\n",
       "      <th>CITY_RENTAL_ZONE</th>\n",
       "      <th>TECHNICAL_INCOME_CHANNEL</th>\n",
       "    </tr>\n",
       "  </thead>\n",
       "  <tbody>\n",
       "    <tr>\n",
       "      <th>16228295</th>\n",
       "      <td>46385839</td>\n",
       "      <td>51000</td>\n",
       "      <td>120488</td>\n",
       "      <td>CC6405146B51242A9169AB55E88A5C472EA1B2AA</td>\n",
       "      <td>2017-05-16 07:40:17</td>\n",
       "      <td>2017-05-16 07:40:17</td>\n",
       "      <td>2017-05-16 07:50:07</td>\n",
       "      <td>Ja</td>\n",
       "      <td>Nein</td>\n",
       "      <td>0.0</td>\n",
       "      <td>Weidestraße/Biedermannplatz</td>\n",
       "      <td>211922.0</td>\n",
       "      <td>Mundsburg / Schürbeker Straße</td>\n",
       "      <td>140799.0</td>\n",
       "      <td>Standort</td>\n",
       "      <td>Hamburg</td>\n",
       "      <td>Techniker HH_119 (-2334-)</td>\n",
       "    </tr>\n",
       "    <tr>\n",
       "      <th>16228296</th>\n",
       "      <td>46386510</td>\n",
       "      <td>50000</td>\n",
       "      <td>116623</td>\n",
       "      <td>AE105561D195C422985C2B3BB1A790C187DA3A70</td>\n",
       "      <td>2017-05-16 08:02:12</td>\n",
       "      <td>2017-05-16 08:02:12</td>\n",
       "      <td>2017-05-23 08:02:12</td>\n",
       "      <td>Ja</td>\n",
       "      <td>Nein</td>\n",
       "      <td>NaN</td>\n",
       "      <td>NaN</td>\n",
       "      <td>NaN</td>\n",
       "      <td>NaN</td>\n",
       "      <td>NaN</td>\n",
       "      <td>NaN</td>\n",
       "      <td>Darmstadt</td>\n",
       "      <td>iPhone CAB</td>\n",
       "    </tr>\n",
       "    <tr>\n",
       "      <th>16228297</th>\n",
       "      <td>46386791</td>\n",
       "      <td>50000</td>\n",
       "      <td>110529</td>\n",
       "      <td>DBB967CDDB3C6D5F0C7CC7A2FF2E8CC89B5ECE6E</td>\n",
       "      <td>2017-05-16 08:11:13</td>\n",
       "      <td>2017-05-16 08:11:13</td>\n",
       "      <td>2017-05-23 08:11:13</td>\n",
       "      <td>Ja</td>\n",
       "      <td>Nein</td>\n",
       "      <td>NaN</td>\n",
       "      <td>NaN</td>\n",
       "      <td>NaN</td>\n",
       "      <td>NaN</td>\n",
       "      <td>NaN</td>\n",
       "      <td>NaN</td>\n",
       "      <td>Darmstadt</td>\n",
       "      <td>iPhone CAB</td>\n",
       "    </tr>\n",
       "  </tbody>\n",
       "</table>\n",
       "</div>"
      ],
      "text/plain": [
       "          BOOKING_HAL_ID  CATEGORY_HAL_ID  VEHICLE_HAL_ID  \\\n",
       "16228295        46385839            51000          120488   \n",
       "16228296        46386510            50000          116623   \n",
       "16228297        46386791            50000          110529   \n",
       "\n",
       "                                   CUSTOMER_HAL_ID         DATE_BOOKING  \\\n",
       "16228295  CC6405146B51242A9169AB55E88A5C472EA1B2AA  2017-05-16 07:40:17   \n",
       "16228296  AE105561D195C422985C2B3BB1A790C187DA3A70  2017-05-16 08:02:12   \n",
       "16228297  DBB967CDDB3C6D5F0C7CC7A2FF2E8CC89B5ECE6E  2017-05-16 08:11:13   \n",
       "\n",
       "                    DATE_FROM           DATE_UNTIL COMPUTE_EXTRA_BOOKING_FEE  \\\n",
       "16228295  2017-05-16 07:40:17  2017-05-16 07:50:07                        Ja   \n",
       "16228296  2017-05-16 08:02:12  2017-05-23 08:02:12                        Ja   \n",
       "16228297  2017-05-16 08:11:13  2017-05-23 08:11:13                        Ja   \n",
       "\n",
       "         TRAVERSE_USE  DISTANCE            START_RENTAL_ZONE  \\\n",
       "16228295         Nein       0.0  Weidestraße/Biedermannplatz   \n",
       "16228296         Nein       NaN                          NaN   \n",
       "16228297         Nein       NaN                          NaN   \n",
       "\n",
       "          START_RENTAL_ZONE_HAL_ID                END_RENTAL_ZONE  \\\n",
       "16228295                  211922.0  Mundsburg / Schürbeker Straße   \n",
       "16228296                       NaN                            NaN   \n",
       "16228297                       NaN                            NaN   \n",
       "\n",
       "          END_RENTAL_ZONE_HAL_ID RENTAL_ZONE_HAL_SRC CITY_RENTAL_ZONE  \\\n",
       "16228295                140799.0            Standort          Hamburg   \n",
       "16228296                     NaN                 NaN        Darmstadt   \n",
       "16228297                     NaN                 NaN        Darmstadt   \n",
       "\n",
       "           TECHNICAL_INCOME_CHANNEL  \n",
       "16228295  Techniker HH_119 (-2334-)  \n",
       "16228296                 iPhone CAB  \n",
       "16228297                 iPhone CAB  "
      ]
     },
     "execution_count": 6,
     "metadata": {},
     "output_type": "execute_result"
    }
   ],
   "source": [
    "df.tail(3)"
   ]
  },
  {
   "cell_type": "code",
   "execution_count": 7,
   "metadata": {},
   "outputs": [],
   "source": [
    "# Select trips made in Hamburg\n",
    "\n",
    "trips = df[df.CITY_RENTAL_ZONE == \"Hamburg\"]"
   ]
  },
  {
   "cell_type": "code",
   "execution_count": 8,
   "metadata": {},
   "outputs": [],
   "source": [
    "last_count = trips.shape[0]\n",
    "\n",
    "def print_count_data():\n",
    "    current_count = trips.shape[0]\n",
    "    diff = current_count - last_count\n",
    "    print('% s entries, diff: % s'%(current_count, diff)) \n",
    "    return current_count"
   ]
  },
  {
   "cell_type": "code",
   "execution_count": 9,
   "metadata": {},
   "outputs": [
    {
     "name": "stdout",
     "output_type": "stream",
     "text": [
      "8942261 entries, diff: 0\n"
     ]
    }
   ],
   "source": [
    "last_count = print_count_data()"
   ]
  },
  {
   "cell_type": "code",
   "execution_count": 10,
   "metadata": {},
   "outputs": [],
   "source": [
    "# Select and rename usable columns\n",
    "\n",
    "trips = trips[[\n",
    "    \"VEHICLE_HAL_ID\",\n",
    "    \"CUSTOMER_HAL_ID\",\n",
    "    \"DATE_FROM\",\n",
    "    \"DATE_UNTIL\",\n",
    "    \"START_RENTAL_ZONE\",\n",
    "    \"START_RENTAL_ZONE_HAL_ID\",\n",
    "    \"END_RENTAL_ZONE\",\n",
    "    \"END_RENTAL_ZONE_HAL_ID\",\n",
    "    \"TECHNICAL_INCOME_CHANNEL\",\n",
    "]].copy()\n",
    "trips.columns = [\n",
    "    \"bike_id\",\n",
    "    \"user_id\",\n",
    "    \"date_from\",\n",
    "    \"date_until\",\n",
    "    \"start_station_name\", \n",
    "    \"start_station_id\",\n",
    "    \"end_station_name\",\n",
    "    \"end_station_id\",\n",
    "    \"booked_via\"\n",
    "]"
   ]
  },
  {
   "cell_type": "code",
   "execution_count": 11,
   "metadata": {},
   "outputs": [],
   "source": [
    "trips[\"date_from\"] = pd.to_datetime(trips[\"date_from\"])\n",
    "trips[\"date_until\"] = pd.to_datetime(trips[\"date_until\"])"
   ]
  },
  {
   "cell_type": "code",
   "execution_count": 12,
   "metadata": {},
   "outputs": [
    {
     "data": {
      "text/plain": [
       "bike_id                    0\n",
       "user_id                    0\n",
       "date_from                  0\n",
       "date_until                 0\n",
       "start_station_name       429\n",
       "start_station_id         246\n",
       "end_station_name         255\n",
       "end_station_id           250\n",
       "booked_via            120066\n",
       "dtype: int64"
      ]
     },
     "execution_count": 12,
     "metadata": {},
     "output_type": "execute_result"
    }
   ],
   "source": [
    "trips.isna().sum()"
   ]
  },
  {
   "cell_type": "code",
   "execution_count": 13,
   "metadata": {},
   "outputs": [],
   "source": [
    "# Fill unknown 'booked_via' with 'Unknown' because there are a lot (120,066)\n",
    "# Drop other NaN rows since the amount is negligible\n",
    "\n",
    "trips = trips.fillna({'booked_via': 'Unknown'})\n",
    "trips = trips.dropna()"
   ]
  },
  {
   "cell_type": "code",
   "execution_count": 14,
   "metadata": {},
   "outputs": [
    {
     "name": "stdout",
     "output_type": "stream",
     "text": [
      "8941801 entries, diff: -460\n"
     ]
    }
   ],
   "source": [
    "last_count = print_count_data()"
   ]
  },
  {
   "cell_type": "code",
   "execution_count": 15,
   "metadata": {},
   "outputs": [],
   "source": [
    "# Convert float IDs to integer values\n",
    "\n",
    "trips[\"start_station_id\"] = trips[\"start_station_id\"].astype(int)\n",
    "trips[\"end_station_id\"] = trips[\"end_station_id\"].astype(int)"
   ]
  },
  {
   "cell_type": "code",
   "execution_count": 16,
   "metadata": {
    "scrolled": true
   },
   "outputs": [
    {
     "name": "stdout",
     "output_type": "stream",
     "text": [
      "Number of trips with a user ID that booked via Techniker before: 4104569\n",
      "Number of trips with a user ID that did not book via Techniker before: 4108149\n"
     ]
    }
   ],
   "source": [
    "# Examining 'booked_via' that start with 'Techniker'\n",
    "\n",
    "techniker = trips[trips[\"booked_via\"].str.contains(\"Techniker\")]\n",
    "non_techniker = pd.concat([trips, techniker]).drop_duplicates(keep=False)\n",
    "\n",
    "tmp = non_techniker.loc[non_techniker.user_id.isin(techniker.user_id.unique())]\n",
    "print('Number of trips with a user ID that booked via Techniker before: %s' % len(tmp.index))\n",
    "tmp = non_techniker.loc[~non_techniker.user_id.isin(techniker.user_id.unique())]\n",
    "print('Number of trips with a user ID that did not book via Techniker before: %s' % len(tmp.index))\n",
    "\n",
    "# Assuming 'Techniker' means maintenance personnel is probably faulty.\n",
    "# Around 50% of the user IDs are contained in the non_techniker trip data set."
   ]
  },
  {
   "cell_type": "code",
   "execution_count": 17,
   "metadata": {},
   "outputs": [
    {
     "data": {
      "text/html": [
       "<div>\n",
       "<style scoped>\n",
       "    .dataframe tbody tr th:only-of-type {\n",
       "        vertical-align: middle;\n",
       "    }\n",
       "\n",
       "    .dataframe tbody tr th {\n",
       "        vertical-align: top;\n",
       "    }\n",
       "\n",
       "    .dataframe thead th {\n",
       "        text-align: right;\n",
       "    }\n",
       "</style>\n",
       "<table border=\"1\" class=\"dataframe\">\n",
       "  <thead>\n",
       "    <tr style=\"text-align: right;\">\n",
       "      <th></th>\n",
       "      <th>bike_id</th>\n",
       "      <th>user_id</th>\n",
       "      <th>date_from</th>\n",
       "      <th>date_until</th>\n",
       "      <th>start_station_name</th>\n",
       "      <th>start_station_id</th>\n",
       "      <th>end_station_name</th>\n",
       "      <th>end_station_id</th>\n",
       "      <th>booked_via</th>\n",
       "    </tr>\n",
       "  </thead>\n",
       "  <tbody>\n",
       "    <tr>\n",
       "      <th>7105609</th>\n",
       "      <td>116274</td>\n",
       "      <td>FE1139EAA1E63F7628145190D1324761112AB91C</td>\n",
       "      <td>2015-08-12 11:02:31</td>\n",
       "      <td>2015-08-12 11:10:50</td>\n",
       "      <td>Harburger Ring/Neue Straße</td>\n",
       "      <td>242643</td>\n",
       "      <td>Moorstraße/Bahnhof Harburg</td>\n",
       "      <td>242358</td>\n",
       "      <td>Techniker HH_87 (-2812-)</td>\n",
       "    </tr>\n",
       "    <tr>\n",
       "      <th>12443164</th>\n",
       "      <td>116255</td>\n",
       "      <td>22129A949930E49C7D653F98A4A36ADEE1AA52AD</td>\n",
       "      <td>2016-08-12 09:00:30</td>\n",
       "      <td>2016-08-12 09:02:37</td>\n",
       "      <td>Amsinckstraße/ Nordkanalbrücke</td>\n",
       "      <td>218174</td>\n",
       "      <td>Amsinckstraße/ Nordkanalbrücke</td>\n",
       "      <td>218174</td>\n",
       "      <td>Techniker HH_159 (-2642-)</td>\n",
       "    </tr>\n",
       "    <tr>\n",
       "      <th>3628062</th>\n",
       "      <td>143825</td>\n",
       "      <td>A7682F311295D578BB8832BD76110EB895D19618</td>\n",
       "      <td>2014-10-17 20:51:47</td>\n",
       "      <td>2014-10-17 20:59:18</td>\n",
       "      <td>Lortzingstraße/Friedrichsberger Straße</td>\n",
       "      <td>213833</td>\n",
       "      <td>Lerchenfeld / Uferstraße</td>\n",
       "      <td>138375</td>\n",
       "      <td>Techniker HH_14 (-2337-)</td>\n",
       "    </tr>\n",
       "    <tr>\n",
       "      <th>4267096</th>\n",
       "      <td>120083</td>\n",
       "      <td>94FA872E02C2B3FBF3079B0A0A24031CAE819AAF</td>\n",
       "      <td>2014-12-23 15:02:15</td>\n",
       "      <td>2014-12-23 15:09:11</td>\n",
       "      <td>Bullerdeich/Stadtreinigung Hamburg</td>\n",
       "      <td>239807</td>\n",
       "      <td>Hammerbrook / Sachsenfeld</td>\n",
       "      <td>140790</td>\n",
       "      <td>Techniker HH_165 (-268-)</td>\n",
       "    </tr>\n",
       "    <tr>\n",
       "      <th>846189</th>\n",
       "      <td>119901</td>\n",
       "      <td>606E08ECED4BFE701B617DA03C63D64B052B4929</td>\n",
       "      <td>2014-04-21 22:13:52</td>\n",
       "      <td>2014-04-21 22:21:13</td>\n",
       "      <td>Emilienstraße/Fruchtallee</td>\n",
       "      <td>213825</td>\n",
       "      <td>Goebenstraße/Eppendorfer Weg</td>\n",
       "      <td>131641</td>\n",
       "      <td>Techniker HH_125 (-2224-)</td>\n",
       "    </tr>\n",
       "  </tbody>\n",
       "</table>\n",
       "</div>"
      ],
      "text/plain": [
       "          bike_id                                   user_id  \\\n",
       "7105609    116274  FE1139EAA1E63F7628145190D1324761112AB91C   \n",
       "12443164   116255  22129A949930E49C7D653F98A4A36ADEE1AA52AD   \n",
       "3628062    143825  A7682F311295D578BB8832BD76110EB895D19618   \n",
       "4267096    120083  94FA872E02C2B3FBF3079B0A0A24031CAE819AAF   \n",
       "846189     119901  606E08ECED4BFE701B617DA03C63D64B052B4929   \n",
       "\n",
       "                   date_from          date_until  \\\n",
       "7105609  2015-08-12 11:02:31 2015-08-12 11:10:50   \n",
       "12443164 2016-08-12 09:00:30 2016-08-12 09:02:37   \n",
       "3628062  2014-10-17 20:51:47 2014-10-17 20:59:18   \n",
       "4267096  2014-12-23 15:02:15 2014-12-23 15:09:11   \n",
       "846189   2014-04-21 22:13:52 2014-04-21 22:21:13   \n",
       "\n",
       "                              start_station_name  start_station_id  \\\n",
       "7105609               Harburger Ring/Neue Straße            242643   \n",
       "12443164          Amsinckstraße/ Nordkanalbrücke            218174   \n",
       "3628062   Lortzingstraße/Friedrichsberger Straße            213833   \n",
       "4267096       Bullerdeich/Stadtreinigung Hamburg            239807   \n",
       "846189                 Emilienstraße/Fruchtallee            213825   \n",
       "\n",
       "                        end_station_name  end_station_id  \\\n",
       "7105609       Moorstraße/Bahnhof Harburg          242358   \n",
       "12443164  Amsinckstraße/ Nordkanalbrücke          218174   \n",
       "3628062         Lerchenfeld / Uferstraße          138375   \n",
       "4267096        Hammerbrook / Sachsenfeld          140790   \n",
       "846189      Goebenstraße/Eppendorfer Weg          131641   \n",
       "\n",
       "                         booked_via  \n",
       "7105609    Techniker HH_87 (-2812-)  \n",
       "12443164  Techniker HH_159 (-2642-)  \n",
       "3628062    Techniker HH_14 (-2337-)  \n",
       "4267096    Techniker HH_165 (-268-)  \n",
       "846189    Techniker HH_125 (-2224-)  "
      ]
     },
     "execution_count": 17,
     "metadata": {},
     "output_type": "execute_result"
    }
   ],
   "source": [
    "techniker.sample(5)"
   ]
  },
  {
   "cell_type": "code",
   "execution_count": 18,
   "metadata": {
    "scrolled": true
   },
   "outputs": [
    {
     "data": {
      "text/html": [
       "<div>\n",
       "<style scoped>\n",
       "    .dataframe tbody tr th:only-of-type {\n",
       "        vertical-align: middle;\n",
       "    }\n",
       "\n",
       "    .dataframe tbody tr th {\n",
       "        vertical-align: top;\n",
       "    }\n",
       "\n",
       "    .dataframe thead th {\n",
       "        text-align: right;\n",
       "    }\n",
       "</style>\n",
       "<table border=\"1\" class=\"dataframe\">\n",
       "  <thead>\n",
       "    <tr style=\"text-align: right;\">\n",
       "      <th></th>\n",
       "      <th>bike_id</th>\n",
       "      <th>user_id</th>\n",
       "      <th>date_from</th>\n",
       "      <th>date_until</th>\n",
       "      <th>start_station_name</th>\n",
       "      <th>start_station_id</th>\n",
       "      <th>end_station_name</th>\n",
       "      <th>end_station_id</th>\n",
       "      <th>booked_via</th>\n",
       "    </tr>\n",
       "  </thead>\n",
       "  <tbody>\n",
       "    <tr>\n",
       "      <th>1122960</th>\n",
       "      <td>143673</td>\n",
       "      <td>963CD83ECBB170003DFAC53AA8EA51D16653C79F</td>\n",
       "      <td>2014-05-12 07:57:29</td>\n",
       "      <td>2014-05-12 08:01:27</td>\n",
       "      <td>Berliner Tor / Berlinertordamm</td>\n",
       "      <td>131652</td>\n",
       "      <td>Lohmühlenstraße / Steindamm</td>\n",
       "      <td>140791</td>\n",
       "      <td>Terminal HH_41 (-2645-)</td>\n",
       "    </tr>\n",
       "    <tr>\n",
       "      <th>2172622</th>\n",
       "      <td>143523</td>\n",
       "      <td>5DE7429756EDF1ADE7B09EBEA0A28C59D54B0639</td>\n",
       "      <td>2014-07-15 17:21:03</td>\n",
       "      <td>2014-07-15 17:28:35</td>\n",
       "      <td>Millerntorplatz/St.Pauli</td>\n",
       "      <td>131905</td>\n",
       "      <td>Schulterblatt/Eifflerstraße</td>\n",
       "      <td>131648</td>\n",
       "      <td>Android CAB</td>\n",
       "    </tr>\n",
       "    <tr>\n",
       "      <th>12638651</th>\n",
       "      <td>119670</td>\n",
       "      <td>9559A100124EC3F952EE8D829AFE51328B681509</td>\n",
       "      <td>2016-08-21 02:27:44</td>\n",
       "      <td>2016-08-21 02:45:57</td>\n",
       "      <td>Reeperbahn / Königstraße</td>\n",
       "      <td>131902</td>\n",
       "      <td>Hohenzollernring/Friedensallee</td>\n",
       "      <td>244944</td>\n",
       "      <td>iPhone SRH</td>\n",
       "    </tr>\n",
       "    <tr>\n",
       "      <th>15195484</th>\n",
       "      <td>143599</td>\n",
       "      <td>7E84A6CB915593EF3583348C34BA90F04932E5BC</td>\n",
       "      <td>2017-03-07 23:02:04</td>\n",
       "      <td>2017-03-07 23:09:14</td>\n",
       "      <td>Holsteinischer Kamp/ Wagnerstraße</td>\n",
       "      <td>211921</td>\n",
       "      <td>Krausestraße/Eilbektal</td>\n",
       "      <td>208295</td>\n",
       "      <td>Android SRH</td>\n",
       "    </tr>\n",
       "    <tr>\n",
       "      <th>3479121</th>\n",
       "      <td>120038</td>\n",
       "      <td>5B6602A66E3E489275E1B2F1980AFD8CDCA7D0BC</td>\n",
       "      <td>2014-10-07 07:24:16</td>\n",
       "      <td>2014-10-07 07:27:30</td>\n",
       "      <td>Saarlandstraße/Wiesendamm</td>\n",
       "      <td>203890</td>\n",
       "      <td>Schleidenstraße/Osterbekstraße</td>\n",
       "      <td>208307</td>\n",
       "      <td>Android SRH</td>\n",
       "    </tr>\n",
       "  </tbody>\n",
       "</table>\n",
       "</div>"
      ],
      "text/plain": [
       "          bike_id                                   user_id  \\\n",
       "1122960    143673  963CD83ECBB170003DFAC53AA8EA51D16653C79F   \n",
       "2172622    143523  5DE7429756EDF1ADE7B09EBEA0A28C59D54B0639   \n",
       "12638651   119670  9559A100124EC3F952EE8D829AFE51328B681509   \n",
       "15195484   143599  7E84A6CB915593EF3583348C34BA90F04932E5BC   \n",
       "3479121    120038  5B6602A66E3E489275E1B2F1980AFD8CDCA7D0BC   \n",
       "\n",
       "                   date_from          date_until  \\\n",
       "1122960  2014-05-12 07:57:29 2014-05-12 08:01:27   \n",
       "2172622  2014-07-15 17:21:03 2014-07-15 17:28:35   \n",
       "12638651 2016-08-21 02:27:44 2016-08-21 02:45:57   \n",
       "15195484 2017-03-07 23:02:04 2017-03-07 23:09:14   \n",
       "3479121  2014-10-07 07:24:16 2014-10-07 07:27:30   \n",
       "\n",
       "                         start_station_name  start_station_id  \\\n",
       "1122960      Berliner Tor / Berlinertordamm            131652   \n",
       "2172622            Millerntorplatz/St.Pauli            131905   \n",
       "12638651           Reeperbahn / Königstraße            131902   \n",
       "15195484  Holsteinischer Kamp/ Wagnerstraße            211921   \n",
       "3479121           Saarlandstraße/Wiesendamm            203890   \n",
       "\n",
       "                        end_station_name  end_station_id  \\\n",
       "1122960      Lohmühlenstraße / Steindamm          140791   \n",
       "2172622      Schulterblatt/Eifflerstraße          131648   \n",
       "12638651  Hohenzollernring/Friedensallee          244944   \n",
       "15195484          Krausestraße/Eilbektal          208295   \n",
       "3479121   Schleidenstraße/Osterbekstraße          208307   \n",
       "\n",
       "                       booked_via  \n",
       "1122960   Terminal HH_41 (-2645-)  \n",
       "2172622               Android CAB  \n",
       "12638651               iPhone SRH  \n",
       "15195484              Android SRH  \n",
       "3479121               Android SRH  "
      ]
     },
     "execution_count": 18,
     "metadata": {},
     "output_type": "execute_result"
    }
   ],
   "source": [
    "non_techniker.sample(5)"
   ]
  },
  {
   "cell_type": "code",
   "execution_count": 19,
   "metadata": {
    "scrolled": false
   },
   "outputs": [
    {
     "data": {
      "text/html": [
       "<div>\n",
       "<style scoped>\n",
       "    .dataframe tbody tr th:only-of-type {\n",
       "        vertical-align: middle;\n",
       "    }\n",
       "\n",
       "    .dataframe tbody tr th {\n",
       "        vertical-align: top;\n",
       "    }\n",
       "\n",
       "    .dataframe thead th {\n",
       "        text-align: right;\n",
       "    }\n",
       "</style>\n",
       "<table border=\"1\" class=\"dataframe\">\n",
       "  <thead>\n",
       "    <tr style=\"text-align: right;\">\n",
       "      <th></th>\n",
       "      <th>station_id</th>\n",
       "    </tr>\n",
       "  </thead>\n",
       "  <tbody>\n",
       "    <tr>\n",
       "      <th>0</th>\n",
       "      <td>131543</td>\n",
       "    </tr>\n",
       "    <tr>\n",
       "      <th>1</th>\n",
       "      <td>131546</td>\n",
       "    </tr>\n",
       "    <tr>\n",
       "      <th>2</th>\n",
       "      <td>131547</td>\n",
       "    </tr>\n",
       "    <tr>\n",
       "      <th>3</th>\n",
       "      <td>131639</td>\n",
       "    </tr>\n",
       "    <tr>\n",
       "      <th>4</th>\n",
       "      <td>131640</td>\n",
       "    </tr>\n",
       "    <tr>\n",
       "      <th>...</th>\n",
       "      <td>...</td>\n",
       "    </tr>\n",
       "    <tr>\n",
       "      <th>211</th>\n",
       "      <td>256467</td>\n",
       "    </tr>\n",
       "    <tr>\n",
       "      <th>212</th>\n",
       "      <td>264330</td>\n",
       "    </tr>\n",
       "    <tr>\n",
       "      <th>213</th>\n",
       "      <td>264820</td>\n",
       "    </tr>\n",
       "    <tr>\n",
       "      <th>214</th>\n",
       "      <td>264821</td>\n",
       "    </tr>\n",
       "    <tr>\n",
       "      <th>215</th>\n",
       "      <td>268358</td>\n",
       "    </tr>\n",
       "  </tbody>\n",
       "</table>\n",
       "<p>216 rows × 1 columns</p>\n",
       "</div>"
      ],
      "text/plain": [
       "     station_id\n",
       "0        131543\n",
       "1        131546\n",
       "2        131547\n",
       "3        131639\n",
       "4        131640\n",
       "..          ...\n",
       "211      256467\n",
       "212      264330\n",
       "213      264820\n",
       "214      264821\n",
       "215      268358\n",
       "\n",
       "[216 rows x 1 columns]"
      ]
     },
     "execution_count": 19,
     "metadata": {},
     "output_type": "execute_result"
    }
   ],
   "source": [
    "# Create a stations data set from all unique station IDs\n",
    "\n",
    "station_ids = sorted(\n",
    "    set(trips.start_station_id.tolist() + trips.end_station_id.tolist())\n",
    ")\n",
    "station_ids = pd.DataFrame(station_ids, columns=['station_id'])\n",
    "station_ids"
   ]
  },
  {
   "cell_type": "code",
   "execution_count": 20,
   "metadata": {},
   "outputs": [
    {
     "data": {
      "text/html": [
       "<div>\n",
       "<style scoped>\n",
       "    .dataframe tbody tr th:only-of-type {\n",
       "        vertical-align: middle;\n",
       "    }\n",
       "\n",
       "    .dataframe tbody tr th {\n",
       "        vertical-align: top;\n",
       "    }\n",
       "\n",
       "    .dataframe thead th {\n",
       "        text-align: right;\n",
       "    }\n",
       "</style>\n",
       "<table border=\"1\" class=\"dataframe\">\n",
       "  <thead>\n",
       "    <tr style=\"text-align: right;\">\n",
       "      <th></th>\n",
       "      <th>RENTAL_ZONE_HAL_ID</th>\n",
       "      <th>RENTAL_ZONE_HAL_SRC</th>\n",
       "      <th>NAME</th>\n",
       "      <th>CODE</th>\n",
       "      <th>TYPE</th>\n",
       "      <th>CITY</th>\n",
       "      <th>COUNTRY</th>\n",
       "      <th>LATITUDE</th>\n",
       "      <th>LONGITUDE</th>\n",
       "      <th>POI_AIRPORT_X</th>\n",
       "      <th>POI_LONG_DISTANCE_TRAINS_X</th>\n",
       "      <th>POI_SUBURBAN_TRAINS_X</th>\n",
       "      <th>POI_UNDERGROUND_X</th>\n",
       "      <th>ACTIVE_X</th>\n",
       "      <th>COMPANY</th>\n",
       "      <th>COMPANY_GROUP</th>\n",
       "    </tr>\n",
       "  </thead>\n",
       "  <tbody>\n",
       "    <tr>\n",
       "      <th>350</th>\n",
       "      <td>131543</td>\n",
       "      <td>Standort</td>\n",
       "      <td>Landungsbrücke/Hafentor</td>\n",
       "      <td>2621.0</td>\n",
       "      <td>normal</td>\n",
       "      <td>Hamburg</td>\n",
       "      <td>Deutschland</td>\n",
       "      <td>9.972300</td>\n",
       "      <td>53.545700</td>\n",
       "      <td>Nein</td>\n",
       "      <td>Nein</td>\n",
       "      <td>Nein</td>\n",
       "      <td>Nein</td>\n",
       "      <td>Ja</td>\n",
       "      <td>StadtRAD Hamburg</td>\n",
       "      <td>Call a Bike</td>\n",
       "    </tr>\n",
       "    <tr>\n",
       "      <th>548</th>\n",
       "      <td>212607</td>\n",
       "      <td>Standort</td>\n",
       "      <td>Wiesendamm/Roggenkamp</td>\n",
       "      <td>2351.0</td>\n",
       "      <td>normal</td>\n",
       "      <td>Hamburg</td>\n",
       "      <td>Deutschland</td>\n",
       "      <td>10.042993</td>\n",
       "      <td>53.586958</td>\n",
       "      <td>Nein</td>\n",
       "      <td>Nein</td>\n",
       "      <td>Nein</td>\n",
       "      <td>Nein</td>\n",
       "      <td>Ja</td>\n",
       "      <td>StadtRAD Hamburg</td>\n",
       "      <td>Call a Bike</td>\n",
       "    </tr>\n",
       "    <tr>\n",
       "      <th>1050</th>\n",
       "      <td>264820</td>\n",
       "      <td>Standort</td>\n",
       "      <td>Osterstraße/Heußweg</td>\n",
       "      <td>2228.0</td>\n",
       "      <td>normal</td>\n",
       "      <td>Hamburg</td>\n",
       "      <td>Deutschland</td>\n",
       "      <td>9.952071</td>\n",
       "      <td>53.575983</td>\n",
       "      <td>Nein</td>\n",
       "      <td>Nein</td>\n",
       "      <td>Nein</td>\n",
       "      <td>Nein</td>\n",
       "      <td>Ja</td>\n",
       "      <td>StadtRAD Hamburg</td>\n",
       "      <td>Call a Bike</td>\n",
       "    </tr>\n",
       "    <tr>\n",
       "      <th>823</th>\n",
       "      <td>245203</td>\n",
       "      <td>Standort</td>\n",
       "      <td>Alsterdorfer Straße/Fuhlsbüttler Straße</td>\n",
       "      <td>2397.0</td>\n",
       "      <td>normal</td>\n",
       "      <td>Hamburg</td>\n",
       "      <td>Deutschland</td>\n",
       "      <td>10.032000</td>\n",
       "      <td>53.620000</td>\n",
       "      <td>Nein</td>\n",
       "      <td>Nein</td>\n",
       "      <td>Ja</td>\n",
       "      <td>Nein</td>\n",
       "      <td>Ja</td>\n",
       "      <td>StadtRAD Hamburg</td>\n",
       "      <td>Call a Bike</td>\n",
       "    </tr>\n",
       "    <tr>\n",
       "      <th>456</th>\n",
       "      <td>198077</td>\n",
       "      <td>Standort</td>\n",
       "      <td>Allende-Platz/Grindelhof</td>\n",
       "      <td>2215.0</td>\n",
       "      <td>normal</td>\n",
       "      <td>Hamburg</td>\n",
       "      <td>Deutschland</td>\n",
       "      <td>9.982728</td>\n",
       "      <td>53.567845</td>\n",
       "      <td>Nein</td>\n",
       "      <td>Nein</td>\n",
       "      <td>Nein</td>\n",
       "      <td>Nein</td>\n",
       "      <td>Ja</td>\n",
       "      <td>StadtRAD Hamburg</td>\n",
       "      <td>Call a Bike</td>\n",
       "    </tr>\n",
       "  </tbody>\n",
       "</table>\n",
       "</div>"
      ],
      "text/plain": [
       "      RENTAL_ZONE_HAL_ID RENTAL_ZONE_HAL_SRC  \\\n",
       "350               131543            Standort   \n",
       "548               212607            Standort   \n",
       "1050              264820            Standort   \n",
       "823               245203            Standort   \n",
       "456               198077            Standort   \n",
       "\n",
       "                                         NAME    CODE    TYPE     CITY  \\\n",
       "350                   Landungsbrücke/Hafentor  2621.0  normal  Hamburg   \n",
       "548                     Wiesendamm/Roggenkamp  2351.0  normal  Hamburg   \n",
       "1050                      Osterstraße/Heußweg  2228.0  normal  Hamburg   \n",
       "823   Alsterdorfer Straße/Fuhlsbüttler Straße  2397.0  normal  Hamburg   \n",
       "456                  Allende-Platz/Grindelhof  2215.0  normal  Hamburg   \n",
       "\n",
       "          COUNTRY   LATITUDE  LONGITUDE POI_AIRPORT_X  \\\n",
       "350   Deutschland   9.972300  53.545700          Nein   \n",
       "548   Deutschland  10.042993  53.586958          Nein   \n",
       "1050  Deutschland   9.952071  53.575983          Nein   \n",
       "823   Deutschland  10.032000  53.620000          Nein   \n",
       "456   Deutschland   9.982728  53.567845          Nein   \n",
       "\n",
       "     POI_LONG_DISTANCE_TRAINS_X POI_SUBURBAN_TRAINS_X POI_UNDERGROUND_X  \\\n",
       "350                        Nein                  Nein              Nein   \n",
       "548                        Nein                  Nein              Nein   \n",
       "1050                       Nein                  Nein              Nein   \n",
       "823                        Nein                    Ja              Nein   \n",
       "456                        Nein                  Nein              Nein   \n",
       "\n",
       "     ACTIVE_X           COMPANY COMPANY_GROUP  \n",
       "350        Ja  StadtRAD Hamburg   Call a Bike  \n",
       "548        Ja  StadtRAD Hamburg   Call a Bike  \n",
       "1050       Ja  StadtRAD Hamburg   Call a Bike  \n",
       "823        Ja  StadtRAD Hamburg   Call a Bike  \n",
       "456        Ja  StadtRAD Hamburg   Call a Bike  "
      ]
     },
     "execution_count": 20,
     "metadata": {},
     "output_type": "execute_result"
    }
   ],
   "source": [
    "# Load DB data set about stations\n",
    "\n",
    "db_stations = pd.read_csv(\"../../data/call_a_bike/OPENDATA_RENTAL_ZONE_CALL_A_BIKE.csv\", sep=\";\", decimal=\",\")\n",
    "db_stations = db_stations[db_stations.CITY == \"Hamburg\"]\n",
    "db_stations.sample(5)"
   ]
  },
  {
   "cell_type": "code",
   "execution_count": 21,
   "metadata": {
    "scrolled": false
   },
   "outputs": [
    {
     "data": {
      "text/html": [
       "<div>\n",
       "<style scoped>\n",
       "    .dataframe tbody tr th:only-of-type {\n",
       "        vertical-align: middle;\n",
       "    }\n",
       "\n",
       "    .dataframe tbody tr th {\n",
       "        vertical-align: top;\n",
       "    }\n",
       "\n",
       "    .dataframe thead th {\n",
       "        text-align: right;\n",
       "    }\n",
       "</style>\n",
       "<table border=\"1\" class=\"dataframe\">\n",
       "  <thead>\n",
       "    <tr style=\"text-align: right;\">\n",
       "      <th></th>\n",
       "      <th>station_id</th>\n",
       "      <th>name</th>\n",
       "      <th>longitude</th>\n",
       "      <th>latitude</th>\n",
       "    </tr>\n",
       "  </thead>\n",
       "  <tbody>\n",
       "    <tr>\n",
       "      <th>350</th>\n",
       "      <td>131543</td>\n",
       "      <td>Landungsbrücke/Hafentor</td>\n",
       "      <td>9.972300</td>\n",
       "      <td>53.545700</td>\n",
       "    </tr>\n",
       "    <tr>\n",
       "      <th>351</th>\n",
       "      <td>131546</td>\n",
       "      <td>Fischmarkt/Breite Straße</td>\n",
       "      <td>9.950880</td>\n",
       "      <td>53.546200</td>\n",
       "    </tr>\n",
       "    <tr>\n",
       "      <th>352</th>\n",
       "      <td>131547</td>\n",
       "      <td>Paulinenplatz/Wohlwillstraße</td>\n",
       "      <td>9.962460</td>\n",
       "      <td>53.554200</td>\n",
       "    </tr>\n",
       "    <tr>\n",
       "      <th>353</th>\n",
       "      <td>131639</td>\n",
       "      <td>Burgstraße/Hammer Landstraße</td>\n",
       "      <td>10.041298</td>\n",
       "      <td>53.555693</td>\n",
       "    </tr>\n",
       "    <tr>\n",
       "      <th>354</th>\n",
       "      <td>131640</td>\n",
       "      <td>Innocentiapark/Oberstraße</td>\n",
       "      <td>9.982110</td>\n",
       "      <td>53.577248</td>\n",
       "    </tr>\n",
       "    <tr>\n",
       "      <th>...</th>\n",
       "      <td>...</td>\n",
       "      <td>...</td>\n",
       "      <td>...</td>\n",
       "      <td>...</td>\n",
       "    </tr>\n",
       "    <tr>\n",
       "      <th>1023</th>\n",
       "      <td>256467</td>\n",
       "      <td>Röntgenstraße/Philips</td>\n",
       "      <td>10.012209</td>\n",
       "      <td>53.623481</td>\n",
       "    </tr>\n",
       "    <tr>\n",
       "      <th>1048</th>\n",
       "      <td>264330</td>\n",
       "      <td>Bleickenallee/Kinderkrankenhaus Altona</td>\n",
       "      <td>9.912913</td>\n",
       "      <td>53.551288</td>\n",
       "    </tr>\n",
       "    <tr>\n",
       "      <th>1050</th>\n",
       "      <td>264820</td>\n",
       "      <td>Osterstraße/Heußweg</td>\n",
       "      <td>9.952071</td>\n",
       "      <td>53.575983</td>\n",
       "    </tr>\n",
       "    <tr>\n",
       "      <th>1051</th>\n",
       "      <td>264821</td>\n",
       "      <td>Bahrenfelder Chaussee/Von-Sauer-Straße</td>\n",
       "      <td>9.910870</td>\n",
       "      <td>53.565973</td>\n",
       "    </tr>\n",
       "    <tr>\n",
       "      <th>1056</th>\n",
       "      <td>268358</td>\n",
       "      <td>Sieldeich/ Gresham Carat Hotel</td>\n",
       "      <td>10.021814</td>\n",
       "      <td>53.528309</td>\n",
       "    </tr>\n",
       "  </tbody>\n",
       "</table>\n",
       "<p>206 rows × 4 columns</p>\n",
       "</div>"
      ],
      "text/plain": [
       "      station_id                                    name  longitude   latitude\n",
       "350       131543                 Landungsbrücke/Hafentor   9.972300  53.545700\n",
       "351       131546                Fischmarkt/Breite Straße   9.950880  53.546200\n",
       "352       131547            Paulinenplatz/Wohlwillstraße   9.962460  53.554200\n",
       "353       131639            Burgstraße/Hammer Landstraße  10.041298  53.555693\n",
       "354       131640               Innocentiapark/Oberstraße   9.982110  53.577248\n",
       "...          ...                                     ...        ...        ...\n",
       "1023      256467                   Röntgenstraße/Philips  10.012209  53.623481\n",
       "1048      264330  Bleickenallee/Kinderkrankenhaus Altona   9.912913  53.551288\n",
       "1050      264820                     Osterstraße/Heußweg   9.952071  53.575983\n",
       "1051      264821  Bahrenfelder Chaussee/Von-Sauer-Straße   9.910870  53.565973\n",
       "1056      268358          Sieldeich/ Gresham Carat Hotel  10.021814  53.528309\n",
       "\n",
       "[206 rows x 4 columns]"
      ]
     },
     "execution_count": 21,
     "metadata": {},
     "output_type": "execute_result"
    }
   ],
   "source": [
    "# Select coordinates for stations from DB data\n",
    "\n",
    "coordinates = db_stations[[\"RENTAL_ZONE_HAL_ID\", \"NAME\", \"LATITUDE\", \"LONGITUDE\"]].copy()\n",
    "# coordinate descriptions are incorrectly labelled in the original data set\n",
    "coordinates.columns = [\"station_id\", \"name\", \"longitude\", \"latitude\"]\n",
    "coordinates.dropna(inplace=True)\n",
    "coordinates"
   ]
  },
  {
   "cell_type": "markdown",
   "metadata": {},
   "source": [
    "We can already see that the DB data set of stations does not seem to be complete. There are more unique IDs in the bike trip data set as in the stations data set (308 rows vs. 206 rows)."
   ]
  },
  {
   "cell_type": "code",
   "execution_count": 22,
   "metadata": {
    "scrolled": false
   },
   "outputs": [
    {
     "data": {
      "text/html": [
       "<div>\n",
       "<style scoped>\n",
       "    .dataframe tbody tr th:only-of-type {\n",
       "        vertical-align: middle;\n",
       "    }\n",
       "\n",
       "    .dataframe tbody tr th {\n",
       "        vertical-align: top;\n",
       "    }\n",
       "\n",
       "    .dataframe thead th {\n",
       "        text-align: right;\n",
       "    }\n",
       "</style>\n",
       "<table border=\"1\" class=\"dataframe\">\n",
       "  <thead>\n",
       "    <tr style=\"text-align: right;\">\n",
       "      <th></th>\n",
       "      <th>station_id</th>\n",
       "      <th>name</th>\n",
       "      <th>longitude</th>\n",
       "      <th>latitude</th>\n",
       "    </tr>\n",
       "  </thead>\n",
       "  <tbody>\n",
       "    <tr>\n",
       "      <th>0</th>\n",
       "      <td>131543</td>\n",
       "      <td>Landungsbrücke/Hafentor</td>\n",
       "      <td>9.972300</td>\n",
       "      <td>53.545700</td>\n",
       "    </tr>\n",
       "    <tr>\n",
       "      <th>1</th>\n",
       "      <td>131546</td>\n",
       "      <td>Fischmarkt/Breite Straße</td>\n",
       "      <td>9.950880</td>\n",
       "      <td>53.546200</td>\n",
       "    </tr>\n",
       "    <tr>\n",
       "      <th>2</th>\n",
       "      <td>131547</td>\n",
       "      <td>Paulinenplatz/Wohlwillstraße</td>\n",
       "      <td>9.962460</td>\n",
       "      <td>53.554200</td>\n",
       "    </tr>\n",
       "    <tr>\n",
       "      <th>3</th>\n",
       "      <td>131639</td>\n",
       "      <td>Burgstraße/Hammer Landstraße</td>\n",
       "      <td>10.041298</td>\n",
       "      <td>53.555693</td>\n",
       "    </tr>\n",
       "    <tr>\n",
       "      <th>4</th>\n",
       "      <td>131640</td>\n",
       "      <td>Innocentiapark/Oberstraße</td>\n",
       "      <td>9.982110</td>\n",
       "      <td>53.577248</td>\n",
       "    </tr>\n",
       "    <tr>\n",
       "      <th>...</th>\n",
       "      <td>...</td>\n",
       "      <td>...</td>\n",
       "      <td>...</td>\n",
       "      <td>...</td>\n",
       "    </tr>\n",
       "    <tr>\n",
       "      <th>211</th>\n",
       "      <td>256467</td>\n",
       "      <td>Röntgenstraße/Philips</td>\n",
       "      <td>10.012209</td>\n",
       "      <td>53.623481</td>\n",
       "    </tr>\n",
       "    <tr>\n",
       "      <th>212</th>\n",
       "      <td>264330</td>\n",
       "      <td>Bleickenallee/Kinderkrankenhaus Altona</td>\n",
       "      <td>9.912913</td>\n",
       "      <td>53.551288</td>\n",
       "    </tr>\n",
       "    <tr>\n",
       "      <th>213</th>\n",
       "      <td>264820</td>\n",
       "      <td>Osterstraße/Heußweg</td>\n",
       "      <td>9.952071</td>\n",
       "      <td>53.575983</td>\n",
       "    </tr>\n",
       "    <tr>\n",
       "      <th>214</th>\n",
       "      <td>264821</td>\n",
       "      <td>Bahrenfelder Chaussee/Von-Sauer-Straße</td>\n",
       "      <td>9.910870</td>\n",
       "      <td>53.565973</td>\n",
       "    </tr>\n",
       "    <tr>\n",
       "      <th>215</th>\n",
       "      <td>268358</td>\n",
       "      <td>Sieldeich/ Gresham Carat Hotel</td>\n",
       "      <td>10.021814</td>\n",
       "      <td>53.528309</td>\n",
       "    </tr>\n",
       "  </tbody>\n",
       "</table>\n",
       "<p>216 rows × 4 columns</p>\n",
       "</div>"
      ],
      "text/plain": [
       "     station_id                                    name  longitude   latitude\n",
       "0        131543                 Landungsbrücke/Hafentor   9.972300  53.545700\n",
       "1        131546                Fischmarkt/Breite Straße   9.950880  53.546200\n",
       "2        131547            Paulinenplatz/Wohlwillstraße   9.962460  53.554200\n",
       "3        131639            Burgstraße/Hammer Landstraße  10.041298  53.555693\n",
       "4        131640               Innocentiapark/Oberstraße   9.982110  53.577248\n",
       "..          ...                                     ...        ...        ...\n",
       "211      256467                   Röntgenstraße/Philips  10.012209  53.623481\n",
       "212      264330  Bleickenallee/Kinderkrankenhaus Altona   9.912913  53.551288\n",
       "213      264820                     Osterstraße/Heußweg   9.952071  53.575983\n",
       "214      264821  Bahrenfelder Chaussee/Von-Sauer-Straße   9.910870  53.565973\n",
       "215      268358          Sieldeich/ Gresham Carat Hotel  10.021814  53.528309\n",
       "\n",
       "[216 rows x 4 columns]"
      ]
     },
     "execution_count": 22,
     "metadata": {},
     "output_type": "execute_result"
    }
   ],
   "source": [
    "stations = pd.merge(station_ids, coordinates, how=\"left\", on=\"station_id\")\n",
    "stations"
   ]
  },
  {
   "cell_type": "code",
   "execution_count": 23,
   "metadata": {
    "scrolled": true
   },
   "outputs": [
    {
     "data": {
      "text/plain": [
       "array([138370, 194453, 194553, 194563, 225361, 238540, 238543, 241576,\n",
       "       242731, 246950])"
      ]
     },
     "execution_count": 23,
     "metadata": {},
     "output_type": "execute_result"
    }
   ],
   "source": [
    "missing_info_ids = stations[stations.name.isnull()].station_id.unique()\n",
    "missing_info_ids"
   ]
  },
  {
   "cell_type": "code",
   "execution_count": 24,
   "metadata": {},
   "outputs": [
    {
     "data": {
      "text/plain": [
       "['F PS 2423 / BSC Hamburg Mobil',\n",
       " 'Systemtechnik/Test Terminal',\n",
       " 'F R  5156 / BSC Hamburg Mobil',\n",
       " 'Rotec Schlösser BSC',\n",
       " 'BSCTerminal FFM 2.OG R 2.21',\n",
       " 'Maretstraße/Baererstraße',\n",
       " 'F PS 1763 / BSC Hamburg Mobil',\n",
       " 'Grindelberg / Bezirksamt Eimsbüttel',\n",
       " 'Funkbox-BSC-HH',\n",
       " 'BSC Testterminal Halle']"
      ]
     },
     "execution_count": 24,
     "metadata": {},
     "output_type": "execute_result"
    }
   ],
   "source": [
    "a = df[df.START_RENTAL_ZONE_HAL_ID.isin(missing_info_ids)].START_RENTAL_ZONE.unique()\n",
    "b = df[df.END_RENTAL_ZONE_HAL_ID.isin(missing_info_ids)].END_RENTAL_ZONE.unique()\n",
    "\n",
    "missing_locations = list(set(a)|set(b))\n",
    "missing_locations"
   ]
  },
  {
   "cell_type": "markdown",
   "metadata": {},
   "source": [
    "To match missing stations with coordinates, the information available at https://web.archive.org/web/20210313100715/https://suche.transparenz.hamburg.de/dataset/stadtrad-stationen-hamburg20 was considered. Only two stations are included: *Grindelberg / Bezirksamt Eimsbüttel* (ID 138370) and *Maretstraße/Baererstraße* (ID 242731). Coordinates for both stations can easily be added to the data set by hand.\n",
    "\n",
    "**Coordinates**\n",
    "* Grindelberg / Bezirksamt Eimsbüttel: [ 9.97782399971897, 53.57540799556665 ]\n",
    "* Maretstraße / Baererstraße: [ 9.982274994484669, 53.453703999218654 ]"
   ]
  },
  {
   "cell_type": "code",
   "execution_count": 25,
   "metadata": {},
   "outputs": [
    {
     "name": "stdout",
     "output_type": "stream",
     "text": [
      "[138370.]\n",
      "[138370.]\n",
      "[242731.]\n",
      "[242731.]\n"
     ]
    }
   ],
   "source": [
    "print(df[df.START_RENTAL_ZONE == \"Grindelberg / Bezirksamt Eimsbüttel\"].START_RENTAL_ZONE_HAL_ID.unique())\n",
    "print(df[df.END_RENTAL_ZONE == \"Grindelberg / Bezirksamt Eimsbüttel\"].END_RENTAL_ZONE_HAL_ID.unique())\n",
    "\n",
    "print(df[df.START_RENTAL_ZONE == \"Maretstraße/Baererstraße\"].START_RENTAL_ZONE_HAL_ID.unique())\n",
    "print(df[df.END_RENTAL_ZONE == \"Maretstraße/Baererstraße\"].END_RENTAL_ZONE_HAL_ID.unique())"
   ]
  },
  {
   "cell_type": "code",
   "execution_count": 26,
   "metadata": {},
   "outputs": [],
   "source": [
    "stations.loc[stations.station_id == 138370, \"name\"] = \"Grindelberg / Bezirksamt Eimsbüttel\"\n",
    "stations.loc[stations.station_id == 138370, \"longitude\"] = 9.977824\n",
    "stations.loc[stations.station_id == 138370, \"latitude\"] = 53.575408\n",
    "\n",
    "stations.loc[stations.station_id == 242731, \"name\"] = \"Maretstraße/Baererstraße\"\n",
    "stations.loc[stations.station_id == 242731, \"longitude\"] = 9.982275\n",
    "stations.loc[stations.station_id == 242731, \"latitude\"] = 53.453704\n",
    "\n",
    "# Drop the remaining station IDs with unknown location\n",
    "stations = stations.dropna()"
   ]
  },
  {
   "cell_type": "code",
   "execution_count": 27,
   "metadata": {},
   "outputs": [
    {
     "data": {
      "text/plain": [
       "['F PS 2423 / BSC Hamburg Mobil',\n",
       " 'Systemtechnik/Test Terminal',\n",
       " 'F R  5156 / BSC Hamburg Mobil',\n",
       " 'Rotec Schlösser BSC',\n",
       " 'BSCTerminal FFM 2.OG R 2.21',\n",
       " 'F PS 1763 / BSC Hamburg Mobil',\n",
       " 'Funkbox-BSC-HH',\n",
       " 'BSC Testterminal Halle']"
      ]
     },
     "execution_count": 27,
     "metadata": {},
     "output_type": "execute_result"
    }
   ],
   "source": [
    "# Remove the added locations from the set of missing locations\n",
    "\n",
    "missing_locations.remove(\"Grindelberg / Bezirksamt Eimsbüttel\")\n",
    "missing_locations.remove(\"Maretstraße/Baererstraße\")\n",
    "missing_locations"
   ]
  },
  {
   "cell_type": "code",
   "execution_count": 28,
   "metadata": {
    "scrolled": true
   },
   "outputs": [],
   "source": [
    "# Remove all trips where either the start or end station is still of unknown location\n",
    "\n",
    "nan_trips = trips[\n",
    "    (trips.start_station_name.isin(missing_locations)) |\n",
    "    (trips.end_station_name.isin(missing_locations))\n",
    "]\n",
    "trips.drop(nan_trips.index, inplace=True) "
   ]
  },
  {
   "cell_type": "code",
   "execution_count": 29,
   "metadata": {},
   "outputs": [
    {
     "name": "stdout",
     "output_type": "stream",
     "text": [
      "8923066 entries, diff: -18735\n"
     ]
    }
   ],
   "source": [
    "last_count = print_count_data()"
   ]
  },
  {
   "cell_type": "code",
   "execution_count": 30,
   "metadata": {},
   "outputs": [],
   "source": [
    "# Calculate duration in minutes (rounded up) for each trip\n",
    "\n",
    "def calculate_duration_in_min(date_from, date_until):\n",
    "    return np.ceil((date_until - date_from) / pd.Timedelta(minutes=1))\n",
    "\n",
    "trips.loc[:, \"duration_in_min\"] = calculate_duration_in_min(trips[\"date_from\"], trips[\"date_until\"])\n",
    "trips[\"duration_in_min\"] = trips[\"duration_in_min\"].astype(int)"
   ]
  },
  {
   "cell_type": "code",
   "execution_count": 31,
   "metadata": {},
   "outputs": [],
   "source": [
    "# Remove trips shorter than 3 minutes starting and ending at the same station\n",
    "# These are probably trips that were not intentional or canceled due to issues with the bike\n",
    "\n",
    "mask = (trips.duration_in_min < 3) & (trips.start_station_id == trips.end_station_id)\n",
    "trips = trips.drop(trips[mask].index)"
   ]
  },
  {
   "cell_type": "code",
   "execution_count": 32,
   "metadata": {},
   "outputs": [
    {
     "name": "stdout",
     "output_type": "stream",
     "text": [
      "8476307 entries, diff: -446759\n"
     ]
    }
   ],
   "source": [
    "last_count = print_count_data()"
   ]
  },
  {
   "cell_type": "code",
   "execution_count": 37,
   "metadata": {
    "scrolled": false
   },
   "outputs": [
    {
     "name": "stdout",
     "output_type": "stream",
     "text": [
      "Duration for 75% of the trips: 22 minutes\n",
      "Duration for 85% of the trips: 28 minutes\n",
      "Duration for 90% of the trips: 33 minutes\n",
      "Duration for 93% of the trips: 39 minutes\n",
      "Duration for 95% of the trips: 49 minutes\n",
      "Duration for 99% of the trips: 208 minutes\n"
     ]
    },
    {
     "data": {
      "image/png": "[encoded data removed]",
      "text/plain": [
       "<Figure size 1152x576 with 6 Axes>"
      ]
     },
     "metadata": {},
     "output_type": "display_data"
    }
   ],
   "source": [
    "quantiles = [0.75, 0.85, 0.90, 0.93, 0.95, 0.99]\n",
    "\n",
    "fig, ax = plt.subplots(2, 3, figsize=(16,8))\n",
    "ax_index = 0\n",
    "\n",
    "for quantile in quantiles:\n",
    "    threshold = trips.duration_in_min.quantile(quantile)\n",
    "    print(\"Duration for {0}% of the trips: {1} minutes\".format(int(quantile*100), int(threshold)))\n",
    "    sns.set()\n",
    "    plot = sns.boxplot(ax=ax.flat[ax_index], x=\"duration_in_min\", data=trips[trips.duration_in_min <= threshold])\n",
    "    plot.set(xlabel=None)\n",
    "    ax.flat[ax_index].set_title(\"{}% of bicycle trips\".format(int(quantile*100), threshold))\n",
    "    ax_index = ax_index + 1\n",
    "\n",
    "plt.savefig(\"../../figures/duration_in_min_quantiles.png\", bbox_inches=\"tight\")\n",
    "plt.show()"
   ]
  },
  {
   "cell_type": "code",
   "execution_count": 34,
   "metadata": {},
   "outputs": [
    {
     "name": "stdout",
     "output_type": "stream",
     "text": [
      "Trip duration threshold: 33.0 minutes\n"
     ]
    }
   ],
   "source": [
    "# Remove outliers based on trip duration\n",
    "\n",
    "threshold = trips.duration_in_min.quantile(0.9)\n",
    "print('Trip duration threshold: %s minutes' % threshold)\n",
    "\n",
    "trips.drop(trips[trips.duration_in_min > threshold].index, inplace=True) "
   ]
  },
  {
   "cell_type": "code",
   "execution_count": 35,
   "metadata": {},
   "outputs": [
    {
     "name": "stdout",
     "output_type": "stream",
     "text": [
      "7669950 entries, diff: -806357\n"
     ]
    }
   ],
   "source": [
    "last_count = print_count_data()"
   ]
  },
  {
   "cell_type": "code",
   "execution_count": 36,
   "metadata": {
    "scrolled": true
   },
   "outputs": [],
   "source": [
    "# Calculate the distance between each pair of station and save it as a python dict for easier lookup\n",
    "\n",
    "def calculate_distance(id_x, id_y):\n",
    "    station_x = stations_by_id.loc[id_x]\n",
    "    station_y = stations_by_id.loc[id_y]\n",
    "    x = (station_x.latitude, station_x.longitude)\n",
    "    y = (station_y.latitude, station_y.longitude)\n",
    "    return geodesic(x, y).km\n",
    "\n",
    "if READ_STATION_DISTANCES_FROM_FILE:\n",
    "    distances = np.load(\"../../calculations/station_distances.npy\", allow_pickle=True).item()\n",
    "else:\n",
    "    stations_by_id = stations.set_index(\"station_id\")\n",
    "    ids = stations.station_id.to_numpy()\n",
    "    distances = {}\n",
    "\n",
    "    for station_x in ids:\n",
    "        distances[station_x] = {}\n",
    "        for station_y in ids:\n",
    "            distances[station_x][station_y] = calculate_distance(station_x, station_y)\n",
    "\n",
    "    np.save(\"../../calculations/station_distances.npy\", distances) "
   ]
  },
  {
   "cell_type": "code",
   "execution_count": 37,
   "metadata": {},
   "outputs": [],
   "source": [
    "# Assign distance in km to each trip\n",
    "\n",
    "trips[\"distance_in_km\"] = trips.apply(lambda x: distances[x.start_station_id][x.end_station_id], axis=1)"
   ]
  },
  {
   "cell_type": "code",
   "execution_count": 38,
   "metadata": {},
   "outputs": [],
   "source": [
    "# Calculate speed in km/h for every trip\n",
    "\n",
    "trips[\"speed_in_kmh\"] = trips.apply(lambda x: (x[\"distance_in_km\"] / (x[\"duration_in_min\"]/60)), axis=1)"
   ]
  },
  {
   "cell_type": "code",
   "execution_count": 39,
   "metadata": {},
   "outputs": [
    {
     "name": "stdout",
     "output_type": "stream",
     "text": [
      "Speed for 25% of the trips: 6.621667636969429 km/h\n",
      "Speed for 30% of the trips: 7.049490221410206 km/h\n",
      "Speed for 40% of the trips: 7.832045555266617 km/h\n",
      "Speed for 50% of the trips: 8.524389105333315 km/h\n",
      "Speed for 75% of the trips: 10.270404014739613 km/h\n",
      "Speed for 90% of the trips: 11.861364883913364 km/h\n"
     ]
    },
    {
     "data": {
      "image/png": "[encoded data removed]",
      "text/plain": [
       "<Figure size 1152x576 with 6 Axes>"
      ]
     },
     "metadata": {},
     "output_type": "display_data"
    }
   ],
   "source": [
    "quantiles = [0.25, 0.3, 0.4, 0.5, 0.75, 0.9]\n",
    "\n",
    "fig, ax = plt.subplots(2, 3, figsize=(16,8))\n",
    "ax_index = 0\n",
    "\n",
    "for quantile in quantiles:\n",
    "    threshold = trips.speed_in_kmh.quantile(quantile)\n",
    "    print(\"Speed for {0}% of the trips: {1} km/h\".format(int(quantile*100), threshold))\n",
    "    sns.set()\n",
    "    plot = sns.boxplot(ax=ax.flat[ax_index], x=\"speed_in_kmh\", data=trips[trips.speed_in_kmh <= threshold])\n",
    "    plot.set(xlabel=None)\n",
    "    ax.flat[ax_index].set_title(\"{}% of bicycle trips\".format(int(quantile*100), threshold))\n",
    "    ax_index = ax_index + 1\n",
    "\n",
    "plt.show()"
   ]
  },
  {
   "cell_type": "code",
   "execution_count": 40,
   "metadata": {},
   "outputs": [
    {
     "data": {
      "text/plain": [
       "14.784522922984792"
      ]
     },
     "execution_count": 40,
     "metadata": {},
     "output_type": "execute_result"
    }
   ],
   "source": [
    "trips.speed_in_kmh.quantile(0.99)"
   ]
  },
  {
   "cell_type": "code",
   "execution_count": 41,
   "metadata": {},
   "outputs": [
    {
     "data": {
      "text/plain": [
       "count    7.669950e+06\n",
       "mean     8.271799e+00\n",
       "std      3.586595e+00\n",
       "min      0.000000e+00\n",
       "25%      6.621668e+00\n",
       "50%      8.524389e+00\n",
       "75%      1.027040e+01\n",
       "max      6.745652e+02\n",
       "Name: speed_in_kmh, dtype: float64"
      ]
     },
     "execution_count": 41,
     "metadata": {},
     "output_type": "execute_result"
    }
   ],
   "source": [
    "trips.speed_in_kmh.describe()"
   ]
  },
  {
   "cell_type": "code",
   "execution_count": 42,
   "metadata": {},
   "outputs": [
    {
     "data": {
      "image/png": "[encoded data removed]",
      "text/plain": [
       "<Figure size 1152x360 with 1 Axes>"
      ]
     },
     "metadata": {},
     "output_type": "display_data"
    }
   ],
   "source": [
    "sns.set_style(\"whitegrid\")\n",
    "\n",
    "values = trips[[\"speed_in_kmh\"]]\n",
    "bins = len(pd.unique(trips.duration_in_min))\n",
    "plt.figure(figsize=(16,5))\n",
    "plt.hist(values, alpha=0.7, bins=bins)\n",
    "plt.xlabel(\"speed_in_kmh\")\n",
    "plt.ylabel(\"count\")\n",
    "plt.savefig(\"../../figures/trips_hist_speed_in_kmh_raw.pdf\", bbox_inches=\"tight\")\n",
    "plt.show()"
   ]
  },
  {
   "cell_type": "code",
   "execution_count": 43,
   "metadata": {},
   "outputs": [
    {
     "data": {
      "image/png": "[encoded data removed]",
      "text/plain": [
       "<Figure size 1152x360 with 1 Axes>"
      ]
     },
     "metadata": {},
     "output_type": "display_data"
    }
   ],
   "source": [
    "speed_threshold = 15\n",
    "\n",
    "values = trips[trips.speed_in_kmh <= speed_threshold][[\"speed_in_kmh\"]]\n",
    "bins = len(pd.unique(trips.duration_in_min))\n",
    "plt.figure(figsize=(16,5))\n",
    "plt.hist(values, alpha=0.7, bins=bins)\n",
    "plt.xlabel(\"speed_in_kmh\")\n",
    "plt.ylabel(\"count\")\n",
    "plt.savefig(\"../../figures/trips_hist_speed_in_kmh.pdf\", bbox_inches=\"tight\")\n",
    "plt.show()"
   ]
  },
  {
   "cell_type": "code",
   "execution_count": 44,
   "metadata": {},
   "outputs": [
    {
     "name": "stdout",
     "output_type": "stream",
     "text": [
      "Trip speed threshold: 15 km/h\n"
     ]
    }
   ],
   "source": [
    "# Remove outliers based on speed\n",
    "\n",
    "print('Trip speed threshold: %s km/h' % speed_threshold)\n",
    "\n",
    "trips.drop(trips[trips.speed_in_kmh > speed_threshold].index, inplace=True) "
   ]
  },
  {
   "cell_type": "code",
   "execution_count": 45,
   "metadata": {},
   "outputs": [
    {
     "name": "stdout",
     "output_type": "stream",
     "text": [
      "7605978 entries, diff: -63972\n"
     ]
    }
   ],
   "source": [
    "last_count = print_count_data()"
   ]
  },
  {
   "cell_type": "code",
   "execution_count": 46,
   "metadata": {},
   "outputs": [],
   "source": [
    "# Calculate downtime beetween two trips of a user\n",
    "\n",
    "def time_since_last_checkout(user_group):\n",
    "    user_group[\"time_since_last_checkout\"] = user_group.date_from.diff()\n",
    "    return user_group\n",
    "\n",
    "trips = trips.sort_values(by=\"date_from\", ascending=True).groupby(\"user_id\").apply(time_since_last_checkout)"
   ]
  },
  {
   "cell_type": "code",
   "execution_count": 47,
   "metadata": {},
   "outputs": [
    {
     "data": {
      "text/html": [
       "<div>\n",
       "<style scoped>\n",
       "    .dataframe tbody tr th:only-of-type {\n",
       "        vertical-align: middle;\n",
       "    }\n",
       "\n",
       "    .dataframe tbody tr th {\n",
       "        vertical-align: top;\n",
       "    }\n",
       "\n",
       "    .dataframe thead th {\n",
       "        text-align: right;\n",
       "    }\n",
       "</style>\n",
       "<table border=\"1\" class=\"dataframe\">\n",
       "  <thead>\n",
       "    <tr style=\"text-align: right;\">\n",
       "      <th></th>\n",
       "      <th>bike_id</th>\n",
       "      <th>user_id</th>\n",
       "      <th>date_from</th>\n",
       "      <th>date_until</th>\n",
       "      <th>start_station_name</th>\n",
       "      <th>start_station_id</th>\n",
       "      <th>end_station_name</th>\n",
       "      <th>end_station_id</th>\n",
       "      <th>booked_via</th>\n",
       "      <th>duration_in_min</th>\n",
       "      <th>distance_in_km</th>\n",
       "      <th>speed_in_kmh</th>\n",
       "      <th>time_since_last_checkout</th>\n",
       "    </tr>\n",
       "  </thead>\n",
       "  <tbody>\n",
       "    <tr>\n",
       "      <th>12883447</th>\n",
       "      <td>109921</td>\n",
       "      <td>789AB8F3E9F9837DD251FE3AEC046233CCE0D0BC</td>\n",
       "      <td>2016-08-31 19:55:07</td>\n",
       "      <td>2016-08-31 20:26:16</td>\n",
       "      <td>Planetarium/Hindenburgstraße</td>\n",
       "      <td>213688</td>\n",
       "      <td>Jungfernstieg / Ballindamm</td>\n",
       "      <td>131879</td>\n",
       "      <td>iPhone SRH</td>\n",
       "      <td>32</td>\n",
       "      <td>5.010718</td>\n",
       "      <td>9.395096</td>\n",
       "      <td>0 days 02:38:25</td>\n",
       "    </tr>\n",
       "    <tr>\n",
       "      <th>9173970</th>\n",
       "      <td>143739</td>\n",
       "      <td>67AEE1C0BC7E19739D6D997E578A91CD4B43BAFF</td>\n",
       "      <td>2016-02-04 16:01:45</td>\n",
       "      <td>2016-02-04 16:07:59</td>\n",
       "      <td>Eimsbütteler Straße/Waterloostraße</td>\n",
       "      <td>131644</td>\n",
       "      <td>Osterstraße/Bismarckstraße</td>\n",
       "      <td>131642</td>\n",
       "      <td>Terminal HH_58 (-2135-)</td>\n",
       "      <td>7</td>\n",
       "      <td>0.979357</td>\n",
       "      <td>8.394489</td>\n",
       "      <td>11 days 02:50:54</td>\n",
       "    </tr>\n",
       "    <tr>\n",
       "      <th>12130010</th>\n",
       "      <td>120645</td>\n",
       "      <td>A8DABC6C673DD97EE53173CD0CE52DA3C1B09C03</td>\n",
       "      <td>2016-07-27 21:39:33</td>\n",
       "      <td>2016-07-27 21:52:02</td>\n",
       "      <td>Eduard-Rhein-Ufer / Schwanenwik</td>\n",
       "      <td>140800</td>\n",
       "      <td>Lange Reihe / Lohmühlenpark</td>\n",
       "      <td>138385</td>\n",
       "      <td>iPhone SRH</td>\n",
       "      <td>13</td>\n",
       "      <td>0.872378</td>\n",
       "      <td>4.026362</td>\n",
       "      <td>0 days 00:01:01</td>\n",
       "    </tr>\n",
       "    <tr>\n",
       "      <th>1590820</th>\n",
       "      <td>143587</td>\n",
       "      <td>6CDB2668DBF774D58A741EB338DB4F51AFDD8636</td>\n",
       "      <td>2014-06-10 14:42:06</td>\n",
       "      <td>2014-06-10 14:55:33</td>\n",
       "      <td>Bahnhof Dammtor Süd / Marseiller Straße</td>\n",
       "      <td>138382</td>\n",
       "      <td>Mundsburg / Schürbeker Straße</td>\n",
       "      <td>140799</td>\n",
       "      <td>Terminal HH_18 (-2528-)</td>\n",
       "      <td>14</td>\n",
       "      <td>2.694103</td>\n",
       "      <td>11.546155</td>\n",
       "      <td>2 days 14:34:25</td>\n",
       "    </tr>\n",
       "  </tbody>\n",
       "</table>\n",
       "</div>"
      ],
      "text/plain": [
       "          bike_id                                   user_id  \\\n",
       "12883447   109921  789AB8F3E9F9837DD251FE3AEC046233CCE0D0BC   \n",
       "9173970    143739  67AEE1C0BC7E19739D6D997E578A91CD4B43BAFF   \n",
       "12130010   120645  A8DABC6C673DD97EE53173CD0CE52DA3C1B09C03   \n",
       "1590820    143587  6CDB2668DBF774D58A741EB338DB4F51AFDD8636   \n",
       "\n",
       "                   date_from          date_until  \\\n",
       "12883447 2016-08-31 19:55:07 2016-08-31 20:26:16   \n",
       "9173970  2016-02-04 16:01:45 2016-02-04 16:07:59   \n",
       "12130010 2016-07-27 21:39:33 2016-07-27 21:52:02   \n",
       "1590820  2014-06-10 14:42:06 2014-06-10 14:55:33   \n",
       "\n",
       "                               start_station_name  start_station_id  \\\n",
       "12883447             Planetarium/Hindenburgstraße            213688   \n",
       "9173970        Eimsbütteler Straße/Waterloostraße            131644   \n",
       "12130010          Eduard-Rhein-Ufer / Schwanenwik            140800   \n",
       "1590820   Bahnhof Dammtor Süd / Marseiller Straße            138382   \n",
       "\n",
       "                       end_station_name  end_station_id  \\\n",
       "12883447     Jungfernstieg / Ballindamm          131879   \n",
       "9173970      Osterstraße/Bismarckstraße          131642   \n",
       "12130010    Lange Reihe / Lohmühlenpark          138385   \n",
       "1590820   Mundsburg / Schürbeker Straße          140799   \n",
       "\n",
       "                       booked_via  duration_in_min  distance_in_km  \\\n",
       "12883447               iPhone SRH               32        5.010718   \n",
       "9173970   Terminal HH_58 (-2135-)                7        0.979357   \n",
       "12130010               iPhone SRH               13        0.872378   \n",
       "1590820   Terminal HH_18 (-2528-)               14        2.694103   \n",
       "\n",
       "          speed_in_kmh time_since_last_checkout  \n",
       "12883447      9.395096          0 days 02:38:25  \n",
       "9173970       8.394489         11 days 02:50:54  \n",
       "12130010      4.026362          0 days 00:01:01  \n",
       "1590820      11.546155          2 days 14:34:25  "
      ]
     },
     "execution_count": 47,
     "metadata": {},
     "output_type": "execute_result"
    }
   ],
   "source": [
    "trips.sample(4)"
   ]
  },
  {
   "cell_type": "code",
   "execution_count": 48,
   "metadata": {},
   "outputs": [
    {
     "data": {
      "text/html": [
       "<div>\n",
       "<style scoped>\n",
       "    .dataframe tbody tr th:only-of-type {\n",
       "        vertical-align: middle;\n",
       "    }\n",
       "\n",
       "    .dataframe tbody tr th {\n",
       "        vertical-align: top;\n",
       "    }\n",
       "\n",
       "    .dataframe thead th {\n",
       "        text-align: right;\n",
       "    }\n",
       "</style>\n",
       "<table border=\"1\" class=\"dataframe\">\n",
       "  <thead>\n",
       "    <tr style=\"text-align: right;\">\n",
       "      <th></th>\n",
       "      <th>station_id</th>\n",
       "      <th>name</th>\n",
       "      <th>longitude</th>\n",
       "      <th>latitude</th>\n",
       "    </tr>\n",
       "  </thead>\n",
       "  <tbody>\n",
       "    <tr>\n",
       "      <th>139</th>\n",
       "      <td>241777</td>\n",
       "      <td>Reeseberg/EBV-Anzengruberstraße</td>\n",
       "      <td>9.990306</td>\n",
       "      <td>53.448960</td>\n",
       "    </tr>\n",
       "    <tr>\n",
       "      <th>204</th>\n",
       "      <td>254727</td>\n",
       "      <td>Bahnhof Bergedorf/Johann-Meyer-Straße</td>\n",
       "      <td>10.206105</td>\n",
       "      <td>53.490496</td>\n",
       "    </tr>\n",
       "    <tr>\n",
       "      <th>122</th>\n",
       "      <td>218173</td>\n",
       "      <td>Rothenburgsort/Marktplatz/Lindleystraße</td>\n",
       "      <td>10.038938</td>\n",
       "      <td>53.534288</td>\n",
       "    </tr>\n",
       "    <tr>\n",
       "      <th>168</th>\n",
       "      <td>245203</td>\n",
       "      <td>Alsterdorfer Straße/Fuhlsbüttler Straße</td>\n",
       "      <td>10.032000</td>\n",
       "      <td>53.620000</td>\n",
       "    </tr>\n",
       "  </tbody>\n",
       "</table>\n",
       "</div>"
      ],
      "text/plain": [
       "     station_id                                     name  longitude   latitude\n",
       "139      241777          Reeseberg/EBV-Anzengruberstraße   9.990306  53.448960\n",
       "204      254727    Bahnhof Bergedorf/Johann-Meyer-Straße  10.206105  53.490496\n",
       "122      218173  Rothenburgsort/Marktplatz/Lindleystraße  10.038938  53.534288\n",
       "168      245203  Alsterdorfer Straße/Fuhlsbüttler Straße  10.032000  53.620000"
      ]
     },
     "execution_count": 48,
     "metadata": {},
     "output_type": "execute_result"
    }
   ],
   "source": [
    "stations.sample(4)"
   ]
  },
  {
   "cell_type": "code",
   "execution_count": 49,
   "metadata": {},
   "outputs": [],
   "source": [
    "# Save prepared datasets\n",
    "\n",
    "stations.to_csv('../../data/clean/stations.csv', index=False)\n",
    "trips.to_csv('../../data/clean/trips.csv', index=False)"
   ]
  },
  {
   "cell_type": "code",
   "execution_count": null,
   "metadata": {},
   "outputs": [],
   "source": []
  }
 ],
 "metadata": {
  "kernelspec": {
   "display_name": "Python 3",
   "language": "python",
   "name": "python3"
  },
  "language_info": {
   "codemirror_mode": {
    "name": "ipython",
    "version": 3
   },
   "file_extension": ".py",
   "mimetype": "text/x-python",
   "name": "python",
   "nbconvert_exporter": "python",
   "pygments_lexer": "ipython3",
   "version": "3.8.5"
  },
  "widgets": {
   "application/vnd.jupyter.widget-state+json": {
    "state": {},
    "version_major": 2,
    "version_minor": 0
   }
  }
 },
 "nbformat": 4,
 "nbformat_minor": 4
}
